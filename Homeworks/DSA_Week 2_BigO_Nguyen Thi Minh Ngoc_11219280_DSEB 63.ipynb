{
 "cells": [
  {
   "cell_type": "markdown",
   "id": "df2e8697",
   "metadata": {},
   "source": [
    "# HOMEWORK 2\n",
    "Full Name: Nguyễn Thị Minh Ngọc\n",
    "<br>\n",
    "Student ID: 11219280\n",
    "<br>\n",
    "Class: DSEB 63"
   ]
  },
  {
   "cell_type": "markdown",
   "id": "e8a4230d",
   "metadata": {},
   "source": [
    "# Problem 1"
   ]
  },
  {
   "cell_type": "markdown",
   "id": "df386dc3",
   "metadata": {},
   "source": [
    "### 1. How do you use Big O notation to analyze the time complexity of an algorithm? Why is Big O analysis important?"
   ]
  },
  {
   "cell_type": "markdown",
   "id": "812e60f2",
   "metadata": {},
   "source": [
    "* We use Big O notation to predict how the runtimes increase as the size of input increases, define an algorithm’s worst-case time complexity, which determines the set of functions grows slower than or at the same rate as the expression. In other words, it explains the maximum amount of time an algorithm requires to consider all input values. Moreover, we use Big O to compare different algorithms by the number of operations they make to choose the best one.\n",
    "* Big O analysis is important because by it can be used to measure an algorithm's efficiency and make comparison of time complexity between different solutions to choose the best one to optimize the runtimes used without calculating the exact time."
   ]
  },
  {
   "cell_type": "markdown",
   "id": "e9f09f6e",
   "metadata": {},
   "source": [
    "### 2. What a worst-case scenario is in the context of Big O Analysis? Is it necessary to calculate exact runtimes when analyzing algorithms with Big O notation? Why or why not?"
   ]
  },
  {
   "cell_type": "markdown",
   "id": "7d645037",
   "metadata": {},
   "source": [
    "* The worst-case scenario is the algorithm take the maximum number of steps. In the worst-case analysis, we calculate the upper bound on the running time of an algorithm\n",
    "* It is not necessary to calculate exact runtimes when analyzing algorithms with Big O notation.\n",
    "* There are too many factors that influence the time an algorithm takes to run, so different computer might bring different result of exact runtimes. Hence, we use Big O notation to compare different algorithms by the number of operations they make without calculating the exact runtimes."
   ]
  },
  {
   "cell_type": "markdown",
   "id": "a932e2fb",
   "metadata": {},
   "source": [
    "### 3. (Optional) What is your understanding of space complexity? Is it different from time complexity? If yes, then how? When would you choose a solution with a better space complexity over one with a better time complexity?"
   ]
  },
  {
   "cell_type": "markdown",
   "id": "d361812b",
   "metadata": {},
   "source": [
    "* The space Complexity of an algorithm is the total space taken by the algorithm with respect to the input size and it is different from the time complexity.\n",
    "* Space complexity is the total amount of memory space used by an algorithm/program, whereas the time complexity is the number of operations an algorithm performs to complete its task. They are two different concept, because a single algorithm might have time complexity but still take up a lot of memory.\n",
    "* We should  choose a solution with a better space complexity over one with a better time complexity when memory is limited."
   ]
  },
  {
   "cell_type": "markdown",
   "id": "da196918",
   "metadata": {},
   "source": [
    "# Problem 2"
   ]
  },
  {
   "cell_type": "markdown",
   "id": "21c6ed75",
   "metadata": {},
   "source": [
    "### 1. Algorithm 1"
   ]
  },
  {
   "cell_type": "raw",
   "id": "b6741aea",
   "metadata": {},
   "source": [
    "def deductOne (num):\n",
    "    num -= 1\n",
    "    return num\n",
    "    \n",
    ">>> Time Complexity: O(1)"
   ]
  },
  {
   "cell_type": "markdown",
   "id": "cd0e8c20",
   "metadata": {},
   "source": [
    "### 2. Algorithm 2"
   ]
  },
  {
   "cell_type": "raw",
   "id": "213935bc",
   "metadata": {},
   "source": [
    "def s(_list): # n: length of list\n",
    "    prefix_sum = 0\n",
    "    for i in _list:\n",
    "        prefix_sum += 1\n",
    "    return prefix_sum\n",
    "    \n",
    ">>> Time Complexity: O(n)"
   ]
  },
  {
   "cell_type": "markdown",
   "id": "44418e30",
   "metadata": {},
   "source": [
    "### 3. Algorithm 3"
   ]
  },
  {
   "cell_type": "raw",
   "id": "fc39dddd",
   "metadata": {},
   "source": [
    "testList = [1, 3, 4, 5, 61, 96, 69, 13, 22, 2001]\n",
    "\n",
    "def al(testList):\n",
    "    for i in range(len(testList)):\n",
    "        for j in range(i+1, len(testList)):\n",
    "            if testList[j] < testList[i]:\n",
    "                testList[j], testList[i] = testList[i], testList[j]\n",
    "    return testList\n",
    "\n",
    ">>> Time Complexity: O(n^2)"
   ]
  },
  {
   "cell_type": "markdown",
   "id": "3110ffb8",
   "metadata": {},
   "source": [
    "### 4. Algorithm 4"
   ]
  },
  {
   "cell_type": "raw",
   "id": "4807b477",
   "metadata": {},
   "source": [
    "a = 100\n",
    "N = 40\n",
    "\n",
    "def add(a, N):\n",
    "    for i in range(N):\n",
    "        a = a + 10\n",
    "    return a\n",
    "    \n",
    ">>> Time Complexity: O(n)"
   ]
  },
  {
   "cell_type": "markdown",
   "id": "52f5625e",
   "metadata": {},
   "source": [
    "### 5. Algorithm 5"
   ]
  },
  {
   "cell_type": "raw",
   "id": "70bd765f",
   "metadata": {},
   "source": [
    "def count(A, B):\n",
    "    n = len(A)\n",
    "    count = 0\n",
    "    for i in range(n):\n",
    "        total = 0\n",
    "        for j in range(n):\n",
    "            for k in range(1+j):\n",
    "                total += A[k]\n",
    "        if B[i] == total:\n",
    "            count += 1\n",
    "    return count\n",
    "\n",
    ">>> Time Complexity: O(n^3)"
   ]
  },
  {
   "cell_type": "markdown",
   "id": "28524c04",
   "metadata": {},
   "source": [
    "### 6. Algorithm 6"
   ]
  },
  {
   "cell_type": "raw",
   "id": "0d117116",
   "metadata": {},
   "source": [
    "def fibo(n):\n",
    "    if n <= 1:\n",
    "        return n\n",
    "    return fibo(n-1) + fibo(n-2)\n",
    "\n",
    ">>> Time Complexity: O(2^n)"
   ]
  },
  {
   "cell_type": "markdown",
   "id": "d6b98e6a",
   "metadata": {},
   "source": [
    "# Problem 3"
   ]
  },
  {
   "cell_type": "code",
   "execution_count": 6,
   "id": "9ed825ae",
   "metadata": {},
   "outputs": [],
   "source": [
    "# return all of the index found\n",
    "def binary_search(list_check, value_check):\n",
    "    time = 0\n",
    "    index_list = []\n",
    "    start = 0\n",
    "    end = len(list_check)\n",
    "    while value_check in list_check[start:end:]:\n",
    "        for i in range(start, end):\n",
    "            time += 1\n",
    "            if value_check == list_check[i]:\n",
    "                index_list.append(i)\n",
    "                start = i + 1\n",
    "                break\n",
    "    if index_list:\n",
    "        return index_list, time\n",
    "    else:\n",
    "        return 'Not found', time"
   ]
  },
  {
   "cell_type": "raw",
   "id": "c89a54f2",
   "metadata": {},
   "source": [
    "# return the first index found\n",
    "def binary_search(list_check, value_check):\n",
    "    time = 0\n",
    "    for index, value in enumerate(list_check):\n",
    "        time += 1\n",
    "        if value == value_check:\n",
    "            return index, time\n",
    "    return 'Not found', time"
   ]
  },
  {
   "cell_type": "markdown",
   "id": "dddb5d99",
   "metadata": {},
   "source": [
    "### 1. List 1"
   ]
  },
  {
   "cell_type": "code",
   "execution_count": 7,
   "id": "3e620f44",
   "metadata": {
    "scrolled": true
   },
   "outputs": [
    {
     "name": "stdout",
     "output_type": "stream",
     "text": [
      "Index: Not found\n",
      "Iteration Time: 0\n"
     ]
    }
   ],
   "source": [
    "a = 5\n",
    "list_a = [1, 2, 4, 6, 7, 9]\n",
    "result1, time1 = binary_search(list_a, a)\n",
    "print(f'Index: {result1}\\nIteration Time: {time1}')"
   ]
  },
  {
   "cell_type": "markdown",
   "id": "297e72b4",
   "metadata": {},
   "source": [
    "### 2. List 2"
   ]
  },
  {
   "cell_type": "code",
   "execution_count": 8,
   "id": "175136b6",
   "metadata": {},
   "outputs": [
    {
     "name": "stdout",
     "output_type": "stream",
     "text": [
      "Index: [5]\n",
      "Iteration Time: 6\n"
     ]
    }
   ],
   "source": [
    "b = \"f\"\n",
    "list_b = ['a', 'b', 'c', 'd', 'e', 'f', 'g', 'h', 'i', 'j', 'k', 'l', 'm', 'n', 'o',\n",
    "          'p', 'q', 'r', 's', 't', 'u', 'v', 'w', 'x', 'y', 'z']\n",
    "result2, time2 = binary_search(list_b, b)\n",
    "print(f'Index: {result2}\\nIteration Time: {time2}')"
   ]
  },
  {
   "cell_type": "markdown",
   "id": "6cde02ac",
   "metadata": {},
   "source": [
    "### 3. List 3"
   ]
  },
  {
   "cell_type": "code",
   "execution_count": 9,
   "id": "d5b4ee1c",
   "metadata": {},
   "outputs": [
    {
     "name": "stdout",
     "output_type": "stream",
     "text": [
      "Index: [5, 9]\n",
      "Iteration Time: 10\n"
     ]
    }
   ],
   "source": [
    "c = 5\n",
    "list_c =[2, 1, 2163, -125, 1, 5, 7, 9, 6, 5, 3, 11, 22, 55, 88, 99, 111, 222, 555, 321, 653, 963, 654, 998, 651]\n",
    "result3, time3 = binary_search(list_c, c)\n",
    "print(f'Index: {result3}\\nIteration Time: {time3}')"
   ]
  },
  {
   "cell_type": "markdown",
   "id": "6ffe9247",
   "metadata": {},
   "source": [
    "### 4. List 4"
   ]
  },
  {
   "cell_type": "code",
   "execution_count": 10,
   "id": "2e8e4468",
   "metadata": {},
   "outputs": [
    {
     "name": "stdout",
     "output_type": "stream",
     "text": [
      "Index: [6]\n",
      "Iteration Time: 7\n"
     ]
    }
   ],
   "source": [
    "d = \"foo\"\n",
    "list_d = ['aac', 'bac', 'cbaasc', 'duc', 'enk', 'fire', 'foo', 'hv', 'isg', 'loj', 'qwek', 'scsl', 'vfbgm', 'nig', \n",
    "          'go', 'prii', 'qqqq', 'kkree', 'lis', 'acst', 'qweu', 'vfsdv', 'wfefe ', 'xsfed', 'yagr', 'zyz']\n",
    "result4, time4 = binary_search(list_d, d)\n",
    "print(f'Index: {result4}\\nIteration Time: {time4}')"
   ]
  }
 ],
 "metadata": {
  "kernelspec": {
   "display_name": "Python 3 (ipykernel)",
   "language": "python",
   "name": "python3"
  },
  "language_info": {
   "codemirror_mode": {
    "name": "ipython",
    "version": 3
   },
   "file_extension": ".py",
   "mimetype": "text/x-python",
   "name": "python",
   "nbconvert_exporter": "python",
   "pygments_lexer": "ipython3",
   "version": "3.11.7"
  }
 },
 "nbformat": 4,
 "nbformat_minor": 5
}
