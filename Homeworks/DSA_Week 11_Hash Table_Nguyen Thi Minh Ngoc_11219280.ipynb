{
 "cells": [
  {
   "cell_type": "markdown",
   "id": "2720db87",
   "metadata": {},
   "source": [
    "# HOMEWORK 11\n",
    "Full name: Nguyễn Thị Minh Ngọc\n",
    "<br>\n",
    "Student ID: 11219280\n",
    "<br>\n",
    "Class: DSEB 63"
   ]
  },
  {
   "cell_type": "code",
   "execution_count": 1,
   "id": "a1d46efe",
   "metadata": {},
   "outputs": [],
   "source": [
    "from tabulate import tabulate"
   ]
  },
  {
   "cell_type": "markdown",
   "id": "beb813a0",
   "metadata": {},
   "source": [
    "# Problem 1:  Separate Chaining method"
   ]
  },
  {
   "cell_type": "markdown",
   "id": "141253c3",
   "metadata": {},
   "source": [
    "### a. Implementation"
   ]
  },
  {
   "cell_type": "code",
   "execution_count": 2,
   "id": "d510a315",
   "metadata": {},
   "outputs": [],
   "source": [
    "class Node:\n",
    "    def __init__(self, data, nextnode = None):\n",
    "        self.data = data\n",
    "        self.next = nextnode\n",
    "        \n",
    "    def __repr__(self):\n",
    "        return f'{self.data[0]}: {self.data[1]}'\n",
    "    \n",
    "class SepChainHash:\n",
    "    def __init__(self, size):\n",
    "        self.size = size\n",
    "        self.map = [None] * self.size\n",
    "        \n",
    "    def _hash(self, key):\n",
    "        if isinstance(key, bool):\n",
    "            key = str(key)\n",
    "        if isinstance(key, str):\n",
    "            key = [ord(i) for i in key]\n",
    "            key = sum(key)\n",
    "        return round(key%self.size)\n",
    "    \n",
    "    def _convert_key(self, key):\n",
    "        '''Goals:\n",
    "        - Distinguish between string and integer and bool (For example, key '6' is different from 6, True if different\n",
    "        from 'True')\n",
    "        - Convert boolen key into string form'''\n",
    "        if isinstance(key, str):\n",
    "            return f\"'{str(key)}'\"\n",
    "        elif isinstance(key, bool):\n",
    "            return str(key)\n",
    "        return key\n",
    "\n",
    "    def add(self, key, value):\n",
    "        # Update the value if there are duplicate keys\n",
    "        index = self._hash(key)\n",
    "        key = self._convert_key(key)\n",
    "        node = self.map[index]\n",
    "        if not node:\n",
    "            self.map[index] = Node([key, value])\n",
    "        else:\n",
    "            while node:\n",
    "                if node.data[0] == key:\n",
    "                    node.data[1] = value\n",
    "                    break\n",
    "                if not node.next:\n",
    "                    node.next = Node([key, value], node.next)\n",
    "                node = node.next\n",
    "                    \n",
    "    def __getitem__(self, key):\n",
    "        index = self._hash(key)\n",
    "        key = self._convert_key(key)\n",
    "        node = self.map[index]\n",
    "        while node:\n",
    "            if node.data[0] == key:\n",
    "                return node.data[1]\n",
    "            node = node.next\n",
    "        return None\n",
    "    \n",
    "    def delete(self, key):\n",
    "        index = self._hash(key)\n",
    "        key = self._convert_key(key)\n",
    "        node = self.map[index]\n",
    "        if not node:\n",
    "            raise KeyError(\"Key can't be found\")\n",
    "        else:\n",
    "            if node.data[0] == key:\n",
    "                self.map[index] = node.next\n",
    "            else:\n",
    "                while node.next and node.next.data[0] != key:\n",
    "                    node = node.next\n",
    "                if node.next:\n",
    "                    node.next = node.next.next\n",
    "                else:\n",
    "                    raise KeyError(\"Key can't be found\")\n",
    "    \n",
    "    def display(self):\n",
    "        output = []\n",
    "        for i in range(len(self.map)):\n",
    "            temp = []\n",
    "            temp.append(i)\n",
    "            temp.append(self.map[i])\n",
    "            node = self.map[i]\n",
    "            while node and node.next:\n",
    "                node = node.next\n",
    "                temp.append(node)\n",
    "            output.append(temp)\n",
    "        print(tabulate(output, tablefmt='fancy_grid'))\n",
    "\n",
    "    def __repr__(self):\n",
    "        output = '{'\n",
    "        for i in range(len(self.map)):\n",
    "            node = self.map[i]\n",
    "            while node:\n",
    "                output += f'{node}, '\n",
    "                node = node.next\n",
    "        output = output[:-2:]\n",
    "        output += '}'\n",
    "        return output"
   ]
  },
  {
   "cell_type": "markdown",
   "id": "e7c284ba",
   "metadata": {},
   "source": [
    "### b. Check your implementation"
   ]
  },
  {
   "cell_type": "code",
   "execution_count": 3,
   "id": "8df252dd",
   "metadata": {},
   "outputs": [
    {
     "name": "stdout",
     "output_type": "stream",
     "text": [
      "{10: r, 6: p, 1: b, 12: h, 2: n, 4: s}\n"
     ]
    }
   ],
   "source": [
    "# Create a SepChainHash object with size 5\n",
    "data = [(6, 'a'), (1, 'b'), (12, 'h'), (10, 'r'), (6, 'p'), (4, 's'), (2, 'n')]\n",
    "testcase = SepChainHash(5)\n",
    "for i in data:\n",
    "    testcase.add(i[0], i[1])\n",
    "print(testcase)"
   ]
  },
  {
   "cell_type": "code",
   "execution_count": 4,
   "id": "986d1077",
   "metadata": {},
   "outputs": [
    {
     "name": "stdout",
     "output_type": "stream",
     "text": [
      "╒═══╤═══════╤══════╕\n",
      "│ 0 │ 10: r │      │\n",
      "├───┼───────┼──────┤\n",
      "│ 1 │ 6: p  │ 1: b │\n",
      "├───┼───────┼──────┤\n",
      "│ 2 │ 12: h │ 2: n │\n",
      "├───┼───────┼──────┤\n",
      "│ 3 │       │      │\n",
      "├───┼───────┼──────┤\n",
      "│ 4 │ 4: s  │      │\n",
      "╘═══╧═══════╧══════╛\n"
     ]
    }
   ],
   "source": [
    "testcase.display()"
   ]
  },
  {
   "cell_type": "code",
   "execution_count": 5,
   "id": "bd9539e8",
   "metadata": {},
   "outputs": [
    {
     "name": "stdout",
     "output_type": "stream",
     "text": [
      "The item with key 9: None\n"
     ]
    }
   ],
   "source": [
    "#  Get the items with key 9\n",
    "print('The item with key 9:', testcase[9])"
   ]
  },
  {
   "cell_type": "code",
   "execution_count": 6,
   "id": "4581a692",
   "metadata": {},
   "outputs": [
    {
     "name": "stdout",
     "output_type": "stream",
     "text": [
      "The item with key 4: s\n"
     ]
    }
   ],
   "source": [
    " # Get the items with key 4\n",
    "print('The item with key 4:', testcase[4])"
   ]
  },
  {
   "cell_type": "code",
   "execution_count": 7,
   "id": "712d8e51",
   "metadata": {},
   "outputs": [
    {
     "name": "stdout",
     "output_type": "stream",
     "text": [
      "{10: r, 1: b, 12: h, 2: n, 4: s}\n"
     ]
    }
   ],
   "source": [
    "# Delete the item with key 6\n",
    "testcase.delete(6)\n",
    "print(testcase)"
   ]
  },
  {
   "cell_type": "code",
   "execution_count": 8,
   "id": "a52c9bf6",
   "metadata": {},
   "outputs": [
    {
     "name": "stdout",
     "output_type": "stream",
     "text": [
      "╒═══╤═══════╤══════╕\n",
      "│ 0 │ 10: r │      │\n",
      "├───┼───────┼──────┤\n",
      "│ 1 │ 1: b  │      │\n",
      "├───┼───────┼──────┤\n",
      "│ 2 │ 12: h │ 2: n │\n",
      "├───┼───────┼──────┤\n",
      "│ 3 │       │      │\n",
      "├───┼───────┼──────┤\n",
      "│ 4 │ 4: s  │      │\n",
      "╘═══╧═══════╧══════╛\n"
     ]
    }
   ],
   "source": [
    "testcase.display()"
   ]
  },
  {
   "cell_type": "markdown",
   "id": "d910ccc3",
   "metadata": {},
   "source": [
    "# Problem 2:  Linear Probing method"
   ]
  },
  {
   "cell_type": "code",
   "execution_count": 9,
   "id": "cc308874",
   "metadata": {},
   "outputs": [],
   "source": [
    "class Full(Exception):\n",
    "    pass"
   ]
  },
  {
   "cell_type": "markdown",
   "id": "ac50a7eb",
   "metadata": {},
   "source": [
    "### a. Implementation"
   ]
  },
  {
   "cell_type": "code",
   "execution_count": 10,
   "id": "bc68c29f",
   "metadata": {},
   "outputs": [],
   "source": [
    "class LinProbHash:\n",
    "    def __init__(self, size):\n",
    "        self.size = size\n",
    "        self.map = [None] * size\n",
    "    \n",
    "    def _hash(self, key, update=0):\n",
    "        if isinstance(key, bool):\n",
    "            key = str(key)\n",
    "        if isinstance(key, str):\n",
    "            key = [ord(i) for i in key]\n",
    "            key = sum(key)\n",
    "        key += update\n",
    "        return round(key%self.size)\n",
    "    \n",
    "    def _convert_key(self, key):\n",
    "        '''Goals:\n",
    "        - Distinguish between string and integer and bool (For example, key '6' is different from 6)\n",
    "        - Convert boolen key into string form'''\n",
    "        if isinstance(key, str):\n",
    "            return f\"'{str(key)}'\"\n",
    "        elif isinstance(key, bool):\n",
    "            return str(key)\n",
    "        return key\n",
    "    \n",
    "    def add(self, key, value):\n",
    "        # Update the value if there are duplicate keys\n",
    "        index = self._hash(key)\n",
    "        key = self._convert_key(key)\n",
    "        update = 0\n",
    "        while self.map[index] and self.map[index][0] != key:\n",
    "            update += 1\n",
    "            index = self._hash(key, update)\n",
    "            if update >= self.size:\n",
    "                raise Full('Map is full')\n",
    "        self.map[index] = (key, value)\n",
    "    \n",
    "    def __getitem__(self, key):\n",
    "        index = self._hash(key)\n",
    "        key = self._convert_key(key)\n",
    "        update = 0\n",
    "        while update < self.size:\n",
    "            if self.map[index] and self.map[index][0] == key:\n",
    "                return f'{self.map[index][1]}'\n",
    "            update += 1\n",
    "            index = self._hash(key, update)\n",
    "        return None        \n",
    "    \n",
    "    def delete(self, key):\n",
    "        index = self._hash(key)\n",
    "        key = self._convert_key(key)\n",
    "        check = False\n",
    "        update = 0\n",
    "        while update < self.size and self.map[index]:\n",
    "            if self.map[index][0] == key:\n",
    "                check = True\n",
    "                break\n",
    "            update += 1\n",
    "            index = self._hash(key, update)\n",
    "        if check:\n",
    "            self.map[index] = None\n",
    "        else:\n",
    "            raise KeyError(\"Key can't be found\")\n",
    "    \n",
    "    def display(self):\n",
    "        index = []\n",
    "        data = []\n",
    "        for i in range(len(self.map)):\n",
    "            index.append(i)\n",
    "            if self.map[i]:\n",
    "                data.append(f'{self.map[i][0]}: {self.map[i][1]}')\n",
    "            else:\n",
    "                data.append(self.map[i])\n",
    "        output = [index, data]\n",
    "        print(tabulate(output, tablefmt='fancy_grid'))\n",
    "    \n",
    "    def __repr__(self):\n",
    "        output = '{'\n",
    "        for i in range(len(self.map)):\n",
    "            if self.map[i]:\n",
    "                output += f'{self.map[i][0]}: {self.map[i][1]}, '\n",
    "        output = output[:-2:]\n",
    "        output += '}'\n",
    "        return output"
   ]
  },
  {
   "cell_type": "markdown",
   "id": "4f699036",
   "metadata": {},
   "source": [
    "### b. Check your implementation"
   ]
  },
  {
   "cell_type": "code",
   "execution_count": 11,
   "id": "67b8cfc2",
   "metadata": {},
   "outputs": [
    {
     "name": "stdout",
     "output_type": "stream",
     "text": [
      "{8: d, 21: j, 3: d, 11: a, 19: p, 6: s, 14: q}\n"
     ]
    }
   ],
   "source": [
    "# Create a LinProbHash object with size 8\n",
    "data2 = [(6, 's'), (3, 'd'), (11, 'a'), (19, 'p'), (8, 'd'), (14, 'q'), (21, 'j')]\n",
    "testcase2 = LinProbHash(8)\n",
    "for i in data2:\n",
    "    testcase2.add(i[0], i[1])\n",
    "print(testcase2)"
   ]
  },
  {
   "cell_type": "code",
   "execution_count": 12,
   "id": "381ec62e",
   "metadata": {},
   "outputs": [
    {
     "name": "stdout",
     "output_type": "stream",
     "text": [
      "╒══════╤═══════╤═══╤══════╤═══════╤═══════╤══════╤═══════╕\n",
      "│ 0    │ 1     │ 2 │ 3    │ 4     │ 5     │ 6    │ 7     │\n",
      "├──────┼───────┼───┼──────┼───────┼───────┼──────┼───────┤\n",
      "│ 8: d │ 21: j │   │ 3: d │ 11: a │ 19: p │ 6: s │ 14: q │\n",
      "╘══════╧═══════╧═══╧══════╧═══════╧═══════╧══════╧═══════╛\n"
     ]
    }
   ],
   "source": [
    "testcase2.display()"
   ]
  },
  {
   "cell_type": "raw",
   "id": "1416451b",
   "metadata": {},
   "source": [
    "# Delete the items with key 11 and 3\n",
    "result = [['Operation', 'Return Value', 'Map'],\n",
    "          ['testcase2.delete(11)', str(testcase2.delete(11)), str(testcase2)],\n",
    "          ['testcase2.delete(3)', str(testcase2.delete(3)),str(testcase2)]]\n",
    "print(tabulate(result, headers='firstrow', tablefmt='simple'))"
   ]
  },
  {
   "cell_type": "code",
   "execution_count": 13,
   "id": "e253a753",
   "metadata": {},
   "outputs": [
    {
     "name": "stdout",
     "output_type": "stream",
     "text": [
      "testcase2.delete(11)  >>>   {8: d, 21: j, 3: d, 19: p, 6: s, 14: q}\n",
      "testcase2.delete(3)   >>>   {8: d, 21: j, 19: p, 6: s, 14: q}\n"
     ]
    }
   ],
   "source": [
    "# Delete the items with key 11\n",
    "testcase2.delete(11)\n",
    "print('testcase2.delete(11)  >>>  ', str(testcase2))\n",
    "\n",
    "# Delete the items with key 3\n",
    "testcase2.delete(3)\n",
    "print('testcase2.delete(3)   >>>  ',str(testcase2))"
   ]
  },
  {
   "cell_type": "code",
   "execution_count": 14,
   "id": "8ba8be8c",
   "metadata": {
    "scrolled": true
   },
   "outputs": [
    {
     "name": "stdout",
     "output_type": "stream",
     "text": [
      "╒══════╤═══════╤═══╤═══╤═══╤═══════╤══════╤═══════╕\n",
      "│ 0    │ 1     │ 2 │ 3 │ 4 │ 5     │ 6    │ 7     │\n",
      "├──────┼───────┼───┼───┼───┼───────┼──────┼───────┤\n",
      "│ 8: d │ 21: j │   │   │   │ 19: p │ 6: s │ 14: q │\n",
      "╘══════╧═══════╧═══╧═══╧═══╧═══════╧══════╧═══════╛\n"
     ]
    }
   ],
   "source": [
    "testcase2.display()"
   ]
  },
  {
   "cell_type": "raw",
   "id": "d1c499f2",
   "metadata": {},
   "source": [
    "# Add these items: (16 , 'l') , (0 , 'o') , (9 , 'a')\n",
    "result2 = [['Operation', 'Return Value', 'Map'],\n",
    "          [\"testcase2.add(16, 'l')\", str(testcase2.add(16, 'l')), str(testcase2)],\n",
    "          [\"testcase2.add(0, 'o')\", str(testcase2.add(0, 'o')), str(testcase2)], \n",
    "          [\"testcase2.add(9, 'a')\", str(testcase2.add(9, 'a')), str(testcase2)]]\n",
    "print(tabulate(result2, headers='firstrow', tablefmt='simple'))"
   ]
  },
  {
   "cell_type": "code",
   "execution_count": 15,
   "id": "3a068ce9",
   "metadata": {},
   "outputs": [
    {
     "name": "stdout",
     "output_type": "stream",
     "text": [
      "testcase2.add(16, 'l')\t>>>   {8: d, 21: j, 16: l, 19: p, 6: s, 14: q}\n",
      "testcase2.add(0, 'o')\t>>>   {8: d, 21: j, 16: l, 0: o, 19: p, 6: s, 14: q}\n",
      "testcase2.add(9, 'a')\t>>>   {8: d, 21: j, 16: l, 0: o, 9: a, 19: p, 6: s, 14: q}\n"
     ]
    }
   ],
   "source": [
    "# Add (16 , 'l')\n",
    "testcase2.add(16, 'l')\n",
    "print(\"testcase2.add(16, 'l')\\t>>>  \", str(testcase2))\n",
    "\n",
    "# Add (0 , 'o')\n",
    "testcase2.add(0, 'o')\n",
    "print(\"testcase2.add(0, 'o')\\t>>>  \", str(testcase2))\n",
    "\n",
    "# Add (9 , 'a')\n",
    "testcase2.add(9, 'a')\n",
    "print(\"testcase2.add(9, 'a')\\t>>>  \", str(testcase2))"
   ]
  },
  {
   "cell_type": "code",
   "execution_count": 16,
   "id": "8bcab320",
   "metadata": {},
   "outputs": [
    {
     "name": "stdout",
     "output_type": "stream",
     "text": [
      "╒══════╤═══════╤═══════╤══════╤══════╤═══════╤══════╤═══════╕\n",
      "│ 0    │ 1     │ 2     │ 3    │ 4    │ 5     │ 6    │ 7     │\n",
      "├──────┼───────┼───────┼──────┼──────┼───────┼──────┼───────┤\n",
      "│ 8: d │ 21: j │ 16: l │ 0: o │ 9: a │ 19: p │ 6: s │ 14: q │\n",
      "╘══════╧═══════╧═══════╧══════╧══════╧═══════╧══════╧═══════╛\n"
     ]
    }
   ],
   "source": [
    "testcase2.display()"
   ]
  },
  {
   "cell_type": "code",
   "execution_count": 17,
   "id": "cf66db33",
   "metadata": {},
   "outputs": [
    {
     "name": "stdout",
     "output_type": "stream",
     "text": [
      "testcase2.delete(8)  >>>   {21: j, 16: l, 0: o, 9: a, 19: p, 6: s, 14: q}\n"
     ]
    }
   ],
   "source": [
    "#  Delete item with key 8\n",
    "testcase2.delete(8)\n",
    "print('testcase2.delete(8)  >>>  ', str(testcase2))"
   ]
  },
  {
   "cell_type": "code",
   "execution_count": 18,
   "id": "cec24ff0",
   "metadata": {},
   "outputs": [
    {
     "name": "stdout",
     "output_type": "stream",
     "text": [
      "╒═══╤═══════╤═══════╤══════╤══════╤═══════╤══════╤═══════╕\n",
      "│ 0 │ 1     │ 2     │ 3    │ 4    │ 5     │ 6    │ 7     │\n",
      "├───┼───────┼───────┼──────┼──────┼───────┼──────┼───────┤\n",
      "│   │ 21: j │ 16: l │ 0: o │ 9: a │ 19: p │ 6: s │ 14: q │\n",
      "╘═══╧═══════╧═══════╧══════╧══════╧═══════╧══════╧═══════╛\n"
     ]
    }
   ],
   "source": [
    "testcase2.display()"
   ]
  },
  {
   "cell_type": "code",
   "execution_count": 19,
   "id": "cea473f5",
   "metadata": {},
   "outputs": [
    {
     "data": {
      "text/plain": [
       "'q'"
      ]
     },
     "execution_count": 19,
     "metadata": {},
     "output_type": "execute_result"
    }
   ],
   "source": [
    "testcase2[14]"
   ]
  },
  {
   "cell_type": "markdown",
   "id": "00483137",
   "metadata": {},
   "source": [
    "# SECOND TIME"
   ]
  },
  {
   "cell_type": "markdown",
   "id": "9f426283",
   "metadata": {},
   "source": [
    "# Problem 1"
   ]
  },
  {
   "cell_type": "code",
   "execution_count": 20,
   "id": "3e9d87d1",
   "metadata": {},
   "outputs": [],
   "source": [
    "class Node:\n",
    "    def __init__(self, value, nextnode=None):\n",
    "        self.value = value\n",
    "        self.next = nextnode\n",
    "    \n",
    "    def __repr__(self):\n",
    "        return str(self.value)\n",
    "\n",
    "class SepChainHash:\n",
    "    def __init__(self, size):\n",
    "        pass\n",
    "    \n",
    "    def _hash(self, key):\n",
    "        pass\n",
    "    \n",
    "    def add(self, node):\n",
    "        pass\n",
    "    \n",
    "    def __getitem__(self):\n",
    "        pass\n",
    "    \n",
    "    def delelte(self, key):\n",
    "        pass\n",
    "    \n",
    "    def __repr__(self):\n",
    "        pass"
   ]
  },
  {
   "cell_type": "code",
   "execution_count": 21,
   "id": "7a44bc35",
   "metadata": {},
   "outputs": [],
   "source": [
    "class LinProbHash:\n",
    "    def __init__(self, size=5):\n",
    "        self._size = size\n",
    "        self._table = [None] * size\n",
    "        \n",
    "    def _hash(self, key):\n",
    "        if isinstance(key, bool):\n",
    "            key = str(key)\n",
    "        if isinstance(key, str):\n",
    "            key = sum([ord(i) for i in key])\n",
    "        return round(key%self._size)\n",
    "    \n",
    "    def add(self, key, value):\n",
    "        index = self._hash(key)\n",
    "        while self._table[index]:\n",
    "            if self._table[index][0] == key:\n",
    "                break\n",
    "            index = self._hash(index+1) \n",
    "        self._table[index] = (key, value)\n",
    "    \n",
    "    def __getitem__(self, key):\n",
    "        index = self._hash(key)\n",
    "        while self._table[index]:\n",
    "            if self._table[index][0] == key:\n",
    "                return f'{self._table[index][0]}: {self._table[index][1]}'\n",
    "            index = self._hash(index+1)\n",
    "    \n",
    "    def delete(self, key):\n",
    "        index = self._hash(key)\n",
    "        update = 0\n",
    "        removed = None\n",
    "        while self._table[index]:\n",
    "            if self._table[index][0] == key:\n",
    "                removed = self._table[index]\n",
    "                self._table[index] = None\n",
    "            else:\n",
    "                index = self._hash(index+1)\n",
    "        if not removed:\n",
    "            raise KeyError(\"Key cannot be found\")\n",
    "        index += 1\n",
    "        while self._table[index]:\n",
    "            current = self._table[index]\n",
    "            self._table[index] = None\n",
    "            self.add(current[0], current[1])\n",
    "            index = self._hash(index+1)\n",
    "        return removed\n",
    "        \n",
    "    def __repr__(self):\n",
    "        # return str(self._table)\n",
    "        index = []\n",
    "        items = []\n",
    "        for i in range(len(self._table)):\n",
    "            index.append(i)\n",
    "            if self._table[i]:\n",
    "                if isinstance(self._table[i][0], str):\n",
    "                    key = f\"'{self._table[i][0]}'\"\n",
    "                else:\n",
    "                    key = self._table[i][0]\n",
    "                if isinstance(self._table[i][1], str):\n",
    "                    value = f\"'{self._table[i][1]}'\"\n",
    "                else:\n",
    "                    valie = self._table[i][1]\n",
    "                items.append(f'{key}: {value}')\n",
    "            else:\n",
    "                items.append(self._table[i])\n",
    "        print(tabulate([index, items], tablefmt='fancy_grid'))\n",
    "        return ''"
   ]
  },
  {
   "cell_type": "code",
   "execution_count": 22,
   "id": "f5b42747",
   "metadata": {},
   "outputs": [
    {
     "name": "stdout",
     "output_type": "stream",
     "text": [
      "╒════════╤═════════╤═══╤════════╤═════════╤═════════╤════════╤═════════╕\n",
      "│ 0      │ 1       │ 2 │ 3      │ 4       │ 5       │ 6      │ 7       │\n",
      "├────────┼─────────┼───┼────────┼─────────┼─────────┼────────┼─────────┤\n",
      "│ 8: 'd' │ 21: 'j' │   │ 3: 'd' │ 11: 'a' │ 19: 'p' │ 6: 's' │ 14: 'q' │\n",
      "╘════════╧═════════╧═══╧════════╧═════════╧═════════╧════════╧═════════╛\n",
      "\n"
     ]
    }
   ],
   "source": [
    "# Create a LinProbHash object with size 8\n",
    "data3 = [(6, 's'), (3, 'd'), (11, 'a'), (19, 'p'), (8, 'd'), (14, 'q'), (21, 'j')]\n",
    "testcase3 = LinProbHash(8)\n",
    "for i in data3:\n",
    "    testcase3.add(i[0], i[1])\n",
    "print(testcase3)"
   ]
  },
  {
   "cell_type": "code",
   "execution_count": 23,
   "id": "3fa23a0c",
   "metadata": {},
   "outputs": [
    {
     "name": "stdout",
     "output_type": "stream",
     "text": [
      "testcase3.delete(11)  >>>  \n",
      "╒════════╤═══╤═══╤════════╤═════════╤═════════╤════════╤═════════╕\n",
      "│ 0      │ 1 │ 2 │ 3      │ 4       │ 5       │ 6      │ 7       │\n",
      "├────────┼───┼───┼────────┼─────────┼─────────┼────────┼─────────┤\n",
      "│ 8: 'd' │   │   │ 3: 'd' │ 19: 'p' │ 21: 'j' │ 6: 's' │ 14: 'q' │\n",
      "╘════════╧═══╧═══╧════════╧═════════╧═════════╧════════╧═════════╛\n",
      "\n"
     ]
    }
   ],
   "source": [
    "# Delete the items with key 11\n",
    "testcase3.delete(11)\n",
    "print('testcase3.delete(11)  >>>  ')\n",
    "print(testcase3)"
   ]
  },
  {
   "cell_type": "code",
   "execution_count": 24,
   "id": "11c062ab",
   "metadata": {},
   "outputs": [
    {
     "name": "stdout",
     "output_type": "stream",
     "text": [
      "8: d\n",
      "21: j\n",
      "3: d\n",
      "19: p\n",
      "6: s\n",
      "14: q\n"
     ]
    }
   ],
   "source": [
    "print(testcase3[8])\n",
    "print(testcase3[21])\n",
    "print(testcase3[3])\n",
    "print(testcase3[19])\n",
    "print(testcase3[6])\n",
    "print(testcase3[14])"
   ]
  },
  {
   "cell_type": "code",
   "execution_count": 25,
   "id": "8ae519e0",
   "metadata": {},
   "outputs": [
    {
     "name": "stdout",
     "output_type": "stream",
     "text": [
      "testcase3.delete(3)  >>>  \n",
      "╒════════╤═══╤═══╤═════════╤═══╤═════════╤════════╤═════════╕\n",
      "│ 0      │ 1 │ 2 │ 3       │ 4 │ 5       │ 6      │ 7       │\n",
      "├────────┼───┼───┼─────────┼───┼─────────┼────────┼─────────┤\n",
      "│ 8: 'd' │   │   │ 19: 'p' │   │ 21: 'j' │ 6: 's' │ 14: 'q' │\n",
      "╘════════╧═══╧═══╧═════════╧═══╧═════════╧════════╧═════════╛\n",
      "\n"
     ]
    }
   ],
   "source": [
    "# Delete the items with key 3\n",
    "testcase3.delete(3)\n",
    "print('testcase3.delete(3)  >>>  ')\n",
    "print(testcase3)"
   ]
  }
 ],
 "metadata": {
  "kernelspec": {
   "display_name": "Python 3 (ipykernel)",
   "language": "python",
   "name": "python3"
  },
  "language_info": {
   "codemirror_mode": {
    "name": "ipython",
    "version": 3
   },
   "file_extension": ".py",
   "mimetype": "text/x-python",
   "name": "python",
   "nbconvert_exporter": "python",
   "pygments_lexer": "ipython3",
   "version": "3.11.7"
  }
 },
 "nbformat": 4,
 "nbformat_minor": 5
}
