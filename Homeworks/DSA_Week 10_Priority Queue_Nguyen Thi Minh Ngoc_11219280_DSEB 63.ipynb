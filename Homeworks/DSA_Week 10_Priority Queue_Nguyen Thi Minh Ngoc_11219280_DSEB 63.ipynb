{
 "cells": [
  {
   "cell_type": "markdown",
   "id": "87e7eea0",
   "metadata": {},
   "source": [
    "# HOMEWORK 10\n",
    "Full name: Nguyễn Thị Minh Ngọc\n",
    "<br>\n",
    "Class: DSEB 63\n",
    "<br>\n",
    "Student ID: 11219280"
   ]
  },
  {
   "cell_type": "code",
   "execution_count": 1,
   "id": "c61a5dd6",
   "metadata": {},
   "outputs": [],
   "source": [
    "class Empty(Exception):\n",
    "    pass"
   ]
  },
  {
   "cell_type": "markdown",
   "id": "60f6f760",
   "metadata": {},
   "source": [
    "# Problem 1:  Contruct a Min Binary Heap"
   ]
  },
  {
   "cell_type": "markdown",
   "id": "ecd84641",
   "metadata": {},
   "source": [
    "### a. Implementation"
   ]
  },
  {
   "cell_type": "code",
   "execution_count": 2,
   "id": "55e41b6f",
   "metadata": {},
   "outputs": [],
   "source": [
    "class Item:\n",
    "    def __init__(self, key, value):\n",
    "        self.key = key\n",
    "        self.value = value\n",
    "        \n",
    "    def __lt__(self, other):\n",
    "        return self.key < other.key\n",
    "    \n",
    "    def __gt__(self, other):\n",
    "        return self.key > other.key\n",
    "    \n",
    "    def __eq__(self, other):\n",
    "        return self.key == other.key\n",
    "    \n",
    "    def __repr__(self):\n",
    "        return f'({self.key}, {self.value})'"
   ]
  },
  {
   "cell_type": "raw",
   "id": "946c66a6",
   "metadata": {},
   "source": [
    "class MinHeap:\n",
    "    def __init__(self):\n",
    "        self._data = []\n",
    "        self._size = 0\n",
    "        \n",
    "    def __len__(self):\n",
    "        return self._size\n",
    "    \n",
    "    def is_empty(self):\n",
    "        return self._size == 0\n",
    "    \n",
    "    def _parent(self, k):\n",
    "        return (k-1)//2\n",
    "    \n",
    "    def _left(self, k):\n",
    "        return 2*k + 1\n",
    "    \n",
    "    def _right(self, k):\n",
    "        return 2*k + 2\n",
    "    \n",
    "    def _has_left(self, k):\n",
    "        return self._left(k) < self._size\n",
    "    \n",
    "    def _has_right(self, k):\n",
    "        return self._right(k) < self._size\n",
    "    \n",
    "    def _swap(self, k1, k2):\n",
    "        self._data[k1], self._data[k2] = self._data[k2], self._data[k1]\n",
    "        \n",
    "    def _min_heapify(self, size, k):\n",
    "        if k >= size - 1:\n",
    "            return\n",
    "        minindex = k\n",
    "        left = self._left(k)\n",
    "        right = self._right(k)\n",
    "        if left < size and self._data[left] < self._data[k]:\n",
    "            minindex = left\n",
    "        if right < size and self._data[right] < self._data[minindex]:\n",
    "            minindex = right\n",
    "        if minindex != k:\n",
    "            self._swap(k, minindex)\n",
    "            self._min_heapify(size, minindex)\n",
    "    \n",
    "    def _max_heapify(self, size, k):\n",
    "        if k >= size - 1:\n",
    "            return\n",
    "        maxindex = k\n",
    "        left = self._left(k)\n",
    "        right = self._right(k)\n",
    "        if left < size and self._data[left] > self._data[k]:\n",
    "            maxindex = left\n",
    "        if right < size and self._data[right] > self._data[maxindex]:\n",
    "            maxindex = right\n",
    "        if maxindex != k:\n",
    "            self._swap(k, maxindex)\n",
    "            self._max_heapify(size, maxindex)\n",
    "    \n",
    "    # no update = remain\n",
    "    def add(self, item):\n",
    "        '''Add a new item into the heap. If there is a duplicate key, ask the user if they want to update the value. If\n",
    "        they do not want to update, then maintain the original heap.'''\n",
    "        if item in self._data:\n",
    "            print(f\"Item's key has already existed.\")\n",
    "            update = input('Do you want to update? (Y/N) ')\n",
    "            while update.lower() not in ('y', 'n', 'yes', 'no'):\n",
    "                print(f\"Answer must be YES or NO. Item's key ({item.key}) has already existed.\")\n",
    "                update = input('Do you want to update? (Y/N) ')\n",
    "            if update.lower() in ('y', 'yes'):\n",
    "                for i in range(self._size):\n",
    "                    if self._data[i] == item:\n",
    "                        self._data[i] = item\n",
    "                        break\n",
    "        else:\n",
    "            index = self._size\n",
    "            self._data.append(item)\n",
    "            self._size += 1\n",
    "            while index > 0 and self._data[self._parent(index)] > self._data[index]:\n",
    "                self._swap(self._parent(index), index)\n",
    "                index = self._parent(index)\n",
    "    \n",
    "    def get_min(self):\n",
    "        if self.is_empty():\n",
    "            raise Empty('Heap is empty')\n",
    "        return self._data[0]\n",
    "    \n",
    "    def remove_min(self):\n",
    "        if self.is_empty():\n",
    "            raise Empty('Heap is empty')\n",
    "        removed = self._data[0]\n",
    "        if self._size > 1:\n",
    "            self._data[0] = self._data.pop()\n",
    "            self._min_heapify(self._size-1, 0)\n",
    "        self._size -= 1\n",
    "        return removed\n",
    "    \n",
    "    def copy(self, other):\n",
    "        self._size = len(other)\n",
    "        for i in other._data:\n",
    "            self._data.append(i)\n",
    "    \n",
    "    # Solution 1: Based on the idea of heapify and heap sort. The result is in max heap form and descending order.\"\n",
    "    def max_heap_sort_1(self):\n",
    "        '''Converting the current min heap into max heap with descending order.\n",
    "        Return result after sorting without modifying the origin heap.'''\n",
    "        temp = MinHeap()\n",
    "        temp.copy(self)\n",
    "        for i in range(self._size-1, 0, -1):\n",
    "            temp._swap(0, i)\n",
    "            temp._min_heapify(i, 0)\n",
    "        return temp\n",
    "    \n",
    "    # Solution 2: Based on the idea of heapify. The result is in max heap form.\n",
    "    def max_heap_sort_2(self):\n",
    "        '''Only converting the current min heap into max heap.\n",
    "        Return result after sorting without modifying the origin heap.'''\n",
    "        temp = MinHeap()\n",
    "        temp.copy(self)\n",
    "        for i in range((self._size)//2-1, -1, -1):\n",
    "            temp._max_heapify(self._size, i)\n",
    "        return temp\n",
    "    \n",
    "    \n",
    "    def __repr__(self):\n",
    "        print(*self._data, end = '')\n",
    "        return ''"
   ]
  },
  {
   "cell_type": "code",
   "execution_count": 3,
   "id": "6314780c",
   "metadata": {},
   "outputs": [],
   "source": [
    "class MinHeap:\n",
    "    def __init__(self):\n",
    "        self._data = []\n",
    "        self._size = 0\n",
    "        \n",
    "    def __len__(self):\n",
    "        return self._size\n",
    "    \n",
    "    def is_empty(self):\n",
    "        return self._size == 0\n",
    "    \n",
    "    def _parent(self, k):\n",
    "        return (k-1)//2\n",
    "    \n",
    "    def _left(self, k):\n",
    "        return 2*k + 1\n",
    "    \n",
    "    def _right(self, k):\n",
    "        return 2*k + 2\n",
    "    \n",
    "    def _has_left(self, k):\n",
    "        return self._left(k) < self._size\n",
    "    \n",
    "    def _has_right(self, k):\n",
    "        return self._right(k) < self._size\n",
    "    \n",
    "    def _swap(self, k1, k2):\n",
    "        self._data[k1], self._data[k2] = self._data[k2], self._data[k1]\n",
    "        \n",
    "    def _min_heapify(self, size, k):\n",
    "        if k >= size - 1:\n",
    "            return\n",
    "        minindex = k\n",
    "        left = self._left(k)\n",
    "        right = self._right(k)\n",
    "        if left < size and self._data[left] < self._data[k]:\n",
    "            minindex = left\n",
    "        if right < size and self._data[right] < self._data[minindex]:\n",
    "            minindex = right\n",
    "        if minindex != k:\n",
    "            self._swap(k, minindex)\n",
    "            self._min_heapify(size, minindex)\n",
    "    \n",
    "    def _max_heapify(self, size, k):\n",
    "        if k >= size - 1:\n",
    "            return\n",
    "        maxindex = k\n",
    "        left = self._left(k)\n",
    "        right = self._right(k)\n",
    "        if left < size and self._data[left] > self._data[k]:\n",
    "            maxindex = left\n",
    "        if right < size and self._data[right] > self._data[maxindex]:\n",
    "            maxindex = right\n",
    "        if maxindex != k:\n",
    "            self._swap(k, maxindex)\n",
    "            self._max_heapify(size, maxindex)\n",
    "    \n",
    "    def add(self, item, addcheck=True):\n",
    "        # Vẫn nên update nhưng mà nên hỏi sẽ update với cái nào - eo ơi loạn quá\n",
    "        '''Add a new item into the heap. If there is a duplicate key, ask the user if they want to update the value. If\n",
    "        they do not want to update, add new item as usual because the key of a child in a min heap can be equal or greater\n",
    "        than the key of its parent'''\n",
    "        if item in self._data:\n",
    "            print(f\"Item's key has already existed.\")\n",
    "            update = input('Do you want to update? (Y/N) ')\n",
    "            while update.lower() not in ('y', 'n', 'yes', 'no'):\n",
    "                print(f\"Answer must be YES or NO. Item's key ({item.key}) has already existed.\")\n",
    "                update = input('Do you want to update? (Y/N) ')\n",
    "            if update.lower() in ('y', 'yes'):\n",
    "                addcheck = False\n",
    "        if addcheck:\n",
    "            index = self._size\n",
    "            self._data.append(item)\n",
    "            self._size += 1\n",
    "            while index > 0 and self._data[self._parent(index)] > self._data[index]:\n",
    "                self._swap(self._parent(index), index)\n",
    "                index = self._parent(index)\n",
    "        else:\n",
    "            update_option = []\n",
    "            for i in range(self._size):\n",
    "                if self._data[i] == item:\n",
    "                    update_option.append(i)\n",
    "            print(\"Options to update:\")\n",
    "            option = 1\n",
    "            for i in update_option:\n",
    "                print(f'\\t- Option {option}: {i} - {self._data[i]}')\n",
    "            decision = input('Index of item needed to update: ')\n",
    "            while not decision.isnumeric() or (decision.isnumeric() and int(decision) not in update_option):\n",
    "                print(f'Input must be integer in {update_option}')\n",
    "                decision = input('Index of item needed to update: ')\n",
    "            decision = int(decision)\n",
    "            self._data[decision] = item\n",
    "    \n",
    "    def get_min(self):\n",
    "        if self.is_empty():\n",
    "            raise Empty('Heap is empty')\n",
    "        return self._data[0]\n",
    "    \n",
    "    def remove_min(self):\n",
    "        if self.is_empty():\n",
    "            raise Empty('Heap is empty')\n",
    "        removed = self._data[0]\n",
    "        if self._size > 1:\n",
    "            self._data[0] = self._data.pop()\n",
    "            self._min_heapify(self._size-1, 0)\n",
    "        self._size -= 1\n",
    "        return removed\n",
    "    \n",
    "    def copy(self, other):\n",
    "        self._size = len(other)\n",
    "        for i in other._data:\n",
    "            self._data.append(i)\n",
    "    \n",
    "    # Solution 1: Based on the idea of heapify and heap sort. The result is in max heap form and descending order.\"\n",
    "    def max_heap_sort_1(self):\n",
    "        '''Converting the current min heap into max heap with descending order.\n",
    "        Return result after sorting without modifying the origin heap.'''\n",
    "        temp = MinHeap()\n",
    "        temp.copy(self)\n",
    "        for i in range(self._size-1, 0, -1):\n",
    "            temp._swap(0, i)\n",
    "            temp._min_heapify(i, 0)\n",
    "        return temp\n",
    "    \n",
    "    # Solution 2: Based on the idea of heapify. The result is in max heap form.\n",
    "    def max_heap_sort_2(self):\n",
    "        '''Only converting the current min heap into max heap.\n",
    "        Return result after sorting without modifying the origin heap.'''\n",
    "        temp = MinHeap()\n",
    "        temp.copy(self)\n",
    "        for i in range((self._size)//2-1, -1, -1):\n",
    "            temp._max_heapify(self._size, i)\n",
    "        return temp\n",
    "    \n",
    "    \n",
    "    def __repr__(self):\n",
    "        print(*self._data, end = '')\n",
    "        return ''"
   ]
  },
  {
   "cell_type": "markdown",
   "id": "dafb9db1",
   "metadata": {},
   "source": [
    "### b. Test the implementation"
   ]
  },
  {
   "cell_type": "code",
   "execution_count": 4,
   "id": "403681fb",
   "metadata": {},
   "outputs": [
    {
     "name": "stdout",
     "output_type": "stream",
     "text": [
      "(0, D) (1, S) (5, S) (4, B) (2, E) (8, U) (9, B) (7, A) (10, A)\n"
     ]
    }
   ],
   "source": [
    "# create min heap\n",
    "items = [(2, 'E'), (7, 'A'), (5, 'S'), (1, 'S'), (0, 'D'), (8, 'U'), (9, 'B'), (4, 'B'), (10, 'A')]\n",
    "testcase = MinHeap()\n",
    "for i in items:\n",
    "    testcase.add(Item(i[0], i[1]))\n",
    "print(testcase)"
   ]
  },
  {
   "cell_type": "code",
   "execution_count": 5,
   "id": "8b42057a",
   "metadata": {},
   "outputs": [
    {
     "name": "stdout",
     "output_type": "stream",
     "text": [
      "Remove: (0, D)\n",
      "Remove: (1, S)\n",
      "\n",
      ">>> (2, E) (4, B) (5, S) (7, A) (10, A) (8, U) (9, B)\n"
     ]
    }
   ],
   "source": [
    "# call the method remove_min twice and print out the heap\n",
    "print('Remove:', testcase.remove_min())\n",
    "print('Remove:', testcase.remove_min())\n",
    "print('\\n>>>', testcase)"
   ]
  },
  {
   "cell_type": "code",
   "execution_count": 6,
   "id": "8f3b3d05",
   "metadata": {},
   "outputs": [
    {
     "name": "stdout",
     "output_type": "stream",
     "text": [
      "Item's key has already existed.\n",
      "\n",
      ">>> (2, E) (4, B) (5, S) (5, J) (10, A) (8, U) (9, B) (7, A)\n"
     ]
    }
   ],
   "source": [
    "# add the item with key 5 and value 'J' to the heap - no update\n",
    "testcase.add(Item(5, 'J'))\n",
    "print('\\n>>>', testcase)"
   ]
  },
  {
   "cell_type": "code",
   "execution_count": 7,
   "id": "a7503f20",
   "metadata": {},
   "outputs": [
    {
     "name": "stdout",
     "output_type": "stream",
     "text": [
      "Item's key has already existed.\n",
      "\n",
      ">>> (2, E) (4, B) (5, S) (5, J) (10, A) (8, U) (9, B) (7, A) (5, J)\n"
     ]
    }
   ],
   "source": [
    "# add the item with key 5 and value 'J' to the heap - update\n",
    "testcase.add(Item(5, 'J'))\n",
    "print('\\n>>>', testcase)"
   ]
  },
  {
   "cell_type": "code",
   "execution_count": 8,
   "id": "aace282b",
   "metadata": {
    "scrolled": true
   },
   "outputs": [
    {
     "name": "stdout",
     "output_type": "stream",
     "text": [
      "(10, A) (9, B) (8, U) (7, A) (5, S) (5, J) (5, J) (4, B) (2, E)\n"
     ]
    }
   ],
   "source": [
    "# call the method max_heap_sort and print out the result\n",
    "# Solution 1: Based on the idea of heapify and heap sort. The result is in max heap form and descending order.\"\n",
    "print(testcase.max_heap_sort_1())"
   ]
  },
  {
   "cell_type": "code",
   "execution_count": 9,
   "id": "839dc208",
   "metadata": {},
   "outputs": [
    {
     "name": "stdout",
     "output_type": "stream",
     "text": [
      "(10, A) (7, A) (9, B) (5, J) (4, B) (8, U) (5, S) (2, E) (5, J)\n"
     ]
    }
   ],
   "source": [
    "# Solution 2: Based on the idea of heapify. Only converting into max heap form.\n",
    "print(testcase.max_heap_sort_2())"
   ]
  },
  {
   "cell_type": "markdown",
   "id": "c45e961a",
   "metadata": {},
   "source": [
    "# Problem 2: Median of A Numeric Array"
   ]
  },
  {
   "cell_type": "raw",
   "id": "2f2fe9bc",
   "metadata": {},
   "source": [
    "class MaxHeap(MinHeap):\n",
    "    def __init__(self):\n",
    "        super().__init__()\n",
    "        \n",
    "    def add(self, item, addcheck=True):\n",
    "        # Vẫn nên update nhưng mà nên hỏi sẽ update với cái nào - eo ơi loạn quá\n",
    "        '''Add a new item into the heap. If there is a duplicate key, ask the user if they want to update the value. If\n",
    "        they do not want to update, add new item as usual because the key of a child in a min heap can be equal or greater\n",
    "        than the key of its parent'''\n",
    "        if item in self._data:\n",
    "            print(f\"Item's key has already existed.\")\n",
    "            update = input('Do you want to update? (Y/N) ')\n",
    "            while update.lower() not in ('y', 'n', 'yes', 'no'):\n",
    "                print(f\"Answer must be YES or NO. Item's key ({item.key}) has already existed.\")\n",
    "                update = input('Do you want to update? (Y/N) ')\n",
    "            if update.lower() in ('y', 'yes'):\n",
    "                addcheck = False\n",
    "        if addcheck:\n",
    "            index = self._size\n",
    "            self._data.append(item)\n",
    "            self._size += 1\n",
    "            while index > 0 and self._data[self._parent(index)] < self._data[index]:\n",
    "                self._swap(self._parent(index), index)\n",
    "                index = self._parent(index)\n",
    "        else:\n",
    "            for i in range(self._size):\n",
    "                if self._data[i] == item:\n",
    "                    self._data[i] = item\n",
    "                    break\n",
    "                    \n",
    "    def get_max(self):\n",
    "        if self.is_empty():\n",
    "            raise Empty('Heap is empty')\n",
    "        return self._data[0]\n",
    "    \n",
    "    def remove_max(self):\n",
    "        if self.is_empty():\n",
    "            raise Empty('Heap is empty')\n",
    "        removed = self._data[0]\n",
    "        if self._size > 1:\n",
    "            self._data[0] = self._data.pop()\n",
    "            self._max_heapify(self._size-1, 0)\n",
    "        self._size -= 1\n",
    "        return removed"
   ]
  },
  {
   "cell_type": "code",
   "execution_count": 10,
   "id": "2f65ce82",
   "metadata": {},
   "outputs": [],
   "source": [
    "class MaxHeap(MinHeap):\n",
    "    def __init__(self):\n",
    "        super().__init__()\n",
    "        \n",
    "    def add(self, item, addcheck=True):\n",
    "        # Vẫn nên update nhưng mà nên hỏi sẽ update với cái nào - eo ơi loạn quá\n",
    "        '''Add a new item into the heap. If there is a duplicate key, ask the user if they want to update the value. If\n",
    "        they do not want to update, add new item as usual because the key of a child in a min heap can be equal or greater\n",
    "        than the key of its parent'''\n",
    "        if item in self._data:\n",
    "            print(f\"Item's key has already existed.\")\n",
    "            update = input('Do you want to update? (Y/N) ')\n",
    "            while update.lower() not in ('y', 'n', 'yes', 'no'):\n",
    "                print(f\"Answer must be YES or NO. Item's key ({item.key}) has already existed.\")\n",
    "                update = input('Do you want to update? (Y/N) ')\n",
    "            if update.lower() in ('y', 'yes'):\n",
    "                addcheck = False\n",
    "        if addcheck:\n",
    "            index = self._size\n",
    "            self._data.append(item)\n",
    "            self._size += 1\n",
    "            while index > 0 and self._data[self._parent(index)] < self._data[index]:\n",
    "                self._swap(self._parent(index), index)\n",
    "                index = self._parent(index)\n",
    "        else:\n",
    "            update_option = []\n",
    "            for i in range(self._size):\n",
    "                if self._data[i] == item:\n",
    "                    update_option.append(i)\n",
    "            print(\"Options to update:\")\n",
    "            option = 1\n",
    "            for i in update_option:\n",
    "                print(f'\\t- Option {option}: {i} - {self._data[i]}')\n",
    "            decision = input('Index of item needed to update: ')\n",
    "            while not decision.isnumeric() or (decision.isnumeric() and int(decision) not in update_option):\n",
    "                print(f'Input must be integer in {update_option}')\n",
    "                decision = input('Index of item needed to update: ')\n",
    "            decision = int(decision)\n",
    "            self._data[decision] = item\n",
    "                    \n",
    "    def get_max(self):\n",
    "        if self.is_empty():\n",
    "            raise Empty('Heap is empty')\n",
    "        return self._data[0]\n",
    "    \n",
    "    def remove_max(self):\n",
    "        if self.is_empty():\n",
    "            raise Empty('Heap is empty')\n",
    "        removed = self._data[0]\n",
    "        if self._size > 1:\n",
    "            self._data[0] = self._data.pop()\n",
    "            self._max_heapify(self._size-1, 0)\n",
    "        self._size -= 1\n",
    "        return removed"
   ]
  },
  {
   "cell_type": "code",
   "execution_count": 11,
   "id": "9a7f5ceb",
   "metadata": {},
   "outputs": [],
   "source": [
    "def get_median(data):\n",
    "    if len(data) == 0:\n",
    "        raise Empty('Array is empty')\n",
    "    elif len(data) == 1:\n",
    "        return data[0]\n",
    "    else:\n",
    "        lower = MaxHeap()\n",
    "        upper = MinHeap()\n",
    "        lower.add(data[0])\n",
    "        for i in range(1, len(data)):\n",
    "            if data[i] <= lower.get_max():\n",
    "                lower.add(data[i])\n",
    "            else:\n",
    "                upper.add(data[i])\n",
    "            if len(lower) - len(upper) > 1:\n",
    "                upper.add(lower.remove_max())\n",
    "            elif len(upper) - len(lower) > 1:\n",
    "                lower.add(upper.remove_min())\n",
    "        if len(lower) == len(upper):\n",
    "            median = (lower.get_max() + upper.get_min())/2\n",
    "        elif len(lower) > len(upper):\n",
    "            median = lower.get_max()\n",
    "        else:\n",
    "            median = upper.get_min()\n",
    "        return median"
   ]
  },
  {
   "cell_type": "code",
   "execution_count": 12,
   "id": "f52ae8b4",
   "metadata": {},
   "outputs": [
    {
     "name": "stdout",
     "output_type": "stream",
     "text": [
      "Median: 4\n"
     ]
    }
   ],
   "source": [
    "array1 = [0, 2, 5, 7, 9, 4, 3]\n",
    "print('Median:', get_median(array1))"
   ]
  },
  {
   "cell_type": "code",
   "execution_count": 13,
   "id": "02de0263",
   "metadata": {},
   "outputs": [
    {
     "name": "stdout",
     "output_type": "stream",
     "text": [
      "Median: 0.25\n"
     ]
    }
   ],
   "source": [
    "array2 = [0.5, -1, 3.25, -0.75, 2.5, 0]\n",
    "print('Median:', get_median(array2))"
   ]
  },
  {
   "cell_type": "markdown",
   "id": "2cbe7646",
   "metadata": {},
   "source": [
    "# Optional Problem: Earning Assets"
   ]
  },
  {
   "cell_type": "code",
   "execution_count": 14,
   "id": "d0beed5c",
   "metadata": {},
   "outputs": [],
   "source": [
    "class ItemExpense:\n",
    "    def __init__(self, name, expense, revenue):\n",
    "        # using expense as key\n",
    "        self.name = name\n",
    "        self.expense = expense\n",
    "        self.profit = revenue - expense\n",
    "        \n",
    "    def __lt__(self, other):\n",
    "        return self.expense < other.expense\n",
    "    \n",
    "    def __gt__(self, other):\n",
    "        return self.expense > other.expense\n",
    "    \n",
    "    def __eq__(self, other):\n",
    "        return self.expense == other.expense\n",
    "    \n",
    "    def __repr__(self):\n",
    "        return f'({self.name}, {self.expense}, {self.profit})'\n",
    "    \n",
    "class ItemProfit:\n",
    "    def __init__(self, name, expense, profit):\n",
    "        # using profit as key\n",
    "        self.name = name\n",
    "        self.expense = expense\n",
    "        self.profit = profit\n",
    "        \n",
    "    def __lt__(self, other):\n",
    "        return self.profit < other.profit\n",
    "    \n",
    "    def __gt__(self, other):\n",
    "        return self.profit > other.profit\n",
    "    \n",
    "    def __eq__(self, other):\n",
    "        return self.profit == other.profit\n",
    "    \n",
    "    def __repr__(self):\n",
    "        return f'({self.name}, {self.profit})'"
   ]
  },
  {
   "cell_type": "code",
   "execution_count": 15,
   "id": "f4fe9d4a",
   "metadata": {},
   "outputs": [],
   "source": [
    "def combo(projects, capital):\n",
    "    satisfied_projects = MaxHeap()\n",
    "    chosen_projects = []\n",
    "    count = 4\n",
    "    while count != 0:\n",
    "        # nếu capital giảm thì sao? Nếu lỗ hoặc hòa vốn\n",
    "        # Không chọn project và cũng không tính vào capital nếu lỗ do đang cần cap max, lỗ làm cap giảm\n",
    "        # Nếu lỗ hoặc hòa vốn, break ra khỏi vòng lặp do capital không tăng lên nên cũng không thể thực hiện các project khác có expense cao hơn\n",
    "        while projects.get_min().expense <= capital:\n",
    "            satisfied = projects.remove_min()\n",
    "            satisfied_projects.add(ItemProfit(satisfied.name, satisfied.expense, satisfied.profit))\n",
    "        if not satisfied_projects.is_empty():\n",
    "            chosen = satisfied_projects.remove_max()\n",
    "            if chosen.profit > 0:\n",
    "                chosen_projects.append(chosen.name)\n",
    "                capital += chosen.profit\n",
    "        count -= 1\n",
    "    return chosen_projects, capital"
   ]
  },
  {
   "cell_type": "code",
   "execution_count": 16,
   "id": "4f92f2c1",
   "metadata": {},
   "outputs": [
    {
     "name": "stdout",
     "output_type": "stream",
     "text": [
      "Four projects chosen: ['TC2', 'TC5', 'TC6', 'TC9']\n",
      "Total capital: 58\n"
     ]
    }
   ],
   "source": [
    "name = ['TC1', 'TC2', 'TC3', 'TC4', 'TC5', 'TC6', 'TC7', 'TC8', 'TC9']\n",
    "expense = [2, 1, 9, 5, 4, 13, 41, 39, 15]\n",
    "revenue = [5, 5, 13, 10, 10, 36, 90, 79, 37]\n",
    "projects = MinHeap()\n",
    "# Một chiếc bug to đùng nma tạm thời chưa ai nhận ra, minheap ko add trùng key đc\n",
    "for i in range(len(name)):\n",
    "    projects.add(ItemExpense(name[i], expense[i], revenue[i]))\n",
    "\n",
    "initial_capital = 3\n",
    "chosen_projects, capital = combo(projects, initial_capital)\n",
    "print('Four projects chosen:', chosen_projects)\n",
    "print('Total capital:', capital)"
   ]
  }
 ],
 "metadata": {
  "kernelspec": {
   "display_name": "Python 3 (ipykernel)",
   "language": "python",
   "name": "python3"
  },
  "language_info": {
   "codemirror_mode": {
    "name": "ipython",
    "version": 3
   },
   "file_extension": ".py",
   "mimetype": "text/x-python",
   "name": "python",
   "nbconvert_exporter": "python",
   "pygments_lexer": "ipython3",
   "version": "3.11.7"
  }
 },
 "nbformat": 4,
 "nbformat_minor": 5
}
