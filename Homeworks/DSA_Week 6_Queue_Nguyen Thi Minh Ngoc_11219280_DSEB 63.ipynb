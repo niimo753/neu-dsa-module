{
 "cells": [
  {
   "cell_type": "markdown",
   "id": "d465b376",
   "metadata": {},
   "source": [
    "# HOMEWORK 6\n",
    "Full Name: Nguyễn Thị Minh Ngọc\n",
    "<br>\n",
    "Class: DSEB 63\n",
    "<br>\n",
    "Student ID: 11219280"
   ]
  },
  {
   "cell_type": "markdown",
   "id": "49075722",
   "metadata": {},
   "source": [
    "# Problem 1: Queue Implementation With Limited Capacity"
   ]
  },
  {
   "cell_type": "code",
   "execution_count": 1,
   "id": "d0233cfd",
   "metadata": {},
   "outputs": [],
   "source": [
    "from queue import Empty, Full"
   ]
  },
  {
   "cell_type": "code",
   "execution_count": 2,
   "id": "4a5f735c",
   "metadata": {},
   "outputs": [],
   "source": [
    "class Empty(Exception):\n",
    "    pass\n",
    "\n",
    "class Full(Exception):\n",
    "    pass"
   ]
  },
  {
   "cell_type": "code",
   "execution_count": 3,
   "id": "b790b487",
   "metadata": {},
   "outputs": [],
   "source": [
    "class SeoYuzuki:\n",
    "    def __ini__(self):\n",
    "        pass\n",
    "    \n",
    "    def cute(self):\n",
    "        pass"
   ]
  },
  {
   "cell_type": "markdown",
   "id": "a838cfb8",
   "metadata": {},
   "source": [
    "### a. Queue"
   ]
  },
  {
   "cell_type": "code",
   "execution_count": 4,
   "id": "e714233d",
   "metadata": {},
   "outputs": [],
   "source": [
    "class Queue:\n",
    "    def __init__(self):\n",
    "        self._data = []\n",
    "        self._size = 0\n",
    "        self._first = 0\n",
    "        self._capacity = 0\n",
    "    \n",
    "    def __len__(self):\n",
    "        return self._size\n",
    "    \n",
    "    def is_empty(self):\n",
    "        return self._size == 0\n",
    "    \n",
    "    def __repr__(self):\n",
    "        check = self._capacity - self._first\n",
    "        if check == self._size:\n",
    "            return str(self._data[self._first::])\n",
    "        elif check > self._size:\n",
    "            return str(self._data[self._first:self._first+self._size:])\n",
    "        else:\n",
    "            temp = self._data[self._first::]\n",
    "            temp.extend(self._data[:self._size-check:])\n",
    "            return str(temp)\n",
    "    \n",
    "    def first(self):\n",
    "        if self.is_empty():\n",
    "            raise Empty(\"Queue is empty\")\n",
    "        return self._data[self._first]\n",
    "    \n",
    "    def dequeue(self):\n",
    "        if self.is_empty():\n",
    "            raise Empty(\"Queue is empty\")\n",
    "        removed = self._data[self._first]\n",
    "        self._first = (self._first+1)%self._capacity\n",
    "        self._size -= 1\n",
    "        return removed\n",
    "    \n",
    "    def enqueue(self, item):\n",
    "        if self._capacity == 0:\n",
    "            self._data = [item]\n",
    "            self._capacity = 1\n",
    "        elif self._size == self._capacity:\n",
    "            self._capacity *= 2\n",
    "            new_queue = [None] * self._capacity\n",
    "            count = 0\n",
    "            for i in range(self._first, self._size):\n",
    "                new_queue[count] = self._data[i]\n",
    "                count += 1\n",
    "            for i in range(self._first):\n",
    "                new_queue[count] = self._data[i]\n",
    "                count += 1\n",
    "            new_queue[count] = item\n",
    "            self._first = 0\n",
    "            self._data = new_queue\n",
    "        else:\n",
    "            new_index = (self._first + self._size)%self._capacity\n",
    "            self._data[new_index] = item\n",
    "        self._size += 1\n",
    "        \n",
    "    def copy(self, source):\n",
    "        self._size, self._capacity = len(source), len(source)\n",
    "        self._data = [None] * self._size\n",
    "        for i in range(self._size):\n",
    "            self._data[i] = source._data[i]"
   ]
  },
  {
   "cell_type": "code",
   "execution_count": 5,
   "id": "74f04ed5",
   "metadata": {},
   "outputs": [
    {
     "name": "stdout",
     "output_type": "stream",
     "text": [
      "[0, 1, 2, 3, 4]\n",
      "[3, 4]\n",
      "[3, 4, 5, 6, 7]\n",
      "3\n",
      "False\n"
     ]
    }
   ],
   "source": [
    "# test with speicific case\n",
    "q = Queue()\n",
    "\n",
    "for i in range(5):\n",
    "    q.enqueue(i)\n",
    "print(q)\n",
    "for i in range(3):\n",
    "    q.dequeue()\n",
    "print(q)\n",
    "for i in range(5, 8):\n",
    "    q.enqueue(i)\n",
    "print(q)\n",
    "print(q.first())\n",
    "print(q.is_empty())"
   ]
  },
  {
   "cell_type": "markdown",
   "id": "d3c0abf7",
   "metadata": {},
   "source": [
    "### b. Queue with fixed capacity"
   ]
  },
  {
   "cell_type": "raw",
   "id": "76e78284",
   "metadata": {},
   "source": [
    "# naive version\n",
    "class QueueMaxLen(Queue):\n",
    "    def __init__(self, capacity = None):\n",
    "        super().__init__()\n",
    "        if capacity is not None:\n",
    "            self._capacity = capacity\n",
    "            self._data = [None] * self._capacity\n",
    "            self._fixed = True\n",
    "        else:\n",
    "            self._fixed = False\n",
    "    \n",
    "    def enqueue(self, item):\n",
    "        if self._fixed:\n",
    "            if self._size == 0:\n",
    "                self._data[0] = item\n",
    "            elif self._size == self._capacity:\n",
    "                raise Empty(\"Queue is full\")\n",
    "            else:\n",
    "                new_index = (self._first + self._size)%self._capacity\n",
    "                self._data[new_index] = item\n",
    "            self._size += 1\n",
    "        else:\n",
    "            if self._capacity == 0:\n",
    "                self._data = [item]\n",
    "                self._capacity = 1\n",
    "            elif self._size == self._capacity:\n",
    "                self._capacity *= 2\n",
    "                new_queue = [None] * self._capacity\n",
    "                count = 0\n",
    "                for i in range(self._first, self._size):\n",
    "                    new_queue[count] = self._data[i]\n",
    "                    count += 1\n",
    "                for i in range(self._first):\n",
    "                    new_queue[count] = self._data[i]\n",
    "                    count += 1\n",
    "                new_queue[count] = item\n",
    "                self._first = 0\n",
    "                self._data = new_queue\n",
    "            else:\n",
    "                new_index = (self._first + self._size)%self._capacity\n",
    "                self._data[new_index] = item\n",
    "            self._size += 1"
   ]
  },
  {
   "cell_type": "raw",
   "id": "29ba6770",
   "metadata": {},
   "source": [
    "# Shorter Version\n",
    "class QueueMaxLen(Queue):\n",
    "    def __init__(self, capacity = None):\n",
    "        super().__init__()\n",
    "        self._limit = capacity\n",
    "    \n",
    "    def enqueue(self, item):\n",
    "        if self._limit is not None:\n",
    "            if len(self) == self._limit:\n",
    "                raise Exception(\"Queue is full\")\n",
    "            else:\n",
    "                super().enqueue(item)   \n",
    "        else:\n",
    "            super().enqueue(item)"
   ]
  },
  {
   "cell_type": "code",
   "execution_count": 6,
   "id": "a9a59a72",
   "metadata": {},
   "outputs": [],
   "source": [
    "# fixed initially\n",
    "class QueueMaxLen(Queue):\n",
    "    def __init__(self, capacity = None):\n",
    "        super().__init__()\n",
    "        self._limit = capacity\n",
    "    \n",
    "    def enqueue(self, item):\n",
    "        if self._limit is not None:\n",
    "            if self._size == 0:\n",
    "                self._data[0] = item\n",
    "            elif self._size == self._limit:\n",
    "                raise Full(\"Queue is full\")\n",
    "            else:\n",
    "                new_index = (self._first + self._size)%self._limit\n",
    "                self._data[new_index] = item\n",
    "            self._size += 1\n",
    "        else:\n",
    "            super().enqueue(item)"
   ]
  },
  {
   "cell_type": "code",
   "execution_count": 7,
   "id": "9c834de0",
   "metadata": {},
   "outputs": [
    {
     "name": "stdout",
     "output_type": "stream",
     "text": [
      "[2, 3]\n"
     ]
    }
   ],
   "source": [
    "q = QueueMaxLen()\n",
    "q.enqueue(1)\n",
    "q.enqueue(2)\n",
    "q.enqueue(3)\n",
    "q.dequeue()\n",
    "print(q)"
   ]
  },
  {
   "cell_type": "markdown",
   "id": "ed2e2649",
   "metadata": {},
   "source": [
    "# Problem 2: QueueByStack and StackByQueue\n",
    "### a. Using Stack to implement Queue"
   ]
  },
  {
   "cell_type": "code",
   "execution_count": 8,
   "id": "1725c6e2",
   "metadata": {},
   "outputs": [],
   "source": [
    "# constructing a stack\n",
    "class Stack:\n",
    "    def __init__(self):\n",
    "        self._stack = []\n",
    "        self._count = 0\n",
    "\n",
    "    def __len__(self):\n",
    "        return self._count\n",
    "\n",
    "    def is_empty(self):\n",
    "        return self._count == 0\n",
    "\n",
    "    def __str__(self):\n",
    "        return str([x for x in self._stack if x is not None])\n",
    "\n",
    "    def push(self, item):\n",
    "        self._count += 1\n",
    "        new_stack = [None] * self._count\n",
    "        for index in range(self._count - 1):\n",
    "            new_stack[index] = self._stack[index]\n",
    "        new_stack[self._count-1] = item\n",
    "        self._stack = new_stack\n",
    "\n",
    "    def top(self):\n",
    "        if self._count == 0:\n",
    "            raise Empty(\"Empty Stack\")\n",
    "        return self._stack[self._count-1]\n",
    "\n",
    "    def pop(self):\n",
    "        if self._count == 0:\n",
    "            raise Empty(\"Empty Stack\")\n",
    "        else:\n",
    "            removed = self._stack[self._count-1]\n",
    "            self._stack[self._count-1] = None\n",
    "            self._count -= 1\n",
    "            return removed\n",
    "        \n",
    "    def move_stack(self, target):\n",
    "        '''Move all elements from one stack to another without changing the order'''\n",
    "        aux = Stack()\n",
    "        while self._count > 0:\n",
    "            aux.push(self.pop())\n",
    "        while len(aux) > 0:\n",
    "            B.push(aux.pop())\n",
    "        return B\n",
    "    \n",
    "    def stack_copy(self, source):\n",
    "        self._count = len(source)\n",
    "        self._stack = [None] * self._count\n",
    "        for i in range(self._count):\n",
    "            self._stack[i] = source._stack[i]\n",
    "            \n",
    "    def reverse(self):\n",
    "        temp = Stack()\n",
    "        while not self.is_empty():\n",
    "            temp.push(self.pop())\n",
    "        self.stack_copy(temp)"
   ]
  },
  {
   "cell_type": "code",
   "execution_count": 9,
   "id": "d5e9ce91",
   "metadata": {},
   "outputs": [],
   "source": [
    "from queue import Empty\n",
    "\n",
    "# Using to Stack - one input and one output\n",
    "class QueueByStack:\n",
    "    def __init__(self):\n",
    "        self._data = Stack()\n",
    "    \n",
    "    def __len__(self):\n",
    "        return len(self._data)\n",
    "    \n",
    "    def is_empty(self):\n",
    "        return self._data.is_empty()\n",
    "    \n",
    "    def __repr__(self):\n",
    "        return str(self._data)\n",
    "    \n",
    "    def first(self):\n",
    "        self._data.reverse()\n",
    "        first = self._data.top()\n",
    "        self._data.reverse()\n",
    "        return first\n",
    "    \n",
    "    def dequeue(self):\n",
    "        self._data.reverse()\n",
    "        removed = self._data.pop()\n",
    "        self._data.reverse()\n",
    "        return removed\n",
    "    \n",
    "    def enqueue(self, item):\n",
    "        self._data.push(item)"
   ]
  },
  {
   "cell_type": "code",
   "execution_count": 10,
   "id": "7408fb36",
   "metadata": {},
   "outputs": [
    {
     "name": "stdout",
     "output_type": "stream",
     "text": [
      "[0, 1, 2, 3, 4]\n",
      "[3, 4]\n",
      "[3, 4, 5, 6, 7]\n",
      "3\n"
     ]
    }
   ],
   "source": [
    "# test with speicific case\n",
    "q = QueueByStack()\n",
    "\n",
    "for i in range(5):\n",
    "    q.enqueue(i)\n",
    "print(q)\n",
    "for i in range(3):\n",
    "    q.dequeue()\n",
    "print(q)\n",
    "for i in range(5, 8):\n",
    "    q.enqueue(i)\n",
    "print(q)\n",
    "print(q.first())"
   ]
  },
  {
   "cell_type": "code",
   "execution_count": 11,
   "id": "2aa459e6",
   "metadata": {},
   "outputs": [],
   "source": [
    "class Stream:\n",
    "    def __init__(self, k=3):\n",
    "        self.k = k\n",
    "        self._data = Queue()\n",
    "        self._sum = 0\n",
    "\n",
    "    def forward(self, item):\n",
    "        self._data.enqueue(item)\n",
    "        self._sum += item\n",
    "        if len(self._data) > 3:\n",
    "            temp = self._data.first()\n",
    "            self._sum -= temp\n",
    "        return self._sum/len(self._data)"
   ]
  },
  {
   "cell_type": "code",
   "execution_count": 12,
   "id": "3bc56a64",
   "metadata": {},
   "outputs": [
    {
     "name": "stdout",
     "output_type": "stream",
     "text": [
      "3.0\n",
      "2.5\n",
      "2.0\n",
      "2.0\n",
      "2.4\n"
     ]
    }
   ],
   "source": [
    "data = Stream()\n",
    "print(data.forward(3))\n",
    "print(data.forward(2))\n",
    "print(data.forward(1))\n",
    "print(data.forward(5))\n",
    "print(data.forward(7))"
   ]
  },
  {
   "cell_type": "markdown",
   "id": "cd33b9d2",
   "metadata": {},
   "source": [
    "### b. Using Queue to implement Stack"
   ]
  },
  {
   "cell_type": "code",
   "execution_count": 13,
   "id": "321b36ae",
   "metadata": {},
   "outputs": [],
   "source": [
    "class StackByQueue:\n",
    "    def __init__(self):\n",
    "        self._data = Queue()\n",
    "    \n",
    "    def __len__(self):\n",
    "        return len(self._data)\n",
    "    \n",
    "    def is_empty(self):\n",
    "        return self._data.is_empty()\n",
    "    \n",
    "    def __repr__(self):\n",
    "        return str(self._data)#self._data.__repr__()\n",
    "    \n",
    "    def push(self, item):\n",
    "        self._data.enqueue(item)\n",
    "\n",
    "    def top(self):\n",
    "        if self._data.is_empty():\n",
    "            raise Empty(\"Stack is empty\")\n",
    "        temp = Queue()\n",
    "        temp.copy(self._data)\n",
    "        while not temp.is_empty():\n",
    "            top = temp.dequeue()\n",
    "        return top\n",
    "\n",
    "    def pop(self):\n",
    "        if self._data.is_empty():\n",
    "            raise Empty(\"Stack is empty\")\n",
    "        temp = Queue()\n",
    "        while len(self._data) > 1:\n",
    "            temp.enqueue(self._data.dequeue())\n",
    "        removed = self._data.dequeue()\n",
    "        self._data.copy(temp)\n",
    "        return removed"
   ]
  },
  {
   "cell_type": "code",
   "execution_count": 14,
   "id": "122824fa",
   "metadata": {},
   "outputs": [
    {
     "name": "stdout",
     "output_type": "stream",
     "text": [
      "[4, 0, 1, 5, 9, 8, 2]\n",
      "2\n",
      "8\n",
      "[4, 0, 1, 5, 9, 8]\n"
     ]
    }
   ],
   "source": [
    "A = StackByQueue()\n",
    "num = [4, 0, 1, 5, 9, 8, 2]\n",
    "for i in num:\n",
    "    A.push(i)\n",
    "print(A)\n",
    "print(A.pop())\n",
    "print(A.top())\n",
    "print(A)"
   ]
  },
  {
   "cell_type": "markdown",
   "id": "0993e653",
   "metadata": {},
   "source": [
    "# Problem 3: Buy Tickets for Blackpink Concert"
   ]
  },
  {
   "cell_type": "code",
   "execution_count": 15,
   "id": "d07d4656",
   "metadata": {},
   "outputs": [],
   "source": [
    "def get_time(tickets, k):\n",
    "    time = k+1\n",
    "    count = len(tickets)-1\n",
    "    while k >= 0:\n",
    "        if tickets.first()-1 != 0:\n",
    "            tickets.enqueue(tickets.dequeue()-1)\n",
    "        else:\n",
    "            if k == 0:\n",
    "                return time\n",
    "            tickets.dequeue()\n",
    "            count -= 1\n",
    "        k -= 1\n",
    "    while len(tickets) > 1:\n",
    "        check = 0\n",
    "        for i in range(count):\n",
    "            if tickets.first()-1 != 0:\n",
    "                tickets.enqueue(tickets.dequeue()-1)\n",
    "            else:\n",
    "                tickets.dequeue()\n",
    "                check += 1\n",
    "        time += (count+1)\n",
    "        if tickets.first()-1 == 0:\n",
    "            return time\n",
    "        else:\n",
    "            tickets.enqueue(tickets.dequeue()-1)\n",
    "        count -= check\n",
    "    return time + tickets.first()"
   ]
  },
  {
   "cell_type": "code",
   "execution_count": 16,
   "id": "4787fe2a",
   "metadata": {},
   "outputs": [
    {
     "name": "stdout",
     "output_type": "stream",
     "text": [
      "6\n"
     ]
    }
   ],
   "source": [
    "tickets_list = [2, 3, 2]\n",
    "tickets = Queue()\n",
    "for i in tickets_list:\n",
    "    tickets.enqueue(i)\n",
    "k = 2\n",
    "print(get_time (tickets, k))"
   ]
  },
  {
   "cell_type": "code",
   "execution_count": 17,
   "id": "ad7fe162",
   "metadata": {},
   "outputs": [
    {
     "name": "stdout",
     "output_type": "stream",
     "text": [
      "8\n"
     ]
    }
   ],
   "source": [
    "tickets_list = [5, 1, 1, 1]\n",
    "tickets = Queue()\n",
    "for i in tickets_list:\n",
    "    tickets.enqueue(i)\n",
    "k = 0\n",
    "print(get_time (tickets, k))"
   ]
  },
  {
   "cell_type": "code",
   "execution_count": 18,
   "id": "e48c6346",
   "metadata": {},
   "outputs": [
    {
     "name": "stdout",
     "output_type": "stream",
     "text": [
      "6\n"
     ]
    }
   ],
   "source": [
    "tickets_list = [5, 1, 2, 1]\n",
    "tickets = Queue()\n",
    "for i in tickets_list:\n",
    "    tickets.enqueue(i)\n",
    "k = 2\n",
    "print(get_time (tickets, k))"
   ]
  },
  {
   "cell_type": "code",
   "execution_count": 19,
   "id": "0c52d76a",
   "metadata": {},
   "outputs": [
    {
     "name": "stdout",
     "output_type": "stream",
     "text": [
      "1\n"
     ]
    }
   ],
   "source": [
    "tickets_list = [1, 2, 3]\n",
    "tickets = Queue()\n",
    "for i in tickets_list:\n",
    "    tickets.enqueue(i)\n",
    "k = 0\n",
    "print(get_time (tickets, k))"
   ]
  },
  {
   "cell_type": "code",
   "execution_count": 20,
   "id": "90b8bfa0",
   "metadata": {},
   "outputs": [
    {
     "name": "stdout",
     "output_type": "stream",
     "text": [
      "13\n"
     ]
    }
   ],
   "source": [
    "tickets_list = [3, 2, 3, 4, 1, 2]\n",
    "tickets = Queue()\n",
    "for i in tickets_list:\n",
    "    tickets.enqueue(i)\n",
    "k = 2\n",
    "print(get_time (tickets, k))"
   ]
  }
 ],
 "metadata": {
  "kernelspec": {
   "display_name": "Python 3 (ipykernel)",
   "language": "python",
   "name": "python3"
  },
  "language_info": {
   "codemirror_mode": {
    "name": "ipython",
    "version": 3
   },
   "file_extension": ".py",
   "mimetype": "text/x-python",
   "name": "python",
   "nbconvert_exporter": "python",
   "pygments_lexer": "ipython3",
   "version": "3.11.7"
  }
 },
 "nbformat": 4,
 "nbformat_minor": 5
}
