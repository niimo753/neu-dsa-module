{
 "cells": [
  {
   "cell_type": "markdown",
   "metadata": {},
   "source": [
    "# HOMEWORK 4\n",
    "Full name: Nguyễn Thị Minh Ngọc\n",
    "<br>\n",
    "Student ID: 11219280\n",
    "<br>\n",
    "Class: DSEB 63"
   ]
  },
  {
   "cell_type": "markdown",
   "metadata": {},
   "source": [
    "# Singly Linked List - Notesss\n",
    "* 2 attributes: head, size\n",
    "* len/is_empty: O(1) time/space\n",
    "* Linked List traversal: vòng lặp: head >>> liên kết.next >>> target\n",
    "* insert: insert head (empty and non-empty), tail (1 case of mid), mid (loop đến trước cái target)\n",
    "* delitem: validation check (check Empty, check IndexError...) - delete head/mid/tail"
   ]
  },
  {
   "cell_type": "markdown",
   "metadata": {},
   "source": [
    "# Problem 1: Constructing A Dynamic Arrays\n",
    "### Implemention - Build functions - No Built-in Functions"
   ]
  },
  {
   "cell_type": "code",
   "execution_count": 1,
   "metadata": {},
   "outputs": [],
   "source": [
    "class LeaderBoard:\n",
    "    def __init__(self, capacity):\n",
    "        self._board = []\n",
    "        self._capacity = capacity\n",
    "\n",
    "    def __len__(self):\n",
    "        return len(self._board)\n",
    "\n",
    "    def get_player(self, player):\n",
    "        for index, value in enumerate(self._board):\n",
    "            if value[0] == player:\n",
    "                return {'player': value, 'rank': index+1}\n",
    "        return \"Not Found\"\n",
    "\n",
    "    def __str__(self):\n",
    "        return str(self._board)\n",
    "\n",
    "    def __delitem__(self, key):\n",
    "        for i in range(key, len(self._board)):\n",
    "            self._board[i-1] = self._board[i]\n",
    "        self._board.pop()\n",
    "\n",
    "    def add(self, new_entry):\n",
    "        if len(self._board) == 0:\n",
    "            self._board.append(new_entry)\n",
    "        else:\n",
    "            check = False\n",
    "            for i in range(len(self._board)):\n",
    "                if new_entry[1] > self._board[i][1]:\n",
    "                    check = True\n",
    "                    if len(self._board) < self._capacity:\n",
    "                        self._board.append(0)\n",
    "                    for k in range(len(self._board)-2, i-1, -1):\n",
    "                        self._board[k+1] = self._board[k]\n",
    "                    self._board[i] = new_entry\n",
    "                    break\n",
    "            if not check and len(self._board) < self._capacity:\n",
    "                self._board.append(new_entry)"
   ]
  },
  {
   "cell_type": "code",
   "execution_count": 2,
   "metadata": {},
   "outputs": [
    {
     "name": "stdout",
     "output_type": "stream",
     "text": [
      "[('Snaky', 30), ('Doggo', 28), ('Catto', 25), ('Racoon', 23), ('Larma', 21), ('Panda', 20), ('Bunny', 19)]\n"
     ]
    }
   ],
   "source": [
    "dsagame = LeaderBoard(7)\n",
    "players = [('Catto', 25), ('Doggo', 28), ('Bunny', 19), ('Panda', 20), \n",
    "           ('Snaky', 30), ('Racoon', 23), ('Larma', 21)]\n",
    "for each_player in players:\n",
    "    dsagame.add(each_player)\n",
    "print(dsagame)"
   ]
  },
  {
   "cell_type": "code",
   "execution_count": 3,
   "metadata": {},
   "outputs": [
    {
     "name": "stdout",
     "output_type": "stream",
     "text": [
      "[('Snaky', 30), ('Doggo', 28), ('Owl', 26), ('Catto', 25), ('Racoon', 23), ('Larma', 21), ('Panda', 20)]\n"
     ]
    }
   ],
   "source": [
    "dsagame.add(('Owl', 26))\n",
    "print(dsagame)"
   ]
  },
  {
   "cell_type": "code",
   "execution_count": 4,
   "metadata": {},
   "outputs": [
    {
     "name": "stdout",
     "output_type": "stream",
     "text": [
      "[('Snaky', 30), ('Doggo', 28), ('Owl', 26), ('Catto', 25), ('Racoon', 23), ('Larma', 21), ('Panda', 20)]\n"
     ]
    }
   ],
   "source": [
    "dsagame.add(('Piggy', 20))\n",
    "print(dsagame)"
   ]
  },
  {
   "cell_type": "code",
   "execution_count": 5,
   "metadata": {},
   "outputs": [
    {
     "name": "stdout",
     "output_type": "stream",
     "text": [
      "{'player': ('Racoon', 23), 'rank': 5}\n",
      "[('Snaky', 30), ('Doggo', 28), ('Owl', 26), ('Catto', 25), ('Larma', 21), ('Panda', 20)]\n"
     ]
    }
   ],
   "source": [
    "# Find player\n",
    "print(dsagame.get_player('Racoon'))\n",
    "\n",
    "# Remove player\n",
    "del dsagame[5]\n",
    "print(dsagame)"
   ]
  },
  {
   "cell_type": "code",
   "execution_count": 6,
   "metadata": {},
   "outputs": [
    {
     "name": "stdout",
     "output_type": "stream",
     "text": [
      "[('Snaky', 30), ('Doggo', 28), ('Owl', 26), ('Catto', 25), ('Larma', 21), ('Panda', 20), ('Piggy', 20)]\n"
     ]
    }
   ],
   "source": [
    "dsagame.add(('Piggy', 20))\n",
    "print(dsagame)"
   ]
  },
  {
   "cell_type": "markdown",
   "metadata": {},
   "source": [
    "# Problem 2: Insertion Sort Algorithm"
   ]
  },
  {
   "cell_type": "code",
   "execution_count": 7,
   "metadata": {},
   "outputs": [],
   "source": [
    "# version 2 - longer\n",
    "def insertion_sort(array):\n",
    "    sort = [array[0]]\n",
    "    count = 1\n",
    "    while count < len(array):\n",
    "        if array[count] < sort[-1]:\n",
    "            count_2 = 0\n",
    "            while count_2 < len(array):\n",
    "                if sort[count_2] > array[count]:\n",
    "                    sort.insert(count_2, array[count])\n",
    "                    break\n",
    "                count_2 += 1\n",
    "        else:\n",
    "            sort.append(array[count])\n",
    "        count += 1\n",
    "    return sort"
   ]
  },
  {
   "cell_type": "code",
   "execution_count": 8,
   "metadata": {},
   "outputs": [],
   "source": [
    "# version 1\n",
    "def insertion_sort(data):\n",
    "    for i in range(len(data)-1):\n",
    "        if data[i] > data[i+1]:\n",
    "            data[i], data[i+1] = data[i+1], data[i]\n",
    "            key = data[i]\n",
    "            sub_i = i\n",
    "            while sub_i > 0:\n",
    "                if data[sub_i-1] > key:\n",
    "                    data[sub_i], data[sub_i-1] =  data[sub_i-1], data[sub_i]\n",
    "                    sub_i -= 1\n",
    "                else:\n",
    "                    break\n",
    "    return data"
   ]
  },
  {
   "cell_type": "code",
   "execution_count": 9,
   "metadata": {},
   "outputs": [],
   "source": [
    "def insertionSort(arr):\n",
    "    for i in range(1, len(arr)):\n",
    "        key = arr[i]\n",
    "        j = i \n",
    "        while j > 0 and key < arr[j-1] :\n",
    "            arr[j] = arr[j-1]\n",
    "            j -= 1\n",
    "        arr[j] = key\n",
    "    return arr"
   ]
  },
  {
   "cell_type": "code",
   "execution_count": 10,
   "metadata": {},
   "outputs": [],
   "source": [
    "def insertion_sort(array):\n",
    "    for i in range(1, len(array)):\n",
    "        key = array[i]\n",
    "        j = i\n",
    "        while j > 0 and array[j-1] > key:\n",
    "            array[j] = array[j-1]\n",
    "            j -= 1\n",
    "        array[j] = key\n",
    "    return array"
   ]
  },
  {
   "cell_type": "code",
   "execution_count": 11,
   "metadata": {},
   "outputs": [
    {
     "name": "stdout",
     "output_type": "stream",
     "text": [
      "[-1, 0, 2, 4, 5, 6, 8, 9, 10]\n",
      "['a', 'b', 'c', 'e', 'f', 'g', 'u', 'w', 'x']\n"
     ]
    }
   ],
   "source": [
    "print(insertion_sort([6, 9, 10, 2, 0, -1, 4, 5, 8]))\n",
    "print(insertion_sort(['f', 'a', 'c', 'g', 'u', 'b', 'w', 'x', 'e']))"
   ]
  },
  {
   "cell_type": "markdown",
   "metadata": {},
   "source": [
    "# Problem 3:  Dynamic Programming"
   ]
  },
  {
   "cell_type": "code",
   "execution_count": 12,
   "metadata": {},
   "outputs": [],
   "source": [
    "import ctypes\n",
    "\n",
    "class DynamicArray:\n",
    "    def __init__(self):\n",
    "        self._n = 0\n",
    "        self._capacity = 1\n",
    "        self._A = self._make_array(self._capacity)\n",
    "        \n",
    "    def __len__(self):\n",
    "        return self._n\n",
    "    \n",
    "    def __getitem__(self, k):\n",
    "        if not 0 <= k <= self._n:\n",
    "            raise IndexError('Invalid Index')\n",
    "        return self._A[k]\n",
    "    \n",
    "    def append(self, obj):\n",
    "        if self._n == self._capacity:\n",
    "            self._resize(2 * self._capacity)\n",
    "        self._A[self._n] = obj\n",
    "        self._n += 1\n",
    "        \n",
    "    def _resize(self, c):\n",
    "        B = self._make_array(c)\n",
    "        for k in range(self._n): \n",
    "            B[k] = self._A[k]\n",
    "        self._A = B\n",
    "        self._capacity = c\n",
    "        \n",
    "    def _make_array(self, c):\n",
    "        return (c*ctypes.py_object)()\n",
    "    \n",
    "    def find_fibo(self, ordinal):\n",
    "        if self._n == 0:\n",
    "            self.append(0)\n",
    "            self.append(1)\n",
    "        for k in range(self._n, ordinal+1):\n",
    "            self.append(self._A[k-1] + self._A[k-2]) \n",
    "        return self._A[ordinal]"
   ]
  },
  {
   "cell_type": "code",
   "execution_count": 13,
   "metadata": {},
   "outputs": [
    {
     "name": "stdout",
     "output_type": "stream",
     "text": [
      "12586269025\n",
      "190392490709135\n",
      "354224848179261915075\n"
     ]
    }
   ],
   "source": [
    "fibo = DynamicArray()\n",
    "print(fibo.find_fibo(50))\n",
    "print(fibo.find_fibo(70))\n",
    "print(fibo.find_fibo(100))"
   ]
  },
  {
   "cell_type": "raw",
   "metadata": {},
   "source": [
    "n - len of dynamic array\n",
    "k - the kth number of fibonacci\n",
    "\n",
    "_make_array >>> Time Complexity = O(1)\n",
    "__getitem__ >>> Time Complexity = O(1)\n",
    "resize >>> Time Complexity = 3 + n = O(n)\n",
    "append >>> Time Complexity = 2 + O(n) = O(n)\n",
    "fibo = O(n) + O(n) + (k - n)*O(n) ~ O(n^2) or less than O(n^2)\n",
    "\n",
    ">>> TIME COMPLEXITY: O(n^2) or less than O(n^2)"
   ]
  },
  {
   "cell_type": "markdown",
   "metadata": {},
   "source": [
    "# Problem 4: Best Time To Buy And Sell Stock"
   ]
  },
  {
   "cell_type": "code",
   "execution_count": 14,
   "metadata": {},
   "outputs": [],
   "source": [
    "def best_profit(price):\n",
    "    buy = price[0]\n",
    "    sell = price[0]\n",
    "    profit = sell - buy\n",
    "    key = 1\n",
    "    while key < len(price):\n",
    "        if price[key] < buy:\n",
    "            buy = price[key]\n",
    "            if key+1 < len(price):\n",
    "                sell = price[key+1]\n",
    "                key += 2\n",
    "                if profit < sell-buy:\n",
    "                    profit = sell-buy\n",
    "            else:\n",
    "                key += 1\n",
    "        else:\n",
    "            sell = price[key]\n",
    "            if profit < sell-buy:\n",
    "                profit = sell-buy\n",
    "            key += 1\n",
    "    if profit > 0:\n",
    "        return profit\n",
    "    else:\n",
    "        return 0"
   ]
  },
  {
   "cell_type": "code",
   "execution_count": 15,
   "metadata": {},
   "outputs": [],
   "source": [
    "# version 2\n",
    "def best_profit(stock):\n",
    "    maxprofit = 0\n",
    "    minprice = stock[0]\n",
    "    for i in range(1, len(stock)):\n",
    "        minprice = min(minprice, price[i])\n",
    "        maxprofit = max(maxprofit, price[i]-minprice)\n",
    "    return maxprofit"
   ]
  },
  {
   "cell_type": "code",
   "execution_count": 16,
   "metadata": {},
   "outputs": [
    {
     "name": "stdout",
     "output_type": "stream",
     "text": [
      "5\n"
     ]
    }
   ],
   "source": [
    "price = [7, 1, 5, 3, 6, 4]\n",
    "print(best_profit(price))"
   ]
  },
  {
   "cell_type": "code",
   "execution_count": 17,
   "metadata": {},
   "outputs": [
    {
     "name": "stdout",
     "output_type": "stream",
     "text": [
      "0\n"
     ]
    }
   ],
   "source": [
    "price = [7, 6, 4, 3, 1]\n",
    "print(best_profit(price))"
   ]
  },
  {
   "cell_type": "markdown",
   "metadata": {},
   "source": [
    "# Problem 5: Caesar Cipher"
   ]
  },
  {
   "cell_type": "code",
   "execution_count": 18,
   "metadata": {},
   "outputs": [],
   "source": [
    "class CaesarCipher:\n",
    "    def __init__(self, shift):\n",
    "        self._shift = shift\n",
    "        alphabet = [chr(i) for i in range(ord('a'), ord('z')+1)]\n",
    "        self._code = {}\n",
    "        for index, value in enumerate(alphabet):\n",
    "            if index+shift < len(alphabet):\n",
    "                self._code[value] = alphabet[index+shift]\n",
    "                self._code[value.upper()] = alphabet[index+shift].upper()\n",
    "            else:\n",
    "                self._code[value] = alphabet[index-26+shift]\n",
    "                self._code[value.upper()] = alphabet[index-26+shift].upper()       \n",
    "                \n",
    "    def encode(self, string):\n",
    "        encoded = ''\n",
    "        for i in string:\n",
    "            if i in self._code:\n",
    "                encoded += self._code[i]\n",
    "            else:\n",
    "                encoded += i\n",
    "        return encoded\n",
    "    \n",
    "    def decode(self, cc_string):\n",
    "        decoded = list(cc_string)\n",
    "        for code in self._code:\n",
    "            for i in range(len(cc_string)):\n",
    "                if cc_string[i] == self._code[code]:\n",
    "                    decoded[i] = code\n",
    "        return ''.join(decoded)"
   ]
  },
  {
   "cell_type": "code",
   "execution_count": 19,
   "metadata": {},
   "outputs": [
    {
     "name": "stdout",
     "output_type": "stream",
     "text": [
      "Lipps Hexe Wgmirgi\n",
      "Pigxyvi 4 Evvec\n"
     ]
    }
   ],
   "source": [
    "code_4 = CaesarCipher(4)\n",
    "data = ['Hello Data Science', 'Lecture 4 Array']\n",
    "for i in data:\n",
    "    print(code_4.encode(i))"
   ]
  },
  {
   "cell_type": "code",
   "execution_count": 20,
   "metadata": {},
   "outputs": [
    {
     "name": "stdout",
     "output_type": "stream",
     "text": [
      "Caesar Cipher a simple method\n",
      "Congratulation, you finally finished this homework\n"
     ]
    }
   ],
   "source": [
    "code_7 = CaesarCipher(7)\n",
    "data = ['Jhlzhy Jpwoly h zptwsl tlaovk', 'Jvunyhabshapvu, fvb mpuhssf mpupzolk aopz ovtldvyr']\n",
    "for i in data:\n",
    "    print(code_7.decode(i))"
   ]
  }
 ],
 "metadata": {
  "kernelspec": {
   "display_name": "Python 3 (ipykernel)",
   "language": "python",
   "name": "python3"
  },
  "language_info": {
   "codemirror_mode": {
    "name": "ipython",
    "version": 3
   },
   "file_extension": ".py",
   "mimetype": "text/x-python",
   "name": "python",
   "nbconvert_exporter": "python",
   "pygments_lexer": "ipython3",
   "version": "3.11.7"
  }
 },
 "nbformat": 4,
 "nbformat_minor": 1
}
