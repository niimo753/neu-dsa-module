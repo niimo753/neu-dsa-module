{
 "cells": [
  {
   "cell_type": "markdown",
   "id": "81632575",
   "metadata": {},
   "source": [
    "# HOMEWORK 9\n",
    "Full name: Nguyễn Thị Minh Ngọc\n",
    "<br>\n",
    "Class: DSEB 63\n",
    "<br>\n",
    "Student ID: 11219280"
   ]
  },
  {
   "cell_type": "markdown",
   "id": "bd9ee45f",
   "metadata": {},
   "source": [
    "# Problem 1"
   ]
  },
  {
   "cell_type": "code",
   "execution_count": 1,
   "id": "baf226ba",
   "metadata": {},
   "outputs": [],
   "source": [
    "class Queue:\n",
    "    def __init__(self):\n",
    "        self._data = []\n",
    "        self._size = 0\n",
    "        self._first = 0\n",
    "        self._capacity = 0\n",
    "    \n",
    "    def __len__(self):\n",
    "        return self._size\n",
    "    \n",
    "    def is_empty(self):\n",
    "        return self._size == 0\n",
    "    \n",
    "    def __repr__(self):\n",
    "        check = self._capacity - self._first\n",
    "        if check == self._size:\n",
    "            return str(self._data[self._first::])\n",
    "        elif check > self._size:\n",
    "            return str(self._data[self._first:self._first+self._size:])\n",
    "        else:\n",
    "            temp = self._data[self._first::]\n",
    "            temp.extend(self._data[:self._size-check:])\n",
    "            return str(temp)\n",
    "    \n",
    "    def first(self):\n",
    "        if self.is_empty():\n",
    "            raise Empty(\"Queue is empty\")\n",
    "        return self._data[self._first]\n",
    "    \n",
    "    def dequeue(self):\n",
    "        if self.is_empty():\n",
    "            raise Empty(\"Queue is empty\")\n",
    "        removed = self._data[self._first]\n",
    "        self._first = (self._first+1)%self._capacity\n",
    "        self._size -= 1\n",
    "        return removed\n",
    "    \n",
    "    def enqueue(self, item):\n",
    "        if self._capacity == 0:\n",
    "            self._data = [item]\n",
    "            self._capacity = 1\n",
    "        elif self._size == self._capacity:\n",
    "            self._capacity *= 2\n",
    "            new_queue = [None] * self._capacity\n",
    "            count = 0\n",
    "            for i in range(self._first, self._size):\n",
    "                new_queue[count] = self._data[i]\n",
    "                count += 1\n",
    "            for i in range(self._first):\n",
    "                new_queue[count] = self._data[i]\n",
    "                count += 1\n",
    "            new_queue[count] = item\n",
    "            self._first = 0\n",
    "            self._data = new_queue\n",
    "        else:\n",
    "            new_index = (self._first + self._size)%self._capacity\n",
    "            self._data[new_index] = item\n",
    "        self._size += 1\n",
    "        \n",
    "    def copy(self, source):\n",
    "        self._size, self._capacity = len(source), len(source)\n",
    "        self._data = [None] * self._size\n",
    "        for i in range(self._size):\n",
    "            self._data[i] = source._data[i]"
   ]
  },
  {
   "cell_type": "code",
   "execution_count": 2,
   "id": "5ddf3e6b",
   "metadata": {},
   "outputs": [],
   "source": [
    "class Node:\n",
    "    def __init__(self, value, parent=None, left=None, right=None):\n",
    "        self.value = value\n",
    "        self.parent = parent\n",
    "        self.left = left\n",
    "        self.right = right\n",
    "        \n",
    "    def __repr__(self):\n",
    "        return str(self.value)\n",
    "    \n",
    "class BinaryTree:\n",
    "    def __init__(self, root):\n",
    "        self.root = root\n",
    "    \n",
    "    def add_left(self, parent, child):\n",
    "        if parent.left:\n",
    "            raise Exception(\"The node already has left child.\")\n",
    "        parent.left = child\n",
    "        child.parent = parent\n",
    "    \n",
    "    def add_right(self, parent, child):\n",
    "        if parent.right:\n",
    "            raise Exception(\"The node already has right child.\")\n",
    "        parent.right = child\n",
    "        child.parent = parent\n",
    "    \n",
    "    def is_root(self, node):\n",
    "        '''Check if a node is a root'''\n",
    "        return node.parent==None\n",
    "    \n",
    "    def is_leaf(self, node):\n",
    "        '''Check if a node is a leaf'''\n",
    "        return node.right==None and node.left==None\n",
    "    \n",
    "    def is_parent(self, node): # equal to check_ancestor\n",
    "        '''Check if a node is parent of other node'''\n",
    "        return node.right!=None or node.left!=None\n",
    "    \n",
    "    def check_ancestor(self, parent, child):\n",
    "        return (parent.left == child or parent.right == child) and child.parent == parent\n",
    "    \n",
    "    def depth(self, node):\n",
    "        count = 0\n",
    "        while node:\n",
    "            if node.parent:\n",
    "                count += 1\n",
    "            node = node.parent\n",
    "        return count\n",
    "    \n",
    "    def height(self, node, count = 0):\n",
    "        if node:\n",
    "            if self.is_parent(node):\n",
    "                count += 1\n",
    "                if node.left and node.right:\n",
    "                    return max(self.height(node.left, count), self.height(node.right, count))\n",
    "                elif node.left:\n",
    "                    return self.height(node.left, count)\n",
    "                else:\n",
    "                    return self.height(node.right, count)\n",
    "        return count\n",
    "    \n",
    "    def __repr__(self):\n",
    "        print(\"Root:\", end=' ')\n",
    "        node = self.root\n",
    "        self.display(node)\n",
    "        return ''\n",
    "        \n",
    "    def display(self, node, loop=1):\n",
    "        if node:\n",
    "            print(f'{node}')\n",
    "            if node.right:\n",
    "                print(\"  \"*loop, end='')\n",
    "                print('>> R:', end='')\n",
    "                self.display(node.right, loop+1)\n",
    "            if node.left:\n",
    "                print(\"  \"*loop, end='')\n",
    "                print('>> L:', end='')\n",
    "                self.display(node.left, loop+1)\n",
    "        \n",
    "    def get_node(self, value):\n",
    "        '''Get all the nodes with the given value'''\n",
    "        node = self.root\n",
    "        listnode = []\n",
    "        def gv_inside(value, node, listnode):\n",
    "            if node:\n",
    "                if node.value == value:\n",
    "                    listnode.append(node)\n",
    "                if node.right:\n",
    "                    gv_inside(value, node.right, listnode)\n",
    "                if node.left:\n",
    "                    gv_inside(value, node.left, listnode)\n",
    "            return\n",
    "        gv_inside(value, node, listnode)\n",
    "        return listnode\n",
    "    \n",
    "    # check: if root >>> make sure là có node\n",
    "    def preorder(self, root):\n",
    "        print(root, end = ' ')\n",
    "        if root.left:\n",
    "            self.preorder(root.left)\n",
    "        if root.right:\n",
    "            self.preorder(root.right)\n",
    "            \n",
    "    def postorder(self, root):\n",
    "        if root.left:\n",
    "            self.postorder(root.left)\n",
    "        if root.right:\n",
    "            self.postorder(root.right)\n",
    "        print(root, end = ' ')\n",
    "        \n",
    "    def breadth_first(self, root):\n",
    "        q = Queue()\n",
    "        q.enqueue(root)\n",
    "        while not q.is_empty():\n",
    "            if q.first().left:\n",
    "                q.enqueue(q.first().left)\n",
    "            if q.first().right:\n",
    "                q.enqueue(q.first().right)\n",
    "            print(q.dequeue(), end = ' ')\n",
    "            \n",
    "    def inorder(self, root):\n",
    "        if root.left:\n",
    "            self.inorder(root.left)\n",
    "        print(root, end = ' ')\n",
    "        if root.right:\n",
    "            self.inorder(root.right)\n",
    "            \n",
    "    # Problem 3\n",
    "    def special_traversal(self, root):\n",
    "        nodes = Queue()\n",
    "        nodes.enqueue(root)\n",
    "        while root:\n",
    "            if root.right:\n",
    "                nodes.enqueue(root.right)\n",
    "            root = root.right\n",
    "        count = len(nodes)\n",
    "        while not nodes.is_empty():\n",
    "            if count == 0:\n",
    "                count = len(nodes)\n",
    "            if nodes.first().left:\n",
    "                temp = nodes.first().left\n",
    "                nodes.enqueue(temp)\n",
    "                while temp:\n",
    "                    if temp.right:\n",
    "                        nodes.enqueue(temp.right)\n",
    "                    temp = temp.right\n",
    "            print(nodes.dequeue(), end=' ')\n",
    "            count -= 1\n",
    "            if count == 0:\n",
    "                print('\\n', end='')"
   ]
  },
  {
   "cell_type": "code",
   "execution_count": 3,
   "id": "62569411",
   "metadata": {},
   "outputs": [],
   "source": [
    "node1 = Node(1)\n",
    "node2 = Node(2)\n",
    "node3 = Node(3)\n",
    "node4 = Node(4)\n",
    "node5 = Node(5)\n",
    "node6 = Node(6)\n",
    "node7 = Node(7)\n",
    "node8 = Node(8)\n",
    "node9 = Node(9)\n",
    "node10 = Node(10)\n",
    "node11 = Node(11)\n",
    "node12 = Node(12)\n",
    "node13 = Node(13)\n",
    "node14 = Node(14)\n",
    "node15 = Node(15)\n",
    "node16 = Node(16)\n",
    "node17 = Node(17)\n",
    "node18 = Node(18)\n",
    "node19 = Node(19)\n",
    "node20 = Node(20)\n",
    "node21 = Node(21)"
   ]
  },
  {
   "cell_type": "code",
   "execution_count": 4,
   "id": "b3452228",
   "metadata": {},
   "outputs": [],
   "source": [
    "# Create a tree\n",
    "bt = BinaryTree(node1)\n",
    "bt.add_left(node1, node2)\n",
    "bt.add_right(node1, node3)\n",
    "bt.add_left(node2, node4)\n",
    "bt.add_right(node2, node5)\n",
    "bt.add_left(node3, node6)\n",
    "bt.add_right(node3, node7)\n",
    "bt.add_left(node4, node8)\n",
    "bt.add_right(node4, node9)\n",
    "bt.add_left(node5, node10)\n",
    "bt.add_right(node5, node11)\n",
    "bt.add_left(node6, node12)\n",
    "bt.add_right(node6, node13)\n",
    "bt.add_left(node7, node14)\n",
    "bt.add_right(node7, node15)\n",
    "bt.add_left(node11, node16)\n",
    "bt.add_right(node11, node17)\n",
    "bt.add_left(node14, node18)\n",
    "bt.add_right(node14, node19)\n",
    "bt.add_left(node17, node20)\n",
    "bt.add_left(node19, node21)"
   ]
  },
  {
   "cell_type": "code",
   "execution_count": 5,
   "id": "a3104cde",
   "metadata": {
    "scrolled": true
   },
   "outputs": [
    {
     "name": "stdout",
     "output_type": "stream",
     "text": [
      "Preorder Traversal: 1 2 4 8 9 5 10 11 16 17 20 3 6 12 13 7 14 18 19 21 15 "
     ]
    }
   ],
   "source": [
    "print('Preorder Traversal:', end=' ')\n",
    "bt.preorder(node1)"
   ]
  },
  {
   "cell_type": "code",
   "execution_count": 6,
   "id": "eec40167",
   "metadata": {},
   "outputs": [
    {
     "name": "stdout",
     "output_type": "stream",
     "text": [
      "Postorder Traversal: 8 9 4 10 16 20 17 11 5 2 12 13 6 18 21 19 14 15 7 3 1 "
     ]
    }
   ],
   "source": [
    "print('Postorder Traversal:', end=' ')\n",
    "bt.postorder(node1)"
   ]
  },
  {
   "cell_type": "code",
   "execution_count": 7,
   "id": "81ec46b8",
   "metadata": {},
   "outputs": [
    {
     "name": "stdout",
     "output_type": "stream",
     "text": [
      "Breadth - First Tree Traversal: 1 2 3 4 5 6 7 8 9 10 11 12 13 14 15 16 17 18 19 20 21 "
     ]
    }
   ],
   "source": [
    "print('Breadth - First Tree Traversal:', end=' ')\n",
    "bt.breadth_first(node1)"
   ]
  },
  {
   "cell_type": "code",
   "execution_count": 8,
   "id": "b13624ff",
   "metadata": {},
   "outputs": [
    {
     "name": "stdout",
     "output_type": "stream",
     "text": [
      "Inorder Traversal: 8 4 9 2 10 5 16 11 20 17 1 12 6 13 3 18 14 21 19 7 15 "
     ]
    }
   ],
   "source": [
    "print('Inorder Traversal:', end=' ')\n",
    "bt.inorder(node1)"
   ]
  },
  {
   "cell_type": "markdown",
   "id": "ef1ae2a5",
   "metadata": {},
   "source": [
    "# Problem 2:"
   ]
  },
  {
   "cell_type": "markdown",
   "id": "8c13c66c",
   "metadata": {},
   "source": [
    "### 2.1 - Write a function based on any tree traversal algorithm that you learned to print out the total number of nodes in a tree"
   ]
  },
  {
   "cell_type": "code",
   "execution_count": 9,
   "id": "4f02c0eb",
   "metadata": {},
   "outputs": [],
   "source": [
    "def count_node_inside(root: Node, count=0):\n",
    "    count += 1\n",
    "    if root.left:\n",
    "        count = count_node_inside(root.left, count)\n",
    "    if root.right:\n",
    "        count = count_node_inside(root.right, count)\n",
    "    return count\n",
    "\n",
    "def count_node(bt: BinaryTree):\n",
    "    return count_node_inside(bt.root)"
   ]
  },
  {
   "cell_type": "code",
   "execution_count": 10,
   "id": "74b2af33",
   "metadata": {},
   "outputs": [
    {
     "name": "stdout",
     "output_type": "stream",
     "text": [
      "Number of nodes in tree: 21\n"
     ]
    }
   ],
   "source": [
    "print('Number of nodes in tree:', count_node(bt))"
   ]
  },
  {
   "cell_type": "markdown",
   "id": "9fc95a09",
   "metadata": {},
   "source": [
    "### 2.2 - Write a function based on any tree traversal algorithm that you learned to print out number of nodes that has the value smaller than a given number (for example: 9).\n"
   ]
  },
  {
   "cell_type": "code",
   "execution_count": 11,
   "id": "1638e2a6",
   "metadata": {},
   "outputs": [],
   "source": [
    "def count_smaller_inside(root: Node, number, count=0):\n",
    "    if root.left:\n",
    "        count = count_smaller_inside(root.left, number, count)\n",
    "    if root.right:\n",
    "        count = count_smaller_inside(root.right, number, count)\n",
    "    if root.value < number:\n",
    "        count += 1\n",
    "    return count\n",
    "\n",
    "def count_smaller(bt: BinaryTree, number):\n",
    "    return count_smaller_inside(bt.root, number)"
   ]
  },
  {
   "cell_type": "code",
   "execution_count": 12,
   "id": "6a104e25",
   "metadata": {},
   "outputs": [
    {
     "name": "stdout",
     "output_type": "stream",
     "text": [
      "Number of nodes smaller than 9: 8\n"
     ]
    }
   ],
   "source": [
    "print('Number of nodes smaller than 9:', count_smaller(bt, 9))"
   ]
  },
  {
   "cell_type": "markdown",
   "id": "e1a66b6d",
   "metadata": {},
   "source": [
    "### 2.3 - Write a function based on Breadth - First traversal algorithm to calculate the sum of all elements in the tree."
   ]
  },
  {
   "cell_type": "code",
   "execution_count": 13,
   "id": "a3615f16",
   "metadata": {},
   "outputs": [],
   "source": [
    "def sum_node_inside(root: Node):\n",
    "    total = 0\n",
    "    nodes = Queue()\n",
    "    nodes.enqueue(root)\n",
    "    while not nodes.is_empty():\n",
    "        if nodes.first().left:\n",
    "            nodes.enqueue(nodes.first().left)\n",
    "        if nodes.first().right:\n",
    "            nodes.enqueue(nodes.first().right)\n",
    "        total += nodes.dequeue().value\n",
    "    return total\n",
    "\n",
    "def sum_node(bt: BinaryTree):\n",
    "    return sum_node_inside(bt.root)"
   ]
  },
  {
   "cell_type": "code",
   "execution_count": 14,
   "id": "c397724b",
   "metadata": {},
   "outputs": [
    {
     "name": "stdout",
     "output_type": "stream",
     "text": [
      "Sum of all nodes: 231\n"
     ]
    }
   ],
   "source": [
    "print('Sum of all nodes:', sum_node_inside(node1))"
   ]
  },
  {
   "cell_type": "markdown",
   "id": "a1bcc09d",
   "metadata": {},
   "source": [
    "### 2.4 - Write a function based on any tree traversal algorithm that you learned to print out the depth of the tree."
   ]
  },
  {
   "cell_type": "code",
   "execution_count": 15,
   "id": "391f68eb",
   "metadata": {},
   "outputs": [],
   "source": [
    "def depth_inside(root: Node):\n",
    "    nodes = Queue()\n",
    "    nodes.enqueue(root)\n",
    "    count = 1\n",
    "    depth = 0\n",
    "    while not nodes.is_empty():\n",
    "        if count == 0:\n",
    "            count = len(nodes)\n",
    "            depth += 1\n",
    "        if nodes.first().left:\n",
    "            nodes.enqueue(nodes.first().left)\n",
    "        if nodes.first().right:\n",
    "            nodes.enqueue(nodes.first().right)\n",
    "        nodes.dequeue()\n",
    "        count -= 1\n",
    "    return depth\n",
    "\n",
    "def depth(bt: BinaryTree):\n",
    "    return depth_inside(bt.root)"
   ]
  },
  {
   "cell_type": "code",
   "execution_count": 16,
   "id": "aff115cf",
   "metadata": {},
   "outputs": [
    {
     "name": "stdout",
     "output_type": "stream",
     "text": [
      "Depth of tree: 5\n"
     ]
    }
   ],
   "source": [
    "print('Depth of tree:', depth(bt))"
   ]
  },
  {
   "cell_type": "markdown",
   "id": "dc495fae",
   "metadata": {},
   "source": [
    "# Problem 3:"
   ]
  },
  {
   "cell_type": "code",
   "execution_count": 17,
   "id": "5e2028dc",
   "metadata": {},
   "outputs": [],
   "source": [
    "node3_1 = Node(8)\n",
    "node3_2 = Node(3)\n",
    "node3_3 = Node(10)\n",
    "node3_4 = Node(1)\n",
    "node3_5 = Node(6)\n",
    "node3_6 = Node(14)\n",
    "node3_7 = Node(4)\n",
    "node3_8 = Node(7)\n",
    "node3_9 = Node(13)"
   ]
  },
  {
   "cell_type": "code",
   "execution_count": 18,
   "id": "85a74ab5",
   "metadata": {},
   "outputs": [],
   "source": [
    "bt3 = BinaryTree(node3_1)\n",
    "bt3.add_left(node3_1, node3_2)\n",
    "bt3.add_right(node3_1, node3_3)\n",
    "bt3.add_left(node3_2, node3_4)\n",
    "bt3.add_left(node3_3, node3_5)\n",
    "bt3.add_right(node3_3, node3_6)\n",
    "bt3.add_left(node3_5, node3_7)\n",
    "bt3.add_right(node3_5, node3_8)\n",
    "bt3.add_left(node3_6, node3_9)"
   ]
  },
  {
   "cell_type": "code",
   "execution_count": 19,
   "id": "b32d0ed2",
   "metadata": {},
   "outputs": [
    {
     "name": "stdout",
     "output_type": "stream",
     "text": [
      "Special Traversal of binary tree:\n",
      "8 10 14 \n",
      "3 6 7 13 \n",
      "1 4 \n"
     ]
    }
   ],
   "source": [
    "print('Special Traversal of binary tree:')\n",
    "bt3.special_traversal(node3_1)"
   ]
  }
 ],
 "metadata": {
  "kernelspec": {
   "display_name": "Python 3 (ipykernel)",
   "language": "python",
   "name": "python3"
  },
  "language_info": {
   "codemirror_mode": {
    "name": "ipython",
    "version": 3
   },
   "file_extension": ".py",
   "mimetype": "text/x-python",
   "name": "python",
   "nbconvert_exporter": "python",
   "pygments_lexer": "ipython3",
   "version": "3.11.7"
  }
 },
 "nbformat": 4,
 "nbformat_minor": 5
}
