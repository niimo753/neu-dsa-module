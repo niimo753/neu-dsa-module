{
 "cells": [
  {
   "cell_type": "markdown",
   "id": "075567f5",
   "metadata": {},
   "source": [
    "# HOMEWORK 8\n",
    "Full Name: Nguyễn Thị Minh Ngọc\n",
    "<br>\n",
    "Student ID: 11219280\n",
    "<br>\n",
    "Class: DSEB 63"
   ]
  },
  {
   "cell_type": "markdown",
   "id": "4dbf7040",
   "metadata": {},
   "source": [
    "# Problem 1: BinaryTree Class\n",
    "### a. Implemention"
   ]
  },
  {
   "cell_type": "code",
   "execution_count": 1,
   "id": "0e80a3b7",
   "metadata": {},
   "outputs": [],
   "source": [
    "class Node:\n",
    "    def __init__(self, value, parent=None, left=None, right=None):\n",
    "        self.value = value\n",
    "        self.parent = parent\n",
    "        self.left = left\n",
    "        self.right = right\n",
    "        \n",
    "    def __repr__(self):\n",
    "        return str(self.value)\n",
    "    \n",
    "class BinaryTree:\n",
    "    def __init__(self, root):\n",
    "        self.root = root\n",
    "    \n",
    "    def add_left(self, parent, child):\n",
    "        if parent.left:\n",
    "            raise Exception(\"The node already has left child.\")\n",
    "        parent.left = child\n",
    "        child.parent = parent\n",
    "    \n",
    "    def add_right(self, parent, child):\n",
    "        if parent.right:\n",
    "            raise Exception(\"The node already has right child.\")\n",
    "        parent.right = child\n",
    "        child.parent = parent\n",
    "    \n",
    "    def is_root(self, node):\n",
    "        '''Check if a node is a root'''\n",
    "        return node.parent==None\n",
    "    \n",
    "    def is_leaf(self, node):\n",
    "        '''Check if a node is a leaf'''\n",
    "        return node.right==None and node.left==None\n",
    "    \n",
    "    def is_parent(self, node): # equal to check_ancestor\n",
    "        '''Check if a node is parent of other node'''\n",
    "        return node.right!=None or node.left!=None\n",
    "    \n",
    "    def depth(self, node):\n",
    "        count = 0\n",
    "        while node:\n",
    "            if node.parent:\n",
    "                count += 1\n",
    "            node = node.parent\n",
    "        return count\n",
    "    \n",
    "    def height(self, node, count = 0):\n",
    "        if node:\n",
    "            if self.is_parent(node):\n",
    "                count += 1\n",
    "                if node.left and node.right:\n",
    "                    return max(self.height(node.left, count), self.height(node.right, count))\n",
    "                elif node.left:\n",
    "                    return self.height(node.left, count)\n",
    "                else:\n",
    "                    return self.height(node.right, count)\n",
    "        return count\n",
    "    \n",
    "    def __repr__(self):\n",
    "        print(\"Root:\", end=' ')\n",
    "        node = self.root\n",
    "        self.display(node)\n",
    "        return ''\n",
    "        \n",
    "    def display(self, node, loop=1):\n",
    "        if node:\n",
    "            print(f'{node}')\n",
    "            if node.right:\n",
    "                print(\"  \"*loop, end='')\n",
    "                print('>> R:', end='')\n",
    "                self.display(node.right, loop+1)\n",
    "            if node.left:\n",
    "                print(\"  \"*loop, end='')\n",
    "                print('>> L:', end='')\n",
    "                self.display(node.left, loop+1)\n",
    "        \n",
    "    def get_node(self, value):\n",
    "        '''Get all the nodes with the given value'''\n",
    "        node = self.root\n",
    "        listnode = []\n",
    "        def gv_inside(value, node, listnode):\n",
    "            if node:\n",
    "                if node.value == value:\n",
    "                    listnode.append(node)\n",
    "                if node.right:\n",
    "                    gv_inside(value, node.right, listnode)\n",
    "                if node.left:\n",
    "                    gv_inside(value, node.left, listnode)\n",
    "            return\n",
    "        gv_inside(value, node, listnode)\n",
    "        return listnode"
   ]
  },
  {
   "cell_type": "markdown",
   "id": "0cdc7372",
   "metadata": {},
   "source": [
    "### b. Check the implementation"
   ]
  },
  {
   "cell_type": "code",
   "execution_count": 2,
   "id": "287dbe6c",
   "metadata": {},
   "outputs": [],
   "source": [
    "node1 = Node(1)\n",
    "node2 = Node(2)\n",
    "node3 = Node(3)\n",
    "node4 = Node(4)\n",
    "node5 = Node(5)\n",
    "node6 = Node(6)\n",
    "node7 = Node(7)\n",
    "node8 = Node(8)\n",
    "node9 = Node(9)"
   ]
  },
  {
   "cell_type": "code",
   "execution_count": 3,
   "id": "49e6c6f2",
   "metadata": {},
   "outputs": [],
   "source": [
    "# Create a tree\n",
    "bt = BinaryTree(node1)\n",
    "bt.add_left(node1, node2)\n",
    "bt.add_right(node1, node3)\n",
    "bt.add_left(node2, node4)\n",
    "bt.add_right(node2, node5)\n",
    "bt.add_left(node5, node7)\n",
    "bt.add_right(node5, node8)\n",
    "bt.add_left(node3, node6)\n",
    "bt.add_left(node6, node9)"
   ]
  },
  {
   "cell_type": "code",
   "execution_count": 4,
   "id": "f87837a2",
   "metadata": {},
   "outputs": [
    {
     "name": "stdout",
     "output_type": "stream",
     "text": [
      "Is node 1 root? True\n",
      "Is node 2 root? False\n"
     ]
    }
   ],
   "source": [
    "# Check for is_root() method\n",
    "print(\"Is node 1 root?\", bt.is_root(node1))\n",
    "print(\"Is node 2 root?\", bt.is_root(node2))"
   ]
  },
  {
   "cell_type": "code",
   "execution_count": 5,
   "id": "07906593",
   "metadata": {},
   "outputs": [
    {
     "name": "stdout",
     "output_type": "stream",
     "text": [
      "Is node 4 leaf? True\n",
      "Is node 2 leaf? False\n"
     ]
    }
   ],
   "source": [
    "# Check for is_leaf() method\n",
    "print(\"Is node 4 leaf?\", bt.is_leaf(node4))\n",
    "print(\"Is node 2 leaf?\", bt.is_leaf(node2))"
   ]
  },
  {
   "cell_type": "code",
   "execution_count": 6,
   "id": "94b3b16b",
   "metadata": {},
   "outputs": [
    {
     "name": "stdout",
     "output_type": "stream",
     "text": [
      "Is node 4 parent? False\n",
      "Is node 2 parent? True\n"
     ]
    }
   ],
   "source": [
    "# Check for is_parent() (equal to check_ancestor) method\n",
    "print(\"Is node 4 parent?\", bt.is_parent(node4))\n",
    "print(\"Is node 2 parent?\", bt.is_parent(node2))"
   ]
  },
  {
   "cell_type": "code",
   "execution_count": 7,
   "id": "f0a21a9a",
   "metadata": {},
   "outputs": [
    {
     "name": "stdout",
     "output_type": "stream",
     "text": [
      "Number of node with value 5 in tree: 1\n",
      "\n",
      "Height of node 5: 1\n",
      "Depth of node 5: 2\n"
     ]
    }
   ],
   "source": [
    "# Get the list of nodes with value 5 (in case of not knowing the node)\n",
    "node_found = bt.get_node(5)\n",
    "print(\"Number of node with value 5 in tree:\", len(node_found), end = '\\n\\n')\n",
    "\n",
    "# Find the height and depth of node 5\n",
    "for i in range(len(node_found)):\n",
    "    print(\"Height of node 5:\", bt.height(node_found[i]))\n",
    "    print(\"Depth of node 5:\", bt.depth(node_found[i]))"
   ]
  },
  {
   "cell_type": "code",
   "execution_count": 8,
   "id": "ea58f0a3",
   "metadata": {},
   "outputs": [
    {
     "name": "stdout",
     "output_type": "stream",
     "text": [
      "Height of node 5: 1\n",
      "Depth of node 5: 2\n"
     ]
    }
   ],
   "source": [
    "# Find the height and depth of node 5 (in case of knowing the node)\n",
    "print(\"Height of node 5:\", bt.height(node5))\n",
    "print(\"Depth of node 5:\", bt.depth(node5))"
   ]
  },
  {
   "cell_type": "code",
   "execution_count": 9,
   "id": "844676b4",
   "metadata": {},
   "outputs": [
    {
     "name": "stdout",
     "output_type": "stream",
     "text": [
      "Root: 1\n",
      "  >> R:3\n",
      "    >> L:6\n",
      "      >> L:9\n",
      "  >> L:2\n",
      "    >> R:5\n",
      "      >> R:8\n",
      "      >> L:7\n",
      "    >> L:4\n",
      "\n"
     ]
    }
   ],
   "source": [
    "# Using overloading to print out all elements in the tree\n",
    "print(bt)"
   ]
  },
  {
   "cell_type": "markdown",
   "id": "c4f35229",
   "metadata": {},
   "source": [
    "# Problem 2: Leaf Nodes"
   ]
  },
  {
   "cell_type": "code",
   "execution_count": 10,
   "id": "76da2195",
   "metadata": {},
   "outputs": [],
   "source": [
    "def sumrl_inside(bt, node, sumrl=0):\n",
    "    if node:\n",
    "        if node.right and node.left:\n",
    "            if bt.is_leaf(node.right):\n",
    "                return sumrl_inside(bt, node.right, sumrl+node.right.value) + sumrl_inside(bt, node.left, sumrl)\n",
    "            else:\n",
    "                return sumrl_inside(bt, node.right, sumrl) + sumrl_inside(bt, node.left, sumrl)\n",
    "        elif node.right:\n",
    "            if bt.is_leaf(node.right):\n",
    "                return sumrl_inside(bt, node.right, sumrl+node.right.value)\n",
    "            else:\n",
    "                return sumrl_inside(bt, node.right, sumrl)\n",
    "        else:\n",
    "            return sumrl_inside(bt, node.left, sumrl)\n",
    "    return sumrl\n",
    "\n",
    "def sum_rleafs(bt):\n",
    "    node = bt.root\n",
    "    return sumrl_inside(bt, node)"
   ]
  },
  {
   "cell_type": "markdown",
   "id": "cfeabce2",
   "metadata": {},
   "source": [
    "### Example 1:"
   ]
  },
  {
   "cell_type": "code",
   "execution_count": 11,
   "id": "4677d69c",
   "metadata": {},
   "outputs": [],
   "source": [
    "node1_2 = Node(1)\n",
    "node2_2 = Node(2)\n",
    "node3_2 = Node(3)\n",
    "node4_2 = Node(4)\n",
    "node5_2 = Node(5)\n",
    "node6_2 = Node(6)"
   ]
  },
  {
   "cell_type": "code",
   "execution_count": 12,
   "id": "00a8172b",
   "metadata": {},
   "outputs": [],
   "source": [
    "bt2 = BinaryTree(node1_2)\n",
    "bt2.add_left(node1_2, node2_2)\n",
    "bt2.add_left(node2_2, node4_2)\n",
    "bt2.add_right(node1_2, node3_2)\n",
    "bt2.add_right(node2_2, node5_2)\n",
    "bt2.add_left(node3_2, node6_2)"
   ]
  },
  {
   "cell_type": "code",
   "execution_count": 13,
   "id": "ab61844e",
   "metadata": {},
   "outputs": [
    {
     "name": "stdout",
     "output_type": "stream",
     "text": [
      "Root: 1\n",
      "  >> R:3\n",
      "    >> L:6\n",
      "  >> L:2\n",
      "    >> R:5\n",
      "    >> L:4\n",
      "\n"
     ]
    }
   ],
   "source": [
    "print(bt2)"
   ]
  },
  {
   "cell_type": "code",
   "execution_count": 14,
   "id": "75705007",
   "metadata": {},
   "outputs": [
    {
     "name": "stdout",
     "output_type": "stream",
     "text": [
      "The sum of all right leaf nodes: 5\n"
     ]
    }
   ],
   "source": [
    "print(\"The sum of all right leaf nodes:\", sum_rleafs(bt2))"
   ]
  },
  {
   "cell_type": "markdown",
   "id": "c6ee9c37",
   "metadata": {},
   "source": [
    "### Example 2:"
   ]
  },
  {
   "cell_type": "code",
   "execution_count": 15,
   "id": "de6e2403",
   "metadata": {},
   "outputs": [],
   "source": [
    "node1_2b = Node(1)\n",
    "node2_2b = Node(2)\n",
    "node3_2b = Node(3)\n",
    "node4_2b = Node(4)\n",
    "node5_2b = Node(5)\n",
    "node6_2b = Node(6)\n",
    "node7_2b = Node(7)\n",
    "node8_2b = Node(8)\n",
    "node9_2b = Node(9)"
   ]
  },
  {
   "cell_type": "code",
   "execution_count": 16,
   "id": "6564319a",
   "metadata": {},
   "outputs": [],
   "source": [
    "bt3 = BinaryTree(node1_2b)\n",
    "bt3.add_left(node1_2b, node2_2b)\n",
    "bt3.add_left(node2_2b, node4_2b)\n",
    "bt3.add_right(node1_2b, node3_2b)\n",
    "bt3.add_right(node2_2b, node5_2b)\n",
    "bt3.add_left(node3_2b, node6_2b)\n",
    "bt3.add_right(node4_2b, node7_2b)\n",
    "bt3.add_right(node6_2b, node9_2b)\n",
    "bt3.add_left(node6_2b, node8_2b)"
   ]
  },
  {
   "cell_type": "code",
   "execution_count": 17,
   "id": "75aa6cf4",
   "metadata": {},
   "outputs": [
    {
     "name": "stdout",
     "output_type": "stream",
     "text": [
      "Root: 1\n",
      "  >> R:3\n",
      "    >> L:6\n",
      "      >> R:9\n",
      "      >> L:8\n",
      "  >> L:2\n",
      "    >> R:5\n",
      "    >> L:4\n",
      "      >> R:7\n",
      "\n"
     ]
    }
   ],
   "source": [
    "print(bt3)"
   ]
  },
  {
   "cell_type": "code",
   "execution_count": 18,
   "id": "cbee6d0c",
   "metadata": {},
   "outputs": [
    {
     "name": "stdout",
     "output_type": "stream",
     "text": [
      "The sum of all right leaf nodes: 21\n"
     ]
    }
   ],
   "source": [
    "print(\"The sum of all right leaf nodes:\", sum_rleafs(bt3))"
   ]
  },
  {
   "cell_type": "markdown",
   "id": "dd02d1bd",
   "metadata": {},
   "source": [
    "# Problem 3:  Binary Search Tree"
   ]
  },
  {
   "cell_type": "markdown",
   "id": "cd08cd0c",
   "metadata": {},
   "source": [
    "### a. Implementation"
   ]
  },
  {
   "cell_type": "code",
   "execution_count": 19,
   "id": "0f5eb09e",
   "metadata": {},
   "outputs": [],
   "source": [
    "class BinarySearchTree(BinaryTree):\n",
    "    def __init__(self, root):\n",
    "        super().__init__(root)\n",
    "        \n",
    "    def insert(self, node):\n",
    "        temp = self.root\n",
    "        while temp:\n",
    "            if node.value > temp.value:\n",
    "                if not temp.right:\n",
    "                    temp.right = node\n",
    "                    node.parent = temp\n",
    "                    break\n",
    "                temp = temp.right\n",
    "            elif node.value < temp.value:\n",
    "                if not temp.left:\n",
    "                    temp.left = node\n",
    "                    node.parent = temp\n",
    "                    break\n",
    "                temp = temp.left\n",
    "            else:\n",
    "                raise Exception(\"Duplicated Node\")\n",
    "    \n",
    "    def iterative_search(self, value):\n",
    "        temp = self.root\n",
    "        while temp:\n",
    "            if temp.value == value:\n",
    "                return True\n",
    "            elif value > temp.value:\n",
    "                temp = temp.right\n",
    "            else:\n",
    "                temp = temp.left\n",
    "        return False"
   ]
  },
  {
   "cell_type": "markdown",
   "id": "c041cf1c",
   "metadata": {},
   "source": [
    "### b. Check the implementation"
   ]
  },
  {
   "cell_type": "code",
   "execution_count": 20,
   "id": "34fcb0e9",
   "metadata": {},
   "outputs": [],
   "source": [
    "#  Create a BST using insert\n",
    "testcase = [Node(3), Node(10), Node(1), Node(6), Node(14), Node(4), Node(7), Node(13)]\n",
    "bst = BinarySearchTree(Node(8))\n",
    "for i in testcase:\n",
    "    bst.insert(i)"
   ]
  },
  {
   "cell_type": "code",
   "execution_count": 21,
   "id": "1f8eb3ee",
   "metadata": {},
   "outputs": [
    {
     "name": "stdout",
     "output_type": "stream",
     "text": [
      "Root: 8\n",
      "  >> R:10\n",
      "    >> R:14\n",
      "      >> L:13\n",
      "  >> L:3\n",
      "    >> R:6\n",
      "      >> R:7\n",
      "      >> L:4\n",
      "    >> L:1\n",
      "\n"
     ]
    }
   ],
   "source": [
    "print(bst)"
   ]
  },
  {
   "cell_type": "code",
   "execution_count": 22,
   "id": "c7ec6017",
   "metadata": {},
   "outputs": [
    {
     "name": "stdout",
     "output_type": "stream",
     "text": [
      "0 is in BTS? False\n",
      "3 is in BTS? True\n",
      "4 is in BTS? True\n",
      "12 is in BTS? False\n"
     ]
    }
   ],
   "source": [
    "# Check if 0, 3, 4 and 12 are in the BST\n",
    "print(\"0 is in BTS?\", bst.iterative_search(0))\n",
    "print(\"3 is in BTS?\", bst.iterative_search(3))\n",
    "print(\"4 is in BTS?\", bst.iterative_search(4))\n",
    "print(\"12 is in BTS?\", bst.iterative_search(12))"
   ]
  }
 ],
 "metadata": {
  "kernelspec": {
   "display_name": "Python 3 (ipykernel)",
   "language": "python",
   "name": "python3"
  },
  "language_info": {
   "codemirror_mode": {
    "name": "ipython",
    "version": 3
   },
   "file_extension": ".py",
   "mimetype": "text/x-python",
   "name": "python",
   "nbconvert_exporter": "python",
   "pygments_lexer": "ipython3",
   "version": "3.11.7"
  }
 },
 "nbformat": 4,
 "nbformat_minor": 5
}
