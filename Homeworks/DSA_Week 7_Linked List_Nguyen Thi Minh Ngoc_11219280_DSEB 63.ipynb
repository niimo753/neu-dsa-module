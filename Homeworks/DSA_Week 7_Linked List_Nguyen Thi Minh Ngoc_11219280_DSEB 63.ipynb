{
 "cells": [
  {
   "cell_type": "markdown",
   "id": "fdc817cb",
   "metadata": {},
   "source": [
    "# HOMEWORK 7\n",
    "Full Name: Nguyễn Thị Minh Ngọc\n",
    "<br>\n",
    "Student ID: 11219280\n",
    "<br>\n",
    "Class: DSEB 63"
   ]
  },
  {
   "cell_type": "markdown",
   "id": "eaea722f",
   "metadata": {},
   "source": [
    "# Singly Linked List - Notesss\n",
    "* 2 attributes: head, size\n",
    "* len/is_empty: O(1) time/space\n",
    "* Linked List traversal: vòng lặp: head >>> liên kết.next >>> target\n",
    "* insert: insert head (empty and non-empty), tail (1 case of mid), mid (loop đến trước cái target)\n",
    "* delitem: validation check (check Empty, check IndexError...) - delete head/mid/tail"
   ]
  },
  {
   "cell_type": "markdown",
   "id": "2824d805",
   "metadata": {},
   "source": [
    "### Em xin lỗi ạ, em nộp lại muộn vì em nhận ra em chạy nhầm test case T_T"
   ]
  },
  {
   "cell_type": "code",
   "execution_count": 1,
   "id": "b2a0d332",
   "metadata": {},
   "outputs": [],
   "source": [
    "class Empty(Exception):\n",
    "    pass"
   ]
  },
  {
   "cell_type": "markdown",
   "id": "e280daf1",
   "metadata": {},
   "source": [
    "# Problem 1\n",
    "### a. Implementation"
   ]
  },
  {
   "cell_type": "code",
   "execution_count": 2,
   "id": "91fca0bc",
   "metadata": {},
   "outputs": [],
   "source": [
    "class Node:\n",
    "    def __init__(self, value, next_node = None):\n",
    "        self._val = value\n",
    "        self._next = next_node\n",
    "     # Có thể thêm hàm __str__ để present node\n",
    "    \n",
    "class SinglyLinkedList:\n",
    "    def __init__(self):\n",
    "        self._head = None\n",
    "        self._size = 0\n",
    "        \n",
    "    def __len__(self):\n",
    "        return self._size\n",
    "    \n",
    "    def is_empty(self):\n",
    "        return self._size == 0\n",
    "    \n",
    "    def __getitem__(self, k):\n",
    "        if k >= self._size:\n",
    "            raise IndexError(\"Index out of range\")\n",
    "        node = self._head\n",
    "        while k>0:\n",
    "            node = node._next\n",
    "            k -= 1\n",
    "        return node._val\n",
    "    \n",
    "    def insert(self, value, k=0):\n",
    "        '''default - insert into the head; if k = -1 or k is greater than the size of linked list,\n",
    "        inserting into the last position'''\n",
    "        if self.is_empty() or k == 0:\n",
    "            self._head = Node(value, self._head)\n",
    "        else:\n",
    "            if k == -1 or k > self._size:\n",
    "                k = self._size\n",
    "            node = self._head\n",
    "            while k>1:\n",
    "                node = node._next\n",
    "                k -= 1\n",
    "            node._next = Node(value, node._next)\n",
    "        self._size += 1\n",
    "    \n",
    "    def __delitem__(self, k):\n",
    "        if self.is_empty():\n",
    "            raise Empty(\"Singly Linked List is empty\")\n",
    "        elif k >= self._size:\n",
    "            raise IndexError(\"Index is out of range\")\n",
    "        else:\n",
    "            node = self._head\n",
    "            if k == 0:\n",
    "                deleted = self._head\n",
    "                self._head = node._next\n",
    "            else:\n",
    "                while k>1:\n",
    "                    node = node._next\n",
    "                    k -= 1\n",
    "                deleted = node._next._val\n",
    "                node._next = node._next._next\n",
    "        self._size -= 1\n",
    "        return deleted\n",
    "    \n",
    "    def delete_by_value(self, value):\n",
    "        result = {'value': value}\n",
    "        deleted = []\n",
    "        if self.is_empty():\n",
    "            raise Empty(\"Singly Linked List is empty\")\n",
    "        else:\n",
    "            count = 0\n",
    "            if self._head._val == value:\n",
    "                deleted.append(count)\n",
    "                self._head = self._head._next\n",
    "                self._size -= 1\n",
    "                count += 1\n",
    "            node = self._head\n",
    "            while node:\n",
    "                if node._next and node._next._val == value:\n",
    "                    count += 1\n",
    "                    deleted.append(count)\n",
    "                    node._next = node._next._next\n",
    "                    self._size -= 1\n",
    "                node = node._next\n",
    "                count += 1\n",
    "        if deleted:\n",
    "            result['index'] = deleted\n",
    "            return result\n",
    "    \n",
    "    def search(self, value):\n",
    "        count = 0\n",
    "        node = self._head\n",
    "        searched = []\n",
    "        while node:\n",
    "            if node._val == value:\n",
    "                searched.append([node._val, count])\n",
    "            node = node._next\n",
    "            count +=1\n",
    "        if searched:\n",
    "            return searched\n",
    "        else:\n",
    "            return \"Value is not found\"\n",
    "    \n",
    "    def update(self, value, k):\n",
    "        if k >= self._size:\n",
    "            raise IndexError(\"Index out of range\")\n",
    "        node = self._head\n",
    "        count = 0\n",
    "        while count < k:\n",
    "            node = node._next\n",
    "            count += 1\n",
    "        old = node._val\n",
    "        node._val = value\n",
    "        print(f\"Index {k}: old = {old}, new = {node._val}\")\n",
    "        \n",
    "    def __repr__(self):\n",
    "        node = self._head\n",
    "        result = ''\n",
    "        while node:\n",
    "            result += f\"{node._val} \"\n",
    "            node = node._next\n",
    "        return result"
   ]
  },
  {
   "cell_type": "code",
   "execution_count": 3,
   "id": "6e000b5f",
   "metadata": {},
   "outputs": [
    {
     "name": "stdout",
     "output_type": "stream",
     "text": [
      "Singly Linked List: 6 5 3 2 \n"
     ]
    }
   ],
   "source": [
    "nums = [2, 3, 5, 6]\n",
    "number = SinglyLinkedList()\n",
    "for num in nums:\n",
    "    number.insert(num)\n",
    "print(\"Singly Linked List:\", number)"
   ]
  },
  {
   "cell_type": "code",
   "execution_count": 4,
   "id": "39af5b8f",
   "metadata": {},
   "outputs": [
    {
     "name": "stdout",
     "output_type": "stream",
     "text": [
      "6 5 3 \n"
     ]
    }
   ],
   "source": [
    "del number[3]\n",
    "print(number)"
   ]
  },
  {
   "cell_type": "code",
   "execution_count": 5,
   "id": "ba9c8318",
   "metadata": {},
   "outputs": [
    {
     "name": "stdout",
     "output_type": "stream",
     "text": [
      "6 5 \n"
     ]
    }
   ],
   "source": [
    "del number[2]\n",
    "print(number)"
   ]
  },
  {
   "cell_type": "code",
   "execution_count": 6,
   "id": "9734d4a2",
   "metadata": {},
   "outputs": [
    {
     "name": "stdout",
     "output_type": "stream",
     "text": [
      "6 \n"
     ]
    }
   ],
   "source": [
    "del number[1]\n",
    "print(number)"
   ]
  },
  {
   "cell_type": "code",
   "execution_count": 7,
   "id": "bb305cb5",
   "metadata": {},
   "outputs": [
    {
     "name": "stdout",
     "output_type": "stream",
     "text": [
      "\n"
     ]
    }
   ],
   "source": [
    "del number[0]\n",
    "print(number)"
   ]
  },
  {
   "cell_type": "code",
   "execution_count": 8,
   "id": "96503a01",
   "metadata": {},
   "outputs": [
    {
     "name": "stdout",
     "output_type": "stream",
     "text": [
      "Singly Linked List: 7 \n"
     ]
    }
   ],
   "source": [
    "number.insert(7, 2)\n",
    "print(\"Singly Linked List:\", number)"
   ]
  },
  {
   "cell_type": "code",
   "execution_count": 9,
   "id": "e40b2f85",
   "metadata": {},
   "outputs": [
    {
     "name": "stdout",
     "output_type": "stream",
     "text": [
      "Singly Linked List: 7 3 \n"
     ]
    }
   ],
   "source": [
    "number.insert(3, -1)\n",
    "print(\"Singly Linked List:\", number)"
   ]
  },
  {
   "cell_type": "code",
   "execution_count": 10,
   "id": "e70f878f",
   "metadata": {},
   "outputs": [
    {
     "name": "stdout",
     "output_type": "stream",
     "text": [
      "Seacrhing for value 3: [[3, 1]]\n"
     ]
    }
   ],
   "source": [
    "print(\"Seacrhing for value 3:\",number.search(3))"
   ]
  },
  {
   "cell_type": "code",
   "execution_count": 11,
   "id": "e4bce955",
   "metadata": {},
   "outputs": [
    {
     "name": "stdout",
     "output_type": "stream",
     "text": [
      "Index 0: old = 7, new = 10\n"
     ]
    }
   ],
   "source": [
    "number.update(10, 0)"
   ]
  },
  {
   "cell_type": "code",
   "execution_count": 12,
   "id": "1b82f36a",
   "metadata": {},
   "outputs": [
    {
     "name": "stdout",
     "output_type": "stream",
     "text": [
      "Singly Linked List: 10 3 \n"
     ]
    }
   ],
   "source": [
    "print(\"Singly Linked List:\", number)"
   ]
  },
  {
   "cell_type": "code",
   "execution_count": 13,
   "id": "29138cdb",
   "metadata": {},
   "outputs": [
    {
     "name": "stdout",
     "output_type": "stream",
     "text": [
      "Singly Linked List: 3 \n"
     ]
    }
   ],
   "source": [
    "del number[0]\n",
    "print(\"Singly Linked List:\", number)"
   ]
  },
  {
   "cell_type": "code",
   "execution_count": 14,
   "id": "be8f8d0e",
   "metadata": {},
   "outputs": [
    {
     "name": "stdout",
     "output_type": "stream",
     "text": [
      "{'value': 3, 'index': [0]}\n"
     ]
    }
   ],
   "source": [
    "print(number.delete_by_value(3))"
   ]
  },
  {
   "cell_type": "code",
   "execution_count": 15,
   "id": "7b5d123f",
   "metadata": {},
   "outputs": [
    {
     "name": "stdout",
     "output_type": "stream",
     "text": [
      "Singly Linked List: \n"
     ]
    }
   ],
   "source": [
    "print(\"Singly Linked List:\", number)"
   ]
  },
  {
   "cell_type": "markdown",
   "id": "c36bed5d",
   "metadata": {},
   "source": [
    "### Optional Problem: Palindrome Linked List"
   ]
  },
  {
   "cell_type": "code",
   "execution_count": 16,
   "id": "d4e177f2",
   "metadata": {},
   "outputs": [],
   "source": [
    "def sll_palindrome_check(linkedlist):\n",
    "    node = linkedlist._head\n",
    "    down = ''\n",
    "    back = ''\n",
    "    while node:\n",
    "        down += str(node._val)\n",
    "        back = str(node._val) + back\n",
    "        node = node._next\n",
    "    return back == down"
   ]
  },
  {
   "cell_type": "code",
   "execution_count": 17,
   "id": "9dbdf877",
   "metadata": {},
   "outputs": [
    {
     "name": "stdout",
     "output_type": "stream",
     "text": [
      "True\n"
     ]
    }
   ],
   "source": [
    "test_info = [1, 2, 3, 2, 1]\n",
    "test = SinglyLinkedList()\n",
    "for i in test_info:\n",
    "    test.insert(i)\n",
    "print(sll_palindrome_check(test))"
   ]
  },
  {
   "cell_type": "code",
   "execution_count": 18,
   "id": "7db66147",
   "metadata": {},
   "outputs": [
    {
     "name": "stdout",
     "output_type": "stream",
     "text": [
      "False\n"
     ]
    }
   ],
   "source": [
    "test_info = [2, 3, 5, 1, 7]\n",
    "test = SinglyLinkedList()\n",
    "for i in test_info:\n",
    "    test.insert(i)\n",
    "print(sll_palindrome_check(test))"
   ]
  },
  {
   "cell_type": "markdown",
   "id": "02580906",
   "metadata": {},
   "source": [
    "### b. Check the implementation"
   ]
  },
  {
   "cell_type": "code",
   "execution_count": 19,
   "id": "b96a1c0e",
   "metadata": {},
   "outputs": [],
   "source": [
    "class Node:\n",
    "    def __init__(self, value, next_node = None):\n",
    "        self._name = value[0]\n",
    "        self._point = value[1]\n",
    "        self._class = value[2]\n",
    "        self._val = value\n",
    "        self._next = next_node\n",
    "    # Có thể thêm hàm __str__ để present node\n",
    "    \n",
    "class SinglyLinkedList:\n",
    "    def __init__(self):\n",
    "        self._head = None\n",
    "        self._size = 0\n",
    "        \n",
    "    def __len__(self):\n",
    "        return self._size\n",
    "    \n",
    "    def is_empty(self):\n",
    "        return self._size == 0\n",
    "    \n",
    "    def __getitem__(self, k):\n",
    "        if k >= self._size:\n",
    "            raise IndexError(\"Index out of range\")\n",
    "        node = self._head\n",
    "        while k>0:\n",
    "            node = node._next\n",
    "            k -= 1\n",
    "        return node._val\n",
    "    \n",
    "    def insert(self, value, k=0):\n",
    "        if self.is_empty() or k == 0:\n",
    "            self._head = Node(value, self._head)\n",
    "        else:\n",
    "            if k == -1 or k > self._size:\n",
    "                k = self._size\n",
    "            node = self._head\n",
    "            while k>1:\n",
    "                node = node._next\n",
    "                k -= 1\n",
    "            node._next = Node(value, node._next)\n",
    "        self._size += 1\n",
    "    \n",
    "    def __delitem__(self, k):\n",
    "        if self.is_empty():\n",
    "            raise Empty(\"Singly Linked List is empty\")\n",
    "        elif k >= self._size:\n",
    "            raise IndexError(\"Index is out of range\")\n",
    "        else:\n",
    "            node = self._head\n",
    "            if k == 0:\n",
    "                deleted = self._head\n",
    "                self._head = node._next\n",
    "            else:\n",
    "                while k>1:\n",
    "                    node = node._next\n",
    "                    k -= 1\n",
    "                deleted = node._next._val\n",
    "                node._next = node._next._next\n",
    "        return deleted\n",
    "    \n",
    "    def delete_by_value(self, value):\n",
    "        deleted = []\n",
    "        if self.is_empty():\n",
    "            raise Empty(\"Singly Linked List is empty\")\n",
    "        else:\n",
    "            count = 0\n",
    "            if value in self._head._val:\n",
    "                deleted.append(self._head._val)\n",
    "                self._head = self._head._next\n",
    "                self._size -= 1\n",
    "                count += 1\n",
    "            node = self._head\n",
    "            while node:\n",
    "                if node._next and value in node._next._val:\n",
    "                    count += 1\n",
    "                    deleted.append(node._next._val)\n",
    "                    node._next = node._next._next\n",
    "                    self._size -= 1\n",
    "                node = node._next\n",
    "                count += 1\n",
    "        if deleted:\n",
    "            return deleted\n",
    "        return \"Not found\"\n",
    "    \n",
    "    def search(self, value):\n",
    "        count = 0\n",
    "        node = self._head\n",
    "        searched = []\n",
    "        while node:\n",
    "            if value in (node._val, node._name, node._point, node._class):\n",
    "                searched.append([node._val, count])\n",
    "            node = node._next\n",
    "            count += 1\n",
    "        if searched:\n",
    "            return searched\n",
    "        else:\n",
    "            return \"Value is not found\"\n",
    "    \n",
    "    def update(self, k, value):\n",
    "        if k >= self._size:\n",
    "            raise IndexError(\"Index out of range\")\n",
    "        node = self._head\n",
    "        count = 0\n",
    "        while count < k:\n",
    "            node = node._next\n",
    "            count += 1\n",
    "        old = node._val\n",
    "        node._name, node_point, node._class = value[0], value[1], value[2]\n",
    "        node._val = value\n",
    "        print(f\"Index {k}: old = {old}, new = {node._val}\")\n",
    "        \n",
    "    def __repr__(self):\n",
    "        node = self._head\n",
    "        result = ''\n",
    "        while node:\n",
    "            print(*node._val, sep = '\\t')\n",
    "            node = node._next\n",
    "        return result"
   ]
  },
  {
   "cell_type": "code",
   "execution_count": 20,
   "id": "34f17c60",
   "metadata": {},
   "outputs": [
    {
     "name": "stdout",
     "output_type": "stream",
     "text": [
      "Hai\t13.5\tBFI\n",
      "Nam\t12\tActuary\n",
      "Vanh\t15\tDSEB\n",
      "Ly\t10\tTKT\n",
      "Chiu\t13\tDSEB\n",
      "Bach\t16\tDSEB\n",
      "Chau\t11\tBFI\n",
      "Huy\t11\tActuary\n",
      "\n"
     ]
    }
   ],
   "source": [
    "students = [('Hai', 13.5, 'BFI'), ('Nam', 12, 'Actuary'), ('Vanh', 15, 'DSEB'), ('Ly', 10, 'TKT'), ('Chiu', 13, 'DSEB') , ('Bach', 16, 'DSEB'), ('Chau', 11, 'BFI'), ('Huy', 11, 'Actuary')]\n",
    "stu_sll = SinglyLinkedList()\n",
    "for stu in students:\n",
    "    stu_sll.insert(stu, -1)\n",
    "print(stu_sll)"
   ]
  },
  {
   "cell_type": "code",
   "execution_count": 21,
   "id": "1cd1fb51",
   "metadata": {},
   "outputs": [
    {
     "name": "stdout",
     "output_type": "stream",
     "text": [
      "[('Hai', 13.5, 'BFI'), ('Chau', 11, 'BFI')]\n"
     ]
    }
   ],
   "source": [
    "print(stu_sll.delete_by_value(\"BFI\"))"
   ]
  },
  {
   "cell_type": "code",
   "execution_count": 22,
   "id": "ae26d771",
   "metadata": {},
   "outputs": [
    {
     "name": "stdout",
     "output_type": "stream",
     "text": [
      "Nam\t12\tActuary\n",
      "Vanh\t15\tDSEB\n",
      "Ly\t10\tTKT\n",
      "Chiu\t13\tDSEB\n",
      "Bach\t16\tDSEB\n",
      "Huy\t11\tActuary\n",
      "\n"
     ]
    }
   ],
   "source": [
    "print(stu_sll)"
   ]
  },
  {
   "cell_type": "code",
   "execution_count": 23,
   "id": "46eeeeda",
   "metadata": {},
   "outputs": [
    {
     "name": "stdout",
     "output_type": "stream",
     "text": [
      "[[('Vanh', 15, 'DSEB'), 1]]\n"
     ]
    }
   ],
   "source": [
    "print(stu_sll.search(\"Vanh\"))"
   ]
  },
  {
   "cell_type": "code",
   "execution_count": 24,
   "id": "50354a04",
   "metadata": {},
   "outputs": [
    {
     "name": "stdout",
     "output_type": "stream",
     "text": [
      "[[('Bach', 16, 'DSEB'), 4]]\n"
     ]
    }
   ],
   "source": [
    "find = stu_sll.search(\"Bach\")\n",
    "print(find)"
   ]
  },
  {
   "cell_type": "code",
   "execution_count": 25,
   "id": "c7768584",
   "metadata": {},
   "outputs": [
    {
     "name": "stdout",
     "output_type": "stream",
     "text": [
      "Index 4: old = ('Bach', 16, 'DSEB'), new = ('Bach', 17, 'DSEB')\n"
     ]
    }
   ],
   "source": [
    "stu_sll.update(4, ('Bach', 17, 'DSEB'))"
   ]
  },
  {
   "cell_type": "code",
   "execution_count": 26,
   "id": "c19de85c",
   "metadata": {},
   "outputs": [
    {
     "name": "stdout",
     "output_type": "stream",
     "text": [
      "Nam\t12\tActuary\n",
      "Vanh\t15\tDSEB\n",
      "Ly\t10\tTKT\n",
      "Chiu\t13\tDSEB\n",
      "Bach\t17\tDSEB\n",
      "Huy\t11\tActuary\n",
      "\n"
     ]
    }
   ],
   "source": [
    "print(stu_sll)"
   ]
  },
  {
   "cell_type": "markdown",
   "id": "3d5750a3",
   "metadata": {},
   "source": [
    "# Problem 2\n",
    "### a. Implementation"
   ]
  },
  {
   "cell_type": "code",
   "execution_count": 27,
   "id": "7776c265",
   "metadata": {},
   "outputs": [],
   "source": [
    "class Node:\n",
    "    def __init__(self, value, last = None, next_node = None):\n",
    "        self._val = value\n",
    "        self._last = last\n",
    "        self._next = next_node\n",
    "\n",
    "class DoublyLinkedList:\n",
    "    def __init__(self):\n",
    "        self._head = None\n",
    "        self._size = 0\n",
    "        \n",
    "    def __len__(self):\n",
    "        return self._size\n",
    "    \n",
    "    def is_empty(self):\n",
    "        return self._size == 0\n",
    "    \n",
    "    def __getitem__(self, k):\n",
    "        if self.is_empty():\n",
    "            raise Empty(\"Doubly Linked List is empty\")\n",
    "        elif k >= self._size:\n",
    "            raise IndexError(\"Index out of range\")\n",
    "        node = self._head\n",
    "        while k>0:\n",
    "            node = node._next\n",
    "            k -= 1\n",
    "        return node._val\n",
    "    \n",
    "    def insert(self, value, k=0):\n",
    "        if self.is_empty() or k == 0:\n",
    "            self._head = Node(value, last = None, next_node = self._head)\n",
    "            if self._head._next:\n",
    "                self._head._next._last = self._head\n",
    "        else:\n",
    "            if k == -1 or k > self._size:\n",
    "                k = self._size\n",
    "            node = self._head\n",
    "            while k>1:\n",
    "                node = node._next\n",
    "                k -= 1\n",
    "            node._next = Node(value, node, node._next)\n",
    "            node = node._next\n",
    "            if node._next:\n",
    "                node._next._last = node\n",
    "        self._size += 1\n",
    "    \n",
    "    def __delitem__(self, k):\n",
    "        if self.is_empty():\n",
    "            raise Empty(\"Doubly Linked List is empty\")\n",
    "        elif k >= self._size:\n",
    "            raise IndexError('Index out of range')\n",
    "        elif k == 0:\n",
    "            deleted = self._head._val            \n",
    "            self._head = self._head._next\n",
    "            self._head._last = None\n",
    "        else:\n",
    "            node = self._head\n",
    "            while k > 0:\n",
    "                node = node._next\n",
    "                k -= 1\n",
    "            deleted = node._val\n",
    "            if node._last is not None:\n",
    "                node._last._next = node._next\n",
    "            if node._next:\n",
    "                node._next._last = node._last\n",
    "            # node._last._next, node._next._last = node._next, node._last\n",
    "        self._size -= 1\n",
    "        return deleted\n",
    "    \n",
    "    def reverse(self):\n",
    "        node = self._head\n",
    "        while node:\n",
    "            node._last, node._next = node._next, node._last\n",
    "            if not node._last:\n",
    "                self._head = node\n",
    "            node = node._last\n",
    "            \n",
    "    def sort_by_value2(self):\n",
    "        node = self._head\n",
    "        while node._next:\n",
    "            if node._val > node._next._val:\n",
    "                node2 = node._last\n",
    "                check = False\n",
    "                while node2:\n",
    "                    if node2._val < node._next._val:\n",
    "                        temp = node2._next\n",
    "                        node2._next = node._next\n",
    "                        node2._next._last = node2\n",
    "                        node2._next._next = temp\n",
    "                        temp._last = node2._next\n",
    "                        check = True\n",
    "                        break\n",
    "                    if not node2._last:\n",
    "                        break\n",
    "                    else:\n",
    "                        node2 = node2._last\n",
    "                if not check:\n",
    "                    if node2:\n",
    "                        node2._last = node._next\n",
    "                        node2._last._next = node2\n",
    "                        node2._last._last = None\n",
    "                    else:\n",
    "                        node._last = node._next\n",
    "                        node._last._last = None\n",
    "                        node._last._next = node\n",
    "                node._next = node._next._next\n",
    "            else:\n",
    "                node = node._next\n",
    "        node = self._head\n",
    "        while node._last:\n",
    "            node = node._last\n",
    "        self._head = node\n",
    "        \n",
    "    def sort_by_value(self):\n",
    "        node = self._head\n",
    "        while node:\n",
    "            if node._next:\n",
    "                if node._val < node._next._val:\n",
    "                    temp_0 = node._next._next\n",
    "                    node2 = node._last\n",
    "                    if not node2:\n",
    "                        node._last = node._next\n",
    "                        node._last._last, node._last._next = None, node\n",
    "                    else:\n",
    "                        check = False\n",
    "                        while node2:\n",
    "                            if node2._val > node._next._val:\n",
    "                                temp = node2._next\n",
    "                                node2._next = node._next\n",
    "                                node._next._last, node._next._next = node2, temp\n",
    "                                temp._last = node._next\n",
    "                                check = True\n",
    "                                break\n",
    "                            else:\n",
    "                                if node2._last:\n",
    "                                    node2 = node2._last\n",
    "                                else:\n",
    "                                    break\n",
    "                        if not check:\n",
    "                            node2._last = node._next\n",
    "                            node._next._last, node._next._next = None, node2\n",
    "                    node._next = temp_0\n",
    "                    if node._next:\n",
    "                        node._next._last = node\n",
    "                    else:\n",
    "                        break\n",
    "                else:\n",
    "                    node = node._next\n",
    "            else:\n",
    "                node = node._next\n",
    "        node = self._head\n",
    "        while node._last:\n",
    "            node = node._last\n",
    "        self._head = node                  \n",
    "            \n",
    "    def __repr__(self):\n",
    "        node = self._head\n",
    "        result = ''\n",
    "        while node:\n",
    "            result += f\"{node._val} \"\n",
    "            node = node._next\n",
    "        return result"
   ]
  },
  {
   "cell_type": "code",
   "execution_count": 28,
   "id": "413ae62e",
   "metadata": {},
   "outputs": [
    {
     "name": "stdout",
     "output_type": "stream",
     "text": [
      "Doubly Linked List: 6 5 3 2 \n"
     ]
    }
   ],
   "source": [
    "nums = [2, 3, 5, 6]\n",
    "number = DoublyLinkedList()\n",
    "for num in nums:\n",
    "    number.insert(num)\n",
    "print(\"Doubly Linked List:\", number)"
   ]
  },
  {
   "cell_type": "code",
   "execution_count": 29,
   "id": "8bd8cfc2",
   "metadata": {},
   "outputs": [
    {
     "name": "stdout",
     "output_type": "stream",
     "text": [
      "Doubly Linked List: 6 5 3 7 2 1 \n"
     ]
    }
   ],
   "source": [
    "number.insert(7, 3)\n",
    "number.insert(1, -1)\n",
    "print(\"Doubly Linked List:\", number)"
   ]
  },
  {
   "cell_type": "code",
   "execution_count": 30,
   "id": "7608125f",
   "metadata": {},
   "outputs": [
    {
     "name": "stdout",
     "output_type": "stream",
     "text": [
      "Doubly Linked List: 6 5 3 7 2 \n"
     ]
    }
   ],
   "source": [
    "del number[5]\n",
    "print(\"Doubly Linked List:\", number)"
   ]
  },
  {
   "cell_type": "code",
   "execution_count": 31,
   "id": "68ff3d70",
   "metadata": {},
   "outputs": [
    {
     "name": "stdout",
     "output_type": "stream",
     "text": [
      "Doubly Linked List: 2 7 3 5 6 \n"
     ]
    }
   ],
   "source": [
    "number.reverse()\n",
    "print(\"Doubly Linked List:\", number)"
   ]
  },
  {
   "cell_type": "code",
   "execution_count": 32,
   "id": "45cd14fc",
   "metadata": {},
   "outputs": [
    {
     "name": "stdout",
     "output_type": "stream",
     "text": [
      "Doubly Linked List: 7 6 5 3 2 \n"
     ]
    }
   ],
   "source": [
    "number.sort_by_value()\n",
    "print(\"Doubly Linked List:\", number)"
   ]
  },
  {
   "cell_type": "markdown",
   "id": "a260b245",
   "metadata": {},
   "source": [
    "### b. Check the implementation"
   ]
  },
  {
   "cell_type": "code",
   "execution_count": 33,
   "id": "ea7636a0",
   "metadata": {},
   "outputs": [],
   "source": [
    "class Node:\n",
    "    def __init__(self, stock, price, last = None, next_node = None):\n",
    "        self._stock = stock\n",
    "        self._price = price\n",
    "        self._last = last\n",
    "        self._next = next_node\n",
    "    \n",
    "    def value(self):\n",
    "        return self._stock, self._price\n",
    "\n",
    "class DoublyLinkedList:\n",
    "    def __init__(self):\n",
    "        self._head = None\n",
    "        self._size = 0\n",
    "        \n",
    "    def __len__(self):\n",
    "        return self._size\n",
    "    \n",
    "    def is_empty(self):\n",
    "        return self._size == 0\n",
    "    \n",
    "    def __getitem__(self, k):\n",
    "        if self.is_empty():\n",
    "            raise Empty(\"Doubly Linked List is empty\")\n",
    "        elif k >= self._size:\n",
    "            raise IndexError(\"Index out of range\")\n",
    "        node = self._head\n",
    "        while k>0:\n",
    "            node = node._next\n",
    "            k -= 1\n",
    "        return node.value()\n",
    "    \n",
    "    def insert(self, stock, price, k=0):\n",
    "        if self.is_empty() or k == 0:\n",
    "            self._head = Node(stock, price, last = None, next_node = self._head)\n",
    "            if self._head._next:\n",
    "                self._head._next._last = self._head\n",
    "        else:\n",
    "            if k == -1 or k > self._size:\n",
    "                k = self._size\n",
    "            node = self._head\n",
    "            while k>1:\n",
    "                node = node._next\n",
    "                k -= 1\n",
    "            node._next = Node(stock, price, node, node._next)\n",
    "            node = node._next\n",
    "            if node._next:\n",
    "                node._next._last = node\n",
    "        self._size += 1\n",
    "    \n",
    "    def __delitem__(self, k):\n",
    "        if self.is_empty():\n",
    "            raise Empty(\"Doubly Linked List is empty\")\n",
    "        elif k >= self._size:\n",
    "            raise IndexError('Index out of range')\n",
    "        elif k == 0:\n",
    "            deleted = self._head.value()           \n",
    "            self._head = self._head._next\n",
    "            self._head._last = None\n",
    "        else:\n",
    "            node = self._head\n",
    "            while k > 0:\n",
    "                node = node._next\n",
    "                k -= 1\n",
    "            deleted = node.value()\n",
    "            node._last._next, node._next._last = node._next, node._last\n",
    "        self._size -= 1\n",
    "        return deleted\n",
    "    \n",
    "    def reverse(self):\n",
    "        node = self._head\n",
    "        while node:\n",
    "            node._last, node._next = node._next, node._last\n",
    "            if not node._last:\n",
    "                self._head = node\n",
    "            node = node._last\n",
    "            \n",
    "    def sort_by_value(self):\n",
    "        node = self._head\n",
    "        while node:\n",
    "            if node._next:\n",
    "                if node._price < node._next._price:\n",
    "                    temp_0 = node._next._next\n",
    "                    node2 = node._last\n",
    "                    if not node2:\n",
    "                        node._last = node._next\n",
    "                        node._last._last, node._last._next = None, node\n",
    "                    else:\n",
    "                        check = False\n",
    "                        while node2:\n",
    "                            if node2._price > node._next._price:\n",
    "                                temp = node2._next\n",
    "                                node2._next = node._next\n",
    "                                node._next._last, node._next._next = node2, temp\n",
    "                                temp._last = node._next\n",
    "                                check = True\n",
    "                                break\n",
    "                            else:\n",
    "                                if node2._last:\n",
    "                                    node2 = node2._last\n",
    "                                else:\n",
    "                                    break\n",
    "                        if not check:\n",
    "                            node2._last = node._next\n",
    "                            node._next._last, node._next._next = None, node2\n",
    "                    node._next = temp_0\n",
    "                    if node._next:\n",
    "                        node._next._last = node\n",
    "                    else:\n",
    "                        break\n",
    "                else:\n",
    "                    node = node._next\n",
    "            else:\n",
    "                node = node._next\n",
    "        node = self._head\n",
    "        while node._last:\n",
    "            node = node._last\n",
    "        self._head = node\n",
    "            \n",
    "    def __repr__(self):\n",
    "        node = self._head\n",
    "        result = ''\n",
    "        while node:\n",
    "            result += f\"{node._stock}\\t{node._price}\\n\"\n",
    "            node = node._next\n",
    "        return result"
   ]
  },
  {
   "cell_type": "code",
   "execution_count": 34,
   "id": "b73fbbe2",
   "metadata": {},
   "outputs": [
    {
     "name": "stdout",
     "output_type": "stream",
     "text": [
      "VNM\t100.6\n",
      "HPG\t46.05\n",
      "GAS\t94\n",
      "MSN\t86.8\n",
      "FPT\t75.7\n",
      "VIC\t104.7\n",
      "VCB\t94.3\n",
      "MWG\t128.2\n",
      "PNJ\t83.2\n",
      "DHG\t98.6\n",
      "\n"
     ]
    }
   ],
   "source": [
    "stock_info = [('VNM', 100.6), ('HPG', 46.05), ('GAS', 94), ('MSN', 86.8), ('FPT', 75.7), ('VIC', 104.7),\n",
    "         ('VCB', 94.3), ('MWG', 128.2), ('PNJ', 83.2), ('DHG', 98.6)]\n",
    "stock = DoublyLinkedList()\n",
    "for s in stock_info:\n",
    "    stock.insert(stock=s[0], price=s[1], k=-1)\n",
    "print(stock)"
   ]
  },
  {
   "cell_type": "code",
   "execution_count": 35,
   "id": "706da935",
   "metadata": {},
   "outputs": [],
   "source": [
    "# delete all nodes whose stock prices are smaller than 80\n",
    "count = 0\n",
    "while count < len(stock):\n",
    "    if stock[count][1] < 80:\n",
    "        del stock[count]\n",
    "    else:\n",
    "        count += 1"
   ]
  },
  {
   "cell_type": "code",
   "execution_count": 36,
   "id": "96ed25e5",
   "metadata": {},
   "outputs": [
    {
     "name": "stdout",
     "output_type": "stream",
     "text": [
      "VNM\t100.6\n",
      "GAS\t94\n",
      "MSN\t86.8\n",
      "VCJ\t101.2\n",
      "VIC\t104.7\n",
      "VCB\t94.3\n",
      "MWG\t128.2\n",
      "PNJ\t83.2\n",
      "DHG\t98.6\n",
      "\n"
     ]
    }
   ],
   "source": [
    "# insert VJC with price 101.2 into position 3 of the list\n",
    "stock.insert(\"VCJ\", 101.2, 3)\n",
    "print(stock)"
   ]
  },
  {
   "cell_type": "code",
   "execution_count": 37,
   "id": "2ad39bb1",
   "metadata": {},
   "outputs": [
    {
     "name": "stdout",
     "output_type": "stream",
     "text": [
      "DHG\t98.6\n",
      "PNJ\t83.2\n",
      "MWG\t128.2\n",
      "VCB\t94.3\n",
      "VIC\t104.7\n",
      "VCJ\t101.2\n",
      "MSN\t86.8\n",
      "GAS\t94\n",
      "VNM\t100.6\n",
      "\n"
     ]
    }
   ],
   "source": [
    "stock.reverse()\n",
    "print(stock)"
   ]
  },
  {
   "cell_type": "code",
   "execution_count": 38,
   "id": "f646ba0e",
   "metadata": {},
   "outputs": [
    {
     "name": "stdout",
     "output_type": "stream",
     "text": [
      "MWG\t128.2\n",
      "VIC\t104.7\n",
      "VCJ\t101.2\n",
      "VNM\t100.6\n",
      "DHG\t98.6\n",
      "VCB\t94.3\n",
      "GAS\t94\n",
      "MSN\t86.8\n",
      "PNJ\t83.2\n",
      "\n"
     ]
    }
   ],
   "source": [
    "stock.sort_by_value()\n",
    "print(stock)"
   ]
  },
  {
   "cell_type": "markdown",
   "id": "3db5ff31",
   "metadata": {},
   "source": [
    "# Problem 3"
   ]
  },
  {
   "cell_type": "code",
   "execution_count": 39,
   "id": "c7f4f4fc",
   "metadata": {},
   "outputs": [],
   "source": [
    "class LinkedStack:\n",
    "    class _Node:\n",
    "        def __init__(self, value, next_node, minval, maxval):\n",
    "            self._min = minval\n",
    "            self._max = maxval\n",
    "            self._val = value\n",
    "            self._next = next_node\n",
    "            \n",
    "    def __init__(self):\n",
    "        self._head = None\n",
    "        self._size = 0\n",
    "        \n",
    "    def __len__(self):\n",
    "        return self._size\n",
    "    \n",
    "    def is_empty(self):\n",
    "        return self._size == 0\n",
    "    \n",
    "    def push(self, value):\n",
    "        if not self._head:\n",
    "            self._head = self._Node(value, self._head, value, value)\n",
    "        else:\n",
    "            if value >= self._head._max:\n",
    "                maxval = value\n",
    "            else:\n",
    "                maxval = self._head._max\n",
    "            if value <= self._head._min:\n",
    "                minval = value\n",
    "            else:\n",
    "                minval = self._head._min\n",
    "            self._head = self._Node(value, self._head, minval, maxval)\n",
    "        self._size += 1\n",
    "        \n",
    "    def top(self):\n",
    "        if self.is_empty():\n",
    "            raise Empty(\"Linked Stack is empty\")\n",
    "        return self._head._val\n",
    "    \n",
    "    def pop(self):\n",
    "        if self.is_empty():\n",
    "            raise Empty(\"Linked Stack is empty\")\n",
    "        removed = self._head._val\n",
    "        self._head = self._head._next\n",
    "        self._size -= 1\n",
    "        return removed\n",
    "    \n",
    "    def __repr__(self):\n",
    "        node = self._head\n",
    "        result = ''\n",
    "        while node:\n",
    "            result = f\"{node._val} \" + result\n",
    "            node = node._next\n",
    "        return result\n",
    "    \n",
    "    def get_max(self):\n",
    "        return self._head._max\n",
    "    \n",
    "    def get_min(self):\n",
    "        return self._head._min"
   ]
  },
  {
   "cell_type": "code",
   "execution_count": 40,
   "id": "76328808",
   "metadata": {},
   "outputs": [
    {
     "name": "stdout",
     "output_type": "stream",
     "text": [
      "Linked Stack: 3 1 7 5 0 \n",
      "Max: 7\n",
      "Min: 0\n"
     ]
    }
   ],
   "source": [
    "nums = [3, 1, 7, 5, 0]\n",
    "numbers = LinkedStack()\n",
    "for num in nums:\n",
    "    numbers.push(num)\n",
    "print(\"Linked Stack:\", numbers)\n",
    "print(\"Max:\", numbers.get_max())\n",
    "print(\"Min:\", numbers.get_min())"
   ]
  },
  {
   "cell_type": "code",
   "execution_count": 41,
   "id": "3684bc0d",
   "metadata": {},
   "outputs": [
    {
     "name": "stdout",
     "output_type": "stream",
     "text": [
      "Removed the last element: 0\n",
      ">>> After: 3 1 7 5 \n"
     ]
    }
   ],
   "source": [
    "print(\"Removed the last element:\", numbers.pop())\n",
    "print(\">>> After:\", numbers)"
   ]
  },
  {
   "cell_type": "code",
   "execution_count": 42,
   "id": "ac7ea30f",
   "metadata": {},
   "outputs": [
    {
     "name": "stdout",
     "output_type": "stream",
     "text": [
      "Top of the Linked Stack: 5\n"
     ]
    }
   ],
   "source": [
    "print(\"Top of the Linked Stack:\", numbers.top())"
   ]
  },
  {
   "cell_type": "code",
   "execution_count": 43,
   "id": "3680cdc4",
   "metadata": {},
   "outputs": [
    {
     "name": "stdout",
     "output_type": "stream",
     "text": [
      "Max: 7\n",
      "Min: 1\n"
     ]
    }
   ],
   "source": [
    "print(\"Max:\", numbers.get_max())\n",
    "print(\"Min:\", numbers.get_min())"
   ]
  }
 ],
 "metadata": {
  "kernelspec": {
   "display_name": "Python 3 (ipykernel)",
   "language": "python",
   "name": "python3"
  },
  "language_info": {
   "codemirror_mode": {
    "name": "ipython",
    "version": 3
   },
   "file_extension": ".py",
   "mimetype": "text/x-python",
   "name": "python",
   "nbconvert_exporter": "python",
   "pygments_lexer": "ipython3",
   "version": "3.11.7"
  }
 },
 "nbformat": 4,
 "nbformat_minor": 5
}
