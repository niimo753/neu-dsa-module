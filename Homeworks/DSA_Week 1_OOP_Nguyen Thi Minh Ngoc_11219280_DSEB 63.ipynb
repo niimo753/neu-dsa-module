{
 "cells": [
  {
   "cell_type": "markdown",
   "id": "01c32784",
   "metadata": {},
   "source": [
    "# HOMEWORK 1\n",
    "Full Name: Nguyễn Thị Minh Ngọc\n",
    "<br>\n",
    "Student ID: 11219280\n",
    "<br>\n",
    "Class: DSEB 63"
   ]
  },
  {
   "cell_type": "markdown",
   "id": "1a1e52cb",
   "metadata": {},
   "source": [
    "# Problem 1\n",
    "### 1. What are object-oriented design goals? Give brief explanations about them.\n",
    "Software implementations should achieve robustness, adaptability, and reusability:\n",
    "* Robustness: handle unexpected input\n",
    "* Adaptability: minimal change on different hardware and operating system platforms\n",
    "* Reusability: reusable code in different applications.\n",
    "\n",
    "### 2. What are object-oriented design principles? Give brief explanations about them.\n",
    "Principles of the object-oriented approach:\n",
    "* Modularity\n",
    "* Abstraction\n",
    "* Encapsulation\n",
    "\n",
    "### 3. How to choose names for a class, its member functions and class-level constants?\n",
    "Use meaningful name to identifiers. In particular:\n",
    "* __Classes__: should be a singular noun and should be capitalized; should follow the so-called \"CamelCase\" convention in which the first letter of each word is capitalized if multiple words are concatenated to form a class name.\n",
    "* __Member functions of classes__: should be lowercase; if should include a verb that describes its effect; if multiple words are combined, they should be separated by underscores.\n",
    "* __Class-level constants__: should use all capital letters and underscores to separate words\n",
    "\n",
    "### 4. What is docstring? What information does it provide?\n",
    "* Python provides integrated support for embedding formal documentation directlyin source code using a mechanism known as a __docstring__. In other words, __docstrings__ are the string literals that appear right after the definition of a function, method, class, or module\n",
    "* Docstrings are used to document our code. (or it provide information about how the function, method, class, or module...will run."
   ]
  },
  {
   "cell_type": "markdown",
   "id": "fc9c3bda",
   "metadata": {},
   "source": [
    "# Problem 2"
   ]
  },
  {
   "cell_type": "code",
   "execution_count": 1,
   "id": "82a1adb6",
   "metadata": {},
   "outputs": [],
   "source": [
    "class Car:\n",
    "    def __init__(self, brand, model, year, price):\n",
    "        self._brand = brand\n",
    "        self._model = model\n",
    "        self._year = year\n",
    "        self._price = price\n",
    "\n",
    "    def get_brand(self):\n",
    "        return self._brand\n",
    "\n",
    "    def get_model(self):\n",
    "        return self._model\n",
    "\n",
    "    def get_year(self):\n",
    "        return self._year\n",
    "\n",
    "    def get_price(self):\n",
    "        return \"$%.3f\" % self._price\n",
    "\n",
    "    def __repr__(self):\n",
    "        return f'A car whose brand is {self._brand}, model is {self._model} and price is ${\"%.3f\" % self._price} was launched in {self._year}'\n",
    "\n",
    "    def price_update(self, new_price):\n",
    "        self._price = new_price"
   ]
  },
  {
   "cell_type": "code",
   "execution_count": 2,
   "id": "a53b242d",
   "metadata": {},
   "outputs": [
    {
     "name": "stdout",
     "output_type": "stream",
     "text": [
      "Lamborghini\n",
      "Huracan STO\n",
      "2021\n",
      "$367.000\n"
     ]
    }
   ],
   "source": [
    "car_test = Car(brand = 'Lamborghini', model = 'Huracan STO', price = 367.000, year = 2021)\n",
    "\n",
    "# Test for get methods\n",
    "print(car_test.get_brand())\n",
    "print(car_test.get_model())\n",
    "print(car_test.get_year())\n",
    "print(car_test.get_price())"
   ]
  },
  {
   "cell_type": "code",
   "execution_count": 3,
   "id": "cb7bc7c8",
   "metadata": {},
   "outputs": [
    {
     "name": "stdout",
     "output_type": "stream",
     "text": [
      "A car whose brand is Lamborghini, model is Huracan STO and price is $327.838 was launched in 2021\n"
     ]
    }
   ],
   "source": [
    "# Introduction of car\n",
    "car_test.price_update(327.838)\n",
    "print(car_test)"
   ]
  },
  {
   "cell_type": "markdown",
   "id": "7c1e8903",
   "metadata": {},
   "source": [
    "# Problem 3 + Problem 4"
   ]
  },
  {
   "cell_type": "code",
   "execution_count": 4,
   "id": "02f01969",
   "metadata": {},
   "outputs": [],
   "source": [
    "class Person:\n",
    "    def __init__(self, name, age, gender, person_id):\n",
    "        if type(name) != str:\n",
    "            raise Exception(\"The name is not in string data type\")\n",
    "        else:\n",
    "            self._name = name\n",
    "        if age < 0:\n",
    "            raise Exception(\"The age is non negative integer\")\n",
    "        else:\n",
    "            self._age = age\n",
    "        if type(gender) == str and (gender.lower() == 'female' or gender.lower() == 'male'):\n",
    "            self._gender = gender.title()\n",
    "        else:\n",
    "            raise Exception(\"The gender is not Male or Female\")\n",
    "        if person_id < 0 or type(person_id) != int:\n",
    "            raise Exception(\"The id is not a positive integer\")\n",
    "        else:\n",
    "            self._id = person_id\n",
    "\n",
    "    def get_name(self):\n",
    "        return self._name\n",
    "\n",
    "    def get_age(self):\n",
    "        return self._age\n",
    "\n",
    "    def get_gender(self):\n",
    "        return self._gender\n",
    "\n",
    "    def get_id(self):\n",
    "        return self._id\n",
    "\n",
    "    def __repr__(self):\n",
    "        return f'This is {self._name} ({self._gender}, {self._age} years old), whose id is {self._id}.'"
   ]
  },
  {
   "cell_type": "code",
   "execution_count": 5,
   "id": "7801b302",
   "metadata": {},
   "outputs": [],
   "source": [
    "class Student(Person):\n",
    "    students = {}\n",
    "    \n",
    "    def __init__(self, name, age, gender, person_id, student_id, gpa):\n",
    "        Person.__init__(self, name, age, gender, person_id)\n",
    "        if type(gpa) != float and type(gpa) != int:\n",
    "            raise Exception('The GPA is not a number no less than 0 and no greater than 10')\n",
    "        elif type(gpa) == float or type(gpa) == int:\n",
    "            if gpa < 0 or gpa > 10:\n",
    "                raise Exception('The GPA is not a number no less than 0 and no greater than 10')\n",
    "        else:\n",
    "            self._gpa = gpa\n",
    "        if type(student_id) != str:\n",
    "            raise Exception(\"The student ID is not in string data type\")\n",
    "        else:\n",
    "            self._student_id = student_id\n",
    "            Student.students[self._student_id] = self\n",
    "\n",
    "    def get_student_id(self):\n",
    "        return self._student_id\n",
    "\n",
    "    def convert_grade(self):\n",
    "        result = {'10 scale': self._gpa}\n",
    "        if self._gpa < 4.5:\n",
    "            result['4.0 scale'], result['Letter scale'] = 0.0, 'F'\n",
    "        elif self._gpa <= 4.9:\n",
    "            result['4.0 scale'], result['Letter scale'] = 1.0, 'D'\n",
    "        elif self._gpa <= 5.4:\n",
    "            result['4.0 scale'], result['Letter scale'] = 1.5, 'D+'\n",
    "        elif self._gpa <= 6.4:\n",
    "            result['4.0 scale'], result['Letter scale'] = 2.0, 'C'\n",
    "        elif self._gpa <= 6.9:\n",
    "            result['4.0 scale'], result['Letter scale'] = 2.5, 'C+'\n",
    "        elif self._gpa <= 7.9:\n",
    "            result['4.0 scale'], result['Letter scale'] = 3.0, 'B'\n",
    "        elif self._gpa <= 8.4:\n",
    "            result['4.0 scale'], result['Letter scale'] = 3.5, 'B+'\n",
    "        else:\n",
    "            result['4.0 scale'] = 4.0\n",
    "            if self._gpa <= 8.9:\n",
    "                result['Letter scale'] = 'A'\n",
    "            else:\n",
    "                result['Letter scale'] = 'A+'\n",
    "        return result\n",
    "    \n",
    "    def __class_getitem__(cls, item):\n",
    "        if Student.students.get(item):\n",
    "            print(Student.students[item])\n",
    "        else:\n",
    "            print('Not Found')"
   ]
  },
  {
   "cell_type": "code",
   "execution_count": 6,
   "id": "010d08d2",
   "metadata": {},
   "outputs": [],
   "source": [
    "student1 = Student(name=\"Wakamatsu Hirotaka\", age=16, gender='male', person_id=11111, student_id='STD00001', gpa=7.5)\n",
    "student2 = Student(name=\"Sakura Chiyo\", age=17, gender='female', person_id=11112, student_id='STD00002', gpa=8.8)\n",
    "student3 = Student(name=\"Nozaki Umetarou\", age=17, gender='male', person_id=11113, student_id='STD00003', gpa=8.2)\n",
    "student4 = Student(name=\"Hori Masayuki\", age=18, gender='male', person_id=11114, student_id='STD00004', gpa=8.0)\n",
    "student5 = Student(name=\"Seo Yuzuki\", age=17, gender='female', person_id=11115, student_id='STD00005', gpa=9.5)\n",
    "student_list = [student1, student2, student3, student4, student5]"
   ]
  },
  {
   "cell_type": "code",
   "execution_count": 7,
   "id": "3bb43201",
   "metadata": {},
   "outputs": [
    {
     "name": "stdout",
     "output_type": "stream",
     "text": [
      "This is Seo Yuzuki (Female, 17 years old), whose id is 11115.\n",
      "Not Found\n"
     ]
    }
   ],
   "source": [
    "Student['STD00005']\n",
    "Student['STD00007']"
   ]
  }
 ],
 "metadata": {
  "kernelspec": {
   "display_name": "Python 3 (ipykernel)",
   "language": "python",
   "name": "python3"
  },
  "language_info": {
   "codemirror_mode": {
    "name": "ipython",
    "version": 3
   },
   "file_extension": ".py",
   "mimetype": "text/x-python",
   "name": "python",
   "nbconvert_exporter": "python",
   "pygments_lexer": "ipython3",
   "version": "3.11.7"
  }
 },
 "nbformat": 4,
 "nbformat_minor": 5
}
