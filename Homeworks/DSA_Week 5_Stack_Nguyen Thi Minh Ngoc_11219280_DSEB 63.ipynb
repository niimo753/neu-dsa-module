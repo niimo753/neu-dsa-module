{
 "cells": [
  {
   "cell_type": "markdown",
   "id": "6e148c65",
   "metadata": {},
   "source": [
    "# HOMEWORK 5\n",
    "Full Name: Nguyễn Thị Minh Ngọc\n",
    "<br>\n",
    "Class: DSEB 63\n",
    "<br>\n",
    "Student ID: 11219280"
   ]
  },
  {
   "cell_type": "markdown",
   "id": "f30b5422",
   "metadata": {},
   "source": [
    "# Problem 1 - Constructing A Stack"
   ]
  },
  {
   "cell_type": "code",
   "execution_count": 1,
   "id": "ab4ccdf3",
   "metadata": {},
   "outputs": [],
   "source": [
    "# constructing a stack\n",
    "class Stack:\n",
    "    def __init__(self):\n",
    "        self._stack = []\n",
    "        self._count = 0\n",
    "\n",
    "    def __len__(self):\n",
    "        return self._count\n",
    "\n",
    "    def is_empty(self):\n",
    "        return self._count == 0\n",
    "\n",
    "    def __str__(self):\n",
    "        return str([x for x in self._stack if x is not None])\n",
    "\n",
    "    def push(self, item):\n",
    "        self._count += 1\n",
    "        new_stack = [None] * self._count\n",
    "        for index in range(self._count - 1):\n",
    "            new_stack[index] = self._stack[index]\n",
    "        new_stack[self._count-1] = item\n",
    "        self._stack = new_stack\n",
    "\n",
    "    def top(self):\n",
    "        if self._count == 0:\n",
    "            raise Exception(\"Empty Stack\")\n",
    "        return self._stack[self._count-1]\n",
    "\n",
    "    def pop(self):\n",
    "        if self._count == 0:\n",
    "            raise Exception(\"Empty Stack\")\n",
    "        else:\n",
    "            removed = self._stack[self._count-1]\n",
    "            self._stack[self._count-1] = None\n",
    "            self._count -= 1\n",
    "            return removed\n",
    "        \n",
    "    def move_stack(self, target):\n",
    "        '''Move all elements from one stack to another without changing the order'''\n",
    "        aux = Stack()\n",
    "        while self._count > 0:\n",
    "            aux.push(self.pop())\n",
    "        while len(aux) > 0:\n",
    "            B.push(aux.pop())\n",
    "        return B\n",
    "    \n",
    "    def stack_copy(self, source):\n",
    "        self._count = len(source)\n",
    "        self._stack = [None] * self._count\n",
    "        for i in range(self._count):\n",
    "            self._stack[i] = source._stack[i]\n",
    "\n",
    "# build a function to sort the stack in ascending order.\n",
    "def sort_stack(stack):\n",
    "    aux = Stack()\n",
    "    aux_2 = Stack()\n",
    "    while len(stack) > 0:\n",
    "        temp = stack.pop()\n",
    "        if len(aux) == 0:\n",
    "            aux.push(temp)\n",
    "        else:\n",
    "            temp_2 = aux.top()\n",
    "            if temp_2 < temp:\n",
    "                aux.push(temp)\n",
    "            else:\n",
    "                while temp_2 > temp:\n",
    "                    aux_2.push(aux.pop())\n",
    "                    if len(aux) == 0:\n",
    "                        break\n",
    "                    else:\n",
    "                        temp_2 = aux.top()\n",
    "                aux.push(temp)\n",
    "                while len(aux_2) > 0:\n",
    "                    aux.push(aux_2.pop())\n",
    "    return aux"
   ]
  },
  {
   "cell_type": "code",
   "execution_count": 2,
   "id": "0c3f1cc6",
   "metadata": {},
   "outputs": [],
   "source": [
    "class Stack:\n",
    "    def __init__(self):\n",
    "        self._data = []\n",
    "        self._size = 0\n",
    "        \n",
    "    def __len__(self):\n",
    "        return self._size\n",
    "    \n",
    "    def is_empty(self):\n",
    "        return self._size == 0\n",
    "    \n",
    "    def __str__(self):\n",
    "        return str(self._data)\n",
    "    \n",
    "    def push(self, a):\n",
    "        self._data.append(a)\n",
    "        self._size += 1\n",
    "        \n",
    "    def top(self):\n",
    "        return self._data[-1]\n",
    "    \n",
    "    def pop(self):\n",
    "        self._size -= 1\n",
    "        return self._data.pop()\n",
    "    \n",
    "    def move(self, source):\n",
    "        aux = Stack()\n",
    "        while len(source) > 0:\n",
    "            aux.push(source.pop())\n",
    "        while len(aux) > 0:\n",
    "            self.push(aux.pop())\n",
    "    \n",
    "    def sort(self):\n",
    "        temp = Stack()\n",
    "        while not self.is_empty():\n",
    "            pivot = self.pop()\n",
    "            while temp and temp.top() > pivot:\n",
    "                self.push(temp.pop())\n",
    "            temp.push(pivot)\n",
    "        self.move(temp)\n",
    "\n",
    "    def stack_copy(self, source):\n",
    "        self._size = len(source)\n",
    "        self._data = [None] * self._size\n",
    "        for i in range(self._size):\n",
    "            self._data[i] = source._data[i]"
   ]
  },
  {
   "cell_type": "code",
   "execution_count": 3,
   "id": "558f5238",
   "metadata": {},
   "outputs": [
    {
     "name": "stdout",
     "output_type": "stream",
     "text": [
      "[4, 0, 1, 5, 9, 8, 2]\n"
     ]
    }
   ],
   "source": [
    "A = Stack()\n",
    "num = [4, 0, 1, 5, 9, 8, 2]\n",
    "for i in num:\n",
    "    A.push(i)\n",
    "print(A)"
   ]
  },
  {
   "cell_type": "code",
   "execution_count": 4,
   "id": "59ebe292",
   "metadata": {},
   "outputs": [
    {
     "name": "stdout",
     "output_type": "stream",
     "text": [
      "[4, 0, 1, 5, 9, 8, 2]\n"
     ]
    }
   ],
   "source": [
    "B = Stack()\n",
    "B.move(A)\n",
    "print(B)"
   ]
  },
  {
   "cell_type": "code",
   "execution_count": 5,
   "id": "3487a4c7",
   "metadata": {},
   "outputs": [
    {
     "name": "stdout",
     "output_type": "stream",
     "text": [
      "[0, 1, 2, 4, 5, 8, 9]\n"
     ]
    }
   ],
   "source": [
    "B.sort()\n",
    "print(B)"
   ]
  },
  {
   "cell_type": "markdown",
   "id": "e5867f65",
   "metadata": {},
   "source": [
    "# Problem 2 - Converting Numeral System"
   ]
  },
  {
   "cell_type": "code",
   "execution_count": 6,
   "id": "da5ab1cd",
   "metadata": {},
   "outputs": [],
   "source": [
    "def decimal_to_binary(number):\n",
    "    reminder = Stack()\n",
    "    while number != 0:\n",
    "        reminder.push(number%2)\n",
    "        number = number//2\n",
    "    binary = ''\n",
    "    while len(reminder) != 0:\n",
    "        binary += str(reminder.pop())\n",
    "    return int(binary)"
   ]
  },
  {
   "cell_type": "code",
   "execution_count": 7,
   "id": "51c89f2d",
   "metadata": {},
   "outputs": [
    {
     "name": "stdout",
     "output_type": "stream",
     "text": [
      "1001011\n"
     ]
    }
   ],
   "source": [
    "print(decimal_to_binary(75))"
   ]
  },
  {
   "cell_type": "code",
   "execution_count": 8,
   "id": "07401b5d",
   "metadata": {},
   "outputs": [],
   "source": [
    "def ternary_to_binary(number):\n",
    "    count = 0\n",
    "    decimal = 0\n",
    "    while number > 0:\n",
    "        decimal += (number%10) * 3**count\n",
    "        number = number//10\n",
    "        count += 1\n",
    "    return decimal_to_binary(decimal)"
   ]
  },
  {
   "cell_type": "code",
   "execution_count": 9,
   "id": "09037aa8",
   "metadata": {},
   "outputs": [
    {
     "name": "stdout",
     "output_type": "stream",
     "text": [
      "10010110\n"
     ]
    }
   ],
   "source": [
    "print(ternary_to_binary(12120))"
   ]
  },
  {
   "cell_type": "markdown",
   "id": "c200cd8b",
   "metadata": {},
   "source": [
    "# Problem 3 -  Help Classmates"
   ]
  },
  {
   "cell_type": "code",
   "execution_count": 10,
   "id": "446c8069",
   "metadata": {},
   "outputs": [],
   "source": [
    "def help_target(sub_marks, helper):\n",
    "    while len(sub_marks) > 0:\n",
    "        if helper > sub_marks.top():\n",
    "            return sub_marks.pop()\n",
    "        else:\n",
    "            sub_marks.pop()\n",
    "    return -1\n",
    "\n",
    "def help_classmate(marks):\n",
    "    marks_stack = Stack()\n",
    "    result = Stack()\n",
    "    sub_marks = Stack()\n",
    "    for i in range(len(marks)-1, -1, -1):\n",
    "        marks_stack.push(marks[i])\n",
    "    while len(marks_stack) > 0:\n",
    "        helper = marks_stack.pop()\n",
    "        sub_marks.stack_copy(marks_stack)\n",
    "        result.push(help_target(sub_marks, helper))\n",
    "    return result                "
   ]
  },
  {
   "cell_type": "code",
   "execution_count": 11,
   "id": "0903a4c6",
   "metadata": {},
   "outputs": [
    {
     "name": "stdout",
     "output_type": "stream",
     "text": [
      "[2, 5, 2, -1, -1]\n"
     ]
    }
   ],
   "source": [
    "marks = [3, 8, 5, 2, 9]\n",
    "print(help_classmate(marks))"
   ]
  },
  {
   "cell_type": "code",
   "execution_count": 12,
   "id": "8f2e4811",
   "metadata": {},
   "outputs": [
    {
     "name": "stdout",
     "output_type": "stream",
     "text": [
      "[-1, -1, -1, -1]\n"
     ]
    }
   ],
   "source": [
    "marks = [1, 2, 3, 4]\n",
    "print(help_classmate(marks))"
   ]
  },
  {
   "cell_type": "markdown",
   "id": "c522342e",
   "metadata": {},
   "source": [
    "# OTHER NOTES"
   ]
  },
  {
   "cell_type": "markdown",
   "id": "a4436656",
   "metadata": {},
   "source": [
    "### Ex3:"
   ]
  },
  {
   "cell_type": "code",
   "execution_count": 13,
   "id": "97b292ea",
   "metadata": {},
   "outputs": [],
   "source": [
    "# Bthao's Idea\n",
    "def reve(a):\n",
    "    b = Stack()\n",
    "    while not a.is_empty():\n",
    "        b.push(a.pop())\n",
    "    return b"
   ]
  },
  {
   "cell_type": "code",
   "execution_count": 14,
   "id": "23e3cc84",
   "metadata": {},
   "outputs": [],
   "source": [
    "# BT's Idea - 3 stack version\n",
    "def send_help_or_imma_kms(a):\n",
    "    reverse = Stack()\n",
    "    reverse = reve(a)\n",
    "    b = Stack()\n",
    "    c = Stack()\n",
    "    topval = reverse.pop()\n",
    "    while reverse.is_empty() == False :\n",
    "        while reverse.is_empty() == False and reverse.top() > topval: \n",
    "            b.push(reverse.pop())\n",
    "        if reverse.is_empty() == True:\n",
    "            c.push(-1)\n",
    "        else:\n",
    "            c.push(reverse.top())\n",
    "        while b.is_empty() == False:\n",
    "            reverse.push(b.pop())\n",
    "        topval = reverse.pop()\n",
    "    c.push(-1)\n",
    "    return c"
   ]
  },
  {
   "cell_type": "code",
   "execution_count": 15,
   "id": "573ef3b3",
   "metadata": {},
   "outputs": [],
   "source": [
    "# BT's Idea - 2 stack version\n",
    "def send_help_or_imma_kms(a):\n",
    "    reverse = Stack()\n",
    "    reverse = reve(a)\n",
    "    b = Stack()\n",
    "    count = 0\n",
    "    topval = reverse.pop()\n",
    "    while reverse.is_empty() == False:\n",
    "        while reverse.is_empty() == False and reverse.top() > topval: \n",
    "            b.push(reverse.pop())\n",
    "        if reverse.is_empty() == True:\n",
    "            topval = -1\n",
    "        else: \n",
    "            topval = reverse.top()\n",
    "        while len(b) != count: \n",
    "            reverse.push(b.pop()) \n",
    "        b.push(topval)\n",
    "        count += 1\n",
    "        topval = reverse.pop()\n",
    "    b.push(-1)\n",
    "    return b"
   ]
  },
  {
   "cell_type": "code",
   "execution_count": 16,
   "id": "e723a537",
   "metadata": {},
   "outputs": [],
   "source": [
    "# TN's Idea - Non-stack\n",
    "def help_classmate(marks):\n",
    "    result = Stack()  \n",
    "    helper = Stack()\n",
    "    for i in range(0, len(marks)):\n",
    "        current = len(marks) - 1 - i   \n",
    "        if(current == len(marks) - 1): \n",
    "            result.push(-1)\n",
    "            \n",
    "        elif(len(helper) > 0 and helper.top() < marks[current]):\n",
    "            result.push(helper.top())\n",
    "\n",
    "        elif(len(helper) > 0 and helper.top() > marks[current]):\n",
    "            while(len(helper) > 0 and helper.top() > marks[current]):\n",
    "                helper.pop()   \n",
    "            if(len(helper) == 0):\n",
    "                result.push(-1)\n",
    "            else:\n",
    "                result.push(helper.top())\n",
    "        helper.push(marks[current])\n",
    "    return reve(result)"
   ]
  },
  {
   "cell_type": "code",
   "execution_count": 17,
   "id": "61984927",
   "metadata": {},
   "outputs": [],
   "source": [
    "# TN's Idea - Stack\n",
    "def help_classmate(marks):\n",
    "    result = Stack()  \n",
    "    helper = Stack()\n",
    "    for i in range(0, len(marks)):\n",
    "        current = len(marks) - 1 - i   \n",
    "        if(current == len(marks) - 1): \n",
    "            result.push(-1)\n",
    "            \n",
    "        elif(len(helper) > 0 and helper.top() < marks.top()):\n",
    "            result.push(helper.top())\n",
    "\n",
    "        elif(len(helper) > 0 and helper.top() > marks.top()):\n",
    "            while(len(helper) > 0 and helper.top() > marks.top()):\n",
    "                helper.pop()   \n",
    "            if(len(helper) == 0):\n",
    "                result.push(-1)\n",
    "            else:\n",
    "                result.push(helper.top())\n",
    "        helper.push(marks.pop())\n",
    "    return reve(result)"
   ]
  }
 ],
 "metadata": {
  "kernelspec": {
   "display_name": "Python 3 (ipykernel)",
   "language": "python",
   "name": "python3"
  },
  "language_info": {
   "codemirror_mode": {
    "name": "ipython",
    "version": 3
   },
   "file_extension": ".py",
   "mimetype": "text/x-python",
   "name": "python",
   "nbconvert_exporter": "python",
   "pygments_lexer": "ipython3",
   "version": "3.11.7"
  }
 },
 "nbformat": 4,
 "nbformat_minor": 5
}
