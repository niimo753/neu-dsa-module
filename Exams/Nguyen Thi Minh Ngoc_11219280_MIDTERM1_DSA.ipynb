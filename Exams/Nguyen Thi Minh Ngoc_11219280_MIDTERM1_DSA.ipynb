{
 "cells": [
  {
   "cell_type": "markdown",
   "metadata": {
    "id": "bY8_1YI1FVKd"
   },
   "source": [
    "BÀI NỘP DƯỚI DẠNG FILE NOTEBOOK! \n",
    "\n",
    "---\n",
    "SINH VIÊN KHÔNG ĐƯỢC SỬ DỤNG INTERNET, THƯ VIỆN (NẾU KHÔNG ĐƯỢC THÔNG BÁO) HAY BẤT CỨ TÀI LIỆU NÀO TRÊN MÁY TÍNH ĐỂ THAM KHẢO. ĐƯỢC PHÉP SỬ DỤNG PYCHARM HOẶC CÁC IDE KHÁC ĐỂ DEBUG.\n",
    "\n",
    "---\n",
    "ĐỊNH DẠNG TÊN FILE NỘP BÀI:\n",
    "TênSinhViên_MãSinhViên_MIDTERM1_DSA.ipynb"
   ]
  },
  {
   "cell_type": "markdown",
   "metadata": {
    "id": "cPhMJEhjFZtv"
   },
   "source": [
    "## **Problem 1:**"
   ]
  },
  {
   "cell_type": "code",
   "execution_count": 1,
   "metadata": {
    "id": "N8DeZUvI4NhG"
   },
   "outputs": [],
   "source": [
    "class Animal:\n",
    "    def __init__(self, name: str = None, age: int = None):\n",
    "        self._name = name\n",
    "        if (not isinstance(age, int) and not isinstance(age, float)) or age<0:\n",
    "            raise Error(\"Age is invalid value\")\n",
    "        else:\n",
    "            self._age = age\n",
    "\n",
    "    def get_name(self):\n",
    "        return self._name\n",
    "\n",
    "    def get_age(self):\n",
    "        return self._age\n",
    "\n",
    "    def __str__(self):\n",
    "        return f'Name: {self.get_name()}\\nAge: {self.get_age()}'\n"
   ]
  },
  {
   "cell_type": "code",
   "execution_count": 2,
   "metadata": {
    "colab": {
     "base_uri": "https://localhost:8080/"
    },
    "id": "IV6IiILq4Nd3",
    "outputId": "a53dcb7b-493a-47c7-ff66-3c10a041c1fb"
   },
   "outputs": [
    {
     "name": "stdout",
     "output_type": "stream",
     "text": [
      "Name: A\n",
      "Age: 2\n"
     ]
    }
   ],
   "source": [
    "animal_demo = Animal(name='A', age=2)\n",
    "print(animal_demo)"
   ]
  },
  {
   "cell_type": "markdown",
   "metadata": {
    "id": "xEzk6n9S5KPM"
   },
   "source": [
    "**Part 1.1 (2 point)** Create a class Dog, known that a Dog is an Animal, and add attributes (all of the attributes are nonpublic):\n",
    "- species\n",
    "- color\n",
    "- weight (lb)\n",
    "\n",
    "Add methods to\n",
    "- get the value of each of these attributes above (format: get_x(self)).\n",
    "- update_age(self, months) to update new *age* after *months*\n",
    "- update_weight(self, new_weight) to update new *weight*.\n",
    "\n",
    "**Requirement**: in update methods please check for the validation of the input.\n",
    "- represent the Dog's information by formatting all the instance variables into an introduction.\n",
    "\n",
    "**Requirement**: Use \\__str__ or \\__repr__ methods.\n",
    "\n",
    "\n",
    "**Part 1.2 (1 point)** Create a Dog with information:\n",
    "- name: Max\n",
    "- age: 3 (months)\n",
    "- species: Samoyed\n",
    "- color: white\n",
    "- weight: 18 (lb)\n",
    "\n",
    "Overloading to represent Max's information.\n",
    "After 6 months, Max's weight increases to 40 lb, update this information and overload to check."
   ]
  },
  {
   "cell_type": "code",
   "execution_count": 3,
   "metadata": {},
   "outputs": [],
   "source": [
    "class Error(Exception):\n",
    "    pass\n",
    "\n",
    "class Dog(Animal):\n",
    "    def __init__(self, species, color, weight, name, age):\n",
    "        super().__init__(name, age)\n",
    "        self._species = species\n",
    "        self._color = color\n",
    "        if (not isinstance(weight, int) and not isinstance(weight, float)) or weight<0:\n",
    "            raise Error(\"Weight is invalid value\")\n",
    "        else:\n",
    "            self._weight = weight\n",
    "        \n",
    "    def get_species(self):\n",
    "        return self._species\n",
    "    \n",
    "    def get_color(self):\n",
    "        return self._color\n",
    "    \n",
    "    def get_weight(self):\n",
    "        return self._weight\n",
    "    \n",
    "    def update_age(self, months):\n",
    "        if (not isinstance(months, int) and not isinstance(months, float)) or months<0:\n",
    "            raise Error(\"Months is invalid value\")\n",
    "        self._age += months\n",
    "        \n",
    "    def update_weight(self, new_weight):\n",
    "        if (not isinstance(new_weight, int) and not isinstance(new_weight, float)) or new_weight<0:\n",
    "            raise Error(\"Weight is invalid value\")\n",
    "        self._weight = new_weight\n",
    "        \n",
    "    def __str__(self):\n",
    "        return f\"{self._name} is a {self._species} dog with {self._color} color. {self._name} is now {self._age} months old and weighs {self._weight} lb.\""
   ]
  },
  {
   "cell_type": "code",
   "execution_count": 4,
   "metadata": {},
   "outputs": [
    {
     "name": "stdout",
     "output_type": "stream",
     "text": [
      "Max is a Samoyed dog with white color. Max is now 3 months old and weighs 18 lb.\n"
     ]
    }
   ],
   "source": [
    "dog = Dog(name=\"Max\", age=3, species=\"Samoyed\", color=\"white\", weight=18)\n",
    "print(dog)"
   ]
  },
  {
   "cell_type": "code",
   "execution_count": 5,
   "metadata": {},
   "outputs": [
    {
     "name": "stdout",
     "output_type": "stream",
     "text": [
      "Max is a Samoyed dog with white color. Max is now 9 months old and weighs 40 lb.\n"
     ]
    }
   ],
   "source": [
    "dog.update_age(6)\n",
    "dog.update_weight(40)\n",
    "print(dog)"
   ]
  },
  {
   "cell_type": "markdown",
   "metadata": {
    "id": "qZdYzaY0F_9r"
   },
   "source": [
    "## **Problem 2**: (2 point)\n",
    "Using recursion, write a program to reverse the following strings:\n",
    "> String 1: \"ManUtd Liverpool\"\n",
    "\n",
    "> Output: 'loopreviL dtUnaM'\n",
    "\n",
    "> String 2: \"NewJeans\"\n",
    "\n",
    "> Output: 'snaeJweN'\n"
   ]
  },
  {
   "cell_type": "code",
   "execution_count": 6,
   "metadata": {},
   "outputs": [],
   "source": [
    "def reverse_string(data):\n",
    "    if len(data) <= 1:\n",
    "        return data\n",
    "    else:\n",
    "        return reverse_string(data[1::]) + data[0]"
   ]
  },
  {
   "cell_type": "code",
   "execution_count": 7,
   "metadata": {},
   "outputs": [
    {
     "name": "stdout",
     "output_type": "stream",
     "text": [
      "ManUtd Liverpool \n",
      ">>> Output: loopreviL dtUnaM\n",
      "\n",
      "NewJeans \n",
      ">>> Output: snaeJweN\n",
      "\n"
     ]
    }
   ],
   "source": [
    "testcase = [\"ManUtd Liverpool\", \"NewJeans\"]\n",
    "for case in testcase:\n",
    "    print(case, \"\\n>>> Output:\", reverse_string(case), end = '\\n\\n')"
   ]
  },
  {
   "cell_type": "markdown",
   "metadata": {
    "id": "L-xj64GuGUBJ"
   },
   "source": [
    "## **Problem 3** (2 point):\n",
    "Using Queue to implement Stack: create a class whose name is StackByQueue\n",
    "\n",
    "Remember to check whether all methods work well\n",
    "\n",
    "Note: You can use Queue class implementation below or self-implement the Queue class"
   ]
  },
  {
   "cell_type": "code",
   "execution_count": 1,
   "metadata": {
    "id": "GHs2cbYO4Naq"
   },
   "outputs": [],
   "source": [
    "# Given FIFO Queue implementation using a Python list as underlying storage.\n",
    "class Empty(Exception):\n",
    "    \"\"\"Error attempting to access an element from an empty container.\"\"\"\n",
    "    pass\n",
    "\n",
    "class Full(Exception):\n",
    "    \"\"\"Error attempting to access an element from a full container.\"\"\"\n",
    "    pass\n",
    "\n",
    "class Queue:\n",
    "    def __init__(self):\n",
    "        self._data = []\n",
    "        self._size = 0\n",
    "        \n",
    "    def __len__(self):\n",
    "        return self._size\n",
    "        \n",
    "    def is_empty(self):\n",
    "        return self._size == 0\n",
    "    \n",
    "    def __repr__(self):\n",
    "        return str(self._data)\n",
    "    \n",
    "    def first(self):\n",
    "        if self.is_empty():\n",
    "            raise Empty(\"Queue is empty\") \n",
    "        return self._data[0]\n",
    "    \n",
    "    def dequeue(self):\n",
    "        if self.is_empty():\n",
    "            raise Empty(\"Queue is empty\") \n",
    "        self._size -= 1\n",
    "        return self._data.pop(0) \n",
    "    \n",
    "    def enqueue(self, e):\n",
    "        self._data.append(e)\n",
    "        self._size += 1"
   ]
  },
  {
   "cell_type": "markdown",
   "metadata": {},
   "source": [
    "### Phan Anh Khôi"
   ]
  },
  {
   "cell_type": "code",
   "execution_count": 20,
   "metadata": {},
   "outputs": [],
   "source": [
    "class StackByQueue:\n",
    "    def __init__(self):\n",
    "        self._queue = Queue()\n",
    "    \n",
    "    def is_empty(self): \n",
    "        return self._queue._size == 0\n",
    "    \n",
    "    def __len__(self): \n",
    "        return self._queue._size\n",
    "    \n",
    "    def push(self, e): \n",
    "        self._queue.enqueue(e)\n",
    "        for i in range(0, self.__len__() - 1):\n",
    "            dequeued_item = self._queue.dequeue()\n",
    "            self._queue.enqueue(dequeued_item)\n",
    "            \n",
    "    def pop(self): \n",
    "        if self._queue.is_empty():\n",
    "            raise Empty('Stack is empty')\n",
    "        else:\n",
    "            return self._queue.dequeue()\n",
    "    \n",
    "    def top(self): \n",
    "        if self._queue.is_empty():\n",
    "            raise Empty('Stack is empty')\n",
    "        else:\n",
    "            return self._queue.first()\n",
    "        \n",
    "    def __str__(self):\n",
    "        return str(self._queue._data[::-1])"
   ]
  },
  {
   "cell_type": "markdown",
   "metadata": {
    "id": "6byEunP3GdF2"
   },
   "source": [
    "Fill your code below:"
   ]
  },
  {
   "cell_type": "code",
   "execution_count": 9,
   "metadata": {
    "id": "Sktt0ZGJFjKq"
   },
   "outputs": [],
   "source": [
    "class StackByQueue:\n",
    "    def __init__(self):\n",
    "        self._data = Queue()\n",
    "        self._data2 = Queue()\n",
    "        self._size = 0\n",
    "    \n",
    "    def is_empty(self): \n",
    "        return self._size==0 \n",
    "    \n",
    "    def __len__(self):\n",
    "        return self._size\n",
    "    \n",
    "    def push(self, e):\n",
    "        self._size += 1\n",
    "        self._data.enqueue(e)\n",
    "    \n",
    "    def pop(self):\n",
    "        if self.is_empty():\n",
    "            raise Empty(\"Stack is empty\")\n",
    "        self._size -= 1\n",
    "        if self._data.is_empty():\n",
    "            while len(self._data2) > 1:\n",
    "                self._data.enqueue(self._data2.dequeue())\n",
    "            return self._data2.dequeue()\n",
    "        else:\n",
    "            while len(self._data) > 1:\n",
    "                self._data2.enqueue(self._data.dequeue())\n",
    "            return self._data.dequeue()\n",
    "    \n",
    "    def top(self):\n",
    "        if self.is_empty():\n",
    "            raise Empty(\"Stack is empty\")\n",
    "        if self._data.is_empty():\n",
    "            while len(self._data2) > 1:\n",
    "                self._data.enqueue(self._data2.dequeue())\n",
    "            top = self._data2.first()\n",
    "            self._data.enqueue(self._data2.dequeue())\n",
    "                \n",
    "        else:\n",
    "            while len(self._data) > 1:\n",
    "                self._data2.enqueue(self._data.dequeue())\n",
    "                top = self._data.first()\n",
    "            top = self._data.first()\n",
    "            self._data2.enqueue(self._data.dequeue())\n",
    "        return top\n",
    "        \n",
    "    def __repr__(self):\n",
    "        if self._data.is_empty():\n",
    "            return str(self._data2)\n",
    "        else:\n",
    "            return str(self._data)"
   ]
  },
  {
   "cell_type": "code",
   "execution_count": 3,
   "metadata": {
    "id": "vXmV88OPGinC"
   },
   "outputs": [
    {
     "name": "stdout",
     "output_type": "stream",
     "text": [
      "len(S):  \t 2\n",
      "S.top():  \t 2\n",
      "print out S:  \t [1, 2]\n",
      "S.pop():  \t 2\n",
      "S.is_empty():  \t False\n",
      "print out S: \t [1]\n",
      "S.pop():  \t 1\n",
      "S.is_empty():  \t True\n"
     ]
    }
   ],
   "source": [
    "# Run this block of code to check if all method work well\n",
    "S = StackByQueue()\n",
    "S.push(1)\n",
    "S.push(2)\n",
    "print(\"len(S): \", \"\\t\",  len(S))\n",
    "print(\"S.top(): \", \"\\t\", S.top())\n",
    "print(\"print out S: \", \"\\t\", S)\n",
    "print(\"S.pop(): \", \"\\t\", S.pop())\n",
    "print(\"S.is_empty(): \", \"\\t\", S.is_empty())\n",
    "print(\"print out S:\", \"\\t\", S)\n",
    "print(\"S.pop(): \", \"\\t\", S.pop())\n",
    "print(\"S.is_empty(): \", \"\\t\", S.is_empty())"
   ]
  },
  {
   "cell_type": "markdown",
   "metadata": {
    "id": "LZc12lTEGobm"
   },
   "source": [
    "## **Problem 4**\n",
    "\n",
    "**Part 1.1 (1.5 point)** Given a DoublyLinkedList class template as below. Implement method `__delitem__` and `sort_by_value` for the linked list:\n",
    "\n",
    "**Requirement:** \n",
    "- All two methods must have O(n) time complexity and O(1) space complexity of worse case.\n",
    "- In each method, please check for the validation of the input or check if the current list is empty.\n",
    "\n",
    "Note: This is a template. Although it has all you need, you can implement methods of your choice as long as they follow doubly linked list mechanism."
   ]
  },
  {
   "cell_type": "code",
   "execution_count": 11,
   "metadata": {
    "id": "_BBTnQosGr1W"
   },
   "outputs": [],
   "source": [
    "class Node:\n",
    "    def __init__(self, data):\n",
    "        self.data = data\n",
    "        self.next = None\n",
    "        self.prev = None\n",
    "\n",
    "    def __str__(self):\n",
    "        return str(self.data)\n",
    "    \n",
    "\n",
    "class DoublyLinkedList:\n",
    "    def __init__(self):\n",
    "        \"\"\"Implementation of a doubly linked list\"\"\"\n",
    "        self._head = None\n",
    "        self._size = 0\n",
    "\n",
    "    def head(self):\n",
    "        \"\"\"Method to get head of the list\"\"\"\n",
    "        return self._head\n",
    "        \n",
    "    def __len__(self):\n",
    "        \"\"\"Method to get the current number of elements in the list\"\"\"\n",
    "        return self._size\n",
    "\n",
    "    def is_empty(self):\n",
    "        \"\"\"Method to check if the list is empty\"\"\"\n",
    "        return self._head is None\n",
    "\n",
    "    def __getitem__(self, k):\n",
    "        \"\"\"Method to get element at index k\n",
    "        k must be non negative interger and not exceed list size\"\"\"\n",
    "        # Validation check for input is hidden\n",
    "        if k == 0:\n",
    "            return self._head.data\n",
    "        temp = self._head\n",
    "        while k > 0:\n",
    "            temp = temp.next\n",
    "            k -= 1\n",
    "        return temp\n",
    "    \n",
    "    def insert_head(self, new: Node):\n",
    "        \"\"\"Method to insert a new head to the list\"\"\"\n",
    "        if self.is_empty():\n",
    "            self._head = new\n",
    "        else:\n",
    "            new.next = self._head\n",
    "            self._head.prev = new\n",
    "            self._head = new\n",
    "        self._size += 1\n",
    "        \n",
    "    def __delitem__(self, k):\n",
    "        \"\"\"Method to delete element at index k of the list\n",
    "        k must be non negative interger and not exceed list size\"\"\"\n",
    "        if not isinstance(k, int):\n",
    "            raise IndexError(\"Index must be positive integer\")\n",
    "        else:\n",
    "            if k < 0:\n",
    "                raise IndexError(\"Index must be positive integer\")\n",
    "            elif k >= self._size:\n",
    "                raise IndexError(\"Index out of range\")\n",
    "        node = self._head\n",
    "        if k == 0:\n",
    "            self._head = node.next\n",
    "            self._head.prev = None\n",
    "        else:\n",
    "            while k > 1:\n",
    "                node = node.next\n",
    "                k -= 1\n",
    "            node.next = node.next.next\n",
    "            if node.next:\n",
    "                node.next.prev = node\n",
    "        self._size -= 1\n",
    "        \n",
    "    def sort_by_value(self):\n",
    "        \"\"\"Method to sort the list by value from lowest to highest\"\"\"\n",
    "        node = self._head\n",
    "        while node:\n",
    "            temp = node.next\n",
    "            while temp:\n",
    "                if node.data > temp.data:\n",
    "                    node.data, temp.data = temp.data, node.data\n",
    "                temp = temp.next\n",
    "            node = node.next\n",
    "    \n",
    "    def sort_by_value_de(self):\n",
    "        \"\"\"Method to sort the list by value from highest to lowest\"\"\"\n",
    "        node = self._head\n",
    "        while node:\n",
    "            temp = node.next\n",
    "            while temp:\n",
    "                if node.data < temp.data:\n",
    "                    node.data, temp.data = temp.data, node.data\n",
    "                temp = temp.next\n",
    "            node = node.next\n",
    "    \n",
    "    def reverse(self):\n",
    "        node = self._head\n",
    "        while node:\n",
    "            node.next, node.prev = node.prev, node.next\n",
    "            if not node.prev:\n",
    "                self._head = node\n",
    "            node = node.prev\n",
    "        \n",
    "    def __repr__(self):\n",
    "        output = ''\n",
    "        temp = self._head\n",
    "        while temp:\n",
    "            output += str(temp) + '\\t'\n",
    "            temp = temp.next\n",
    "        return output"
   ]
  },
  {
   "cell_type": "markdown",
   "metadata": {
    "id": "mtvpLMStGxA8"
   },
   "source": [
    "**Part 1.2 (1 point)** Now check your implementation by performing following tasks:\n",
    "1. Create a doubly linked list containing nodes in listNum\n",
    "2. Try deleting elements at the following indices \n",
    "\n",
    "```\n",
    "k = [0, 15, 'end']\n",
    "```\n",
    "3. Delete elements whose values are higher than 100.\n",
    "4. Sort the list by the node's values in descending order (from highest to lowest)."
   ]
  },
  {
   "cell_type": "code",
   "execution_count": 12,
   "metadata": {
    "id": "Ik91rdydGujT"
   },
   "outputs": [],
   "source": [
    "listNum = [Node(101), Node(50), Node(45), Node(90), Node(72), Node(18), Node(107), Node(84), Node(200)]"
   ]
  },
  {
   "cell_type": "code",
   "execution_count": 13,
   "metadata": {},
   "outputs": [
    {
     "name": "stdout",
     "output_type": "stream",
     "text": [
      "200\t84\t107\t18\t72\t90\t45\t50\t101\t\n"
     ]
    }
   ],
   "source": [
    "# 1. create a doubly linked list\n",
    "test = DoublyLinkedList()\n",
    "for num in listNum:\n",
    "    test.insert_head(num)\n",
    "print(test)"
   ]
  },
  {
   "cell_type": "code",
   "execution_count": 14,
   "metadata": {},
   "outputs": [
    {
     "name": "stdout",
     "output_type": "stream",
     "text": [
      "84\t107\t18\t72\t90\t45\t50\t101\t\n"
     ]
    }
   ],
   "source": [
    "# 2. deleting - index 0\n",
    "del test[0]\n",
    "print(test)"
   ]
  },
  {
   "cell_type": "code",
   "execution_count": 15,
   "metadata": {},
   "outputs": [
    {
     "ename": "IndexError",
     "evalue": "Index out of range",
     "output_type": "error",
     "traceback": [
      "\u001b[1;31m---------------------------------------------------------------------------\u001b[0m",
      "\u001b[1;31mIndexError\u001b[0m                                Traceback (most recent call last)",
      "\u001b[1;32m~\\AppData\\Local\\Temp\\ipykernel_4440\\33566309.py\u001b[0m in \u001b[0;36m<module>\u001b[1;34m\u001b[0m\n\u001b[0;32m      1\u001b[0m \u001b[1;31m# deleting - index 15\u001b[0m\u001b[1;33m\u001b[0m\u001b[1;33m\u001b[0m\u001b[0m\n\u001b[1;32m----> 2\u001b[1;33m \u001b[1;32mdel\u001b[0m \u001b[0mtest\u001b[0m\u001b[1;33m[\u001b[0m\u001b[1;36m15\u001b[0m\u001b[1;33m]\u001b[0m\u001b[1;33m\u001b[0m\u001b[1;33m\u001b[0m\u001b[0m\n\u001b[0m\u001b[0;32m      3\u001b[0m \u001b[0mprint\u001b[0m\u001b[1;33m(\u001b[0m\u001b[0mtest\u001b[0m\u001b[1;33m)\u001b[0m\u001b[1;33m\u001b[0m\u001b[1;33m\u001b[0m\u001b[0m\n",
      "\u001b[1;32m~\\AppData\\Local\\Temp\\ipykernel_4440\\1511844244.py\u001b[0m in \u001b[0;36m__delitem__\u001b[1;34m(self, k)\u001b[0m\n\u001b[0;32m     58\u001b[0m                 \u001b[1;32mraise\u001b[0m \u001b[0mIndexError\u001b[0m\u001b[1;33m(\u001b[0m\u001b[1;34m\"Index must be positive integer\"\u001b[0m\u001b[1;33m)\u001b[0m\u001b[1;33m\u001b[0m\u001b[1;33m\u001b[0m\u001b[0m\n\u001b[0;32m     59\u001b[0m             \u001b[1;32melif\u001b[0m \u001b[0mk\u001b[0m \u001b[1;33m>=\u001b[0m \u001b[0mself\u001b[0m\u001b[1;33m.\u001b[0m\u001b[0m_size\u001b[0m\u001b[1;33m:\u001b[0m\u001b[1;33m\u001b[0m\u001b[1;33m\u001b[0m\u001b[0m\n\u001b[1;32m---> 60\u001b[1;33m                 \u001b[1;32mraise\u001b[0m \u001b[0mIndexError\u001b[0m\u001b[1;33m(\u001b[0m\u001b[1;34m\"Index out of range\"\u001b[0m\u001b[1;33m)\u001b[0m\u001b[1;33m\u001b[0m\u001b[1;33m\u001b[0m\u001b[0m\n\u001b[0m\u001b[0;32m     61\u001b[0m         \u001b[0mnode\u001b[0m \u001b[1;33m=\u001b[0m \u001b[0mself\u001b[0m\u001b[1;33m.\u001b[0m\u001b[0m_head\u001b[0m\u001b[1;33m\u001b[0m\u001b[1;33m\u001b[0m\u001b[0m\n\u001b[0;32m     62\u001b[0m         \u001b[1;32mif\u001b[0m \u001b[0mk\u001b[0m \u001b[1;33m==\u001b[0m \u001b[1;36m0\u001b[0m\u001b[1;33m:\u001b[0m\u001b[1;33m\u001b[0m\u001b[1;33m\u001b[0m\u001b[0m\n",
      "\u001b[1;31mIndexError\u001b[0m: Index out of range"
     ]
    }
   ],
   "source": [
    "# deleting - index 15\n",
    "del test[15]\n",
    "print(test)"
   ]
  },
  {
   "cell_type": "code",
   "execution_count": 16,
   "metadata": {},
   "outputs": [
    {
     "ename": "IndexError",
     "evalue": "Index must be positive integer",
     "output_type": "error",
     "traceback": [
      "\u001b[1;31m---------------------------------------------------------------------------\u001b[0m",
      "\u001b[1;31mIndexError\u001b[0m                                Traceback (most recent call last)",
      "\u001b[1;32m~\\AppData\\Local\\Temp\\ipykernel_4440\\2976925456.py\u001b[0m in \u001b[0;36m<module>\u001b[1;34m\u001b[0m\n\u001b[0;32m      1\u001b[0m \u001b[1;31m# deleting - index 'end'\u001b[0m\u001b[1;33m\u001b[0m\u001b[1;33m\u001b[0m\u001b[0m\n\u001b[1;32m----> 2\u001b[1;33m \u001b[1;32mdel\u001b[0m \u001b[0mtest\u001b[0m\u001b[1;33m[\u001b[0m\u001b[1;34m'end'\u001b[0m\u001b[1;33m]\u001b[0m\u001b[1;33m\u001b[0m\u001b[1;33m\u001b[0m\u001b[0m\n\u001b[0m\u001b[0;32m      3\u001b[0m \u001b[0mprint\u001b[0m\u001b[1;33m(\u001b[0m\u001b[0mtest\u001b[0m\u001b[1;33m)\u001b[0m\u001b[1;33m\u001b[0m\u001b[1;33m\u001b[0m\u001b[0m\n",
      "\u001b[1;32m~\\AppData\\Local\\Temp\\ipykernel_4440\\1511844244.py\u001b[0m in \u001b[0;36m__delitem__\u001b[1;34m(self, k)\u001b[0m\n\u001b[0;32m     53\u001b[0m         k must be non negative interger and not exceed list size\"\"\"\n\u001b[0;32m     54\u001b[0m         \u001b[1;32mif\u001b[0m \u001b[1;32mnot\u001b[0m \u001b[0misinstance\u001b[0m\u001b[1;33m(\u001b[0m\u001b[0mk\u001b[0m\u001b[1;33m,\u001b[0m \u001b[0mint\u001b[0m\u001b[1;33m)\u001b[0m\u001b[1;33m:\u001b[0m\u001b[1;33m\u001b[0m\u001b[1;33m\u001b[0m\u001b[0m\n\u001b[1;32m---> 55\u001b[1;33m             \u001b[1;32mraise\u001b[0m \u001b[0mIndexError\u001b[0m\u001b[1;33m(\u001b[0m\u001b[1;34m\"Index must be positive integer\"\u001b[0m\u001b[1;33m)\u001b[0m\u001b[1;33m\u001b[0m\u001b[1;33m\u001b[0m\u001b[0m\n\u001b[0m\u001b[0;32m     56\u001b[0m         \u001b[1;32melse\u001b[0m\u001b[1;33m:\u001b[0m\u001b[1;33m\u001b[0m\u001b[1;33m\u001b[0m\u001b[0m\n\u001b[0;32m     57\u001b[0m             \u001b[1;32mif\u001b[0m \u001b[0mk\u001b[0m \u001b[1;33m<\u001b[0m \u001b[1;36m0\u001b[0m\u001b[1;33m:\u001b[0m\u001b[1;33m\u001b[0m\u001b[1;33m\u001b[0m\u001b[0m\n",
      "\u001b[1;31mIndexError\u001b[0m: Index must be positive integer"
     ]
    }
   ],
   "source": [
    "# deleting - index 'end'\n",
    "del test['end']\n",
    "print(test)"
   ]
  },
  {
   "cell_type": "code",
   "execution_count": 17,
   "metadata": {
    "scrolled": true
   },
   "outputs": [
    {
     "name": "stdout",
     "output_type": "stream",
     "text": [
      "84\t18\t72\t90\t45\t50\t\n",
      "18\t72\t90\t45\t50\t\n"
     ]
    }
   ],
   "source": [
    "# 3. Delete elements whose values are higher than 100.\n",
    "count = 0\n",
    "while count < len(test):\n",
    "    if int(str(test[count])) > 100:\n",
    "        del test[count]\n",
    "    else:\n",
    "        count += 1\n",
    "print(test)\n",
    "del test[0]\n",
    "print(test)"
   ]
  },
  {
   "cell_type": "code",
   "execution_count": 18,
   "metadata": {},
   "outputs": [
    {
     "name": "stdout",
     "output_type": "stream",
     "text": [
      "90\t72\t50\t45\t18\t\n"
     ]
    }
   ],
   "source": [
    "# 4. Sorting\n",
    "test.sort_by_value_de()\n",
    "print(test)"
   ]
  },
  {
   "cell_type": "code",
   "execution_count": 20,
   "metadata": {},
   "outputs": [
    {
     "name": "stdout",
     "output_type": "stream",
     "text": [
      "90\t72\t50\t45\t18\t\n"
     ]
    }
   ],
   "source": [
    "# 4. Sorting\n",
    "test.sort_by_value()\n",
    "test.reverse()\n",
    "print(test)"
   ]
  },
  {
   "cell_type": "markdown",
   "metadata": {
    "id": "UEzkba9MG_Ed"
   },
   "source": [
    "**Part 2. (0.5 point)** Using only the DoublyLinkedList in part 1 to implement a function to convert a ternary number to a decimal number."
   ]
  },
  {
   "cell_type": "code",
   "execution_count": 22,
   "metadata": {
    "id": "1bXpIxA9GugT"
   },
   "outputs": [],
   "source": [
    "def ter_to_dec(terNum):\n",
    "    ter = DoublyLinkedList()\n",
    "    check = True\n",
    "    if terNum < 0:\n",
    "        terNum = -terNum\n",
    "        check = False\n",
    "    while terNum != 0:\n",
    "        data = terNum%10\n",
    "        ter.insert_head(Node(data))\n",
    "        terNum = terNum//10\n",
    "    dec = 0\n",
    "    index = len(ter)-1\n",
    "    for i in range(len(ter)):\n",
    "        dec += int(str(ter[index]))*(3**i)\n",
    "        index -= 1\n",
    "    if check:\n",
    "        return dec\n",
    "    return -dec"
   ]
  },
  {
   "cell_type": "code",
   "execution_count": 23,
   "metadata": {
    "id": "9LaeK1PzwUkX"
   },
   "outputs": [],
   "source": [
    "terNums = [100, 12, -22, 1002, 212]"
   ]
  },
  {
   "cell_type": "markdown",
   "metadata": {
    "id": "HTd0GhJmIInt"
   },
   "source": [
    "CÁN BỘ COI THI KHÔNG GIẢI THÍCH GÌ THÊM"
   ]
  },
  {
   "cell_type": "code",
   "execution_count": 24,
   "metadata": {
    "id": "WpacHMd3GuVB"
   },
   "outputs": [
    {
     "name": "stdout",
     "output_type": "stream",
     "text": [
      "100 \n",
      "Output: 9\n",
      "\n",
      "12 \n",
      "Output: 5\n",
      "\n",
      "-22 \n",
      "Output: -8\n",
      "\n",
      "1002 \n",
      "Output: 29\n",
      "\n",
      "212 \n",
      "Output: 23\n",
      "\n"
     ]
    }
   ],
   "source": [
    "for terNum in terNums:\n",
    "    print(terNum, \"\\nOutput:\", ter_to_dec(terNum), end = '\\n\\n')"
   ]
  }
 ],
 "metadata": {
  "colab": {
   "provenance": []
  },
  "kernelspec": {
   "display_name": "Python 3 (ipykernel)",
   "language": "python",
   "name": "python3"
  },
  "language_info": {
   "codemirror_mode": {
    "name": "ipython",
    "version": 3
   },
   "file_extension": ".py",
   "mimetype": "text/x-python",
   "name": "python",
   "nbconvert_exporter": "python",
   "pygments_lexer": "ipython3",
   "version": "3.9.13"
  }
 },
 "nbformat": 4,
 "nbformat_minor": 1
}
