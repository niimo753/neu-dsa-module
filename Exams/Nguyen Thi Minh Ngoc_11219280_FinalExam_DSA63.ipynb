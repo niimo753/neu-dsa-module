{
 "cells": [
  {
   "cell_type": "markdown",
   "metadata": {
    "id": "-RmQ-l0OMWxu"
   },
   "source": [
    "**THÔNG TIN CÁ NHÂN**:\n",
    "\n",
    "\n",
    "*   Họ và tên: Nguyễn Thị Minh Ngọc\n",
    "*   STT trong danh sách: 34\n",
    "* Mã sinh viên: 11219280"
   ]
  },
  {
   "cell_type": "markdown",
   "metadata": {
    "id": "-Isaih7HsO49"
   },
   "source": [
    "BÀI NỘP DƯỚI DẠNG FILE NOTEBOOK! \n",
    "\n",
    "---\n",
    "SINH VIÊN KHÔNG ĐƯỢC SỬ DỤNG INTERNET, THƯ VIỆN (NẾU KHÔNG ĐƯỢC THÔNG BÁO) HAY BẤT CỨ TÀI LIỆU NÀO TRÊN MÁY TÍNH ĐỂ THAM KHẢO. ĐƯỢC PHÉP SỬ DỤNG PYCHARM HOẶC CÁC IDE KHÁC ĐỂ DEBUG.\n",
    "\n",
    "---\n",
    "ĐỊNH DẠNG TÊN FILE NỘP BÀI:\n",
    "TÊN_SINH_VIÊN_MÃ_SINH_VIÊN_FINAL_DSA.ipynb\n",
    "\n",
    "---\n",
    "\n",
    "SINH VIÊN CHÚ Ý: 0.5 điểm trình bày, các sinh viên cố gắng viết comment ngắn để giải thích logic của bài. Nếu code quá khó hiểu mà không có giải thích, bài thi sẽ không có điểm trình bày."
   ]
  },
  {
   "cell_type": "markdown",
   "metadata": {
    "id": "8OxKxVTCMeSs"
   },
   "source": [
    "# PROBLEM 1: (1.5 point)\n",
    "### **Part 1.1** (1 point)\n",
    "Using **Recursion** to write a function to calculate the power of a number.\n"
   ]
  },
  {
   "cell_type": "code",
   "execution_count": 1,
   "metadata": {
    "id": "kfKRf0Awo83d"
   },
   "outputs": [],
   "source": [
    "def calculate_power(num, power, negative=False):\n",
    "    \"\"\"Input: num must be a number\n",
    "    power must be an integer\"\"\"\n",
    "    if not isinstance(power, int):\n",
    "        raise Exception('Power must be an integer')\n",
    "    if not isinstance(power, int) and not isinstance(power, float):\n",
    "        raise Exception('Number must be in integer or float type')\n",
    "        \n",
    "    # Using negative to check if power < 0    \n",
    "    if power < 0:\n",
    "        power = -power\n",
    "        negative = True\n",
    "        \n",
    "    def power_inside(num, power):\n",
    "        if power == 0:\n",
    "            return 1\n",
    "        else:\n",
    "            return power_inside(num, power-1) * num\n",
    "        \n",
    "    num = power_inside(num, power)\n",
    "    if negative:\n",
    "        return 1/num\n",
    "    else:\n",
    "        return num"
   ]
  },
  {
   "cell_type": "markdown",
   "metadata": {
    "id": "8LDxFU0WR3F5"
   },
   "source": [
    "### **Part 1.2** (0.5 point)\n",
    "Run the following test case to check your implementation:"
   ]
  },
  {
   "cell_type": "code",
   "execution_count": 2,
   "metadata": {
    "id": "5mESl1t_76yT"
   },
   "outputs": [
    {
     "name": "stdout",
     "output_type": "stream",
     "text": [
      "2^6 = 64\n",
      "(-4.5)^3 = -91.125\n",
      "0.5^(-3) = 8.0\n"
     ]
    }
   ],
   "source": [
    "print('2^6 =',calculate_power(2, 6))\n",
    "print('(-4.5)^3 =', calculate_power(-4.5, 3))\n",
    "print('0.5^(-3) =', calculate_power(0.5, -3))"
   ]
  },
  {
   "cell_type": "markdown",
   "metadata": {
    "id": "X0iMsBNIOg8M"
   },
   "source": [
    "# PROBLEM 2 (3.5 point)\n",
    "\n",
    "Given the following template, you can use to reference or edit to do solve this problem."
   ]
  },
  {
   "cell_type": "code",
   "execution_count": 3,
   "metadata": {
    "id": "950K5iSNOgry"
   },
   "outputs": [],
   "source": [
    "# Given FIFO Queue implementation using a Python list as underlying storage.\n",
    "class Empty(Exception):\n",
    "    \"\"\"Error attempting to access an element from an empty container.\"\"\"\n",
    "    pass\n",
    "\n",
    "class Full(Exception):\n",
    "    \"\"\"Error attempting to add an element to a full container.\"\"\"\n",
    "    pass\n",
    "\n",
    "class Queue:\n",
    "    def __init__(self):\n",
    "        self._data = []\n",
    "        self._size = 0\n",
    "        \n",
    "    def __len__(self):\n",
    "        return self._size\n",
    "        \n",
    "    def is_empty(self):\n",
    "        return self._size == 0\n",
    "    \n",
    "    def __repr__(self):\n",
    "        return str(self._data)\n",
    "    \n",
    "    def first(self):\n",
    "        if self.is_empty():\n",
    "            raise Empty(\"Queue is empty\") \n",
    "        return self._data[0]\n",
    "    \n",
    "    def dequeue(self):\n",
    "        if self.is_empty():\n",
    "            raise Empty(\"Queue is empty\") \n",
    "        self._size -= 1\n",
    "        return self._data.pop(0) \n",
    "    \n",
    "    def enqueue(self, e):\n",
    "        self._data.append(e)\n",
    "        self._size += 1"
   ]
  },
  {
   "cell_type": "code",
   "execution_count": 4,
   "metadata": {
    "id": "w51OtghpOgpM"
   },
   "outputs": [],
   "source": [
    "class Node:\n",
    "    def __init__(self, value, parent=None, left=None, right=None):\n",
    "        self.value = value\n",
    "        self.parent = parent\n",
    "        self.left = left\n",
    "        self.right = right\n",
    "        \n",
    "    def __str__(self):\n",
    "        return str(self.value)"
   ]
  },
  {
   "cell_type": "code",
   "execution_count": 5,
   "metadata": {
    "id": "irl0LOPUOnXM"
   },
   "outputs": [],
   "source": [
    "class BinaryTree:\n",
    "    def __init__(self, root=None):\n",
    "        self.root = root\n",
    "\n",
    "    def add_left(self, parent, node):\n",
    "        if parent.left:\n",
    "            raise Exception('Already has left child')\n",
    "        parent.left = node\n",
    "        node.parent = parent\n",
    "\n",
    "    def add_right(self, parent, node):\n",
    "        if not parent.left:\n",
    "            print('The left is empty. Add left first.')\n",
    "            self.add_left(parent, node)\n",
    "            return\n",
    "        if parent.right:\n",
    "            raise Exception('Already has right child')\n",
    "        parent.right = node\n",
    "        node.parent = parent\n",
    "\n",
    "    def is_root(self, node):\n",
    "        return node == self.root\n",
    "\n",
    "    def is_leaf(self, node):\n",
    "        return not node.left and not node.right\n",
    "\n",
    "    def height(self, node):\n",
    "        if not node:\n",
    "            return -1\n",
    "        else:\n",
    "            return max(self.height(node.left), self.height(node.right)) + 1\n",
    "    \n",
    "    def depth(self, node):\n",
    "        depth = 0\n",
    "        while node.parent:\n",
    "            depth += 1\n",
    "            node = node.parent\n",
    "        return depth\n",
    "    \n",
    "    def preorder(self, node):\n",
    "        if node:\n",
    "            print(node, end=' ')\n",
    "            if node.left:\n",
    "                self.preorder(node.left)\n",
    "            if node.right:\n",
    "                self.preorder(node.right)\n",
    "\n",
    "    def inorder(self, node):\n",
    "        if node:\n",
    "            if node.left:\n",
    "                self.inorder(node.left)\n",
    "            print(node, end=' ')\n",
    "            if node.right:\n",
    "                self.inorder(node.right)\n",
    "\n",
    "    def postorder(self, node):\n",
    "        if node:\n",
    "            if node.left:\n",
    "                self.postorder(node.left)\n",
    "            if node.right:\n",
    "                self.postorder(node.right)\n",
    "            print(node, end=' ')\n",
    "\n",
    "    def breadthfirst(self, node):\n",
    "        output = Queue()\n",
    "        output.enqueue(self.root)\n",
    "        while output:\n",
    "            temp = output.dequeue()\n",
    "            if temp.left:\n",
    "                output.enqueue(temp.left)\n",
    "            if temp.right:\n",
    "                output.enqueue(temp.right)\n",
    "            print(temp, end=' ')\n",
    "            \n",
    "    def __repr__(self):\n",
    "        node = self.root\n",
    "        print('Root:', end=' ')\n",
    "        def display(node, level=1):\n",
    "            if node:\n",
    "                print(node)\n",
    "                if node.left:\n",
    "                    print('  '*level, '>> L: ', sep='', end='')\n",
    "                    display(node.left, level+1)\n",
    "                if node.right:\n",
    "                    print('  '*level, '>> R: ', sep='', end='')\n",
    "                    display(node.right, level+1)\n",
    "        display(node)\n",
    "        return ''"
   ]
  },
  {
   "cell_type": "markdown",
   "metadata": {
    "id": "IFeQAcQMOrJy"
   },
   "source": [
    "### **Part 2.1** (0.5 point)\n",
    "Build a binary tree whose values are:"
   ]
  },
  {
   "cell_type": "markdown",
   "metadata": {
    "id": "XgbFKeKNO0xE"
   },
   "source": [
    "![image.png](data:image/png;base64,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)"
   ]
  },
  {
   "cell_type": "code",
   "execution_count": 6,
   "metadata": {},
   "outputs": [
    {
     "name": "stdout",
     "output_type": "stream",
     "text": [
      "Root: 1\n",
      "  >> L: 2\n",
      "    >> L: 4\n",
      "      >> L: 8\n",
      "      >> R: 9\n",
      "    >> R: 5\n",
      "  >> R: 3\n",
      "    >> L: 6\n",
      "    >> R: 7\n",
      "\n"
     ]
    }
   ],
   "source": [
    "node1 = Node(1)\n",
    "node2 = Node(2)\n",
    "node3 = Node(3)\n",
    "node4 = Node(4)\n",
    "node5 = Node(5)\n",
    "node6 = Node(6)\n",
    "node7 = Node(7)\n",
    "node8 = Node(8)\n",
    "node9 = Node(9)\n",
    "\n",
    "bt = BinaryTree(node1)\n",
    "bt.add_left(node1, node2)\n",
    "bt.add_right(node1, node3)\n",
    "bt.add_left(node2, node4)\n",
    "bt.add_right(node2, node5)\n",
    "bt.add_left(node3, node6)\n",
    "bt.add_right(node3, node7)\n",
    "bt.add_left(node4, node8)\n",
    "bt.add_right(node4, node9)\n",
    "\n",
    "print(bt)"
   ]
  },
  {
   "cell_type": "markdown",
   "metadata": {
    "id": "RroVFIpWO4BI"
   },
   "source": [
    "### **Part 2.2** (2 point)\n",
    "\n",
    "From the template, implement these methods:\n",
    "```\n",
    "1.   In-Order Traversal \n",
    "2.   Post-Order Traversal \n",
    "3.   Pre-Order Traversal \n",
    "4.   BFS\n",
    "```\n",
    "\n",
    "Use In-Order Traversal, Post-Order Traversal, Pre-Order Traversal, and Breadth-First Traversal to print out values of nodes in the created tree."
   ]
  },
  {
   "cell_type": "code",
   "execution_count": 7,
   "metadata": {},
   "outputs": [
    {
     "name": "stdout",
     "output_type": "stream",
     "text": [
      "1. In-Order Traversal: 8 4 9 2 5 1 6 3 7 \n",
      "\n",
      "2. Post-Order Traversal: 8 9 4 5 2 6 7 3 1 \n",
      "\n",
      "3. Pre-Order Traversal: 1 2 4 8 9 5 3 6 7 \n",
      "\n",
      "4. Breadth-First Traversal: 1 2 3 4 5 6 7 8 9 "
     ]
    }
   ],
   "source": [
    "print('1. In-Order Traversal:', end=' ')\n",
    "bt.inorder(node1)\n",
    "\n",
    "print('\\n\\n2. Post-Order Traversal:', end=' ')\n",
    "bt.postorder(node1)\n",
    "\n",
    "print('\\n\\n3. Pre-Order Traversal:', end=' ')\n",
    "bt.preorder(node1)\n",
    "\n",
    "print('\\n\\n4. Breadth-First Traversal:', end=' ')\n",
    "bt.breadthfirst(node1)"
   ]
  },
  {
   "cell_type": "markdown",
   "metadata": {
    "id": "zP8BJJXURLW5"
   },
   "source": [
    "### **Part 2.3** (0.5 point)\n",
    "\n",
    "From the template, implement two methods:\n",
    "```\n",
    "1.   height: The height of a node \n",
    "2.   depth: The depth of a node\n",
    "```\n",
    "\n",
    "Print out the height of node 4, the depth of node 6."
   ]
  },
  {
   "cell_type": "code",
   "execution_count": 8,
   "metadata": {},
   "outputs": [
    {
     "name": "stdout",
     "output_type": "stream",
     "text": [
      "Height of node 4: 1\n",
      "Depth of node 6: 2\n"
     ]
    }
   ],
   "source": [
    "print('Height of node 4:', bt.height(node4))\n",
    "print('Depth of node 6:', bt.depth(node6))"
   ]
  },
  {
   "cell_type": "markdown",
   "metadata": {
    "id": "xwR1klHVO-CA"
   },
   "source": [
    "### **Part 2.4** (0.5 point)\n",
    "Given the tree in section 2.1, **find the sum of all parent-child differences for all the non-leaf nodes of the given binary tree**. It is up to you to implement as a method in BinaryTree class or as a function outside of the class.\n",
    "\n",
    "Note that **parent-child difference is (parent node’s value – (sum of child node’s values)).**"
   ]
  },
  {
   "cell_type": "code",
   "execution_count": 9,
   "metadata": {},
   "outputs": [
    {
     "name": "stdout",
     "output_type": "stream",
     "text": [
      "The sum of all parent-child differences: -34\n"
     ]
    }
   ],
   "source": [
    "def parent_child_diff(bt: BinaryTree):\n",
    "    # sum_diff: sum of all parent-child differences\n",
    "    sum_diff = 0\n",
    "    \n",
    "    # btqueue: Using to collect non-leaf nodes\n",
    "    btqueue = Queue()\n",
    "    if not bt.is_leaf(bt.root):\n",
    "        btqueue.enqueue(bt.root)\n",
    "    \n",
    "    while btqueue:\n",
    "        temp = btqueue.dequeue()\n",
    "        temp_diff = temp.value # temp_diff = parent node’s value – (sum of child node’s values)\n",
    "        if temp.left:\n",
    "            temp_diff -= temp.left.value\n",
    "            if not bt.is_leaf(temp.left): # adding to btqueue if it is a non-leaf node\n",
    "                btqueue.enqueue(temp.left)\n",
    "        if temp.right:\n",
    "            temp_diff -= temp.right.value\n",
    "            if not bt.is_leaf(temp.right): # adding to btqueue if it is a non-leaf node\n",
    "                btqueue.enqueue(temp.right)\n",
    "        sum_diff += temp_diff\n",
    "    return sum_diff\n",
    "\n",
    "print('The sum of all parent-child differences:', parent_child_diff(bt))"
   ]
  },
  {
   "cell_type": "markdown",
   "metadata": {
    "id": "r0Kw13u-PCrF"
   },
   "source": [
    "> Output: -34\n",
    "\n",
    "**Explanation:**\n",
    "\n",
    "1st parent-child difference = 1 - (2 + 3) = -4\n",
    "\n",
    "2nd parent-child difference = 2 - (4 + 5) = -7\n",
    "\n",
    "3rd parent-child difference = 3 - (6 + 7) = -10\n",
    "\n",
    "4th parent-child difference = 4 - (8 + 9) = -13\n",
    "\n",
    "**Total sum = -34**\n",
    "\n",
    "Note: You are allowed to use **numpy**."
   ]
  },
  {
   "cell_type": "markdown",
   "metadata": {
    "id": "Z5__Af7JPlWD"
   },
   "source": [
    "# PROBLEM 3: (3 point)\n",
    "### **Part 3.1** (2 point)\n",
    "Given **BinaryMaxHeap** class and Item class templates as below. Implement method remove_max and min_heap_sort for the heap:\n",
    "\n",
    "**Method description:**\n",
    "- Method **remove_max** will remove the node with maximum key of the heap and re-organize the structure with remaining items. This method also returns the removed item.\n",
    "- Method **min_heap_sort** will take a list of items as input. For simplicity, you will not have to implement any validation check for this method. The list is in random order. min_heap_sort will sort the input list by key in ascending order (i.e from lowest to highest) using heapifying mechanism and time complexity of worst case is O(nlogN) with N is equivalent to the list length.\n",
    "- You can implement more methods to support compulsory ones.\n",
    "\n",
    "Note: In method add, for simplicity, we will assume that there will be no duplicated new input key."
   ]
  },
  {
   "cell_type": "code",
   "execution_count": 10,
   "metadata": {
    "id": "nY9P2nb9OnPJ"
   },
   "outputs": [],
   "source": [
    "class Item:\n",
    "    def __init__(self, k, v):\n",
    "        self.key = k\n",
    "        self.value = v\n",
    "        \n",
    "    def __lt__(self, other):\n",
    "        return self.key < other.key\n",
    "    \n",
    "    def __gt__(self, other):\n",
    "        return self.key > other.key\n",
    "    \n",
    "    def __eq__(self, other):\n",
    "        return self.key == other.key\n",
    "\n",
    "    def __repr__(self):\n",
    "        return f'({self.key}, {self.value})'"
   ]
  },
  {
   "cell_type": "code",
   "execution_count": 11,
   "metadata": {
    "id": "XBPEUgpgPrHI"
   },
   "outputs": [],
   "source": [
    "class MaxHeap:\n",
    "    def __init__(self):\n",
    "        \"\"\"Initialization of Binary Max Heap object\"\"\"\n",
    "        self._data = []\n",
    "\n",
    "    def is_empty(self):\n",
    "        \"\"\"Method to check if the heap is empty\"\"\"\n",
    "        return len(self._data) == 0\n",
    "        \n",
    "    def _parent(self, j):\n",
    "        \"\"\"Method to return index of parent of element j in self._data\"\"\"\n",
    "        if not isinstance(j, int) or abs(j) >= len(self._data):\n",
    "            raise Exception('Invalid Input')\n",
    "        if j == 0:\n",
    "            return 0\n",
    "        else:\n",
    "            return (j - 1) // 2\n",
    "        \n",
    "    def _left(self, j):\n",
    "        \"\"\"Method to return index of left child of element j in self._data\"\"\"\n",
    "        if not isinstance(j, int) or abs(j) >= len(self._data):\n",
    "            raise Exception('Invalid Input')\n",
    "        return 2 * j + 1\n",
    "    \n",
    "    def _right(self, j):\n",
    "        \"\"\"Method to return index of right child of element j in self._data\"\"\"\n",
    "        if not isinstance(j, int) or abs(j) >= len(self._data):\n",
    "            raise Exception('Invalid Input')\n",
    "        return 2 * j + 2\n",
    "    \n",
    "    def _has_left(self, j):\n",
    "        \"\"\"Method to check if element j in self._data has left child\"\"\"\n",
    "        if not isinstance(j, int) or abs(j) >= len(self._data):\n",
    "            raise Exception('Invalid Input')\n",
    "        return self._left(j) < len(self._data)\n",
    "    \n",
    "    def _has_right(self, j):\n",
    "        \"\"\"Method to check if element j in self._data has right child\"\"\"\n",
    "        if not isinstance(j, int) or abs(j) >= len(self._data):\n",
    "            raise Exception('Invalid Input')\n",
    "        return self._right(j) < len(self._data)\n",
    "\n",
    "    def _swap(self, i, j):\n",
    "        if not isinstance(j, int) or abs(j) >= len(self._data):\n",
    "            raise Exception('Invalid Input')\n",
    "        if not isinstance(i, int) or abs(i) >= len(self._data):\n",
    "            raise Exception('Invalid Input')\n",
    "\n",
    "        self._data[i], self._data[j] = self._data[j], self._data[i]\n",
    "\n",
    "    def add(self, item: Item):\n",
    "        \"\"\"Method to add a new item into the heap\n",
    "        Validation: item's key must be a number\"\"\"\n",
    "        if not isinstance(item.key, float) and not isinstance(item.key, int):\n",
    "            raise Exception('Item key must be a number')\n",
    "        self._data.append(item)\n",
    "        n = len(self._data) - 1\n",
    "        parent = self._parent(n)\n",
    "        while item > self._data[parent] and n >= 0:\n",
    "            self._swap(n, parent)\n",
    "            n = parent\n",
    "            parent = self._parent(n)\n",
    "            \n",
    "    def max_heapify(self, index, size):\n",
    "        \"\"\"Method to re-organized structure (into max heap form)\"\"\"\n",
    "        maxindex = index\n",
    "        if self._left(index) < size and self._data[self._left(index)] > self._data[index]:\n",
    "            maxindex = self._left(index)\n",
    "        if self._right(index) < size and self._data[self._right(index)] > self._data[maxindex]:\n",
    "            maxindex = self._right(index)\n",
    "        if maxindex != index:\n",
    "            self._swap(maxindex, index)\n",
    "            self.max_heapify(maxindex, size)\n",
    "            \n",
    "    def get_max(self):\n",
    "        \"\"\"Method to return the maximum value in the heap\n",
    "        Validation: this method does not work for empty heap\"\"\"\n",
    "        if self.is_empty():\n",
    "            return Exception('Heap is empty!')\n",
    "        else:\n",
    "            return self._data[0]\n",
    "    \n",
    "    def remove_max(self):\n",
    "        \"\"\"Method to remove the maximum value of the heap and print the removed item\n",
    "        Validation: this method does not work for empty heap\"\"\"\n",
    "        if self.is_empty():\n",
    "            return Exception('Heap is empty!')\n",
    "        if len(self._data) == 1:\n",
    "            removed = self._data.pop()\n",
    "        else:\n",
    "            removed = self._data[0]\n",
    "            self._data[0] = self._data.pop()\n",
    "            self.max_heapify(0, len(self._data))\n",
    "        return removed\n",
    "        \n",
    "    def min_heap_sort(self, array):\n",
    "        \"\"\"Method to sort the input array from lowest to highest in key\n",
    "        No validation check required\"\"\"\n",
    "        temp = MaxHeap()\n",
    "        for item in array:\n",
    "            temp.add(item)\n",
    "        for i in range(len(temp._data)-1, 0, -1):\n",
    "            temp._swap(0, i)\n",
    "            temp.max_heapify(0, i)\n",
    "        return temp\n",
    "            \n",
    "    def __repr__(self):\n",
    "        \"\"\"Method to return a string representation of the heap\"\"\"\n",
    "        return str(self._data)"
   ]
  },
  {
   "cell_type": "markdown",
   "metadata": {
    "id": "NUxpOghxPupA"
   },
   "source": [
    "### **Part 3.2** (1 point) \n",
    "Run the following test case to check your implementation:\n",
    "1. Create a binary max heap and add all items in itemList into it.\n",
    "2. Call the remove_max method twice. Print out the heap each time.\n",
    "3. Call the method min_heap_sort to sort numList from lowest to highest and print out the result."
   ]
  },
  {
   "cell_type": "code",
   "execution_count": 12,
   "metadata": {
    "id": "71uJiPPnPsvh"
   },
   "outputs": [],
   "source": [
    "itemList = [Item(7, 'G'), Item(1, 'Q'), Item(4, 'Y'), Item(5, 'K'), Item(2, 'D'),\n",
    "            Item(15, 'M'), Item(0, 'J'), Item(3, 'E'), Item(11, 'H'), Item(8, 'F'),\n",
    "            Item(-1, 'Z'), Item(6, 'L')]\n",
    "\n",
    "numList = {1: 'one', 6: 'six', 9: 'nine', 2: 'two', 4: 'four', -3: 'minus three',\n",
    "           0: 'zero', -1: 'minus one', 5: 'five', 3: 'three', 14: 'fourteen', 7: 'seven'}"
   ]
  },
  {
   "cell_type": "code",
   "execution_count": 13,
   "metadata": {
    "id": "W1Gi61qkPssj"
   },
   "outputs": [
    {
     "name": "stdout",
     "output_type": "stream",
     "text": [
      "[(15, M), (11, H), (7, G), (5, K), (8, F), (6, L), (0, J), (1, Q), (3, E), (2, D), (-1, Z), (4, Y)]\n"
     ]
    }
   ],
   "source": [
    "# 1. Create a binary max heap and add all items in itemList into it\n",
    "bmh = MaxHeap()\n",
    "for i in itemList:\n",
    "    bmh.add(i)\n",
    "print(bmh)"
   ]
  },
  {
   "cell_type": "code",
   "execution_count": 14,
   "metadata": {},
   "outputs": [
    {
     "name": "stdout",
     "output_type": "stream",
     "text": [
      "Remove max: (15, M)\n",
      ">>> [(11, H), (8, F), (7, G), (5, K), (4, Y), (6, L), (0, J), (1, Q), (3, E), (2, D), (-1, Z)]\n",
      "\n",
      "Remove max: (11, H)\n",
      ">>> [(8, F), (5, K), (7, G), (3, E), (4, Y), (6, L), (0, J), (1, Q), (-1, Z), (2, D)]\n"
     ]
    }
   ],
   "source": [
    "# 2. Call the remove_max method twice. Print out the heap each time\n",
    "print('Remove max:', bmh.remove_max())\n",
    "print('>>>', bmh)\n",
    "\n",
    "print('\\nRemove max:', bmh.remove_max())\n",
    "print('>>>', bmh)"
   ]
  },
  {
   "cell_type": "code",
   "execution_count": 15,
   "metadata": {},
   "outputs": [
    {
     "name": "stdout",
     "output_type": "stream",
     "text": [
      "[(-3, minus three), (-1, minus one), (0, zero), (1, one), (2, two), (3, three), (4, four), (5, five), (6, six), (7, seven), (9, nine), (14, fourteen)]\n"
     ]
    }
   ],
   "source": [
    "# 3. Call the method min_heap_sort to sort numList from lowest to highest and print out the result\n",
    "bmn_2 = MaxHeap()\n",
    "numList_arr = []\n",
    "for key in numList:\n",
    "    numList_arr.append(Item(key, numList[key]))\n",
    "    \n",
    "print(bmn_2.min_heap_sort(numList_arr))"
   ]
  },
  {
   "cell_type": "markdown",
   "metadata": {
    "id": "Q-7Ct97wP7S6"
   },
   "source": [
    "# PROBLEM 4: (2 point)\n",
    "### **Part 4.1** (1.5 point)\n",
    "Implement a Hashing class with Separate Chaining method.\n"
   ]
  },
  {
   "cell_type": "code",
   "execution_count": 16,
   "metadata": {
    "id": "ztQvHrwBQX6M"
   },
   "outputs": [],
   "source": [
    "from tabulate import tabulate\n",
    "\n",
    "class Node:\n",
    "    def __init__(self, data, next = None):\n",
    "        self.data = data\n",
    "        self.next = next\n",
    "        \n",
    "    def __repr__(self):\n",
    "        return str(self.data)\n",
    "\n",
    "class SepChainHash:\n",
    "    def __init__(self, size):\n",
    "        self._size = size\n",
    "        self._table = [None]*size\n",
    "\n",
    "    def hash(self, key):\n",
    "        if isinstance(key, bool):\n",
    "            key = str(key)\n",
    "        if isinstance(key, str):\n",
    "            key = sum([ord(i) for i in key])\n",
    "        return round(key%self._size)\n",
    "\n",
    "    def add(self, key, val):\n",
    "        index = self.hash(key)\n",
    "        if not self._table[index]:\n",
    "            self._table[index] = Node([key, val])\n",
    "        else:\n",
    "            node = self._table[index]\n",
    "            while node:\n",
    "                if node.data[0] == key: # update if there are duplicated keys\n",
    "                    node.data[1] = val\n",
    "                    break\n",
    "                if not node.next:\n",
    "                    node.next = Node([key, val])\n",
    "                node = node.next\n",
    "\n",
    "    def __getitem__(self, key):\n",
    "        index = self.hash(key)\n",
    "        node = self._table[index]\n",
    "        while node:\n",
    "            if node.data[0] == key:\n",
    "                return node\n",
    "            node = node.next\n",
    "        return None\n",
    "\n",
    "    def delete(self, key):\n",
    "        index = self.hash(key)\n",
    "        node = self._table[index]\n",
    "        removed = None\n",
    "        if node.data[0] == key:\n",
    "            removed = node\n",
    "            self._table[index] = node.next\n",
    "        else:\n",
    "            while node.next:\n",
    "                if node.next.data[0] == key:\n",
    "                    removed = node.next\n",
    "                    node.next = node.next.next\n",
    "                    break\n",
    "                node = node.next\n",
    "        if not removed:\n",
    "            raise Exception('Key cannot be found')\n",
    "\n",
    "    def __str__(self):\n",
    "        output = []\n",
    "        for i in range(len(self._table)):\n",
    "            temp = []\n",
    "            temp.append(i)\n",
    "            if self._table[i]:\n",
    "                node = self._table[i]\n",
    "                while node:\n",
    "                    if isinstance(node.data[0], str):\n",
    "                        key = f\"'{node.data[0]}'\"\n",
    "                    else:\n",
    "                        key = node.data[0]\n",
    "                    if isinstance(node.data[1], str):\n",
    "                        value = f\"'{node.data[1]}'\"\n",
    "                    else:\n",
    "                        value = node.data[1]\n",
    "                    node = node.next\n",
    "                    temp.append(f'{key}: {value}')\n",
    "            else:\n",
    "                temp.append(self._table[i])\n",
    "            output.append(temp)\n",
    "        print(tabulate(output, tablefmt='fancy_grid'))\n",
    "        return ''"
   ]
  },
  {
   "cell_type": "markdown",
   "metadata": {
    "id": "dlGOiYR5RZRw"
   },
   "source": [
    "### **Part 4.2** (0.5 point)\n",
    "Run the following test case to check your implementation:"
   ]
  },
  {
   "cell_type": "code",
   "execution_count": 17,
   "metadata": {
    "id": "5faixLJFQaB5"
   },
   "outputs": [
    {
     "name": "stdout",
     "output_type": "stream",
     "text": [
      "Chain:\n",
      "╒═══╤════════╤════════╕\n",
      "│ 0 │ 9: 'b' │        │\n",
      "├───┼────────┼────────┤\n",
      "│ 1 │ 4: 'a' │ 1: 'f' │\n",
      "├───┼────────┼────────┤\n",
      "│ 2 │ 8: 'd' │ 2: 'e' │\n",
      "╘═══╧════════╧════════╛\n",
      "\n",
      "Chain[9] = [9, 'b']\n",
      "Chain[4] = [4, 'a']\n",
      "\n",
      "Delete item with key 4:\n",
      "╒═══╤════════╤════════╕\n",
      "│ 0 │ 9: 'b' │        │\n",
      "├───┼────────┼────────┤\n",
      "│ 1 │ 1: 'f' │        │\n",
      "├───┼────────┼────────┤\n",
      "│ 2 │ 8: 'd' │ 2: 'e' │\n",
      "╘═══╧════════╧════════╛\n",
      "\n"
     ]
    }
   ],
   "source": [
    "## Run this block of code to check if all method work well\n",
    "\n",
    "data = [(4, 'a'), (9, 'b'), (1, 'c'), (8, 'd'), (2, 'e'), (1, 'f')]\n",
    "chain = SepChainHash(3)\n",
    "\n",
    "for (k, v) in data:\n",
    "    chain.add(k, v)\n",
    "\n",
    "print('Chain:')\n",
    "print(chain)\n",
    "print('Chain[9] =', chain[9])\n",
    "print('Chain[4] =', chain[4])\n",
    "print('\\nDelete item with key 4:')\n",
    "chain.delete(4)\n",
    "print(chain)"
   ]
  },
  {
   "cell_type": "markdown",
   "metadata": {
    "id": "yIlFCcnjQlRO"
   },
   "source": [
    "Giám thị coi thi không giải thích gì thêm!"
   ]
  }
 ],
 "metadata": {
  "colab": {
   "provenance": []
  },
  "kernelspec": {
   "display_name": "Python 3 (ipykernel)",
   "language": "python",
   "name": "python3"
  },
  "language_info": {
   "codemirror_mode": {
    "name": "ipython",
    "version": 3
   },
   "file_extension": ".py",
   "mimetype": "text/x-python",
   "name": "python",
   "nbconvert_exporter": "python",
   "pygments_lexer": "ipython3",
   "version": "3.9.13"
  }
 },
 "nbformat": 4,
 "nbformat_minor": 1
}
