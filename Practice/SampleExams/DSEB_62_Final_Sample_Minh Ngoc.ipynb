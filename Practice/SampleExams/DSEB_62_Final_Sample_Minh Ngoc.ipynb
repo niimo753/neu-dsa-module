{
 "cells": [
  {
   "cell_type": "markdown",
   "metadata": {
    "id": "4tJxMrBSzIEX"
   },
   "source": [
    "BÀI NỘP DƯỚI DẠNG FILE NOTEBOOK! \n",
    "\n",
    "---\n",
    "SINH VIÊN KHÔNG ĐƯỢC SỬ DỤNG INTERNET, THƯ VIỆN (NẾU KHÔNG ĐƯỢC THÔNG BÁO) HAY BẤT CỨ TÀI LIỆU NÀO TRÊN MÁY TÍNH ĐỂ THAM KHẢO. ĐƯỢC PHÉP SỬ DỤNG PYCHARM HOẶC CÁC IDE KHÁC ĐỂ DEBUG.\n",
    "\n",
    "---\n",
    "ĐỊNH DẠNG TÊN FILE NỘP BÀI:\n",
    "TÊN_SINH_VIÊN_MÃ_SINH_VIÊN_FINAL_DSA.ipynb\n",
    "\n",
    "---\n",
    "\n",
    "SINH VIÊN CHÚ Ý: 0.5 điểm trình bày, các sinh viên cố gắng viết comment ngắn để giải thích logic của bài. Nếu code quá khó hiểu mà không có giải thích, bài thi sẽ không có điểm trình bày."
   ]
  },
  {
   "cell_type": "markdown",
   "metadata": {
    "id": "qAi2gNVI0ISY"
   },
   "source": [
    "**Bài 1 (2 điểm)**\n",
    "\n",
    "Sử dụng đệ quy, viết hàm giải bài toán \"Tower of Hanoi\".\n",
    "\n",
    "Viết hàm như sau:\n",
    "```\n",
    "n=2\n",
    "TowerOfHanoi(n, source='A', destination = 'B', third_pile= 'C') \n",
    "```\n",
    "trong đó, \n",
    "\n",
    "```\n",
    "n: chiều cao của tháp\n",
    "source: tháp chứa các thành phần lúc đầu\n",
    "destination: mục tiêu cần chuyển\n",
    "third_pile: cột thứ 3 để di chuyển.\n",
    "```\n",
    "khi chạy code trên, output sẽ là:\n",
    "\n",
    "\n",
    "```\n",
    "Move disk 1 from pile A to pile C\n",
    "Move disk 2 from pile A to pile B\n",
    "Move disk 1 from pile C to pile B\n",
    "```\n",
    "\n",
    "Thử với n = 2, 3, 5\n",
    "\n",
    "\n"
   ]
  },
  {
   "cell_type": "code",
   "execution_count": 1,
   "metadata": {
    "id": "cjQwFRWuzBAi"
   },
   "outputs": [],
   "source": [
    "def TowerOfHanoi(n , source, destination, third_pile):\n",
    "    if n <= 0:\n",
    "        return\n",
    "    else:\n",
    "        TowerOfHanoi(n-1, source, third_pile, destination)\n",
    "        print(f'Move disk {n} from pile {source} to {destination}')\n",
    "        TowerOfHanoi(n-1, third_pile, destination, source)"
   ]
  },
  {
   "cell_type": "code",
   "execution_count": 2,
   "metadata": {
    "id": "M6fF8l0J1eY6"
   },
   "outputs": [
    {
     "name": "stdout",
     "output_type": "stream",
     "text": [
      "Move disk 1 from pile A to C\n",
      "Move disk 2 from pile A to B\n",
      "Move disk 1 from pile C to B\n"
     ]
    }
   ],
   "source": [
    "n =2\n",
    "TowerOfHanoi(n, source='A', destination = 'B', third_pile= 'C') "
   ]
  },
  {
   "cell_type": "code",
   "execution_count": 3,
   "metadata": {
    "id": "lx_cfClW1e1l"
   },
   "outputs": [
    {
     "name": "stdout",
     "output_type": "stream",
     "text": [
      "Move disk 1 from pile A to B\n",
      "Move disk 2 from pile A to C\n",
      "Move disk 1 from pile B to C\n",
      "Move disk 3 from pile A to B\n",
      "Move disk 1 from pile C to A\n",
      "Move disk 2 from pile C to B\n",
      "Move disk 1 from pile A to B\n"
     ]
    }
   ],
   "source": [
    "n =3\n",
    "TowerOfHanoi(n, source='A', destination = 'B', third_pile= 'C') "
   ]
  },
  {
   "cell_type": "code",
   "execution_count": 4,
   "metadata": {
    "id": "6oC65jXV1fUi"
   },
   "outputs": [
    {
     "name": "stdout",
     "output_type": "stream",
     "text": [
      "Move disk 1 from pile A to B\n",
      "Move disk 2 from pile A to C\n",
      "Move disk 1 from pile B to C\n",
      "Move disk 3 from pile A to B\n",
      "Move disk 1 from pile C to A\n",
      "Move disk 2 from pile C to B\n",
      "Move disk 1 from pile A to B\n",
      "Move disk 4 from pile A to C\n",
      "Move disk 1 from pile B to C\n",
      "Move disk 2 from pile B to A\n",
      "Move disk 1 from pile C to A\n",
      "Move disk 3 from pile B to C\n",
      "Move disk 1 from pile A to B\n",
      "Move disk 2 from pile A to C\n",
      "Move disk 1 from pile B to C\n",
      "Move disk 5 from pile A to B\n",
      "Move disk 1 from pile C to A\n",
      "Move disk 2 from pile C to B\n",
      "Move disk 1 from pile A to B\n",
      "Move disk 3 from pile C to A\n",
      "Move disk 1 from pile B to C\n",
      "Move disk 2 from pile B to A\n",
      "Move disk 1 from pile C to A\n",
      "Move disk 4 from pile C to B\n",
      "Move disk 1 from pile A to B\n",
      "Move disk 2 from pile A to C\n",
      "Move disk 1 from pile B to C\n",
      "Move disk 3 from pile A to B\n",
      "Move disk 1 from pile C to A\n",
      "Move disk 2 from pile C to B\n",
      "Move disk 1 from pile A to B\n"
     ]
    }
   ],
   "source": [
    "n =5\n",
    "TowerOfHanoi(n, source='A', destination = 'B', third_pile= 'C') "
   ]
  },
  {
   "cell_type": "markdown",
   "metadata": {
    "id": "grss92Uu0kg3"
   },
   "source": [
    "**Bài 2 (3 điểm)** \n",
    "Cho template sau, sinh viên có thể sử dụng, tham khảo chỉnh sửa để làm theo các yêu cầu của đề bài\n"
   ]
  },
  {
   "cell_type": "code",
   "execution_count": 5,
   "metadata": {
    "id": "8NpvqlDx864z"
   },
   "outputs": [],
   "source": [
    "class Queue:\n",
    "    def __init__(self):\n",
    "        self._data = [None] * 5\n",
    "        self._size = 0\n",
    "        self._front = 0\n",
    "\n",
    "    def __len__(self):\n",
    "        return self._size\n",
    "\n",
    "    def is_empty(self):\n",
    "        return self._size == 0\n",
    "\n",
    "    def first(self):\n",
    "        if self.is_empty():\n",
    "            raise Exception('Empty!')\n",
    "        return self._data[self._front]\n",
    "\n",
    "    def enqueue(self, a):\n",
    "        if self._size == len(self._data):\n",
    "            self._resize(2 * len(self._data))\n",
    "        self._data[(self._size + self._front) % len(self._data)] = a\n",
    "        self._size += 1\n",
    "\n",
    "    def dequeue(self):\n",
    "        if self.is_empty():\n",
    "            raise Exception('Empty!')\n",
    "\n",
    "        res = self._data[self._front]\n",
    "        self._data[self._front] = None\n",
    "        self._front = (self._front + 1) % len(self._data)\n",
    "        self._size -= 1\n",
    "        return res\n",
    "\n",
    "    def _resize(self, cap):\n",
    "        old = self._data\n",
    "        self._data = [None] * cap\n",
    "        for i in range(self._size):\n",
    "            self._data[i] = old[(self._front + i) % len(old)]\n",
    "        self._front = 0\n",
    "\n",
    "    def __str__(self):\n",
    "        return self._data.__str__()"
   ]
  },
  {
   "cell_type": "code",
   "execution_count": 6,
   "metadata": {
    "id": "FMMLrM4Q88Kl"
   },
   "outputs": [],
   "source": [
    "class Node:\n",
    "    def __init__(self, value, parent=None, left=None, right=None):\n",
    "        self.value = value\n",
    "        self.parent = parent\n",
    "        self.left = left\n",
    "        self.right = right\n",
    "    \n",
    "    def __repr__(self):\n",
    "        return str(self.value)"
   ]
  },
  {
   "cell_type": "code",
   "execution_count": 24,
   "metadata": {
    "id": "ejh23s9d8AAM"
   },
   "outputs": [],
   "source": [
    "class BinaryTree:\n",
    "    def __init__(self, root=None):\n",
    "        self.root = root\n",
    "\n",
    "    def add_left(self, parent, node):\n",
    "        if parent.left:\n",
    "            raise Exception('Already has left child')\n",
    "        parent.left = node\n",
    "        node.parent = parent\n",
    "\n",
    "    def add_right(self, parent, node):\n",
    "        if not parent.left:\n",
    "            print('The left is empty. Add left first.')\n",
    "            self.add_left(parent, node)\n",
    "            return\n",
    "        if parent.right:\n",
    "            raise Exception('Already has right child')\n",
    "        parent.right = node\n",
    "        node.parent = parent\n",
    "\n",
    "    def is_root(self, node):\n",
    "        return node == self.root\n",
    "\n",
    "    def is_leaf(self, node):\n",
    "        return not node.left and not node.right\n",
    "\n",
    "    def preorder(self, node):\n",
    "        if node:\n",
    "            print(node, end=' ')\n",
    "            if node.left:\n",
    "                self.preorder(node.left)\n",
    "            if node.right:\n",
    "                self.preorder(node.right)\n",
    "\n",
    "    def inorder(self, node):\n",
    "        if node:\n",
    "            if node.left:\n",
    "                self.inorder(node.left)\n",
    "            print(node, end=' ')\n",
    "            if node.right:\n",
    "                self.inorder(node.right)\n",
    "\n",
    "    def postorder(self, node):\n",
    "        if node:\n",
    "            if node.left:\n",
    "                self.postorder(node.left)\n",
    "            if node.right:\n",
    "                self.postorder(node.right) \n",
    "            print(node, end=' ')\n",
    "\n",
    "    def breadthfirst(self):\n",
    "        output = Queue()\n",
    "        output.enqueue(self.root)\n",
    "        while output:\n",
    "            temp = output.dequeue()\n",
    "            if temp.left:\n",
    "                output.enqueue(temp.left)\n",
    "            if temp.right:\n",
    "                output.enqueue(temp.right)\n",
    "            print(temp, end=' ')\n",
    "\n",
    "    def __repr__(self):\n",
    "        node = self.root\n",
    "        print('Root:', end=' ')\n",
    "        def display(node, level=1):\n",
    "            if node:\n",
    "                print(node)\n",
    "                if node.left:\n",
    "                    print('  '*level, '>> L:', sep='', end=' ')\n",
    "                    display(node.left, level+1)\n",
    "                if node.right:\n",
    "                    print('  '*level, '>> R:', sep='', end=' ')\n",
    "                    display(node.right, level+1)\n",
    "        display(node)\n",
    "        return ''\n",
    "        \n",
    "    def max_depth(self, node):\n",
    "        depth = -1\n",
    "        while node:\n",
    "            depth += 1\n",
    "            node = node.parent\n",
    "        return depth"
   ]
  },
  {
   "cell_type": "markdown",
   "metadata": {
    "id": "Av6zhHzF-BKS"
   },
   "source": [
    "**a) (0.5 điểm)** Xây dựng một tree có nội dung như sau:\n",
    "\n",
    "![Untitled Diagram.drawio(4).png](data:image/png;base64,iVBORw0KGgoAAAANSUhEUgAAAacAAAEuCAYAAAAqUN2IAAAFLHRFWHRteGZpbGUAJTNDbXhmaWxlJTIwaG9zdCUzRCUyMmFwcC5kaWFncmFtcy5uZXQlMjIlMjBtb2RpZmllZCUzRCUyMjIwMjItMDUtMjZUMTAlM0E1MCUzQTUzLjAzOVolMjIlMjBhZ2VudCUzRCUyMjUuMCUyMChXaW5kb3dzKSUyMiUyMGV0YWclM0QlMjJEdmNsNnIzaFJZVEdnOWJXTHhPdyUyMiUyMHZlcnNpb24lM0QlMjIxNy41LjAlMjIlM0UlM0NkaWFncmFtJTIwaWQlM0QlMjJOQ1NnQVNuNkk2T3h2VDR1dndTbyUyMiUyMG5hbWUlM0QlMjJQYWdlLTElMjIlM0U1WmxiYjVzd0dJWiUyRlRTNkhqQThjTHRla1czY3hxVkl1MXV3T0JUZWdFWnc1VGdQNzlUUEZCb3lUTmt1bVFOU2JpTyUyRjFBZnYxRSUyRnV6bUtEcHV2aktvMDN5bmNVMG0wQVFGeE0wbTBEb2hWaiUyQlZrSlpDOGhEdGJEaWFWeExiaXZNMHo5VWlVQ3B1elNtVzZPaVlDd1Q2Y1lVbHl6UDZWSVlXc1E1MjV2Vm5sbG12blVUcmFnbHpKZFJacXMlMkYwbGdrdFJvUTBPb1BORjBsJTJCczB1VUNYclNGZFd3amFKWXJidlNPaCUyQmdxYWNNVkUlMkZyWXNwelNydnRDOTF1eTlIU3B1QmNacUxVeG84OHQwMzVBWDBvVnolMkJFdUozOG5PUjhFJTJCcWw1Y28yJTJCa0pRelZjVVdvUFpEJTJGU2JobmM3Wk5VMFBrbVdsWWxlN25nVWt2RU9wT1JLeCUyQmo3YVplZyUyQmUwb1BLMWQ2cDN5Z1V0amc3YmJjeVFFRkcycG9LWHNrcWhnVkglMkJsYjE0M3k0SFZsTFNXUW10UlFxQVZkTno2NUY4VURiOWcyWFF0b3lNeXpJWW1KWmhQTEJseUxMTUg1ZGpqVU5qY1F4YmprRnZYSmJCbm1VRURtd1pzU3pESSUyRnRmSWpneXl6ekxzbUJjam1Fd01zZDh5N0dSTVlhRGtUbW04NG1PWmJaamVmeTV5dFZrbExPY21pNXh0c3ZqeXA0WmtKRzBnWmRQM1dDaDZyMEdzNkpiTkN0MVZLVGlTZGVUejR1TzNqYXBBdDJpSGlPTnJleXd0eEJ5SG16SGwlMkZUOWhFRkVmRVhGZTdtWXZiQ2RoU01IRms1cm5HYVJTRiUyRk00UjVhVGZXR1I1YktpYlI3azA1aTlBbElla0RVMDFTdHVtbG12eU92MXhIb2RWVDdZSFgwQ2xjejdRdDRzNU9OJTJGOEtiZXc1dllBamUwRTN3QnJIall1Z2k0a0hrSXdCd0R6JTJGaUJNUVBQSXg4VDk0aVElMkI5TUd2M0QlMkZUUndka2NCdyUyRkM2cU5wWjNvQ29PbVFJV01tSnNNSkJZU1d1NDd1YUlrbXJDU3RCWnZHWnFBTGdBTkN3R0lRbXFjSEIwbXVSYWlmWHd4M2lBNUdLYjRKVVpPNTN3RHlNU2ElMkY0VEZMZE4wa05CeVhWdnROOHVEM1ZQNUZVTkNTcE9PeHVtcEpVODJRbWJ1aUU0YVdrbXJzbUF2M2ozd3NjR0hTSzhYVlp0VyUyQlRIMjVYOVc2QlZlTDJMdFhvek1zUkRzeXNOJTJCemRsWTRVWDh5akROc1BEWFgxOW1zTnV2OEwlM0MlMkZkaWFncmFtJTNFJTNDJTJGbXhmaWxlJTNF964afwAAIABJREFUeF7tfQt4VUW2ZpEHfIgDooRX8/5QWsnoQNuCaKNeG2kkLYpR24bGi68oDTZwOwhRCOkgiAZwQC/QPgeItIJxyM1IOjJCGiSC3d6roFeCgwiSDMhgIIZHkhNmrUM2nhxOcl5Ve1ft/df3re/kUXvVqv+vtf+z965d1UqgAAEgEA0CvajyT8i6k3Vr/LR+/oF+ryCrbPzkn9l2R9MA6gIBICBEK4AABIBAWAQGUY20pKSkMfX19T8LrE1/O9u5c+e6Hj16JJw4caKhoqKiFX0mB9ZJSEg40dDQUEh/K2q0mrAtogIQ8DgCECePDwB0v1kEhtJ/7iFhuYOEpT/XuuGGG+rHjBmTlJqaKrp37+63lJSUCxycOnVKVFZWChIq/2dJSYkoKCioPXbsWOvGypZIrQT+QAAIhEYA4oSRAQSaIsBClEU2kYRJjBo1qo4EKTktLU1068Z38WIvpaWloqioSBQWFvrKy8sTyf8+Er555PH12L3iSCDgTgQgTu7kFb2KHoGOjaL0Rz40KytLTJs2TXTq1Cl6TxEcUVxcLObPny+2bt3KtXeQzSfjW38oQAAIEAIQJwwDICBEZmJiYrbP52uXkZEhZs2aJXr37m0LLvn5+SI3N9e3Z8+eRGrwPbI/kH1lS+NoBAhojADESWNyEJotCKygVjLuvPPOutmzZycPHjzYlkaDG1m6dClfrflOnz5dRSL5W/p/iSOBoFEgoAkCECdNiEAYtiPQJTk5+S91dXU35+TkiDlz5tgeQHCDu3btEuPHj/d99tlnfBU1iWy540EhACDgEAIQJ4eAR7OOIjCMJiPk02SEPqtXr2ZBcDSYwMZramrEhAkTeHYf/zmPLFOb4BAIELARAYiTjWCjKS0QuJWi2NSrV6/6tWvXJg0bNkyLoIKDyMzMFHl5rE3iTbJxWgaJoICAQgQgTgrBhWvtEOhDEx8+6t+//6U0rTu5S5cu2gUYGNCSJUvE9OnT+U883Xy21sEiOCAgGQGIk2RA4U5fBOgZ03a6nTekrKwsYdAgXvRB/zJ58mTx0ksvcaATyd7QP2JECATkIABxkoMjvOiPAJ/YH1i/fr24++679Y82IMLbb79dbNy4kf9yE9nfjAoewQKBGBGAOMUIHA4zCgGeipezcOFCMWPGDKMC52CPHj0qrr/++ob9+/dX0tp+Q+hPh4zrBAIGAlEiAHGKEjBUNw6BgRTx7gcffLD21Vdftda2M64TO3fuFEOGsC6JV8geMa4DCBgIRIkAxClKwFDdOATy6VnTbw4cOJDQtWtX44IPDHjmzJmCr/6oXEf2sdGdQfBAIAwCECcMETcjMJw6Vzp37lyRnZ1tfD9pKw7Rs2fPBvrcQJ0Za3yH0AEg0AICECcMD9ciQFdMmy655JLhhw4doh+bbLFkbJ+ff/5567nZKOpEsbEdQeBAAFdOGAMeReAu6nfBsmXLBE/HdlPp169fw9dff72N+sSz91CAgCsRwJWTK2lFpwiBjW3atBlJC6m6boy/9tpr4qGHHmKS+balf88NFCDgNgRcl7huIwj9iQmBDnRUFU8gWLBgQUwOdD6ourpatG/fnkN8juxJnWNFbEAgVgQgTrEih+N0RoDXoluzbds23lpd5zhjjm306NFi06ZNe2tra6+I2QkOBAIaIwBx0pgchBYzAmtpS/X0ioqKpJg9aH7g8uXLxaRJvKuGuJpsl+bhIjwgEDUCEKeoIcMBuiNA6+fVPProoxfxCdyt5eDBg4JWVufuZZG5796lW4lDvyJGAOIUMVSoaAgCoynOIiqCb33JLlVVVaJjx46CVpsQtOrEBe5po0DxxBNPCFr13P+/m266SUyZMkXJen5Dhw6t37Fjx05qxp33LmWTB39GIQBxMoouBBsBArzHxKLvv/9e0DtOEVSPrso777wj0tPTQ4oTC9M111wjBg4caG11IVatWuUXqubELLrWm9bm7TRoe/ca2tb94nj84FggoCMCECcdWUFM8SCQ17Zt26knT57krc6llG+//VasW7dObNiw4fwVUSixufnmm8UXX3whysvLmwhjamqqOHLkyAV/jze4gBdyeepedbz+cDwQ0AkBiJNObCAWGQi82bdv3/R9+/ZJWxJi79694umnn/bHdvjw4WavhFq1aiUWL14spk2b1qQf1ntJn376qbj6ap6/IKfk5+dbW8wPII/lcrzCCxDQAwGIkx48IAp5CGy+kcrWrVuVzNSzbt0FXznxs6iMjAzx8MMPixEjRjTpjbWjrWxx+uCDD8Stt/Ku8+IWsi3yIIQnIOA8AhAn5zlABBIRaN269b6xY8f2Xbt2rUSvP7pqTpyaa4yvuqx3rfjWnszy5ZdfiiuvvJJd8ntdb8r0DV9AwGkEIE5OM4D2pSLA08inTp160aJFi6T6tZxFI048eeLxxx8X3333ndi+fTtvGCg1Jl6lvEMHXgxDII+lIgtnOiCAQa0DC4hBGgIkTj+QOLVzUpysZ1Rvv/22f+beu+++Ky6//HJpfbQcBYhTJv0tT3oDcAgEHEQA4uQg+GhaPgIkTnvvvffe/k7d1rMmP6SkpIhnn3025LtQsnqN23qykIQfHRGAOOnICmKKBwFHJkRwwNY7UCSOYuXKlUreswoEBhMi4hkmOFZ3BCBOujOE+KJFIJ+mkt8jcyp5YAAtPXPq3LmzuOqqq8SWLVuijTmm+gFTyX9KDvbE5AQHAQFNEYA4aUoMwooZAekv4UYiTpZo8VXTyJEjQwZ/2223iR49esTcseAD8RKuNCjhSEMEIE4akoKQ4kJA6fJFzV05Wbf0Wopc9ntOjcsXnaTli9rFhRgOBgIaIgBx0pAUhBQXAkoXfo0rMskH88Kvn3zyyT/q6uqGSnYNd0DAcQQgTo5TgABkI0DLCFXTag0XY8sM2cjCHxCwDwGIk31YoyX7EMBmg/ZhjZaAgBIEIE5KYIVThxHANu0OE4DmgUC8CECc4kUQx+uIAK/pUzVz5kyxYIH7Nomtrq4W7dvzLhniObIndSQAMQGBeBGAOMWLII7XFYGNbdq0GXn69GnXjXFrFQoCfjjZVl0JQFxAIB4EXJe48YCBY12FwF3Um4Jly5aJyZMnu6pj/fr1a6ANED+iWXrYnt1VzKIzgQhAnDAe3IxAcZcuXX558ODBxORkaXsPOopXwIu3oyiQYkeDQeNAQCECECeF4MK14wjwba/SuXPniuzsbMeDiTcAXoW8Z8+eDWfOnHmP7Nfx+sPxQEBnBCBOOrOD2GQgkE8bEN7/zTfftOratasMf4754AkeCxcu5PavI/vYsUDQMBCwAQGIkw0gowlHERhIre/mLdRXrFjhaCDxNL5z504xZMgQdvEK2SPx+MKxQMAEBCBOJrCEGONFYA45yOGrjhkzZsTry/bjjx49KoYNG9Zw4MCBw3Q77+cUwCHbg0CDQMBmBCBONgOO5hxD4A1q+YF169aJ9PR0x4KIpWFa5byupKSEZ3Rg6ngsAOIYIxGAOBlJG4KOBQGasVdGO+VeV1ZWljBo0KBYXNh+zJQpU8SLL77I7U4kY4FFAQKeQADi5Ama0clGBPqQOJUNGDAgZfPmzYk0zVxrYJYsWSJ4Wwwq88hmax0sggMCkhGAOEkGFO60RiCJoisju5Z2y21Ys2ZNAj3L0TLgzMxMkZeXZ8X2AP2wSstAERQQUIQAxEkRsHCrHQIsTEVkvE1tLl1B/a6hoaHP6tWrxfjx47UJtqamRkyYMEEUFBRwTIvJeLYhxwyB0oYlBGIHAhAnO1BGG04jEChM1kme7+mtJhuRk5Mj5szhCX3Oll27dolx48b56DORIplEtpwsVOzOBorWgYANCECcbAAZTTiKQLiTO7/8lMEz+GbNmiUGDx7sSLBLly4VWVlZPpoqfry+vv5+CqIkIJBwfXAkZjQKBFQiAHFSiS58O41ApCf1zMTExGyfz9eOX9Zlkerdu7ctsefn54vc3Fzfnj17EmkV9RISp99Tw1+FaDzSvtgSNxoBAqoRgDipRhj+nUIg2pN5Rwo0i+yPHDBdxfhnyl122WVK4i8uLmZRqt++fXsSlb/T1VIuNVQYprFo+6QkdjgFAnYgAHGyA2W0YTcC8ZzE+zeK1ESaNHE2LS2tFZlg69atW1z9KC0tFUVFRaKwsNBXXl6eSGv+7a+trf0TOX09Csfx9C2KZlAVCDiLAMTJWfzRunwEZJ28h1Jo95BA3UGz+liwxPDhw/0ilZqaKrp37+63lJSUC3pw6tQpUVlZKSoqKvyftLoDC1LDkSNHErgy3b77K92+e5d+XBlj92X1McbmcRgQUI8AxEk9xmjBPgRUnbR5OYm0RuMVwc8XuiV3ll7m9fXq1SupqqrKx4J0/Phxnm13vtDzrGp6nrWB/sBT2dlqJECiqq8SQoMLIBA/AhCn+DGEBz0QsOtk3Yu6+xOy7o3G9/r4Z/6sJqskq2g06+fdiiCyq8+KwodbINA8AhAnjA43IODlk7SX++6GsYs+NIMAxAlDw3QEcHLGi7qmj2HEHwIBiBOGhckIQJh+ZA9YmDySEfsFCECcMChMRQAn4wuZAyamjmbEDXHCGHAFAjgJN08jsHHFEEcncOWEMWAaAjj5hmcMGIXHCDU0RwDipDlBCK8JAjjpRj4ggFXkWKGmhghAnDQkBSGFRAAn2+gHBjCLHjMcoQkCECdNiEAYLSKAk2zsAwTYxY4djnQQAYiTg+Cj6YgQwMk1Ipgg7vHDBA86IQBx0okNxBKMAIRJ3pgAlvKwhCcbEIA42QAymogJAZxMY4INV1DyYYNHJxCAODmBOtoMhwCEKRxCsf8f2MaOHY60EQGIk41go6mIEMDJMyKY4qoEjOOCDwfbgQDEyQ6U0UakCOCkGSlS8dcD1vFjCA8KEYA4KQQXrqNCACfLqOCSUhmYS4ERTlQgAHFSgSp8RosATpLRIiavPrCXhyU8SUQA4iQRTLiKCQGcHGOCTepB4EAqnHAmAwGIkwwU4SNWBHBSjBU5+ceBC/mYwmMcCECc4gAPh8aFAE6GccGn5GBwogRWOI0FAYhTLKjhmHgRwEkwXgTVHQ9u1GELz1EgAHGKAixUlYIATn5SYFTqBBwphRfOI0EA4hQJSqgjCwGc9GQhqd4PuFKPMVpoAQGIE4aHXQjgZGcX0vLaAWfysISnKBGAOEUJGKrHhABOcjHBpsVB4E4LGrwXBMTJe5zb3WOc3OxGXH574FA+pvAYBgGIE4aISgRwUlOJrr2+waW9eHu+NYiT54eAMgBwMlMGrWOOwalj0HuvYYiT9zi3o8c4idmBsjNtgFtncPdcqxAnz1GuvMM4eSmH2PEGwLHjFLg/AIiT+zm2s4c4admJtrNtgWtn8Xd96xAn11NsWwdxsrINam0aAufaUOG+QCBO7uPUiR7hJOUE6nq0Ce714MF1UUCcXEep7R3Cycl2yLVrEGNAO0rMDwjiZD6HTvYAJyUn0derbYwFvfgwPhqIk/EUOtYBnIwcg17bhjEmtKXGvMAgTuZxpkPEOAnpwIKeMWBs6MmLcVFBnIyjzPGAcfJxnALtA8AY0Z4i/QOEOOnPkU4R4qSjExt6x4Kxojc/2kcHcdKeIm0CxMlGGyqMCQRjxhiq9AsU4qQfJzpGhJOMjqyYERPGjhk8aRclxEk7SrQLCCcX7SgxLiCMIeMocz5giJPzHOgcAU4qOrNjVmwYS2bx5Xi0ECfHKdA2AJxMtKXG2MAwpoylzv7AIU72Y25CiziJmMCSmTFibJnJm+1RQ5xsh1z7BnHy0J4i4wPEGDOeQvUdgDipx9ikFnDSMIkts2PFWDObP+XRQ5yUQ2xMAzhZGEOVawLFmHMNlfI7AnGSj6mJHnGSMJE1d8SMsecOHqX3AuIkHVLjHOLkYBxlrgsYY9B1lMbfIYhT/Bia7AEnBZPZc1fsGIvu4jPu3kCc4obQWAc4GRhLnWsDx5h0LbXRdwziFD1mbjgCJwE3sOjOPmBsupPXqHsFcYoaMuMPQPIbT6HrO4Ax6nqKw3cQ4hQeIzfVQNK7iU139wVj1d38hu0dxCksRK6pgGR3DZWe6QjGrGeovrCjECdvkI8k9wbPbuwlxq4bWY2gTxCnCEAyvAqS23ACEb7AGPbgIIA4ySe9F7n8CVl3sm6Nn9bPP9DvFWSVjZ/8M9tu+WH4PSKpFQELt7YjYNdY1il/bQdZpwYhTnLYGERu0pKSksbU19f/LNAl/e1s586d63r06JFw4sSJhoqKilb0mRxYJyEh4URDQ0Mh/a2o0WokhGVXMksIFS6AQEQIqBrTOuZvRIC4uRLEKXZ2h9Kh95Cw3EHC0p/d3HDDDfVjxoxJSk1NFd27d/dbSkrKBS2cOnVKVFZWChIq/2dJSYkoKCioPXbsWOvGypZIrYwxPFVJHGM4OAwISENA1tjWOX+lgWWyI4hT9OyxEGWRTSRhEqNGjaojQUpOS0sT3brxXbzYS2lpqSgqKhKFhYW+8vLyRPK/j4RvHnl8PQqvspI3iiZRFQjYikA8Y1z3/LUVSJ0bgzhFzk7HRlH6Ix+SlZUlpk2bJjp16hS5hyhqFhcXi/nz54utW7fyUTvI5pPxrb+WSjxJG0V0qAoEHEcg2rFuQv46DqpOAUCcImMjMzExMdvn87XLyMgQs2bNEr17947syDhr5efni9zcXN+ePXsSydV7ZH8g+yqE22iTNc7IcDgQcByBSMe8CfnrOJi6BQBxCs/ICqqSceedd9bNnj07efDgweGPUFBj6dKlfLXmO336dBWJ5G+piZKAZiJNUgWRwSUQcBSBcGPfhPx1FEBdG4c4Nc9Ml+Tk5L/U1dXdnJOTI+bMmeM4h7t27RLjx4/3ffbZZ3wVNYlsOVm45HQ8bgQABBQjECoHTMlfxdCY6x7iFJq7YTQZIZ8mI/RZvXo1C4I2DNfU1IgJEybw7D6OaTHZQLKRZA+QrdImUAQCBOxFIFCgcil/f2dA/uYRRJn2wmROaxCnC7m6lf60qVevXvVr165NGjZsmJZsZmZmirw8Htv+AmHSkiUEZTMCLFBlZNcalL9vUrzjbMbJiOYgTk1p6kMTHz7q37//pTStO7lLly5ak7hkyRIxffp0jpGnm8/WOlgEBwTUI4D8VY+xbS1AnAKgpmdM2+l2wJCysrKEQYP4pXH9y+TJk8VLL73EgU4ke0P/iBEhEFCDAPJXDa5OeYU4/Yg8n9gfWL9+vbj77rud4iOmdm+//XaxceNGPvYmsr/F5AQHAQGzEUD+ms3fBdFDnM5BwlPxchYuXChmzJhhHMVHjx4V119/fcP+/fsraW2/IdSBQ8Z1AgEDgdgRQP7Gjp22R0Kczs122/3ggw/Wvvrqq9badtoS1lxgO3fuFEOGsC6JV8geMa4DCBgIxIYA8jc23LQ/CuIkRD7dq/7NgQMHErp27ao9YS0FOHPmTMFXf1SuI/vY6M4geCAQGQLI38hwMq6W18VpODFWOnfuXJGdnW0cecEB01YcomfPng30uYH+N9b4DqEDQKBlBJC/Lh4hnhYnumLadMkllww/dOgQ/dhkiyVjKX/++eet52ajqBPFxnYEgQOBMAggf909RLwsTncRtQXLli0TPB3bTaVfv34NX3/99TbqE8/eQwECbkQA+etGVgP65GVx2timTZuRtJCq6zB47bXXxEMPPcQ0820P/54bKEDAZQggf11GaHB3XHdijpCvDlSviicQLFiwIMJDzKlWXV0t2rdvzwE/R/akOZEjUiAQEQLI34hgMruSV8WJ17Jas23bNt5a3WwGm4l+9OjRYtOmTXtra2uvcGUH0SkvI4D89QD7XhWntbSlenpFRQUvFOnKsnz5cjFpEu+qIa4m2+XKTqJTXkUA+esB5j0pTrR+Xs2jjz56EZ/A7S60F1PIJi+99FLRo0cPaeEcPHhQ0MrM7C+LzH33LqUhBUemIaA6f6uqqgS999giLLLzNbgx5K8QXhSn0TQQiqgIvvUlu/DA7tixo6DVJgStOtHEvfW/UG2Gqh9vbEOHDq3fsWPHTvLjznuX8QKE401EQGn+MiD8BfKaa65pERsV+RrcoNfz14vixHtMLPr+++8FveMkPTnfeecdkZ6eHlKcrEFfUlIigrfjUPFNjLfToO3da2hb94uldxQOgYAzCCjNX+5SS1dOzzzzjNi8ebP48MMPxeWXX64UAa/nrxfFKa9t27ZTT548yVudSynffvutWLdundiwYYOgfaD8PkN9s3r//ffFbbfdJs6ePSul3XBOAl7I5al71eHq4/9AwAAEpOdvpH22vlxu376dF1qO9LCY63k9f70oTm/27ds3fd++fdKWhNi7d694+umn/YPw8OHDfoEKJU78/tGqVavEli1b/HX5G5qKqzcrG/Lz860t5gfQ38pjzhIcCAT0QUB6/kbSNc7VG2+8UfziF78Qdj2r9nr+elGcNtMgu3Hr1q1KZupZ365CidPjjz8uqF1/Lnz++ef+z4EDB4qXX35ZyTexDz74QNx6K+86L24hO6eIKEDAbASU5m9z0FgvtvNEBZkTl1qiwuv56zlxat269b6xY8f2Xbt2rZIUbUmc7rvvPvH222+Lp556Stx7773+q6xp06b5hYqfQ40YMUJqTF9++aW48sor2Se/F/KmVOdwBgQcQEB1/obqEl81XXHFFYJm+Ip58+bZ1muv56/nxImnoU6dOvWiRYsWKRlk4cSJRSlwp13rdsGRI0cEm8zCq5R36MAv03tyVqZMKOFLEwRU52+objpx1cRxeD1/vShOP5A4tXNCnJrL7yVLlgiemfPpp5+Kq6/md2bllIDBnUke8+R4hRcg4BwCJE5K8ze4Z9ZVE3+htOtZkxWD1/PXi+K0l65e+jtxW6+5lLa+mckWJ6/fFnDuFIqWVSFA4qQ0f4PjtmbY2jVDL7B9r+ev58SJyFf6QLW523plZWXihRde8N+zDn4/gmf68fsTsh+2ev2BqqoTJPw6ioDS/A3uGU9iWrFihW2vfwS27/X89aI45dNU8ntkTiUPHFDNiRNPN+eHqo899liT2wP8jtTgwYPFLbfcIt566y2pWR8wFfWn5HiPVOdwBgScQUBp/gZ3qVWrVv7JS7JzMxLovJ6/XhQnpS/xtTQhwrpC4sE+cuRI//jkbTu4qHjj3Osv8UVyAkAd4xBQmr+RfNG0CzGv568XxUnp8ictiRMPan6+tHjx4vPvOfGVFE+GULEUSuPyJydp+aJ2diUU2gECihFQmr+BsVvPgp143sRxeD1/vShOyheOVJycEbvnhSM/+eSTf9TV1Q2N+CBUBAJ6I4D81ZsfadF5UZwE3UeuzsjIuNjuqaHSWIvAEZbcjwAkVDESAeSvkbRFHbQnxYlQwmZlUQ8VHAAEtEEA+asNFeoC8ao4YZtndWMKnoGAagSQv6oR1sC/V8WJ1/Sp4plyCxa4b5PY6upq0b4975IhniN7UoNxhhCAgEwEkL8y0dTUl1fFienY2KZNm5GnT592HQbWLCPq43Cyc8ugowABdyGA/HUXnxf0xnUn5ij4uovqFixbtkxMnjw5isP0r9qvX78Gern3I5qlh+3Z9acLEcaGAPI3NtyMOcrL4sQkFdN26b+kmW2JycnS9h50lPyAF/dGcf8cDQaNAwG1CCB/1eLrqHevixPf9iqdO3euyM7OdpQIGY3zKsY9e/ZsOHPmzHtkv5bhEz6AgMYIIH81Jife0LwuToxfPm1gdv8333zTqmvXrvHi6ejxPMFj4cKFHMN1ZB87GgwaBwL2IID8tQdn21uBONFO6YT6bnop17/6sKll586dYsiQIRz+K2SPmNoPxA0EokQA+RslYKZUhzidY2oOWQ5fdcyYMcMU7s7HefToUTFs2LCGAwcOHKbbeT+nfxwyrhMIGAjEjgDyN3bstD0S4vQjNW/Qjw+sW7dOpKena0tYqMBohfO6kpISntGBqeNGMYdgJSKA/JUIpg6uIE4BLNCMvTLaafM62hgwYdCgQTrwEzaGKVOmiBdffJHrTSTjBEUBAp5EAPnrLtohTk357EPiVDZgwICUzZs3J9I0c63ZXrJkiX9ZfSrzyGZrHSyCAwLqEUD+qsfYthYgThdC/RpfhdBuuQ1r1qxJoGc5tpERTUOZmZkiLy+PDzlDlkJWHc3xqAsEXIoA8tclxEKcmhL5E/p1H1kpXUFd3tDQ0Gf16tVi/Pjx2tBdU1MjJkyYIAoKCjimfDJeBPN5MvNmcmiDKgJxCQLIX5cQyd2AODUlk+eSZ5BdRXaMbDXZiJycHDFnDk8Icrbs2rVLjBs3zkefiRTJJLLlZIEx/6ezEaJ1IOAoAshfR+GX2zjE6Uc8+SWhj0JchfgHPM/gmzVrlhg8eLBcBiL0tnTpUpGVleWjqeLH6+vr76fDShoP7U6fX5O9Q/bbCN2hGhBwGwLIX5cxCnH6kdAi+pEHeF+yH4J4zkxMTMz2+Xzt+GVdFqnevXvbMhTy8/NFbm6ub8+ePYm0inoJidPvqeGvghp/in7nSRG3kb1vS2BoBAjohQDyVy8+4o4G4nQOQn6xaR3ZE2TLmkG1I/09i+yP/H+6ivHPlLvsssviJiGUg+LiYhal+u3btydR+TtdLeVSvcIWGmPBqiT7hZKA4BQI6IsA8ldfbmKODOJ0DrpPyXxkkdyz698oUhNp0sTZtLS0VmSCrVu3bjETwQeWlpaKoqIiUVhY6CsvL0+kNf/219bW/on+9XoEjh+gOm+QPUTGM5ZQgIBXEED+upBpiJMQU4nXJWRjyd6NguOhVPceEqg7aFYfC5YYPny4X6RSU1NF9+7d/ZaSwrO8m5ZTp06JyspKUVFR4f+k1R1YkBqOHDmSwDXp9t1f6fYdx7Iyini46hYyvt/Yj+xslMeiOhAwEQHkr4msRRCz18WJt3vmqeMfkt0RAV7NVeHlJNIajVcEP1/oltxZepnX16tu9u+CAAAaKElEQVRXr6SqqiofC9Lx48d5tt35Qs+zqul51gb6A983Z6uJMZZb6bhNZLz/B19xoQABNyOA/HUxu14XJ36L9V/IeLHUv0viuRf54fcteBYdG9/rsz75RVl+LlTRaNbPuyW1zW7WkN1HxldPByX6hSsgoBsCyF/dGJEYj5fFKZVw3EX2r2Q8A84t5QrqyB4ybJ3hFkbRj1AIIH9dPi68LE5vEbe8WyxfYfxfl/G8gPozk+wGsu0u6xu6AwQYAeSvy8eBV8XpV8TrRjKeGs4ncreVi6hD/Czt38lGua1z6I/nEUD+emAIeFWceAIET6PjW2BuLXyrkvfS4OdPb7u1k+iXJxFA/nqAdi+K08PE68tkE8h47Tw3F57k0Ybsv7q5k+ibpxBA/nqEbq+JUxLxyre7eDWFf/IAxzw9nqeo86oWizzQX3TR3Qggf93Nb5PeeU2ccqj3vLz4LWRbPMIzv8zL/eWJH7zSOgoQMBUB5K+pzMUQt5fEqU/jVRPfyuOlfrxSeEmmf5C9QDbNK51GP12HAPLXY/nrJXF6ldL1QbLLyYJX9XZdJgd1iBeznUx2Ddlnbu8s+udKBJC/Hstfr4jTjZSuW8nmk/H2El4rnRuvGnn6/D1e6zz6azwCyN9zz8o9lb9eESfemI/fKOe9ms4Yn6qxdeBJOuxZMl4D8H/F5gJHAQFHEED+CuG5/PWCOPGusW+SPU7Gu9p6uXxJna8i4xXVUYCACQggf39kyVP56wVx+oK45QVXeZdbrxfexj2f7DGyaLfj8Dp26L8zCCB/f8TdU/nrdnHKJF6fI+M19HgrCpRz27hfScZTy2sBCBDQGAHk74XkeCZ/3SxOnYhXfojIZN6tcQLaHdpwarCUbB7ZbLsbR3tAIEIEkL+hgfJM/rpZnJYSt1PIeCPA/4gwIbxSjbd9/2cy3sH3/3il0+inUQggf5unyxP561ZxYkH6hOy/k/E2zihNEeBZi3xV+T8aRQr4AAGdEED+tsyGJ/LXreJUQNzyluX8XOX/6ZR1GsXC27jzbb2byfg2HwoQ0AUB5G94Jlyfv24UJ578UEjGD1N5G2eU0AgkN1498a65vwRIQEATBJC/kRHh+vx1ozjtJG7bkQ2MjGNP13qUes9TyseT8RRzFCDgNALI38gZcHX+uk2c+EXbfyXjF/f+EjnHnq5ZRr3vSPZTT6OAzuuAAPI3ehZcm79uEqe2jbepeGHTkdFz7Nkjbqee83JGs8h4eSMUIOAEAsjf2FB3bf66SZx4UVc+wfIikbyNM0rkCKyjqjzIeQLJ4cgPQ00gIA0B5G/sULoyf90iTrwNRjkZL6vP2zijRIcAb+POV5wvkfHWGihAwE4EkL/xoe3K/HWLOK0ibsc1fvP/Jj6ePXv0Yuo5b0Z4LRlvTogCBOxCAPkbP9Kuy183iBNvQf4BGW/hPDd+jj3rgSdF8Iu5/M7TnZ5FAR23GwHkrxzEXZe/bhCnzY1XTPy8xCeHZ896mU49X0R2F9n/9CwK6LidCCB/5aHtqvw1XZwmEK+8BA8/Z+LnTSjxI7CLXPBq5T+L3xU8AIEWEUD+yh8grslf08VpL3HLs8t4hh6KHAR4G/e3yXjR3BfluIQXIBASAeSv/IHhmvw1WZyyiNdnyH5F9lf5HHva43uNV058q7TG00ig86oQQP6qQlYIV+SvqeLUjXjlh/cbyH6jjmPPer6eer6dbCHZTM+igI6rQgD5qwrZc35dkb+mitNyIoC3Gk8l+1wtz571/mfq+SNkvGvul55FAR1XgQDyVwWqTX0an78mitN1xMEOMp5V9kf1HHu2hZ7Uc7465edP/A4ZChCQgQDyVwaK4X0Yn78mitO/ES/DyHjDrRPhOUKNOBCYQ8fy+2MjyDbF4QeHAgELAeSvfWPB6Pw1TZzGEq/vkPHutrzLLYp6BPjq6SDZTeqbQgsuRwD5az/BxuavaeL078Qtx/zf7OfYsy1OpJ6/Rsafb3gWBXRcBgLIXxkoRufD2Pw1SZz+QJy8QJbeePUUHUWoHQ8Cf6ODe5Dx1HIUIBALAsjfWFCTc4yR+WuKOLUnjvjy9COyNDl8wUsUCPAzpxIyvoedG8VxqAoEGAHkr7PjwMj8NUWcnidueWbeUDKeqYdiPwJvUpN81cpXT9/a3zxaNBgB5K/z5BmXvyaI01XEK7/LtIKMt3FGcQYB3sb9P8n4/YkMZ0JAqwYigPzVgzTj8tcEcVpL3PIq2fyNvUIPnj0bBa8YMYOM30DnW6woQCAcAsjfcAjZ93+j8ld3cRpJvBWTPU3G6+ihOIvAxdQ8P/v7mGy0s6GgdQMQQP7qRZJR+au7OG0jbruS9deLY09Hw6uVLyW7l2ydp5FA58MhgPwNh5D9/zcmf3UWp4eIt1fI/pmM92xC0QeBTyiUJLKr9QkJkWiGAPJXM0ICwjEif3UVpwQCkm8f7Se7WV+OPRsZPwMsIOOdN5d4FgV0vDkEkL96jw0j8ldXccombueS3Ur2gd48ezY63q7kF2Q8UaXKsyig46EQQP7qPy60z18dxalX41UTz/L5nf4cezbCa6nnPDFiMdm/eBYFdDwYAeSvGWNC+/zVUZz4ORPfrx5AVm4Gz56N8iXq+SQyfva0y7MooOOBCCB/zRkPWuevbuJ0A/HKM3yeJZtlDseejZRnUvKzwSIynr2H4m0EkL9m8a91/uomTvxOE684zs8xTprFs2ej5S8R88luJ9voWRTQcUYA+WveONA2f3USp/uI17+QTSbjy00UcxDg269HyXgTSBRvIoD8NZd3LfNXJ3HaTdyeIvu5uRx7NvLx1PPVZI+SvexZFLzdceSvufxrmb+6iBOvOM4rF48hKzSXY09H/r+p91eQ8S3ZOk8j4b3OI3/N51y7/NVBnC4jXvmhOr/PxC+HoZiJwM0U9mYy3u+J931C8QYCyF938Kxd/uogTry7Le+S+TMyXlYDxVwEeJmpCWR89fS1ud1A5FEggPyNAizNq2qVv06L0zVE1n+QvUjGCxKimI0AL9C7l+x1sgfN7gqijwAB5G8EIBlURav8dVqc1hNxvyLrS/adQSQi1OYR4K1NssiGk20FUK5GAPnrPnq1yV8nxSmNeP03sifJnnMfx57tURvqOT9D/IJshGdRcH/Hkb/u5Fib/LVDnHitrZ+QdSfr1vjJP/Oirh3I+D5nJRnvcmsZT0tFMQOBUPzeQqEPJeOVy5lT8GsGl6GiRP6ay10kkWubv6rEaRChkpaUlDSmvr6eJzqcL/S3s507d67r0aNHwokTJxoqKipa0WdyYJ2EhIQTDQ0NPKWcl8Vhq4kEZdSxDQHwaxvUjjQEfh2B3bZGjeBXpjjxN+V7SFjuIGHx71x7ww031I8ZMyYpNTVVdO/e3W8pKSkXMHDq1ClRWVkpSKj8nyUlJaKgoKD22LFjrRsrWyK10jb60FAwAuDX3WMC/IJfrc7PMsSJhYgfgE8kYRKjRo2qI0FKTktLE9268V282EtpaakoKioShYWFvvLy8kTyv4+Ebx555NlgKPYgAH7twdmpVsCvU8jb066x/MYjTh0bRYnfDhdZWVli2rRpolOnTkogLy4uFvPnzxdbt/ongO0g48VGsZqEErT9TsGvOmx18Ax+dWBBXQzG8xurOGUmJiZm+3y+dhkZGWLWrFmid+/e6mAO8Jyfny9yc3N9e/bsSaQ/v0fGL/B+ZUvj3mkE/Lqba/ALfpUgIPP8HIs4raBeZdx55511s2fPTh48eLCSToZzunTpUr5a850+fbqKRPK3VL8k3DH4f0QIgN+IYDK2Evg1lrqIAncNv9GIU5fk5OS/1NXV3ZyTkyPmzHF++bRdu3aJ8ePH+z777DO+iuIdWZdHRB8qhUIA/Lp7XIBf8GsrAvGenyMVp2E0GSGfJiP0Wb16NQuCrZ1sqbGamhoxYcIEnt3H1fLIMrUJzpxAwK85XMUSKfiNBTVzjnElv5GIE78su6lXr171a9euTRo2TM/95DIzM0VeHmuTeJNsnDnjyvFIwa/jFCgNAPwqhddx567lN5w49aGJDx/179//UprWndylSxfHmWgpgCVLlojp06dzFZ5uPlvrYPUIDvzqwYOqKMCvKmT18OtqflsUJ3rGtJ1u5w0pKytLGDSIXyrWv0yePFm89JJ/l/eJZG/oH7FzEYJf57C3o2XwawfKzrXhdn5bEic+sT+wfv16cffddzvHQAwt33777WLjxo185E1kf4vBhRcOAb/uZhn8gl8tEYj0/NycOPFUvJyFCxeKGTNmaNnBloI6evSouP766xv2799fSWv7DaG6h4zrhNqAwa9afJ32Dn6dZkBt+57gN5Q4DSRcdz/44IO1r776qrW2nVqoFXjfuXOnGDKEdUm8QvaIgiZMdQl+TWUusrjBb2Q4mVrLM/yGEqd8upf5mwMHDiR07drVVAL9cc+cOVPw1R+V68g+Nroz8oIHv/Kw1NET+NWRFXkxeYbfYHHi3UtL586dK7Kzs+XB6ZAn2opD9OzZs4E+N1AIYx0KQ6dmwa9ObMiPBfzKx1Qnj57it4k40RXTpksuuWT4oUOH6McmWyzpRFBUsTz//PPWc7NRdGBxVAe7rDL4dRmhQd0Bv+DXNARaOj8HitNd1LGCZcuWCZ6O7abSr1+/hq+//nob9Yln73m1gF93Mw9+wa+RCDR3fg4Up41t2rQZSQuphnsx1zgAXnvtNfHQQw9x3HxZ7N9zw4MF/LqbdPALfo1EoLnzsyVEHahXVTyBYMGCBUZ2sKWgq6urRfv27bnKc2RPuq6D4TsEfsNjZHIN8Gsye+Fj9yS/ljjxWnRrtm3bxlurh4fKwBqjR48WmzZt2ltbW3uFgeHHGzL4jRdBvY8Hv3rzE290nuTXEqe1tKV6ekVFRVK8KOp6/PLly8WkSbyrhriabJeucSqKC/wqAlYTt+BXEyIUheFJfv3iROvn1Tz66KMX8QncreXgwYOCVlbn7mWRue/eZQvEOckv7bUVMrJLL71U9OjRQ9pwA7/IX2mDSTNHduWvXbkaCt5Q+cviNJqsiIrgW1+yCnf0iSeeELSaud/lTTfdJKZMmXLBOn1VVVX+rS7+/Oc/i++++06kpKT4t32fOHGioGntssLx+xk6dGj9jh07dtKP7rx3GRotJfwGNvXtt98K3hH52WefFbSyyPl/MbcdO3YMGRWtPtKkrgyiwa+8/A3Fx/vvvy+eeeaZJjnNz6hpqTAZ9IX1AX7V8Wt3roYiO5hfFifeY2LR999/L00MWJiuueYaMXDgQGsLC7Fq1Sr/oA48KTEgtN27+OKLL/yC1KFDB/Hxxx+LFStWiMWLF4tp06aFHbDRVODtNGh79xra1v3iaI4zvK50foPxuO+++8Tbb7/dhFuuY42DkpISEbzdiuwrJ24P/Mr9MhfI8zvvvCPS09PFvffeK0aOHOn/F+fo559/LrZv326LQIFfdfzanauhzqnB/LI45bVt23bqyZMneatzKeXmm2/2C055eXkTwUtNTRVHjhw5/3drCiHXu/zyy8+3/fjjj/sF6uzZs1LisZwEvPDFU/eqpTrX15l0foNPWswXX/UGXw3xN+3bbrtNOo/NQQ1+1Q3Czp07C7bdu3efb8T6ts2C9dZbb6lrvNEz+FUHsd25GqonwfyyOL3Zt2/f9H379klbEqJVq1Yhr3wsMfr000/F1VdfLVis+Mpp3jzeG5DmstOVlOxbeYEg5OfnW1vMD6C/l6ujWivP0vm1emfdzuNnlfytOlicmG++Yt6yZQv4VTcklPEbGDLndCgRau7vKrqL/FWB6jmfdudqqJ4E88vitPlGKlu3bpUyU48FJiMjQzz88MNixIgRTWKwdqplceLbOrTunf+ERsLov5fNhZ85BT+7kEXJBx98IG69lXc1FreQnTtjur9I5TcQLr6dx4W/NfNJKlic+IqKxpW/Dt/+4cK3el9++WUlt4HAr7rBbOUuc3zttdf6G+IvJXyHw67beuBXHb9252qongTz26p169b7xo4d23ft2rXqek6e9+7de/4dKr61F/hcqlOnTuKpp54SF198sf+btqpnTl9++aW48soruZ/83sCbSjusiXNV/FrPIHiWDc+6CyVO1rMo5pa/dR8+fNj/HJGFip9DBX95iRcy8Bsvgi0fb/EZWEvFs+HmogC/6vi1O1dD9SSY31Y8TXHq1KkXLVq0SFnP+URmPZewvmUFihO//Bt4O4+fWfHkCZmTNLhzvEo5T7qg4rolmpojTwW/oWbnNSdOLEqBOynzlTVdqPufPbLJLOBXJppNfT399NP+uxuPPfaYmDBhgvjhhx/EK6+8EnIijKoowK8qZIVgcbIzV0P1JJhfFqcfSJzaqRAnvlriQc0zufh2zrvvvnt+4oMlTqG+eQU/m5JFSUDnM8lnniy/OvtRwS8PZL4Ksp4l+dU+xG295nAJvL3Lzx5lFfArC8mmfjiPr7jiCr8wBb8LqeqLZJiTF/JXDdUXeFWVq5Hwy+K0lxSzv+zbepbANPcMyRKnUO+7lJWViWHDhglr4oQsHrx4W0A2v9asnvXr1zeZYcmvDli378JNE1f15QP8ysqUpn6sW7ihni2p4jKS2z5qequXV9n5G23vnORX+oQI7nzgOxErV64MOQPPmobKJzRrtp4FXHNTzKMFNrg+HqjGi+C5WT2NK7w364y/cPCzvRdeeMHPbeBrAnyQdYvIel4Vf1TnPIBfWUg29WN9IQn1nFBVrobqCfhVwy9fDNidq5Hwy+KUT1PJ75E5lZzfh7jqqqua3PYJFYz1EC7wPSfrmQTXD3ynQgYtAVMVf0r+9sjwaYAPqfzy86Zjx45d0O3gK6dTp06FvBVkPa+65ZZbpL8bA37VjEbmjGfWhppKzq+DqMjVUD0Bv2r4be62rcpcjYRf6S/hWrfrAt8kDw6EX8zkGV6BM/h4+jgXayUJ2bf02Dde4lMzuNlrqGdO1hVS4FjgbVm4fPjhhxdcUcUbHfiNF8Hmj7eePTi5QgT4Vcev3bkaqiehXsKVuryNdUuvJRgDhYcFiidF8PRxLrwGHy0x5H9JV3ZpXB7jJC1f1E62b439SeW3uX42NyGCb/tYy9zwsfxQnXkIvtUnAz/wq255G+bH6bX1wK9afu3M1VD5HsyvsoVfZZxsZPvghQU/+eSTf9TV1Q2V7Vtjf8oXftWl7+BX3cKgOnAMfr3Fr/99H/rWW02rOlyMLTN0SEH5MYBf+Zjq5BH86sSG/Fi8yi82G5Q/lnT06MnNynQkQlFM4FcRsJq49SS/2KZdk9GnOAxPbvOsGFOd3INfndiQH4sn+bXEidf0qeKZVLx5mNtKdXW1aN+ed8kQz5E96bb+RdAf8BsBSAZXAb8GkxdB6J7kN3CNuY1t2rQZefr0adetOxfw4uhwGgjnlsn2XgG/7uYc/IJfIxFo7vwcKER3Uc8Kli1bJiZPnmxkJ5sLul+/fg30QtlHNEvPS9uzB8MBfl01qi/oDPgFv0Yi0Nz5OfgqqZi20/4lLSuTmJwsbe9BRwELeLFrFAVS7GgwzjcOfp3nQGUE4Fclus779hS/weLEt71K586dK7Kzs52nIs4IeJVqWnal4cyZM++R/TpOd244HPy6gcXm+wB+wa8xCIQ7P4d6vpRPG9Td/80337Tq2rWrMR0NFShP8Fi4cCH/6zqyj43ujLzgwa88LHX0BH51ZEVeTJ7hN5Q4DSQcd/NW69aSQvJwtc/Tzp07xZAhQ7jBV8gesa9l7VsCv9pTFFeA4Dcu+LQ/2DP8Njczbw5RlMNXHTNmzNCereAAjx49yvtBNRw4cOAw3c77Of3/kHGdUBsw+FWLr9Pewa/TDKht3xP8tjRt/A3C94F169aJ9PR0tVBL9j5y5Mg62nuGZ3R4eep4OFTBbziEzP4/+DWbv3DRu57fFt9pohl7ZbQT43W0GVXCoEGDwoGlxf+nTJkiXnzxRY5lIhkTiNIMAuDX3UMD/IJf3RCI5vwc7oXbPiROZQMGDEjZvHlzIk0z162vTeKx9pyhP84jm611sHoEB3714EFVFOBXFbJ6+HU1v+HEiSm4lWwT7ZbbsGbNmgR6lqMHLUFRZGZmiry8PNG2bdv1tAvrPVoGqWdQ4FdPXmRFBX5lIamnH9fyG4k4MSXD6Aoqv6Ghoc/q1avF+PHjtaGppqZGTJgwQRQUFHBMeWSZ2gRnTiDg1xyuYokU/MaCmjnHuJLfSMWJaeJ7eqvJRuTk5Ig5c3jCiLNl165dYty4cT76TKRIJpEtdzYio1sHv0bTFzZ48BsWIqMruI7faMTJYo73U8/gGXyzZs0SgwcPdoRR3so9KyvLR1PFj9fX199PQZQ4Eoj7GgW/7uM0sEfgF/wqR0DG+TkWceKOZSYmJmb7fL52/LIui1Tv3r2Vd5gbyM/PF7m5ub49e/Yk0irqJSROv6c/f2VL495pBPy6m2vwC36VICDz/ByrOHHHOpJlkf2Rf6GrGDF9+nRx2WWXKel0cXExi1L99u3bk6j8na6WcqmhQiWNwSn4df8YQP66m2Pj+Y1HnCxq+zeK1ESaNHE2LS2tFZlg69atW1z0l5aWiqKiIlFYWOgrLy9PpDX/9tfW1v6JnL4el2McHA0C4DcatMyrC37N4yyaiI3lV4Y4WUANpR/uIYG6g2b1MSBi+PDhfpFKTU0V3bt391tKSsoFwNLUb1FZWSkqKir8n7S6AwtSw5EjRxK4Mt2++yvdvnuXflwZDSuoKxUB8CsVTu2cgV/tKJEakHH8yhSnQCR5OYm0RuMVwc8XuiV3ll7m9fXq1SupqqrKx4J0/Phxnm13vtDzrGp6nrWB/lDUaDVSaYKzeBEAv/EiqPfx4FdvfuKNzgh+VYlTIHgd6Jf/0mjt6fPigN/P0M/VZD+QnWj85N+PxIs+jrcNAfBrG9SONAR+HYHdtka15ff/Ax51b8RsdckbAAAAAElFTkSuQmCC)"
   ]
  },
  {
   "cell_type": "code",
   "execution_count": 25,
   "metadata": {},
   "outputs": [
    {
     "name": "stdout",
     "output_type": "stream",
     "text": [
      "Root: 12\n",
      "  >> L: 15\n",
      "    >> L: 26\n",
      "    >> R: 45\n",
      "  >> R: 7\n",
      "    >> L: 8\n",
      "    >> R: 5\n",
      "\n"
     ]
    }
   ],
   "source": [
    "node12 = Node(12)\n",
    "node15 = Node(15)\n",
    "node7 = Node(7)\n",
    "node26 = Node(26)\n",
    "node45 = Node(45)\n",
    "node8 = Node(8)\n",
    "node5 = Node(5)\n",
    "\n",
    "bt = BinaryTree(node12)\n",
    "bt.add_left(node12, node15)\n",
    "bt.add_right(node12, node7)\n",
    "bt.add_left(node15, node26)\n",
    "bt.add_right(node15, node45)\n",
    "bt.add_left(node7, node8)\n",
    "bt.add_right(node7, node5)\n",
    "print(bt)"
   ]
  },
  {
   "cell_type": "code",
   "execution_count": 27,
   "metadata": {},
   "outputs": [
    {
     "data": {
      "text/plain": [
       "2"
      ]
     },
     "execution_count": 27,
     "metadata": {},
     "output_type": "execute_result"
    }
   ],
   "source": [
    "bt.max_depth(node5)"
   ]
  },
  {
   "cell_type": "markdown",
   "metadata": {
    "id": "8Iz_t40B9cmB"
   },
   "source": [
    "**b) (1.5 điểm)** Từ các template kể trên, implement tiếp các method:\n",
    "```\n",
    "1.   In-Order Traversal \n",
    "2.   Post-Order Traversal \n",
    "3.   Pre-Order Traversal \n",
    "4.   BFS - > 12, 15, 7, 26, 45, 8, 5.\n",
    "```\n"
   ]
  },
  {
   "cell_type": "markdown",
   "metadata": {
    "id": "4or7GoEM_pgy"
   },
   "source": [
    "**c) (1 điểm)** Sử dụng:\n",
    "\n",
    "* In-Order Traversal, Post-Order Traversal, Pre-Order Traversal để in ra các thành phần trong cây.\n",
    "\n",
    "```\n",
    "1.   In-Order Traversal -> 26, 15, 45, 12, 8, 7, 5\n",
    "2.   Post-Order Traversal -> 26, 45, 15, 8, 5, 7, 12\n",
    "3.   Pre-Order Traversal -> 12, 15, 26, 45, 7, 8, 5\n",
    "```\n",
    "\n",
    "* Sử dụng BFS để tính tổng các thành phần trong cây.\n",
    "\n",
    "```\n",
    "Sum = 118\n",
    "```\n",
    "\n"
   ]
  },
  {
   "cell_type": "code",
   "execution_count": 9,
   "metadata": {},
   "outputs": [
    {
     "name": "stdout",
     "output_type": "stream",
     "text": [
      "1. In-Order Traversal: 26 15 45 12 8 7 5 \n",
      "\n",
      "2. Post-Order Traversal: 26 45 15 8 5 7 12 \n",
      "\n",
      "3. Pre-Order Traversal: 12 15 26 45 7 8 5 \n",
      "\n",
      "4. Breadth-First Traversal: 12 15 7 26 45 8 5 "
     ]
    }
   ],
   "source": [
    "print('1. In-Order Traversal:', end=' ')\n",
    "bt.inorder(node12)\n",
    "\n",
    "print('\\n\\n2. Post-Order Traversal:', end=' ')\n",
    "bt.postorder(node12)\n",
    "\n",
    "print('\\n\\n3. Pre-Order Traversal:', end=' ')\n",
    "bt.preorder(node12)\n",
    "\n",
    "print('\\n\\n4. Breadth-First Traversal:', end=' ')\n",
    "bt.breadthfirst()"
   ]
  },
  {
   "cell_type": "code",
   "execution_count": 10,
   "metadata": {},
   "outputs": [
    {
     "name": "stdout",
     "output_type": "stream",
     "text": [
      "Sum of all nodes: 118\n"
     ]
    }
   ],
   "source": [
    "def sum_nodes_in_tree(bt):\n",
    "    sumall = 0\n",
    "    btqueue = Queue()\n",
    "    btqueue.enqueue(bt.root)\n",
    "    while btqueue:\n",
    "        temp = btqueue.dequeue()\n",
    "        sumall += temp.value\n",
    "        if temp.left:\n",
    "            btqueue.enqueue(temp.left)\n",
    "        if temp.right:\n",
    "            btqueue.enqueue(temp.right)\n",
    "    return sumall\n",
    "\n",
    "print(\"Sum of all nodes:\", sum_nodes_in_tree(bt))"
   ]
  },
  {
   "cell_type": "markdown",
   "metadata": {
    "id": "1VlXSY-zE8jN"
   },
   "source": [
    "**Bài 3 (2 điểm)**: sử dụng Stack dưới đây, hoàn thành method \n",
    "* dec2bin: nhằm chuyển 1 số từ dạng thập phân sang nhị phân\n",
    "* dec2ter: nhằm chuyển 1 số từ dạng thập phân sang tam phân"
   ]
  },
  {
   "cell_type": "markdown",
   "metadata": {
    "id": "Ou63Vo5oFdX_"
   },
   "source": [
    "chuyển các số sau về dạng nhị phân và tam phân:\n",
    "* 0\n",
    "* 1\n",
    "* 10\n",
    "* 100\n",
    "* 1331\n",
    "* 62"
   ]
  },
  {
   "cell_type": "code",
   "execution_count": 11,
   "metadata": {
    "id": "P4dGGXqcADMm"
   },
   "outputs": [],
   "source": [
    "class Stack:\n",
    "    def __init__(self, data = [], num = 0):\n",
    "        self.data = []\n",
    "        self.num = num\n",
    "        for i in data:\n",
    "            self.push(int(i))\n",
    "\n",
    "    def is_empty(self):\n",
    "        return len(self.data) == 0\n",
    "\n",
    "    def __len__(self):\n",
    "        return len(self.data)\n",
    "\n",
    "    def push(self, a):\n",
    "        self.data.append(a)\n",
    "\n",
    "    def pop(self):\n",
    "        if self.is_empty():\n",
    "            raise Exception('Stack is empty')\n",
    "        return self.data.pop()\n",
    "\n",
    "    def top(self):\n",
    "        if self.is_empty():\n",
    "            raise Exception('Stack is empty')\n",
    "        return self.data[-1]\n",
    "    \n",
    "    def dec2bin(self, number):\n",
    "        count = 0\n",
    "        if number == 0:\n",
    "            return number\n",
    "        while number > 0:\n",
    "            self.push(number%2)\n",
    "            number = number//2\n",
    "            count += 1\n",
    "        output = ''\n",
    "        while count > 0:\n",
    "            output += str(self.pop())\n",
    "            count -= 1\n",
    "        return int(output)\n",
    "\n",
    "    def dec2ter(self, number):\n",
    "        count = 0\n",
    "        if number == 0:\n",
    "            return number\n",
    "        while number > 0:\n",
    "            self.push(number%3)\n",
    "            number = number//3\n",
    "            count += 1\n",
    "        output = ''\n",
    "        while count > 0:\n",
    "            output += str(self.pop())\n",
    "            count -= 1\n",
    "        return int(output)\n",
    "\n",
    "    def __repr__(self):\n",
    "        return f'{self.data}'"
   ]
  },
  {
   "cell_type": "code",
   "execution_count": 12,
   "metadata": {},
   "outputs": [],
   "source": [
    "data = [0, 1, 10, 100, 1331, 62]\n",
    "stack = Stack()"
   ]
  },
  {
   "cell_type": "code",
   "execution_count": 13,
   "metadata": {},
   "outputs": [
    {
     "name": "stdout",
     "output_type": "stream",
     "text": [
      "0\t>>>\t0\n",
      "1\t>>>\t1\n",
      "10\t>>>\t1010\n",
      "100\t>>>\t1100100\n",
      "1331\t>>>\t10100110011\n",
      "62\t>>>\t111110\n"
     ]
    }
   ],
   "source": [
    "for i in data:\n",
    "    print(f'{i}\\t>>>\\t{stack.dec2bin(i)}')"
   ]
  },
  {
   "cell_type": "code",
   "execution_count": 14,
   "metadata": {},
   "outputs": [
    {
     "name": "stdout",
     "output_type": "stream",
     "text": [
      "0\t>>>\t0\n",
      "1\t>>>\t1\n",
      "10\t>>>\t101\n",
      "100\t>>>\t10201\n",
      "1331\t>>>\t1211022\n",
      "62\t>>>\t2022\n"
     ]
    }
   ],
   "source": [
    "for i in data:\n",
    "    print(f'{i}\\t>>>\\t{stack.dec2ter(i)}')"
   ]
  },
  {
   "cell_type": "markdown",
   "metadata": {
    "id": "Np0l0SVGFstX"
   },
   "source": [
    "**Bài 4 (1.5 điểm)**: Bắt buộc sử dụng đệ quy, tính số fibonacii thứ 50, 70 và 90, với yêu cầu dưới đây\n",
    "\n",
    "a) Ra kết quả (1 điểm)\n",
    "\n",
    "b) Tính ra kết quả và thời gian chạy mỗi lần không quá 0.8 giây (0.5 điểm)\n",
    "\n",
    "Được phép sử dụng thư viện numpy, timeit"
   ]
  },
  {
   "cell_type": "code",
   "execution_count": 15,
   "metadata": {
    "id": "fMpVPCslKXtu"
   },
   "outputs": [],
   "source": [
    "import timeit\n",
    "import numpy as np\n",
    "\n",
    "def fibonaci(n, a=1, b=0):\n",
    "    if n <= 0:\n",
    "        return b\n",
    "    else:\n",
    "        return fibonaci(n-1, b, a+b)\n",
    "    \n",
    "def fibo(n):\n",
    "    if n <= 2:\n",
    "        return 1\n",
    "    else:\n",
    "        return fibo(n-1) + fibo(n-2)"
   ]
  },
  {
   "cell_type": "code",
   "execution_count": 16,
   "metadata": {},
   "outputs": [
    {
     "name": "stdout",
     "output_type": "stream",
     "text": [
      "fibonaci(50) = 12586269025\n",
      "fibonaci(70) = 190392490709135\n",
      "fibonaci(90) = 2880067194370816120\n"
     ]
    }
   ],
   "source": [
    "print('fibonaci(50) =', fibonaci(50))\n",
    "print('fibonaci(70) =', fibonaci(70))\n",
    "print('fibonaci(90) =', fibonaci(90))"
   ]
  },
  {
   "cell_type": "code",
   "execution_count": 17,
   "metadata": {},
   "outputs": [
    {
     "name": "stdout",
     "output_type": "stream",
     "text": [
      "3.69 s ± 264 ms per loop (mean ± std. dev. of 7 runs, 1 loop each)\n"
     ]
    }
   ],
   "source": [
    "%%timeit\n",
    "fibo(36)"
   ]
  },
  {
   "cell_type": "markdown",
   "metadata": {
    "id": "Ht2txK1yS4kg"
   },
   "source": [
    "output:\n",
    "```\n",
    "print(fibonaci(50)) -> 12586269025\n",
    "print(fibonaci(70)) -> 190392490709135\n",
    "print(fibonaci(90)) -> 2880067194370816120\n",
    "```\n"
   ]
  },
  {
   "cell_type": "markdown",
   "metadata": {
    "id": "Pt0n_my_TbC_"
   },
   "source": [
    "Phần thử nghiệm, đo thời gian có thể thấy ở phần code dưới:"
   ]
  },
  {
   "cell_type": "code",
   "execution_count": 18,
   "metadata": {
    "colab": {
     "base_uri": "https://localhost:8080/"
    },
    "id": "c2ySgbCATam3",
    "outputId": "17c2ebd0-660f-4c36-c4d2-3324748bf823"
   },
   "outputs": [
    {
     "name": "stdout",
     "output_type": "stream",
     "text": [
      "9.45 µs ± 84.4 ns per loop (mean ± std. dev. of 7 runs, 100000 loops each)\n"
     ]
    }
   ],
   "source": [
    "%%timeit\n",
    "fibonaci(50)"
   ]
  },
  {
   "cell_type": "code",
   "execution_count": 19,
   "metadata": {
    "colab": {
     "base_uri": "https://localhost:8080/"
    },
    "id": "Ql5KHh3LTaOf",
    "outputId": "583d0c43-73c2-4834-9050-0da28093f990"
   },
   "outputs": [
    {
     "name": "stdout",
     "output_type": "stream",
     "text": [
      "13.4 µs ± 249 ns per loop (mean ± std. dev. of 7 runs, 100000 loops each)\n"
     ]
    }
   ],
   "source": [
    "%%timeit\n",
    "fibonaci(70)"
   ]
  },
  {
   "cell_type": "code",
   "execution_count": 20,
   "metadata": {
    "colab": {
     "base_uri": "https://localhost:8080/"
    },
    "id": "Gqo0RQqGOJO8",
    "outputId": "67d6ae36-0386-4727-b7ad-78df9b50fad9"
   },
   "outputs": [
    {
     "name": "stdout",
     "output_type": "stream",
     "text": [
      "17.9 µs ± 1.1 µs per loop (mean ± std. dev. of 7 runs, 100000 loops each)\n"
     ]
    }
   ],
   "source": [
    "%%timeit\n",
    "fibonaci(90)"
   ]
  },
  {
   "cell_type": "markdown",
   "metadata": {
    "id": "UcxsV9_uzLVC"
   },
   "source": [
    "Người coi thi KHÔNG giải thích thêm."
   ]
  }
 ],
 "metadata": {
  "colab": {
   "collapsed_sections": [],
   "name": "DSEB 62 Final Sample.ipynb",
   "provenance": []
  },
  "kernelspec": {
   "display_name": "Python 3 (ipykernel)",
   "language": "python",
   "name": "python3"
  },
  "language_info": {
   "codemirror_mode": {
    "name": "ipython",
    "version": 3
   },
   "file_extension": ".py",
   "mimetype": "text/x-python",
   "name": "python",
   "nbconvert_exporter": "python",
   "pygments_lexer": "ipython3",
   "version": "3.9.13"
  }
 },
 "nbformat": 4,
 "nbformat_minor": 1
}
