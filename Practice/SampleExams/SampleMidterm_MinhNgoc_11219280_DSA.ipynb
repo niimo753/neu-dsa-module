{
 "cells": [
  {
   "cell_type": "markdown",
   "metadata": {
    "id": "qYEhaoZYwx7x"
   },
   "source": [
    "BÀI NỘP DƯỚI DẠNG FILE NOTEBOOK! KHÔNG ĐƯỢC SỬ DỤNG INTERNET HAY BẤT CỨ TÀI LIỆU NÀO TRÊN MÁY TÍNH ĐỂ THAM KHẢO.\n",
    "\n",
    "\n",
    "ĐỊNH DẠNG TÊN FILE NỘP BÀI:\n",
    "\n",
    "TÊN_SINH_VIÊN_MÃ_SINH_VIÊN_MIDTERM_DSA.ipynb"
   ]
  },
  {
   "cell_type": "code",
   "execution_count": 1,
   "metadata": {
    "id": "Z1omyl8zaMXa"
   },
   "outputs": [],
   "source": [
    "class Person:\n",
    "    def __init__(self, name: str = None, age: int = None, gender: str = None):\n",
    "        self._name = name\n",
    "        self._age = age\n",
    "        if gender.lower() == 'female' or 'male':\n",
    "            self._gender = gender\n",
    "        else: \n",
    "            raise ValueError('Gender can only be male or female')\n",
    "\n",
    "    def get_name(self):\n",
    "        return self._name\n",
    "\n",
    "    def get_age(self):\n",
    "        return self._age\n",
    "\n",
    "    def get_gender(self):\n",
    "        return self._gender\n",
    "\n",
    "    def __str__(self):\n",
    "        return f\"Person name: {self.get_name()}, age: {self.get_age()}, gender: {self.get_gender()}\""
   ]
  },
  {
   "cell_type": "code",
   "execution_count": 2,
   "metadata": {
    "colab": {
     "base_uri": "https://localhost:8080/"
    },
    "id": "ehfvyzKeeBc6",
    "outputId": "21f87b86-5cf8-42ed-b3c6-c9d59210a117"
   },
   "outputs": [
    {
     "name": "stdout",
     "output_type": "stream",
     "text": [
      "Person name: A, age: 18, gender: Female\n"
     ]
    }
   ],
   "source": [
    "person_demo = Person(name= 'A', age = 18, gender = 'Female')\n",
    "print(person_demo)"
   ]
  },
  {
   "cell_type": "markdown",
   "metadata": {
    "id": "2SmglDYXBmES"
   },
   "source": [
    "Ex1 (3đ): Thừa kế class Person, tạo ra 2 class con Student và Teacher, trong đó\n",
    "\n",
    "class Student sẽ có thêm các thuộc tính\n",
    "1.   Mã sinh viên\n",
    "2.   Tên lớp học\n",
    "\n",
    "class Teacher sẽ có thêm các thuộc tính:\n",
    "\n",
    "\n",
    "1.   Mã giáo viên\n",
    "2.   Tên lớp học\n",
    "\n",
    "\n",
    "Viết thêm các hàm get_student_code() và get_classroom_name() để lấy về Mã sinh viên và Tên lớp học đối với class Student và get_teacher_code(),get_classroom_name() đối với class Teacher.\n",
    "\n",
    "\n",
    "\n"
   ]
  },
  {
   "cell_type": "code",
   "execution_count": 3,
   "metadata": {},
   "outputs": [],
   "source": [
    "class Student(Person):\n",
    "    def __init__(self, name, age, gender, student_code, class_name):\n",
    "        super().__init__(name, age, gender)\n",
    "        self._stucode = student_code\n",
    "        self._class = class_name\n",
    "    \n",
    "    def get_student_code(self):\n",
    "        return self._stucode\n",
    "    \n",
    "    def get_classroom_name(self):\n",
    "        return self._class\n",
    "    \n",
    "    def __str__(self):\n",
    "        return f\"Student: {self.get_name()}, Age: {self.get_age()}, Gender: {self.get_gender()}, Student Code: {self.get_student_code()}, Class: {self.get_classroom_name()}\""
   ]
  },
  {
   "cell_type": "code",
   "execution_count": 4,
   "metadata": {},
   "outputs": [],
   "source": [
    "class Teacher(Person):\n",
    "    def __init__(self, name, age, gender, teacher_code, class_name):\n",
    "        super().__init__(name, age, gender)\n",
    "        self._teacher_code = teacher_code\n",
    "        self._class = class_name\n",
    "    \n",
    "    def get_teacher_code(self):\n",
    "        return self._teacher_code\n",
    "    \n",
    "    def get_classroom_name(self):\n",
    "        return self._class\n",
    "    \n",
    "    def __str__(self):\n",
    "        return f\"Teacher: {self.get_name()}, Age: {self.get_age()}, Gender: {self.get_gender()}, Teacher Code: {self.get_teacher_code()}, Class: {self.get_classroom_name()}\""
   ]
  },
  {
   "cell_type": "markdown",
   "metadata": {
    "id": "w4_Eb4rtdTdz"
   },
   "source": [
    "Ex(2đ): Tạo ra 2 học sinh và 1  giáo viên mẫu với thông tin dưới đây\n",
    "\n",
    "Học sinh 1:\n",
    "*   Tên: Nguyễn Văn A\n",
    "*   Tuổi: 18\n",
    "*   Giới tính: Nam\n",
    "*   Mã sinh viên: 001\n",
    "*   Tên lớp học: DSEB 62\n",
    "\n",
    "Học sinh 2:\n",
    "*   Tên: Nguyễn Thị B\n",
    "*   Tuổi: 18\n",
    "*   Giới tính: Nữ\n",
    "*   Mã sinh viên: 002\n",
    "*   Tên lớp học: DSEB 62\n",
    "\n",
    "Giáo viên 1:\n",
    "*   Tên: Nguyễn Văn B\n",
    "*   Tuổi: 38\n",
    "*   Giới tính: Nam\n",
    "*   Mã giáo viên: 001\n",
    "*   Tên lớp học: DSEB 62\n",
    "\n",
    "Overload hàm __str__() để in ra thông tin của 2 học sinh và giáo viên:\n",
    "\n",
    "\n",
    "\n",
    "\n",
    "\n"
   ]
  },
  {
   "cell_type": "code",
   "execution_count": 5,
   "metadata": {},
   "outputs": [
    {
     "name": "stdout",
     "output_type": "stream",
     "text": [
      "Student: A, Age: 18, Gender: Male, Student Code: 001, Class: DSEB 62\n",
      "Student: B, Age: 18, Gender: Female, Student Code: 002, Class: DSEB 62\n",
      "Teacher: B, Age: 38, Gender: Male, Teacher Code: 001, Class: DSEB 62\n"
     ]
    }
   ],
   "source": [
    "stu1 = Student(name = \"A\", age = 18, gender = \"Male\", student_code = \"001\", class_name = \"DSEB 62\")\n",
    "stu2 = Student(name = \"B\", age = 18, gender = \"Female\", student_code = \"002\", class_name = \"DSEB 62\")\n",
    "print(stu1)\n",
    "print(stu2)\n",
    "teacher1 = Teacher(name = \"B\", age = 38, gender = \"Male\", teacher_code = \"001\", class_name = \"DSEB 62\")\n",
    "print(teacher1)"
   ]
  },
  {
   "cell_type": "markdown",
   "metadata": {
    "id": "4z6i8xR1ezaD"
   },
   "source": [
    "Ex 3 (3đ): Có thể tham khảo Linked List dưới đây hoặc tự implement, thêm các giá trị sau vào linked list:\n",
    "> 9,8,7,6,5,4,3,2,1,0\n",
    "\n",
    "Viết 1 method có tên là reverse() để đảo ngược thứ tự linked list kể trên:\n",
    "\n",
    "> Output từ bài toán trên: 0,1,2,3,4,5,6,7,8,9"
   ]
  },
  {
   "cell_type": "code",
   "execution_count": 6,
   "metadata": {
    "id": "3JGdyK-Deyxq"
   },
   "outputs": [],
   "source": [
    "class LinkedList:\n",
    "    class _Node:\n",
    "        def __init__(self, element, next):\n",
    "            self._element = element\n",
    "            self._next = next\n",
    "\n",
    "    def __init__(self):\n",
    "        self._head = None\n",
    "        self._size = 0\n",
    "\n",
    "    def __len__(self):\n",
    "        return self._size\n",
    "\n",
    "    def is_empty(self):\n",
    "        return self._size == 0\n",
    "\n",
    "    def push(self, e):\n",
    "        self._head = self._Node(e, self._head)\n",
    "        self._size += 1\n",
    "\n",
    "    def top(self):\n",
    "        if self.is_empty():\n",
    "            raise Exception('Stack is empty')\n",
    "        return self._head._element\n",
    "\n",
    "    def pop(self):\n",
    "        if self.is_empty():\n",
    "            return \"Stack is empty\"\n",
    "        current = self._head\n",
    "        self._head = self._head._next\n",
    "        self._size -= 1\n",
    "        return current._element\n",
    "\n",
    "    def remove(self, e):\n",
    "        current = self._head\n",
    "        if current._element == e:\n",
    "            self.pop()\n",
    "        while current:\n",
    "            if current._next._element == e:\n",
    "                current._next = current._next._next\n",
    "            current = current._next\n",
    "\n",
    "    def __str__(self):\n",
    "        current = self._head\n",
    "        ll = ''\n",
    "        while current:\n",
    "            ll += f\"{current._element} \"\n",
    "            current = current._next\n",
    "        return ll\n",
    "            \n",
    "    def reverse(self):\n",
    "        current = self._head\n",
    "        if self._size == 0:\n",
    "            raise Exception('Stack is empty')\n",
    "        else:\n",
    "            pre_node = current\n",
    "            current = pre_node._next\n",
    "            pre_node._next = None\n",
    "            while current:\n",
    "                next_node = current._next\n",
    "                current._next = pre_node\n",
    "                pre_node = current\n",
    "                current = next_node\n",
    "            self._head = pre_node"
   ]
  },
  {
   "cell_type": "code",
   "execution_count": 7,
   "metadata": {},
   "outputs": [
    {
     "name": "stdout",
     "output_type": "stream",
     "text": [
      "Input: 9 8 7 6 5 4 3 2 1 0 \n",
      "Output: 0 1 2 3 4 5 6 7 8 9 \n"
     ]
    }
   ],
   "source": [
    "nums = [0, 1, 2, 3, 4, 5, 6, 7, 8, 9]\n",
    "linked_list = LinkedList()\n",
    "for num in nums:\n",
    "    linked_list.push(num)\n",
    "print('Input:', linked_list)\n",
    "linked_list.reverse()\n",
    "print('Output:', linked_list)"
   ]
  },
  {
   "cell_type": "markdown",
   "metadata": {
    "id": "U0tRYHVKjnSz"
   },
   "source": [
    "Ex 4(2đ): Có thể tham khảo Stack dưới đây hoặc tự implement, viết 1 hàm để chuyển các số ở dạng thập phân dưới đây sang hệ nhị phân\n",
    "\n",
    "1.   1023146879\n",
    "2.   99999999999\n",
    "\n"
   ]
  },
  {
   "cell_type": "code",
   "execution_count": 8,
   "metadata": {
    "id": "f5AzUDeWjfRL"
   },
   "outputs": [],
   "source": [
    "class Stack:\n",
    "    def __init__(self):\n",
    "        self._array = []\n",
    "\n",
    "    def __len__(self):\n",
    "        return len(self._array)\n",
    "\n",
    "    def is_empty(self):\n",
    "        return not self._array  # 0, Null -> False\n",
    "\n",
    "    def push(self, x):\n",
    "        self._array.append(x)\n",
    "\n",
    "    def top(self):\n",
    "        if self.is_empty():\n",
    "            return False\n",
    "        else:\n",
    "            temp = self._array[-1]\n",
    "            del self._array[-1]\n",
    "            return temp\n",
    "\n",
    "    def pop(self):\n",
    "        if self.is_empty():\n",
    "            return False\n",
    "        return self._array.pop()\n",
    "\n",
    "    def display(self):\n",
    "        return self._array[0::1]"
   ]
  },
  {
   "cell_type": "code",
   "execution_count": 9,
   "metadata": {},
   "outputs": [],
   "source": [
    "def decimal_to_binary(number):\n",
    "    binary = Stack()\n",
    "    while number > 0:\n",
    "        binary.push(number%2)\n",
    "        number = number//2\n",
    "    result = ''\n",
    "    while not binary.is_empty():\n",
    "        result += str(binary.pop())\n",
    "    return int(result)"
   ]
  },
  {
   "cell_type": "code",
   "execution_count": 10,
   "metadata": {},
   "outputs": [
    {
     "name": "stdout",
     "output_type": "stream",
     "text": [
      "1. 111100111110111111101101111111\n",
      "2. 1011101001000011101101110011111111111\n"
     ]
    }
   ],
   "source": [
    "print('1.', decimal_to_binary(1023146879))\n",
    "print('2.', decimal_to_binary(99999999999))"
   ]
  },
  {
   "cell_type": "markdown",
   "metadata": {
    "id": "ZfKFiwRrwfTp"
   },
   "source": [
    "**CÁN BỘ COI THI KHÔNG GIẢI THÍCH THÊM!**"
   ]
  }
 ],
 "metadata": {
  "colab": {
   "collapsed_sections": [],
   "name": "Sample midterm DSA DSEBK62",
   "provenance": []
  },
  "kernelspec": {
   "display_name": "Python 3 (ipykernel)",
   "language": "python",
   "name": "python3"
  },
  "language_info": {
   "codemirror_mode": {
    "name": "ipython",
    "version": 3
   },
   "file_extension": ".py",
   "mimetype": "text/x-python",
   "name": "python",
   "nbconvert_exporter": "python",
   "pygments_lexer": "ipython3",
   "version": "3.9.13"
  }
 },
 "nbformat": 4,
 "nbformat_minor": 1
}
