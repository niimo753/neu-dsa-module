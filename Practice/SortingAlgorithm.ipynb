{
 "cells": [
  {
   "cell_type": "code",
   "execution_count": 1,
   "id": "111dd479",
   "metadata": {},
   "outputs": [],
   "source": [
    "def quick_sort(array):\n",
    "    '''Idea: Find the correct position of pivot (the last element of array) by diving the given array into 2 parts: one\n",
    "    containing all elements less or equal than pivot (lower part), one containing all elements greater than pivot (upper\n",
    "    part). After that, continueto apply quick sort with these two part.'''\n",
    "    if len(array) <= 1:\n",
    "        return array\n",
    "    pivot = array.pop()\n",
    "    lower = []\n",
    "    upper = []\n",
    "    for i in array:\n",
    "        if i <= pivot:\n",
    "            lower.append(i)\n",
    "        else:\n",
    "            upper.append(i)\n",
    "    return quick_sort(lower) + [pivot] + quick_sort(upper)"
   ]
  },
  {
   "cell_type": "code",
   "execution_count": 2,
   "id": "b2b99844",
   "metadata": {},
   "outputs": [
    {
     "name": "stdout",
     "output_type": "stream",
     "text": [
      "[0, 1, 2, 4, 5, 5, 7, 7, 9, 10]\n"
     ]
    }
   ],
   "source": [
    "array = [1, 4, 7, 9, 10, 2, 5, 7, 0, 5]\n",
    "print(quick_sort(array))"
   ]
  },
  {
   "cell_type": "code",
   "execution_count": 3,
   "id": "cec45192",
   "metadata": {},
   "outputs": [],
   "source": [
    "def bubble_sort(array):\n",
    "    '''Bắt đầu từ phần tử đầu tiên, so sánh 2 phần tử ở cạnh nhau, nếu phần tử sau nhỏ hơn phần tử trước thì đổi chỗ hai\n",
    "    phần tử. Cứ so sánh và đổi chỗ cho đến khi phần tử lớn nhất về đúng vị trí ở cuối dãy. Thực hiện tiếp tục để tìm phần\n",
    "    tử lớn thứ hai. Vế bên phải của array luôn là vế đã được sắp xếp.'''\n",
    "    size = len(array)-1\n",
    "    index = 0\n",
    "    while size > 0:\n",
    "        while index < size:\n",
    "            if array[index] > array[index+1]:\n",
    "                array[index], array[index+1] = array[index+1], array[index]\n",
    "            index += 1\n",
    "        index = 0\n",
    "        size -= 1\n",
    "    return array"
   ]
  },
  {
   "cell_type": "code",
   "execution_count": 4,
   "id": "8c67efbc",
   "metadata": {},
   "outputs": [
    {
     "name": "stdout",
     "output_type": "stream",
     "text": [
      "[0, 1, 2, 4, 5, 5, 7, 7, 9, 10]\n"
     ]
    }
   ],
   "source": [
    "array = [1, 4, 7, 9, 10, 2, 5, 7, 0, 5]\n",
    "print(bubble_sort(array))"
   ]
  },
  {
   "cell_type": "code",
   "execution_count": 5,
   "id": "fe5dee7b",
   "metadata": {},
   "outputs": [],
   "source": [
    "def insertion_sort(array):\n",
    "    '''Giữ cho phần bên trái luôn sorted. So sánh 2 số liên tiếp nhau, nếu số sau lớn hơn số trước thì giữ nguyên, nếu không\n",
    "    thì đổi chỗ 2 số cho nhau và tiếp tục tìm vị trí chính xác của số nhỏ hơn (trong 2 số vừa đổi chỗ) ở dãy sorted.'''\n",
    "    for i in range(len(array)-1):\n",
    "        if array[i] > array[i+1]:\n",
    "            array[i], array[i+1] = array[i+1], array[i]\n",
    "            index = i\n",
    "            while index > 0 and array[index] < array[index-1]:\n",
    "                array[index], array[index-1] = array[index-1], array[index]\n",
    "                index -= 1\n",
    "    return array"
   ]
  },
  {
   "cell_type": "code",
   "execution_count": 6,
   "id": "7ce614c9",
   "metadata": {},
   "outputs": [
    {
     "name": "stdout",
     "output_type": "stream",
     "text": [
      "[0, 1, 2, 4, 5, 5, 7, 7, 9, 10]\n"
     ]
    }
   ],
   "source": [
    "array = [1, 4, 7, 9, 10, 2, 5, 7, 0, 5]\n",
    "print(insertion_sort(array))"
   ]
  },
  {
   "cell_type": "code",
   "execution_count": 7,
   "id": "3d826670",
   "metadata": {},
   "outputs": [],
   "source": [
    "def selection_sort(array):\n",
    "    '''Bắt đầu tử phần tử đầu tiên. Tìm index của phần tử có giá trị nhỏ nhất. Đổi chỗ phần tử đầu tiên với phần tử nhỏ nhất\n",
    "    Tiếp tục xét từ phần tử thứ 2, tìm index của phần tử có giá trị nhỏ nhất thuộc vế phải của dãy'''\n",
    "    for i in range(len(array)):\n",
    "        selected = i\n",
    "        for j in range(i+1, len(array)):\n",
    "            if array[j] < array[selected]:\n",
    "                selected = j\n",
    "        if selected != i:\n",
    "            array[i], array[selected] = array[selected], array[i]\n",
    "    return array"
   ]
  },
  {
   "cell_type": "code",
   "execution_count": 8,
   "id": "286a0de0",
   "metadata": {},
   "outputs": [
    {
     "name": "stdout",
     "output_type": "stream",
     "text": [
      "[0, 1, 2, 4, 5, 5, 7, 7, 9, 10]\n"
     ]
    }
   ],
   "source": [
    "array = [1, 4, 7, 9, 10, 2, 5, 7, 0, 5]\n",
    "print(selection_sort(array))"
   ]
  },
  {
   "cell_type": "code",
   "execution_count": 9,
   "id": "dcab9fb7",
   "metadata": {},
   "outputs": [],
   "source": [
    "def merge_sort(array):\n",
    "    if len(array) <= 1:\n",
    "        return array\n",
    "    sub_array1 = [array[i] for i in range(len(array)//2)]\n",
    "    sub_array2 = [array[i] for i in range(len(array)//2, len(array))]\n",
    "    \n",
    "    sub_array1 = merge_sort(sub_array1)\n",
    "    sub_array2 = merge_sort(sub_array2)\n",
    "    \n",
    "    return merge(sub_array1, sub_array2)\n",
    "\n",
    "def merge(arr1, arr2):\n",
    "    merged = []\n",
    "    while arr1 or arr2:\n",
    "        if not arr1:\n",
    "            merged.append(arr2[0])\n",
    "            arr2.pop(0)\n",
    "        elif not arr2:\n",
    "            merged.append(arr1[0])\n",
    "            arr1.pop(0)\n",
    "        elif arr1[0] < arr2[0]:\n",
    "            merged.append(arr1[0])\n",
    "            arr1.pop(0)\n",
    "        else:\n",
    "            merged.append(arr2[0])\n",
    "            arr2.pop(0)\n",
    "    return merged"
   ]
  },
  {
   "cell_type": "code",
   "execution_count": 10,
   "id": "14cc934f",
   "metadata": {},
   "outputs": [
    {
     "name": "stdout",
     "output_type": "stream",
     "text": [
      "[0, 1, 2, 4, 5, 5, 7, 7, 9, 10]\n"
     ]
    }
   ],
   "source": [
    "array = [1, 4, 7, 9, 10, 2, 5, 7, 0, 5]\n",
    "print(merge_sort(array))"
   ]
  }
 ],
 "metadata": {
  "kernelspec": {
   "display_name": "Python 3 (ipykernel)",
   "language": "python",
   "name": "python3"
  },
  "language_info": {
   "codemirror_mode": {
    "name": "ipython",
    "version": 3
   },
   "file_extension": ".py",
   "mimetype": "text/x-python",
   "name": "python",
   "nbconvert_exporter": "python",
   "pygments_lexer": "ipython3",
   "version": "3.11.7"
  }
 },
 "nbformat": 4,
 "nbformat_minor": 5
}
