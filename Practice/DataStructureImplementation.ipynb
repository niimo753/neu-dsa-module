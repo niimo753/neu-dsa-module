{
 "cells": [
  {
   "cell_type": "markdown",
   "id": "8ad76970",
   "metadata": {},
   "source": [
    "# Notes\n",
    "* Define Empty and Full Class\n",
    "* Test with all case (head, tail, mid...) for all methods (len, is_empty...)\n",
    "* Pay attention to public and private variables\n",
    "* Return element after removing it\n",
    "* Check validation (type, constraint...)"
   ]
  },
  {
   "cell_type": "code",
   "execution_count": 1,
   "id": "4a5e4c8e",
   "metadata": {},
   "outputs": [],
   "source": [
    "class Empty(Exception):\n",
    "    pass\n",
    "\n",
    "class Full(Exception):\n",
    "    pass\n",
    "\n",
    "class Error(Exception):\n",
    "    pass"
   ]
  },
  {
   "cell_type": "markdown",
   "id": "da5ca5f5",
   "metadata": {},
   "source": [
    "# Stack"
   ]
  },
  {
   "cell_type": "code",
   "execution_count": 2,
   "id": "f02be0cc",
   "metadata": {},
   "outputs": [],
   "source": [
    "class Stack:\n",
    "    def __init__(self):\n",
    "        self._data = []\n",
    "        self._size = 0\n",
    "        \n",
    "    def __len__(self):\n",
    "        return self._size\n",
    "    \n",
    "    def is_empty(self):\n",
    "        return self._size == 0\n",
    "    \n",
    "    def push(self, item):\n",
    "        self._data.append(item)\n",
    "        self._size += 1\n",
    "        \n",
    "    def pop(self):\n",
    "        if self.is_empty():\n",
    "            raise Empty('Stack is empty')\n",
    "        self._size -= 1\n",
    "        return self.data.pop()\n",
    "    \n",
    "    def top(self):\n",
    "        if self.is_empty():\n",
    "            raise Empty('Stack is empty')\n",
    "        return self.data[0]\n",
    "    \n",
    "    def __repr__(self):\n",
    "        return str(self._data)"
   ]
  },
  {
   "cell_type": "code",
   "execution_count": 3,
   "id": "6b8f3411",
   "metadata": {},
   "outputs": [],
   "source": [
    "class Queue:\n",
    "    def __init__(self):\n",
    "        self._data = []\n",
    "        self._size = 0\n",
    "        \n",
    "    def __len__(self):\n",
    "        return self._size\n",
    "    \n",
    "    def is_empty(self):\n",
    "        return self._size == 0\n",
    "    \n",
    "    def dequeue(self):\n",
    "        if self.is_empty():\n",
    "            raise Empty('Queue is empty')\n",
    "        self._size -= 1\n",
    "        return self._data.pop(0)\n",
    "    \n",
    "    def enqueue(self, item):\n",
    "        self._data.append(item)\n",
    "        self._size += 1\n",
    "        \n",
    "    def first(self):\n",
    "        if self.is_empty():\n",
    "            raise Empty('Queue is empty')\n",
    "        return self._data[0]\n",
    "        \n",
    "    def __repr__(self):\n",
    "        return str(self._data)"
   ]
  },
  {
   "cell_type": "markdown",
   "id": "9957fce2",
   "metadata": {},
   "source": [
    "# Linked List"
   ]
  },
  {
   "cell_type": "markdown",
   "id": "ab381e6b",
   "metadata": {},
   "source": [
    "### Singly Linked List"
   ]
  },
  {
   "cell_type": "code",
   "execution_count": 4,
   "id": "427a8cc9",
   "metadata": {},
   "outputs": [],
   "source": [
    "class SLLNode:\n",
    "    def __init__(self, value, nextnode=None):\n",
    "        self.value = value\n",
    "        self.next = nextnode\n",
    "    \n",
    "    def __repr__(self):\n",
    "        return str(self.value)"
   ]
  },
  {
   "cell_type": "code",
   "execution_count": 5,
   "id": "bd6f16da",
   "metadata": {},
   "outputs": [],
   "source": [
    "class SinglyLinkedList:\n",
    "    def __init__(self):\n",
    "        self._head = None\n",
    "        self._size = 0\n",
    "    \n",
    "    def __len__(self):\n",
    "        return self._size\n",
    "    \n",
    "    def is_empty(self):\n",
    "        return self._size == 0\n",
    "    \n",
    "    def head(self):\n",
    "        return self._head\n",
    "    \n",
    "    def insert(self, newnode: SLLNode, k=0):\n",
    "        '''Add new node to the index k (index starts from 0)\n",
    "        Default: Add to the head of the singly linked list (k = 0)'''\n",
    "        if not isinstance(k, int):\n",
    "            raise IndexError('Invalid Index')\n",
    "        else:\n",
    "            if k > self._size or k < 0:\n",
    "                raise IndexError('Invalid Index')\n",
    "        if not isinstance(newnode, SLLNode):\n",
    "            raise Error('Wrong type of items inserted')\n",
    "        if k == 0:\n",
    "            self._head, newnode.next = newnode, self._head\n",
    "        else:\n",
    "            node = self._head\n",
    "            while k>1:\n",
    "                node = node.next\n",
    "                k -= 1\n",
    "            node.next, newnode.next = newnode, node.next\n",
    "        self._size += 1\n",
    "    \n",
    "    def __delitem__(self, k: int):\n",
    "        '''Delete the node at index k. Return the deleted node'''\n",
    "        if self.is_empty():\n",
    "            raise Empty('Singly Linked List is empty')\n",
    "        if not isinstance(k, int):\n",
    "            raise IndexError('Invalid Index')\n",
    "        else:\n",
    "            if k >= self._size or k < 0:\n",
    "                raise IndexError('Invalid Index')\n",
    "        if k == 0:\n",
    "            removed = self._head\n",
    "            self._head = self._head.next\n",
    "        else:\n",
    "            node = self._head\n",
    "            while k>1:\n",
    "                node = node.next\n",
    "                k -= 1\n",
    "            removed = node.next\n",
    "            node.next =  node.next.next\n",
    "        self._size -= 1\n",
    "    \n",
    "    def __getitem__(self, k: int):\n",
    "        '''Return the node at index k'''\n",
    "        if self.is_empty():\n",
    "            raise Empty('Singly Linked List is empty')\n",
    "        if not isinstance(k, int):\n",
    "            raise IndexError('Invalid Index')\n",
    "        else:\n",
    "            if k >= self._size or k < 0:\n",
    "                raise IndexError('Invalid Index')\n",
    "        node = self._head\n",
    "        while k > 0:\n",
    "            node = node.next\n",
    "            k -= 1\n",
    "        return node\n",
    "    \n",
    "    def __repr__(self):\n",
    "        node = self._head\n",
    "        while node:\n",
    "            print(node, end = ' ')\n",
    "            node = node.next\n",
    "        return ''\n",
    "    \n",
    "    # other methods\n",
    "    def sort_asc(self):\n",
    "        node = self._head\n",
    "        while node:\n",
    "            temp = node.next\n",
    "            while temp:\n",
    "                if temp.value < node.value:\n",
    "                    temp.value, node.value = node.value, temp.value\n",
    "                temp = temp.next\n",
    "            node = node.next\n",
    "        \n",
    "    def sort_desc(self):\n",
    "        node = self._head\n",
    "        while node:\n",
    "            temp = node.next\n",
    "            while temp:\n",
    "                if temp.value > node.value:\n",
    "                    temp.value, node.value = node.value, temp.value\n",
    "                temp = temp.next\n",
    "            node = node.next\n",
    "    \n",
    "    def reverse(self):\n",
    "        node = self._head\n",
    "        nprev = None\n",
    "        nnext = None\n",
    "        while node:\n",
    "            nnext = node.next\n",
    "            node.next = nprev\n",
    "            nprev = node\n",
    "            if not nnext:\n",
    "                self._head = node\n",
    "            node = nnext"
   ]
  },
  {
   "cell_type": "code",
   "execution_count": 6,
   "id": "a98560b9",
   "metadata": {},
   "outputs": [
    {
     "name": "stdout",
     "output_type": "stream",
     "text": [
      "Singly Linked List: 7 5 2 0 3 \n"
     ]
    }
   ],
   "source": [
    "sll = SinglyLinkedList()\n",
    "data = [7, 5, 2, 0, 3]\n",
    "for i in range(len(data)):\n",
    "    sll.insert(SLLNode(data[i]), i)\n",
    "print('Singly Linked List:', sll)"
   ]
  },
  {
   "cell_type": "code",
   "execution_count": 7,
   "id": "96ab4f07",
   "metadata": {},
   "outputs": [
    {
     "name": "stdout",
     "output_type": "stream",
     "text": [
      "sll[0] = 7\n",
      "sll[4] = 3\n",
      "sll[2] = 2\n"
     ]
    }
   ],
   "source": [
    "print('sll[0] =', sll[0])\n",
    "print('sll[4] =', sll[4])\n",
    "print('sll[2] =', sll[2])"
   ]
  },
  {
   "cell_type": "code",
   "execution_count": 8,
   "id": "c87fdddc",
   "metadata": {},
   "outputs": [
    {
     "name": "stdout",
     "output_type": "stream",
     "text": [
      "Reverse: 3 0 2 5 7 \n",
      "Ascending: 0 2 3 5 7 \n",
      "Descening: 7 5 3 2 0 \n"
     ]
    }
   ],
   "source": [
    "# reverse\n",
    "sll.reverse()\n",
    "print('Reverse:', sll)\n",
    "\n",
    "# ascending order\n",
    "sll.sort_asc()\n",
    "print('Ascending:', sll)\n",
    "\n",
    "# descending order\n",
    "sll.sort_desc()\n",
    "print('Descening:', sll)"
   ]
  },
  {
   "cell_type": "code",
   "execution_count": 9,
   "id": "0b623314",
   "metadata": {},
   "outputs": [
    {
     "name": "stdout",
     "output_type": "stream",
     "text": [
      "Delete Head: 5 3 2 0 \n",
      "Delete Tail: 5 3 2 \n",
      "Delete Mid: 5 2 \n"
     ]
    }
   ],
   "source": [
    "# delete head\n",
    "del sll[0]\n",
    "print('Delete Head:', sll)\n",
    "\n",
    "# delete tail\n",
    "del sll[3]\n",
    "print('Delete Tail:', sll)\n",
    "\n",
    "# delete mid\n",
    "del sll[1]\n",
    "print('Delete Mid:', sll)"
   ]
  },
  {
   "cell_type": "code",
   "execution_count": 10,
   "id": "95871f23",
   "metadata": {},
   "outputs": [
    {
     "name": "stdout",
     "output_type": "stream",
     "text": [
      "Length: 2\n",
      "Empty: False\n"
     ]
    }
   ],
   "source": [
    "print('Length:', len(sll))\n",
    "print('Empty:', sll.is_empty())"
   ]
  },
  {
   "cell_type": "markdown",
   "id": "2b598b9e",
   "metadata": {},
   "source": [
    "### Doubly Linked List"
   ]
  },
  {
   "cell_type": "code",
   "execution_count": 11,
   "id": "eafb4682",
   "metadata": {},
   "outputs": [],
   "source": [
    "class DLLNode:\n",
    "    def __init__(self, value, last=None, nextnode=None):\n",
    "        self.value = value\n",
    "        self.last = last\n",
    "        self.next = nextnode\n",
    "        \n",
    "    def __repr__(self):\n",
    "        return str(self.value)"
   ]
  },
  {
   "cell_type": "code",
   "execution_count": 12,
   "id": "251749ff",
   "metadata": {},
   "outputs": [],
   "source": [
    "class DoublyLinkedList:\n",
    "    def __init__(self):\n",
    "        self._head = None\n",
    "        self._size = 0\n",
    "    \n",
    "    def __len__(self):\n",
    "        return self._size\n",
    "    \n",
    "    def is_empty(self):\n",
    "        return self._size == 0\n",
    "    \n",
    "    def head(self):\n",
    "        return self._head\n",
    "    \n",
    "    def insert(self, newnode: DLLNode, k=0):\n",
    "        '''Add new node to the index k (index starts from 0)\n",
    "        Default: Add to the head of the singly linked list (k = 0)'''\n",
    "        if not isinstance(k, int):\n",
    "            raise IndexError('Invalid Index')\n",
    "        else:\n",
    "            if k > self._size or k < 0:\n",
    "                raise IndexError('Invalid Index')\n",
    "        if not isinstance(newnode, DLLNode):\n",
    "            raise Error('Wrong type of items inserted')\n",
    "        if k == 0:\n",
    "            newnode.next = self._head\n",
    "            self._head = newnode\n",
    "            if newnode.next:\n",
    "                newnode.next.last = newnode\n",
    "        else:\n",
    "            node = self._head\n",
    "            while k > 1:\n",
    "                node = node.next\n",
    "                k -= 1\n",
    "            newnode.next = node.next\n",
    "            newnode.last = node\n",
    "            node.next = newnode\n",
    "            if newnode.next:\n",
    "                newnode.next.last = newnode\n",
    "        self._size += 1\n",
    "    \n",
    "    def __delitem__(self, k: int):\n",
    "        '''Delete the node at index k. Return the deleted node'''\n",
    "        if self.is_empty():\n",
    "            raise Empty('Doubly Linked List is empty')\n",
    "        if not isinstance(k, int):\n",
    "            raise IndexError('Invalid Index')\n",
    "        else:\n",
    "            if k >= self._size or k < 0:\n",
    "                raise IndexError('Invalid Index')\n",
    "        if k == 0:\n",
    "            removed = self._head\n",
    "            self._head = self._head.next\n",
    "            if self._head:\n",
    "                self._head.last = None\n",
    "        else:\n",
    "            node = self._head\n",
    "            while k > 1:\n",
    "                node = node.next\n",
    "                k -= 1\n",
    "            removed = node.next\n",
    "            node.next = node.next.next\n",
    "            if node.next:\n",
    "                node.next.last = node\n",
    "        self._size -= 1\n",
    "    \n",
    "    def __getitem__(self, k: int):\n",
    "        '''Return the node at index k'''\n",
    "        if self.is_empty():\n",
    "            raise Empty('Doubly Linked List is empty')\n",
    "        if not isinstance(k, int):\n",
    "            raise IndexError('Invalid Index')\n",
    "        else:\n",
    "            if k >= self._size or k < 0:\n",
    "                raise IndexError('Invalid Index')\n",
    "        node = self._head\n",
    "        while k > 0:\n",
    "            node = node.next\n",
    "            k -= 1\n",
    "        return node\n",
    "    \n",
    "    def __repr__(self):\n",
    "        node = self._head\n",
    "        while node:\n",
    "            print(node, end = ' ')\n",
    "            node = node.next\n",
    "        return ''\n",
    "    \n",
    "    # other methods\n",
    "    def sort_asc(self):\n",
    "        node = self._head\n",
    "        while node:\n",
    "            temp = node.next\n",
    "            while temp:\n",
    "                if temp.value < node.value:\n",
    "                    temp.value, node.value = node.value, temp.value\n",
    "                temp = temp.next\n",
    "            node = node.next\n",
    "        \n",
    "    def sort_desc(self):\n",
    "        node = self._head\n",
    "        while node:\n",
    "            temp = node.next\n",
    "            while temp:\n",
    "                if temp.value > node.value:\n",
    "                    temp.value, node.value = node.value, temp.value\n",
    "                temp = temp.next\n",
    "            node = node.next\n",
    "    \n",
    "    def reverse(self):\n",
    "        node = self._head\n",
    "        while node:\n",
    "            node.next, node.last = node.last, node.next\n",
    "            if not node.last:\n",
    "                self._head = node\n",
    "            node = node.last"
   ]
  },
  {
   "cell_type": "code",
   "execution_count": 13,
   "id": "eb2aa5cb",
   "metadata": {},
   "outputs": [
    {
     "name": "stdout",
     "output_type": "stream",
     "text": [
      "Doubly Linked List: 7 5 2 0 3 \n"
     ]
    }
   ],
   "source": [
    "dll = DoublyLinkedList()\n",
    "data = [7, 5, 2, 0, 3]\n",
    "for i in range(len(data)):\n",
    "    dll.insert(DLLNode(data[i]), i)\n",
    "print('Doubly Linked List:', dll)"
   ]
  },
  {
   "cell_type": "code",
   "execution_count": 14,
   "id": "a84ad27d",
   "metadata": {},
   "outputs": [
    {
     "name": "stdout",
     "output_type": "stream",
     "text": [
      "0 7 0 5 2 0 0 3 \n"
     ]
    }
   ],
   "source": [
    "dll.insert(DLLNode(0), 0)\n",
    "dll.insert(DLLNode(0), 2)\n",
    "dll.insert(DLLNode(0), 5)\n",
    "print(dll)"
   ]
  },
  {
   "cell_type": "code",
   "execution_count": 15,
   "id": "9bad0f36",
   "metadata": {},
   "outputs": [
    {
     "name": "stdout",
     "output_type": "stream",
     "text": [
      "3 0 0 2 5 0 7 0 \n"
     ]
    }
   ],
   "source": [
    "dll.reverse()\n",
    "print(dll)\n",
    "dll.reverse()"
   ]
  },
  {
   "cell_type": "code",
   "execution_count": 16,
   "id": "eca4033d",
   "metadata": {},
   "outputs": [
    {
     "name": "stdout",
     "output_type": "stream",
     "text": [
      "Head: 0\n",
      "Tail: 3\n",
      "Index 3: 5\n"
     ]
    }
   ],
   "source": [
    "# get head\n",
    "print('Head:', dll[0])\n",
    "\n",
    "# get tail\n",
    "print('Tail:', dll[7])\n",
    "\n",
    "# get mid\n",
    "print('Index 3:', dll[3])"
   ]
  },
  {
   "cell_type": "code",
   "execution_count": 17,
   "id": "f34162f9",
   "metadata": {},
   "outputs": [
    {
     "name": "stdout",
     "output_type": "stream",
     "text": [
      "Delete Head: 7 0 5 2 0 0 3 \n",
      "Delete Tail: 7 0 5 2 0 0 \n",
      "Delete Mid: 7 0 5 0 0 \n"
     ]
    }
   ],
   "source": [
    "# delete head\n",
    "del dll[0]\n",
    "print('Delete Head:', dll)\n",
    "\n",
    "# delete tail\n",
    "del dll[6]\n",
    "print('Delete Tail:', dll)\n",
    "\n",
    "# delete mid\n",
    "del dll[3]\n",
    "print('Delete Mid:', dll)"
   ]
  },
  {
   "cell_type": "code",
   "execution_count": 18,
   "id": "d63864f7",
   "metadata": {},
   "outputs": [
    {
     "name": "stdout",
     "output_type": "stream",
     "text": [
      "Length: 5\n",
      "Empty: False\n"
     ]
    }
   ],
   "source": [
    "print('Length:', len(dll))\n",
    "print('Empty:', dll.is_empty())"
   ]
  },
  {
   "cell_type": "code",
   "execution_count": 19,
   "id": "256d2f0a",
   "metadata": {},
   "outputs": [
    {
     "name": "stdout",
     "output_type": "stream",
     "text": [
      "0 0 0 5 7 \n"
     ]
    }
   ],
   "source": [
    "dll.sort_asc()\n",
    "print(dll)"
   ]
  },
  {
   "cell_type": "code",
   "execution_count": 20,
   "id": "10fca3b5",
   "metadata": {},
   "outputs": [
    {
     "name": "stdout",
     "output_type": "stream",
     "text": [
      "7 5 0 0 0 \n"
     ]
    }
   ],
   "source": [
    "dll.sort_desc()\n",
    "print(dll)"
   ]
  },
  {
   "cell_type": "markdown",
   "id": "c966b0e0",
   "metadata": {},
   "source": [
    "# Tree"
   ]
  },
  {
   "cell_type": "markdown",
   "id": "da9be55d",
   "metadata": {},
   "source": [
    "### Binary Tree"
   ]
  },
  {
   "cell_type": "code",
   "execution_count": 21,
   "id": "80010bf1",
   "metadata": {},
   "outputs": [],
   "source": [
    "class BTNode:\n",
    "    def __init__(self, value, parent=None, left=None, right=None):\n",
    "        self.value = value\n",
    "        self.parent = parent\n",
    "        self.left = left\n",
    "        self.right = right\n",
    "    \n",
    "    def __repr__(self):\n",
    "        return str(self.value)"
   ]
  },
  {
   "cell_type": "code",
   "execution_count": 22,
   "id": "ae625e21",
   "metadata": {},
   "outputs": [],
   "source": [
    "class BinaryTree:\n",
    "    def __init__(self, root):\n",
    "        self._root = root\n",
    "        self._size = 1\n",
    "    \n",
    "    def __len__(self):\n",
    "        return self._size\n",
    "    \n",
    "    def is_empty(self):\n",
    "        return self._size == 0\n",
    "    \n",
    "    def is_there(self, node):\n",
    "        temp = self._root\n",
    "        def compare(temp, node, check=False):\n",
    "            if temp == node:\n",
    "                return True\n",
    "            if temp.left:\n",
    "                check = compare(temp.left, node, check)\n",
    "            if temp.right:\n",
    "                check = compare(temp.right, node, check)\n",
    "            return check\n",
    "        return compare(temp, node)\n",
    "                \n",
    "    def add_left(self, parent, child):\n",
    "        if self.is_there(parent):\n",
    "            if self.is_there(child):\n",
    "                raise Exception(\"Given child node is already in this tree\")\n",
    "            if parent.left:\n",
    "                raise Exception('This node already has left child')\n",
    "            child.parent = parent\n",
    "            parent.left = child\n",
    "        else:\n",
    "            raise Error('Parent node is not in this tree')\n",
    "    \n",
    "    def add_right(self, parent, child):\n",
    "        if self.is_there(parent):\n",
    "            if self.is_there(child):\n",
    "                raise Exception(\"Given child node is already in this tree\")\n",
    "            if not parent.left:\n",
    "                raise Exception(\"Parent hasn't have left child yet\")\n",
    "            if parent.right:\n",
    "                raise Exception('This node already has left child')\n",
    "            child.parent = parent\n",
    "            parent.right = child\n",
    "        else:\n",
    "            raise Error('Parent node is not in this tree')\n",
    "            \n",
    "    def add(self, parent, child):\n",
    "        if self.is_there(parent):\n",
    "            if self.is_there(child):\n",
    "                raise Exception(\"Given child node is already in this tree\")\n",
    "            if not parent.left:\n",
    "                child.parent = parent\n",
    "                parent.left = child\n",
    "            elif not parent.right:\n",
    "                child.parent = parent\n",
    "                parent.right = child\n",
    "            else:\n",
    "                raise Exception(\"Parent node already has two children\")\n",
    "        raise Exception('Parent node is not in this tree')\n",
    "    \n",
    "    def is_root(self, node):\n",
    "        return node == self._root\n",
    "    \n",
    "    def is_leaf(self, node):\n",
    "        '''Return True if given node does not have any children'''\n",
    "        if not self.is_there(node):\n",
    "            raise Exception('Node is not in this tree')\n",
    "        if not node.left and not node.right:\n",
    "            return True\n",
    "        return False\n",
    "    \n",
    "    def check_ancestor(self, ancestor, child):\n",
    "        if not self.is_there(child):\n",
    "            raise Exception('Given child node is not in this tree')\n",
    "        node = child.parent\n",
    "        while node:\n",
    "            if node == ancestor:\n",
    "                return True\n",
    "            node = node.parent\n",
    "        return False    \n",
    "        \n",
    "    def height(self, node):\n",
    "        if not node:\n",
    "            return -1\n",
    "        else:\n",
    "            return max(self.height(node.left), self.height(node.right)) + 1\n",
    "    \n",
    "    def depth(self, node):\n",
    "        depth = 0\n",
    "        node = node.parent\n",
    "        while node:\n",
    "            depth += 1\n",
    "            node = node.parent\n",
    "        return depth\n",
    "    \n",
    "    def __repr__(self):\n",
    "        node = self._root\n",
    "        print('Root:', end=' ')\n",
    "        def display(node, level=1):\n",
    "            if node:\n",
    "                print(node)\n",
    "            if node.left:\n",
    "                print('  '*level, '> L:', sep='', end=' ')\n",
    "                display(node.left, level+1)\n",
    "            if node.right:\n",
    "                print('  '*level, '> R:', sep='', end=' ')\n",
    "                display(node.right, level+1)\n",
    "        display(node)\n",
    "        return ''\n",
    "    \n",
    "    # traversal\n",
    "    def preorder(self):\n",
    "        node = self._root\n",
    "        def preorder_inside(node):\n",
    "            if node:\n",
    "                print(node, end=' ')\n",
    "                if node.left:\n",
    "                    preorder_inside(node.left)\n",
    "                if node.right:\n",
    "                    preorder_inside(node.right)\n",
    "        preorder_inside(node)\n",
    "        \n",
    "    def postorder(self):\n",
    "        node = self._root\n",
    "        def postorder_inside(node):\n",
    "            if node:\n",
    "                if node.left:\n",
    "                    postorder_inside(node.left)\n",
    "                if node.right:\n",
    "                    postorder_inside(node.right)\n",
    "                print(node, end=' ')\n",
    "        postorder_inside(node)\n",
    "        \n",
    "    def inorder(self):\n",
    "        node = self._root\n",
    "        def inorder_inside(node):\n",
    "            if node:\n",
    "                if node.left:\n",
    "                    inorder_inside(node.left)\n",
    "                print(node, end=' ')\n",
    "                if node.right:\n",
    "                    inorder_inside(node.right)\n",
    "        inorder_inside(node)\n",
    "        \n",
    "    def breadth_first(self):\n",
    "        output = Queue()\n",
    "        output.enqueue(self._root)\n",
    "        while output:\n",
    "            temp = output.dequeue()\n",
    "            if temp.left:\n",
    "                output.enqueue(temp.left)\n",
    "            if temp.right:\n",
    "                output.enqueue(temp.right)\n",
    "            print(temp, end=' ')\n",
    "            \n",
    "    def diagonal(self):\n",
    "        output = Queue()\n",
    "        output.enqueue(self._root)\n",
    "        def right_child(node, q):\n",
    "            while node.right:\n",
    "                q.enqueue(node.right)\n",
    "                node = node.right\n",
    "        right_child(self._root, output)\n",
    "        count = len(output)\n",
    "        while output:\n",
    "            if count == 0:\n",
    "                count = len(output)\n",
    "                print()\n",
    "            temp = output.dequeue()\n",
    "            count -= 1\n",
    "            if temp.left:\n",
    "                output.enqueue(temp.left)\n",
    "                right_child(temp.left, output)\n",
    "            print(temp, end=' ')"
   ]
  },
  {
   "cell_type": "code",
   "execution_count": 23,
   "id": "89e10926",
   "metadata": {},
   "outputs": [
    {
     "name": "stdout",
     "output_type": "stream",
     "text": [
      "Root: 1\n",
      "  > L: 2\n",
      "    > L: 4\n",
      "    > R: 5\n",
      "      > L: 7\n",
      "      > R: 8\n",
      "  > R: 3\n",
      "    > L: 6\n",
      "      > L: 9\n",
      "\n"
     ]
    }
   ],
   "source": [
    "node1 = BTNode(1)\n",
    "node2 = BTNode(2)\n",
    "node3 = BTNode(3)\n",
    "node4 = BTNode(4)\n",
    "node5 = BTNode(5)\n",
    "node6 = BTNode(6)\n",
    "node7 = BTNode(7)\n",
    "node8 = BTNode(8)\n",
    "node9 = BTNode(9)\n",
    "node10 = BTNode(10)\n",
    "node11 = BTNode(11)\n",
    "node12 = BTNode(12)\n",
    "\n",
    "bt = BinaryTree(node1)\n",
    "bt.add_left(node1, node2)\n",
    "bt.add_right(node1, node3)\n",
    "bt.add_left(node2, node4)\n",
    "bt.add_right(node2, node5)\n",
    "bt.add_left(node5, node7)\n",
    "bt.add_right(node5, node8)\n",
    "bt.add_left(node3, node6)\n",
    "bt.add_left(node6, node9)\n",
    "print(bt)"
   ]
  },
  {
   "cell_type": "code",
   "execution_count": 24,
   "id": "b7fec1a8",
   "metadata": {},
   "outputs": [
    {
     "data": {
      "text/plain": [
       "2"
      ]
     },
     "execution_count": 24,
     "metadata": {},
     "output_type": "execute_result"
    }
   ],
   "source": [
    "bt.height(node3)\n",
    "bt.depth(node6)"
   ]
  },
  {
   "cell_type": "code",
   "execution_count": 25,
   "id": "cff9945f",
   "metadata": {},
   "outputs": [
    {
     "name": "stdout",
     "output_type": "stream",
     "text": [
      "Preorder: 1 2 4 5 7 8 3 6 9 \n",
      "\n",
      "Postorder: 4 7 8 5 2 9 6 3 1 \n",
      "\n",
      "Inorder: 4 2 7 5 8 1 9 6 3 \n",
      "\n",
      "Breadth First: 1 2 3 4 5 6 7 8 9 \n",
      "\n",
      "Diagonal:\n",
      "1 3 \n",
      "2 5 8 6 \n",
      "4 7 9 "
     ]
    }
   ],
   "source": [
    "print('Preorder: ', end='')\n",
    "bt.preorder()\n",
    "print('\\n\\nPostorder: ', end='')\n",
    "bt.postorder()\n",
    "print('\\n\\nInorder: ', end='')\n",
    "bt.inorder()\n",
    "print('\\n\\nBreadth First: ', end='')\n",
    "bt.breadth_first()\n",
    "print('\\n\\nDiagonal:')\n",
    "bt.diagonal()"
   ]
  },
  {
   "cell_type": "code",
   "execution_count": 26,
   "id": "b3edda95",
   "metadata": {},
   "outputs": [
    {
     "name": "stdout",
     "output_type": "stream",
     "text": [
      "Node 1 is in the given tree: True\n",
      "Node 5 is in the given tree: True\n",
      "Node 9 is in the given tree: True\n",
      "Node 10 is in the given tree: False\n",
      "\n",
      "Node 5 is a leaf: False\n",
      "Node 9 is a leaf: True\n"
     ]
    }
   ],
   "source": [
    "print('Node 1 is in the given tree:', bt.is_there(node1))\n",
    "print('Node 5 is in the given tree:', bt.is_there(node5))\n",
    "print('Node 9 is in the given tree:', bt.is_there(node9))\n",
    "print('Node 10 is in the given tree:', bt.is_there(node10))\n",
    "\n",
    "print()\n",
    "print('Node 5 is a leaf:', bt.is_leaf(node5))\n",
    "print('Node 9 is a leaf:', bt.is_leaf(node9))"
   ]
  },
  {
   "cell_type": "code",
   "execution_count": 27,
   "id": "316b06b5",
   "metadata": {},
   "outputs": [
    {
     "name": "stdout",
     "output_type": "stream",
     "text": [
      "Node 3 is an ancestor of node 9: True\n",
      "Node 4 is an ancestor of node 9: True\n"
     ]
    }
   ],
   "source": [
    "print('Node 3 is an ancestor of node 9:', bt.check_ancestor(node3, node9))\n",
    "print('Node 4 is an ancestor of node 9:', bt.check_ancestor(node3, node9))"
   ]
  },
  {
   "cell_type": "code",
   "execution_count": 28,
   "id": "a9c3c505",
   "metadata": {},
   "outputs": [
    {
     "name": "stdout",
     "output_type": "stream",
     "text": [
      "Depth of node 9: 3\n"
     ]
    }
   ],
   "source": [
    "print('Depth of node 9:', bt.depth(node9))"
   ]
  },
  {
   "cell_type": "markdown",
   "id": "38e272d4",
   "metadata": {},
   "source": [
    "### Binary Search Tree"
   ]
  },
  {
   "cell_type": "code",
   "execution_count": 29,
   "id": "817ff13f",
   "metadata": {},
   "outputs": [],
   "source": [
    "class BinarySearchTree(BinaryTree):\n",
    "    def __init__(self, root):\n",
    "        super().__init__(root)\n",
    "        \n",
    "    def insert(self, node):\n",
    "        root = self._root\n",
    "        while root:\n",
    "            if node.value < root.value:\n",
    "                if not root.left:\n",
    "                    root.left = node\n",
    "                    node.parent = root\n",
    "                    self._size += 1\n",
    "                    break\n",
    "                root = root.left\n",
    "            elif node.value > root.value:\n",
    "                if not root.right:\n",
    "                    root.right = node\n",
    "                    node.parent = root\n",
    "                    self._size += 1\n",
    "                    break\n",
    "                root = root.right\n",
    "            else:\n",
    "                break\n",
    "                # raise Exception(\"Duplicated Nodes\")\n",
    "                \n",
    "    def iterative_search(self, node):\n",
    "        temp = self._root\n",
    "        while temp:\n",
    "            if node.value == temp.value:\n",
    "                return True\n",
    "            elif node.value < temp.value:\n",
    "                temp = temp.left\n",
    "            else:\n",
    "                temp = temp.right\n",
    "        return False"
   ]
  },
  {
   "cell_type": "code",
   "execution_count": 30,
   "id": "272d655c",
   "metadata": {},
   "outputs": [
    {
     "name": "stdout",
     "output_type": "stream",
     "text": [
      "Root: 8\n",
      "  > L: 3\n",
      "    > L: 1\n",
      "    > R: 6\n",
      "      > L: 4\n",
      "      > R: 7\n",
      "  > R: 10\n",
      "    > R: 14\n",
      "      > L: 13\n",
      "\n"
     ]
    }
   ],
   "source": [
    "node2_8 = BTNode(8)\n",
    "node2_3 = BTNode(3)\n",
    "node2_10 = BTNode(10)\n",
    "node2_1 = BTNode(1)\n",
    "node2_6 = BTNode(6)\n",
    "node2_14 = BTNode(14)\n",
    "node2_4 = BTNode(4)\n",
    "node2_7 = BTNode(7)\n",
    "node2_13 = BTNode(13)\n",
    "\n",
    "data = [node2_8, node2_3, node2_10, node2_1, node2_6, node2_14, node2_4, node2_7, node2_13]\n",
    "bst = BinarySearchTree(node2_8)\n",
    "for i in data:\n",
    "    bst.insert(i)\n",
    "print(bst)"
   ]
  },
  {
   "cell_type": "code",
   "execution_count": 31,
   "id": "6538195a",
   "metadata": {},
   "outputs": [
    {
     "name": "stdout",
     "output_type": "stream",
     "text": [
      "Node 8 in BST: True\n",
      "Node 10 in BST: True\n",
      "Node 7 in BST: True\n",
      "Node 15 in BST: False\n"
     ]
    }
   ],
   "source": [
    "print('Node 8 in BST:', bst.iterative_search(node2_8))\n",
    "print('Node 10 in BST:', bst.iterative_search(node2_10))\n",
    "print('Node 7 in BST:', bst.iterative_search(node2_7))\n",
    "print('Node 15 in BST:', bst.iterative_search(BTNode(15)))"
   ]
  },
  {
   "cell_type": "markdown",
   "id": "be8bb080",
   "metadata": {},
   "source": [
    "# Priority Queue"
   ]
  },
  {
   "cell_type": "markdown",
   "id": "c5090043",
   "metadata": {},
   "source": [
    "### Min Heap"
   ]
  },
  {
   "cell_type": "code",
   "execution_count": 32,
   "id": "4ed27d83",
   "metadata": {},
   "outputs": [],
   "source": [
    "class Item:\n",
    "    def __init__(self, key, value):\n",
    "        self.key = key\n",
    "        self.value = value\n",
    "        \n",
    "    def __repr__(self):\n",
    "        return f'({self.key}, {self.value})'\n",
    "    \n",
    "    def __eq__(self, other):\n",
    "        return self.key == other.key\n",
    "    \n",
    "    def __lt__(self, other):\n",
    "        return self.key < other.key\n",
    "    \n",
    "    def __gt__(self, other):\n",
    "        return self.key > other.key"
   ]
  },
  {
   "cell_type": "code",
   "execution_count": 33,
   "id": "f8ff8e6a",
   "metadata": {},
   "outputs": [],
   "source": [
    "class MinHeap:\n",
    "    def __init__(self):\n",
    "        self._data = []\n",
    "        self._size = 0\n",
    "        \n",
    "    def __len__(self):\n",
    "        return self._size\n",
    "    \n",
    "    def is_empty(self):\n",
    "        return self._size == 0\n",
    "    \n",
    "    def _parent(self, key):\n",
    "        return (key-1)//2\n",
    "    \n",
    "    def _left(self, key):\n",
    "        return key*2 + 1\n",
    "    \n",
    "    def _right(self, key):\n",
    "        return key*2 + 2\n",
    "    \n",
    "    def _has_left(self, key):\n",
    "        return self._left(key) < self._size\n",
    "    \n",
    "    def _has_right(self, key):\n",
    "        return self._right(key) < self._size\n",
    "    \n",
    "    def _swap(self, index_1, index_2):\n",
    "        self._data[index_1], self._data[index_2] = self._data[index_2], self._data[index_1]\n",
    "    \n",
    "    def add(self, item):\n",
    "        self._data.append(item)\n",
    "        index = self._size\n",
    "        self._size += 1\n",
    "        while index > 0 and self._data[index] < self._data[self._parent(index)]:\n",
    "            self._swap(index, self._parent(index))\n",
    "            index = self._parent(index)\n",
    "    \n",
    "    def min_heapify(self, index, size):\n",
    "        minindex = index\n",
    "        if self._left(index) < size and self._data[self._left(index)] < self._data[minindex]:\n",
    "            minindex = self._left(index)\n",
    "        if self._right(index) < size and self._data[self._right(index)] < self._data[minindex]:\n",
    "            minindex = self._right(index)\n",
    "        if minindex != index:\n",
    "            self._swap(index, minindex)\n",
    "            self.min_heapify(minindex, size)\n",
    "    \n",
    "    def get_min(self):\n",
    "        if self.is_empty():\n",
    "            raise Empty('Min Heap is empty')\n",
    "        return self.data[0]\n",
    "    \n",
    "    def remove_min(self):\n",
    "        if self.is_empty():\n",
    "            raise Empty('Min Heap is empty')\n",
    "        self._size -= 1\n",
    "        if self._size == 1:\n",
    "            self._data.pop()\n",
    "        else:\n",
    "            self._data[0] = self._data.pop()\n",
    "            self.min_heapify(0, self._size)\n",
    "    \n",
    "    def __repr__(self):\n",
    "        return str(self._data)\n",
    "    \n",
    "    def max_heap_sort(self):\n",
    "        for i in range(self._size-1, 0, -1):\n",
    "            self._swap(0, i)\n",
    "            self.min_heapify(0, i)"
   ]
  },
  {
   "cell_type": "code",
   "execution_count": 34,
   "id": "1b70450d",
   "metadata": {},
   "outputs": [
    {
     "name": "stdout",
     "output_type": "stream",
     "text": [
      "[(0, D), (1, S), (5, S), (4, B), (2, E), (8, U), (9, B), (7, A), (10, A)]\n"
     ]
    }
   ],
   "source": [
    "items = [(2, 'E'), (7, 'A'), (5, 'S'), (1, 'S'), (0, 'D'), (8, 'U'), (9, 'B'), (4, 'B'), (10, 'A')]\n",
    "mh = MinHeap()\n",
    "for i in items:\n",
    "    mh.add(Item(i[0], i[1]))\n",
    "print(mh)"
   ]
  },
  {
   "cell_type": "code",
   "execution_count": 35,
   "id": "680440de",
   "metadata": {},
   "outputs": [
    {
     "name": "stdout",
     "output_type": "stream",
     "text": [
      "[(1, S), (2, E), (5, S), (4, B), (10, A), (8, U), (9, B), (7, A)]\n"
     ]
    }
   ],
   "source": [
    "mh.remove_min()\n",
    "print(mh)"
   ]
  },
  {
   "cell_type": "code",
   "execution_count": 36,
   "id": "7103d9b4",
   "metadata": {},
   "outputs": [
    {
     "name": "stdout",
     "output_type": "stream",
     "text": [
      "[(10, A), (9, B), (8, U), (7, A), (5, S), (4, B), (2, E), (1, S)]\n"
     ]
    }
   ],
   "source": [
    "mh.max_heap_sort()\n",
    "print(mh)"
   ]
  },
  {
   "cell_type": "markdown",
   "id": "129f2448",
   "metadata": {},
   "source": [
    "### Max Heap"
   ]
  },
  {
   "cell_type": "code",
   "execution_count": 37,
   "id": "64ca68ca",
   "metadata": {},
   "outputs": [],
   "source": [
    "class MaxHeap(MinHeap):\n",
    "    def __init__(self):\n",
    "        super().__init__()\n",
    "    \n",
    "    def add(self, item):\n",
    "        self._data.append(item)\n",
    "        index = self._size\n",
    "        self._size += 1\n",
    "        while index > 0 and self._data[index] > self._data[self._parent(index)]:\n",
    "            self._swap(index, self._parent(index))\n",
    "            index = self._parent(index)\n",
    "    \n",
    "    def max_heapify(self, index, size):\n",
    "        maxindex = index\n",
    "        if self._left(index) < size and self._data[self._left(index)] > self._data[maxindex]:\n",
    "            maxindex = self._left(index)\n",
    "        if self._right(index) < size and self._data[self._right(index)] > self._data[maxindex]:\n",
    "            maxindex = self._right(index)\n",
    "        if maxindex != index:\n",
    "            self._swap(index, maxindex)\n",
    "            self.max_heapify(maxindex, size)\n",
    "    \n",
    "    def get_max(self):\n",
    "        if self.is_empty():\n",
    "            raise Empty('Max Heap is empty')\n",
    "        return self._data[0]\n",
    "    \n",
    "    def remove_max(self):\n",
    "        if self.is_empty():\n",
    "            raise Empty('Max Heap is empty')\n",
    "        self._size -= 1\n",
    "        if self._size == 1:\n",
    "            self._data.pop()\n",
    "        else:\n",
    "            self._data[0] = self._data.pop()\n",
    "            self.max_heapify(0, self._size)"
   ]
  },
  {
   "cell_type": "code",
   "execution_count": 38,
   "id": "284e83ac",
   "metadata": {},
   "outputs": [
    {
     "name": "stdout",
     "output_type": "stream",
     "text": [
      "[(10, A), (9, B), (8, U), (4, B), (0, D), (5, S), (7, A), (1, S), (2, E)]\n"
     ]
    }
   ],
   "source": [
    "items = [(2, 'E'), (7, 'A'), (5, 'S'), (1, 'S'), (0, 'D'), (8, 'U'), (9, 'B'), (4, 'B'), (10, 'A')]\n",
    "mah = MaxHeap()\n",
    "for i in items:\n",
    "    mah.add(Item(i[0], i[1]))\n",
    "print(mah)"
   ]
  },
  {
   "cell_type": "code",
   "execution_count": 39,
   "id": "5852ccd7",
   "metadata": {},
   "outputs": [
    {
     "name": "stdout",
     "output_type": "stream",
     "text": [
      "(10, A)\n"
     ]
    }
   ],
   "source": [
    "print(mah.get_max())"
   ]
  },
  {
   "cell_type": "code",
   "execution_count": 40,
   "id": "60572201",
   "metadata": {},
   "outputs": [
    {
     "name": "stdout",
     "output_type": "stream",
     "text": [
      "[(9, B), (4, B), (8, U), (2, E), (0, D), (5, S), (7, A), (1, S)]\n"
     ]
    }
   ],
   "source": [
    "mah.remove_max()\n",
    "print(mah)"
   ]
  }
 ],
 "metadata": {
  "kernelspec": {
   "display_name": "Python 3 (ipykernel)",
   "language": "python",
   "name": "python3"
  },
  "language_info": {
   "codemirror_mode": {
    "name": "ipython",
    "version": 3
   },
   "file_extension": ".py",
   "mimetype": "text/x-python",
   "name": "python",
   "nbconvert_exporter": "python",
   "pygments_lexer": "ipython3",
   "version": "3.11.7"
  }
 },
 "nbformat": 4,
 "nbformat_minor": 5
}
